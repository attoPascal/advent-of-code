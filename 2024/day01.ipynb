{
 "cells": [
  {
   "cell_type": "code",
   "execution_count": 1,
   "metadata": {},
   "outputs": [],
   "source": [
    "import aocd"
   ]
  },
  {
   "cell_type": "code",
   "execution_count": 2,
   "metadata": {},
   "outputs": [],
   "source": [
    "lines = aocd.get_data(day=1, year=2024).splitlines()\n",
    "lists = zip(*[l.split() for l in lines])\n",
    "list1, list2 = [sorted(int(n) for n in l) for l in lists]"
   ]
  },
  {
   "cell_type": "code",
   "execution_count": 3,
   "metadata": {},
   "outputs": [
    {
     "name": "stdout",
     "output_type": "stream",
     "text": [
      "Part 1: 1530215\n",
      "Part 2: 26800609\n"
     ]
    }
   ],
   "source": [
    "print(\"Part 1:\", sum(abs(n1-n2) for n1, n2 in zip(list1, list2)))\n",
    "print(\"Part 2:\", sum(n*list2.count(n) for n in list1))"
   ]
  }
 ],
 "metadata": {
  "kernelspec": {
   "display_name": ".venv",
   "language": "python",
   "name": "python3"
  },
  "language_info": {
   "codemirror_mode": {
    "name": "ipython",
    "version": 3
   },
   "file_extension": ".py",
   "mimetype": "text/x-python",
   "name": "python",
   "nbconvert_exporter": "python",
   "pygments_lexer": "ipython3",
   "version": "3.12.5"
  }
 },
 "nbformat": 4,
 "nbformat_minor": 2
}
