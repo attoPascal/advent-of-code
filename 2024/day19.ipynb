{
 "cells": [
  {
   "cell_type": "code",
   "execution_count": 1,
   "metadata": {},
   "outputs": [],
   "source": [
    "import aocd\n",
    "from functools import cache"
   ]
  },
  {
   "cell_type": "code",
   "execution_count": 2,
   "metadata": {},
   "outputs": [],
   "source": [
    "block1, block2 = aocd.get_data(day=19, year=2024).split('\\n\\n')\n",
    "patterns = block1.split(', ')\n",
    "designs = block2.splitlines()\n",
    " \n",
    "@cache\n",
    "def towels(design):\n",
    "    return sum(towels(design.removeprefix(pattern)) for pattern in patterns if design.startswith(pattern)) if design else 1"
   ]
  },
  {
   "cell_type": "code",
   "execution_count": 3,
   "metadata": {},
   "outputs": [
    {
     "name": "stdout",
     "output_type": "stream",
     "text": [
      "Part 1: 236\n",
      "Part 2: 643685981770598\n"
     ]
    }
   ],
   "source": [
    "print(\"Part 1:\", sum(bool(towels(design)) for design in designs))\n",
    "print(\"Part 2:\", sum(towels(design) for design in designs))"
   ]
  }
 ],
 "metadata": {
  "kernelspec": {
   "display_name": ".venv",
   "language": "python",
   "name": "python3"
  },
  "language_info": {
   "codemirror_mode": {
    "name": "ipython",
    "version": 3
   },
   "file_extension": ".py",
   "mimetype": "text/x-python",
   "name": "python",
   "nbconvert_exporter": "python",
   "pygments_lexer": "ipython3",
   "version": "3.12.8"
  }
 },
 "nbformat": 4,
 "nbformat_minor": 2
}
