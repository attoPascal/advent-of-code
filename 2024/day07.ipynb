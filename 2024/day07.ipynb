{
 "cells": [
  {
   "cell_type": "code",
   "execution_count": 1,
   "metadata": {},
   "outputs": [],
   "source": [
    "import aocd\n",
    "from itertools import product\n",
    "from operator import add, mul"
   ]
  },
  {
   "cell_type": "code",
   "execution_count": 2,
   "metadata": {},
   "outputs": [],
   "source": [
    "def try_operators(result, operands, operators):\n",
    "    trial_operands = operands[::-1]\n",
    "    trial_result = trial_operands.pop()\n",
    "    for operator in operators:\n",
    "        trial_result = operator(trial_result, trial_operands.pop())\n",
    "    return trial_result == result\n",
    "\n",
    "def try_equation(result, operands, operators):\n",
    "    for op_sequence in product(operators, repeat=len(operands)-1):\n",
    "        if try_operators(result, operands, op_sequence):\n",
    "            return result\n",
    "    return 0"
   ]
  },
  {
   "cell_type": "code",
   "execution_count": 3,
   "metadata": {},
   "outputs": [],
   "source": [
    "def parse(line):\n",
    "    left, _, right = line.partition(': ')\n",
    "    return int(left), [int(n) for n in right.split()]\n",
    "\n",
    "data = aocd.get_data(day=7, year=2024)\n",
    "equations = [parse(line) for line in data.splitlines()]"
   ]
  },
  {
   "cell_type": "code",
   "execution_count": 4,
   "metadata": {},
   "outputs": [
    {
     "name": "stdout",
     "output_type": "stream",
     "text": [
      "Part 1: 3119088655389\n"
     ]
    }
   ],
   "source": [
    "print(\"Part 1:\", sum(try_equation(*eq, operators=[add, mul]) for eq in equations))"
   ]
  },
  {
   "cell_type": "code",
   "execution_count": 5,
   "metadata": {},
   "outputs": [
    {
     "name": "stdout",
     "output_type": "stream",
     "text": [
      "Part 2: 264184041398847\n"
     ]
    }
   ],
   "source": [
    "concat = lambda a, b: int(f\"{a}{b}\")\n",
    "print(\"Part 2:\", sum(try_equation(*eq, operators=[add, mul, concat]) for eq in equations))"
   ]
  },
  {
   "cell_type": "code",
   "execution_count": 6,
   "metadata": {},
   "outputs": [
    {
     "data": {
      "text/plain": [
       "264184041398847"
      ]
     },
     "execution_count": 6,
     "metadata": {},
     "output_type": "execute_result"
    }
   ],
   "source": [
    "from math import log10\n",
    "\n",
    "def good_concat(a, b):\n",
    "    len_b = int(log10(b))+1\n",
    "    return a*(10**len_b)+b\n",
    "\n",
    "sum(try_equation(*eq, operators=[add, mul, good_concat]) for eq in equations)"
   ]
  }
 ],
 "metadata": {
  "kernelspec": {
   "display_name": ".venv",
   "language": "python",
   "name": "python3"
  },
  "language_info": {
   "codemirror_mode": {
    "name": "ipython",
    "version": 3
   },
   "file_extension": ".py",
   "mimetype": "text/x-python",
   "name": "python",
   "nbconvert_exporter": "python",
   "pygments_lexer": "ipython3",
   "version": "3.12.5"
  }
 },
 "nbformat": 4,
 "nbformat_minor": 2
}
