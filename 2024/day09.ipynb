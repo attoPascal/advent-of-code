{
 "cells": [
  {
   "cell_type": "code",
   "execution_count": 1,
   "metadata": {},
   "outputs": [],
   "source": [
    "import aocd"
   ]
  },
  {
   "cell_type": "code",
   "execution_count": 2,
   "metadata": {},
   "outputs": [],
   "source": [
    "data = aocd.get_data(day=9, year=2024)\n",
    "disk_map = [int(n) for n in data]"
   ]
  },
  {
   "cell_type": "code",
   "execution_count": 3,
   "metadata": {},
   "outputs": [],
   "source": [
    "def files(disk_map):\n",
    "    for n, size in enumerate(disk_map):\n",
    "        if n % 2:\n",
    "            yield None, size\n",
    "        else:\n",
    "            yield n // 2, size\n",
    "\n",
    "def blocks(files):\n",
    "    for file_id, file_size in files:\n",
    "        for _ in range(file_size):\n",
    "            if file_id != None:\n",
    "                yield file_id, 1\n",
    "\n",
    "\n",
    "def compact(disk_map):\n",
    "    num_blocks = sum(disk_map[::2])\n",
    "    from_end = blocks(reversed(list(files(disk_map))))\n",
    "    file_id = 0\n",
    "\n",
    "    n = 0\n",
    "    while True:\n",
    "        for _ in range(disk_map[2*file_id]):\n",
    "            yield (file_id, 1)\n",
    "            n += 1\n",
    "            if n >= num_blocks:\n",
    "                return\n",
    "        for _ in  range(disk_map[2*file_id+1]):\n",
    "            yield next(from_end)\n",
    "            n += 1\n",
    "            if n >= num_blocks:\n",
    "                return\n",
    "        file_id += 1\n",
    "\n",
    "def checksum(files):\n",
    "    sum_ = 0\n",
    "    block_index = 0\n",
    "    for file_id, file_size in files:\n",
    "        for _ in range(file_size):\n",
    "            sum_ += block_index * (file_id if file_id else 0)\n",
    "            block_index += 1\n",
    "    return sum_\n"
   ]
  },
  {
   "cell_type": "code",
   "execution_count": 4,
   "metadata": {},
   "outputs": [
    {
     "data": {
      "text/plain": [
       "(6421128769094, True)"
      ]
     },
     "execution_count": 4,
     "metadata": {},
     "output_type": "execute_result"
    }
   ],
   "source": [
    "part1 = checksum(compact(disk_map))\n",
    "part1, part1 == 6421128769094"
   ]
  },
  {
   "cell_type": "code",
   "execution_count": 5,
   "metadata": {},
   "outputs": [],
   "source": [
    "old_layout = list(files(disk_map))\n",
    "new_layout = list(files(disk_map))\n",
    "old_position = sum(sz for _, sz in old_layout)\n",
    "\n",
    "for old_index, (file_id, file_size) in reversed(list(enumerate(old_layout))):\n",
    "    old_position -= file_size\n",
    "    if file_id == None:\n",
    "        continue\n",
    "    new_position = 0\n",
    "    for new_index, (segment_id, segment_size) in enumerate(new_layout):\n",
    "        new_position += segment_size\n",
    "        if segment_id != None:\n",
    "            continue\n",
    "        if new_position > old_position:\n",
    "            break\n",
    "        if segment_size >= file_size:\n",
    "            new_layout[new_layout.index((file_id, file_size))] = (None, file_size)\n",
    "            insertion = [(file_id, file_size)]\n",
    "            if gap_size := segment_size - file_size:\n",
    "                insertion += [(None, gap_size)]\n",
    "            new_layout[new_index:new_index+1] = insertion\n",
    "\n",
    "            break\n"
   ]
  },
  {
   "cell_type": "code",
   "execution_count": 6,
   "metadata": {},
   "outputs": [
    {
     "data": {
      "text/plain": [
       "(6448168620520, True)"
      ]
     },
     "execution_count": 6,
     "metadata": {},
     "output_type": "execute_result"
    }
   ],
   "source": [
    "part2 = checksum(new_layout)\n",
    "part2, part2 == 6448168620520"
   ]
  }
 ],
 "metadata": {
  "kernelspec": {
   "display_name": ".venv",
   "language": "python",
   "name": "python3"
  },
  "language_info": {
   "codemirror_mode": {
    "name": "ipython",
    "version": 3
   },
   "file_extension": ".py",
   "mimetype": "text/x-python",
   "name": "python",
   "nbconvert_exporter": "python",
   "pygments_lexer": "ipython3",
   "version": "3.12.8"
  }
 },
 "nbformat": 4,
 "nbformat_minor": 2
}
