{
 "cells": [
  {
   "cell_type": "code",
   "execution_count": 1,
   "metadata": {},
   "outputs": [],
   "source": [
    "import aocd\n",
    "from functools import cache"
   ]
  },
  {
   "cell_type": "code",
   "execution_count": 2,
   "metadata": {},
   "outputs": [],
   "source": [
    "data = aocd.get_data(day=11, year=2024)\n",
    "stones = [int(n) for n in data.split()]"
   ]
  },
  {
   "cell_type": "code",
   "execution_count": 3,
   "metadata": {},
   "outputs": [],
   "source": [
    "@cache\n",
    "def blink(stone: int, times: int) -> int:\n",
    "    if times == 0:\n",
    "        return 1\n",
    "    if stone == 0:\n",
    "        return blink(1, times-1)\n",
    "    s = str(stone)\n",
    "    if len(s) % 2 == 0:\n",
    "        mid = len(s) // 2\n",
    "        left, right = s[:mid], s[mid:]\n",
    "        return blink(int(left), times-1) + blink(int(right), times-1)\n",
    "    return blink(stone * 2024, times-1)"
   ]
  },
  {
   "cell_type": "code",
   "execution_count": 4,
   "metadata": {},
   "outputs": [
    {
     "name": "stdout",
     "output_type": "stream",
     "text": [
      "Part 1: 217443\n",
      "Part 2: 257246536026785\n"
     ]
    }
   ],
   "source": [
    "print(\"Part 1:\", sum(blink(stone, 25) for stone in stones))\n",
    "print(\"Part 2:\", sum(blink(stone, 75) for stone in stones))"
   ]
  }
 ],
 "metadata": {
  "kernelspec": {
   "display_name": ".venv",
   "language": "python",
   "name": "python3"
  },
  "language_info": {
   "codemirror_mode": {
    "name": "ipython",
    "version": 3
   },
   "file_extension": ".py",
   "mimetype": "text/x-python",
   "name": "python",
   "nbconvert_exporter": "python",
   "pygments_lexer": "ipython3",
   "version": "3.12.8"
  }
 },
 "nbformat": 4,
 "nbformat_minor": 2
}
