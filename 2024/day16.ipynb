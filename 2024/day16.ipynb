{
 "cells": [
  {
   "cell_type": "code",
   "execution_count": 1,
   "metadata": {},
   "outputs": [],
   "source": [
    "import aocd\n",
    "import networkx as nx\n",
    "from itertools import pairwise"
   ]
  },
  {
   "cell_type": "code",
   "execution_count": 2,
   "metadata": {},
   "outputs": [],
   "source": [
    "data = aocd.get_data(day=16, year=2024)"
   ]
  },
  {
   "cell_type": "code",
   "execution_count": 3,
   "metadata": {},
   "outputs": [],
   "source": [
    "maze = dict()\n",
    "S, E = 0j, 0j\n",
    "G = nx.DiGraph()\n",
    "\n",
    "for real, line in enumerate(data.splitlines()):\n",
    "    for imag, char in enumerate(line):\n",
    "        if char == '#':\n",
    "            continue\n",
    "        position = complex(real, imag)\n",
    "        maze[position] = char\n",
    "        S = position if char == 'S' else S\n",
    "        E = position if char == 'E' else E\n",
    "\n",
    "for position in maze:\n",
    "    for rotate1, rotate2 in pairwise([1, 1j, -1, -1j, 1]):\n",
    "        G.add_edge((position, rotate1), (position, rotate2), weight=1000)\n",
    "        G.add_edge((position, rotate2), (position, rotate1), weight=1000)\n",
    "    for facing in [1, 1j, -1, -1j]:\n",
    "        if position + facing in maze:\n",
    "            G.add_edge((position, facing), (position+facing, facing), weight=1)\n",
    "\n",
    "G.add_edge('S', (S, 1j), weight=0)\n",
    "G.add_edge((E, 1),  'E', weight=0)\n",
    "G.add_edge((E,-1),  'E', weight=0)\n",
    "G.add_edge((E, 1j), 'E', weight=0)\n",
    "G.add_edge((E,-1j), 'E', weight=0)"
   ]
  },
  {
   "cell_type": "code",
   "execution_count": 4,
   "metadata": {},
   "outputs": [
    {
     "name": "stdout",
     "output_type": "stream",
     "text": [
      "Part 1: 79404\n",
      "Part 2: 451\n"
     ]
    }
   ],
   "source": [
    "shortest_paths = list(nx.all_shortest_paths(G, 'S', 'E', 'weight'))\n",
    "\n",
    "score = nx.path_weight(G, shortest_paths[0], 'weight')\n",
    "print(\"Part 1:\", score)\n",
    "\n",
    "tiles = set()\n",
    "for path in shortest_paths:\n",
    "    tiles.update(position for position, _ in path[1:-1])\n",
    "print(\"Part 2:\", len(tiles))"
   ]
  }
 ],
 "metadata": {
  "kernelspec": {
   "display_name": ".venv",
   "language": "python",
   "name": "python3"
  },
  "language_info": {
   "codemirror_mode": {
    "name": "ipython",
    "version": 3
   },
   "file_extension": ".py",
   "mimetype": "text/x-python",
   "name": "python",
   "nbconvert_exporter": "python",
   "pygments_lexer": "ipython3",
   "version": "3.12.8"
  }
 },
 "nbformat": 4,
 "nbformat_minor": 2
}
