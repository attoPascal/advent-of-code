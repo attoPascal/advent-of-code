{
 "cells": [
  {
   "cell_type": "code",
   "execution_count": 1,
   "metadata": {},
   "outputs": [],
   "source": [
    "import aocd\n",
    "import networkx as nx\n",
    "from operator import and_, or_, xor"
   ]
  },
  {
   "cell_type": "code",
   "execution_count": 2,
   "metadata": {},
   "outputs": [],
   "source": [
    "data = aocd.get_data(day=24, year=2024)\n",
    "chunk1, chunk2 = [chunk.splitlines() for chunk in data.split('\\n\\n')]\n",
    "wires = {wire: int(value) for wire, value in [line.split(': ') for line in chunk1]}\n",
    "gates = {gate: inputs.split() for inputs, gate in [line.split(' -> ') for line in chunk2]}"
   ]
  },
  {
   "cell_type": "code",
   "execution_count": 3,
   "metadata": {},
   "outputs": [],
   "source": [
    "G = nx.DiGraph()\n",
    "for gate, (in1, op, in2) in gates.items():\n",
    "    G.add_edge(in1, gate)\n",
    "    G.add_edge(in2, gate)\n",
    "    G.nodes[gate]['op'] = op"
   ]
  },
  {
   "cell_type": "code",
   "execution_count": 4,
   "metadata": {},
   "outputs": [],
   "source": [
    "def wire(char, num):\n",
    "    return f'{char}{num:02d}'\n",
    "\n",
    "def value(gate):\n",
    "    try:\n",
    "        left, right = G.predecessors(gate)\n",
    "        operation = {'AND': and_, 'OR': or_, 'XOR': xor}[G.nodes[gate]['op']]\n",
    "        return operation(value(left), value(right))\n",
    "    except:\n",
    "        return wires[gate]"
   ]
  },
  {
   "cell_type": "code",
   "execution_count": 5,
   "metadata": {},
   "outputs": [
    {
     "name": "stdout",
     "output_type": "stream",
     "text": [
      "Part 1: 55544677167336\n"
     ]
    }
   ],
   "source": [
    "print(\"Part 1:\", sum(2**z * value(wire('z', z)) for z in range(46)))"
   ]
  },
  {
   "cell_type": "code",
   "execution_count": 6,
   "metadata": {},
   "outputs": [
    {
     "name": "stdout",
     "output_type": "stream",
     "text": [
      "kdw: x11 XOR y11\n",
      "fkw: kdw AND tnr\n",
      "cdq: fkw OR mdq\n",
      "nng: cdq AND nhb\n",
      "z12: nng OR psw\n",
      "\n",
      "mdq: x11 AND y11\n",
      "cdq: fkw OR mdq\n",
      "nng: cdq AND nhb\n",
      "z12: nng OR psw\n",
      "\n",
      "psw: x12 AND y12\n",
      "z12: nng OR psw\n",
      "\n",
      "nhb: x12 XOR y12\n",
      "nng: cdq AND nhb\n",
      "z12: nng OR psw\n",
      "\n",
      "nhb: x12 XOR y12\n",
      "kth: cdq XOR nhb\n",
      "z13: kth XOR mtp\n",
      "\n",
      "z26: x26 AND y26\n",
      "\n",
      "dfp: x26 XOR y26\n",
      "gsd: dfp XOR mbg\n",
      "cmf: gsd OR kbg\n",
      "z27: cmf XOR swt\n",
      "\n",
      "trd: x31 XOR y31\n",
      "bjf: dtj AND trd\n",
      "vtg: bjf OR nhq\n",
      "z32: bkh AND vtg\n",
      "\n",
      "nhq: x31 AND y31\n",
      "vtg: bjf OR nhq\n",
      "z32: bkh AND vtg\n",
      "\n",
      "bkh: x32 XOR y32\n",
      "z32: bkh AND vtg\n",
      "\n",
      "bkh: x32 XOR y32\n",
      "tbt: bkh XOR vtg\n",
      "nwm: skt OR tbt\n",
      "z33: nwm XOR rpb\n",
      "\n",
      "qnf: x36 AND y36\n",
      "z36: htb XOR qnf\n",
      "\n",
      "vpm: x36 XOR y36\n",
      "wkk: thg OR vpm\n",
      "z37: hpp XOR wkk\n",
      "\n",
      "qnf: x36 AND y36\n",
      "thg: htb AND qnf\n",
      "wkk: thg OR vpm\n",
      "z37: hpp XOR wkk\n",
      "\n"
     ]
    }
   ],
   "source": [
    "for z in range(2, 45):\n",
    "    for x in z-1, z:\n",
    "        for path in nx.all_simple_paths(G, wire('x', x), wire('z', z)):\n",
    "            gates = {gate: G.nodes[gate]['op'] for gate in path[1:]}\n",
    "            if list(gates.values()) not in (['XOR', 'XOR'],\n",
    "                                            ['AND', 'OR', 'XOR'],\n",
    "                                            ['XOR', 'AND', 'OR', 'XOR']):\n",
    "                for gate, op in gates.items():\n",
    "                    left, right = sorted(G.predecessors(gate))\n",
    "                    print(f\"{gate}: {left} {op} {right}\")\n",
    "                print()"
   ]
  },
  {
   "cell_type": "markdown",
   "metadata": {},
   "source": [
    "    z12 OR  <-> XOR kth\n",
    "    z26 AND <-> XOR gsd\n",
    "    z32 AND <-> XOR tbt\n",
    "    qnf AND <-> XOR vpm"
   ]
  },
  {
   "cell_type": "code",
   "execution_count": 7,
   "metadata": {},
   "outputs": [
    {
     "name": "stdout",
     "output_type": "stream",
     "text": [
      "Part 2: gsd,kth,qnf,tbt,vpm,z12,z26,z32\n"
     ]
    }
   ],
   "source": [
    "print(\"Part 2:\", ','.join(sorted(['z12', 'z26', 'z32', 'qnf', 'kth', 'gsd', 'tbt', 'vpm'])))"
   ]
  }
 ],
 "metadata": {
  "kernelspec": {
   "display_name": ".venv",
   "language": "python",
   "name": "python3"
  },
  "language_info": {
   "codemirror_mode": {
    "name": "ipython",
    "version": 3
   },
   "file_extension": ".py",
   "mimetype": "text/x-python",
   "name": "python",
   "nbconvert_exporter": "python",
   "pygments_lexer": "ipython3",
   "version": "3.12.8"
  }
 },
 "nbformat": 4,
 "nbformat_minor": 2
}
