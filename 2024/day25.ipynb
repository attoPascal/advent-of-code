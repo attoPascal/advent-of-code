{
 "cells": [
  {
   "cell_type": "code",
   "execution_count": 1,
   "metadata": {},
   "outputs": [],
   "source": [
    "import aocd\n",
    "import numpy as np"
   ]
  },
  {
   "cell_type": "code",
   "execution_count": 2,
   "metadata": {},
   "outputs": [],
   "source": [
    "data = aocd.get_data(day=25, year=2024)\n",
    "schematics = [np.array([[char == '#' for char in line] for line in chunk.splitlines()]) for chunk in data.split('\\n\\n')]\n",
    "locks = [schema for schema in schematics if schema[0, 0]]\n",
    "keys  = [schema for schema in schematics if not schema[0, 0]]"
   ]
  },
  {
   "cell_type": "code",
   "execution_count": 3,
   "metadata": {},
   "outputs": [
    {
     "name": "stdout",
     "output_type": "stream",
     "text": [
      "2586\n"
     ]
    }
   ],
   "source": [
    "num = 0\n",
    "for lock in locks:\n",
    "    for key in keys:\n",
    "        overlap = lock & key\n",
    "        num += np.all(~overlap)\n",
    "print(num)\n"
   ]
  }
 ],
 "metadata": {
  "kernelspec": {
   "display_name": ".venv",
   "language": "python",
   "name": "python3"
  },
  "language_info": {
   "codemirror_mode": {
    "name": "ipython",
    "version": 3
   },
   "file_extension": ".py",
   "mimetype": "text/x-python",
   "name": "python",
   "nbconvert_exporter": "python",
   "pygments_lexer": "ipython3",
   "version": "3.12.8"
  }
 },
 "nbformat": 4,
 "nbformat_minor": 2
}
