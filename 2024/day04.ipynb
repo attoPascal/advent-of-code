{
 "cells": [
  {
   "cell_type": "code",
   "execution_count": 1,
   "metadata": {},
   "outputs": [],
   "source": [
    "import numpy as np\n",
    "import aocd\n",
    "from scipy.signal import correlate2d"
   ]
  },
  {
   "cell_type": "code",
   "execution_count": 2,
   "metadata": {},
   "outputs": [],
   "source": [
    "def diagonals(array):\n",
    "    diag_range = range(-len(array)+1, len(array))\n",
    "    return [np.diagonal(array, offset=o) for o in diag_range]\n",
    "\n",
    "def count_xmas(direction):\n",
    "    xmas = 0\n",
    "    for row in direction:\n",
    "        line = ''.join(row)\n",
    "        xmas += line.count(\"XMAS\") + line.count(\"SAMX\")\n",
    "    return xmas\n",
    "\n",
    "def count_x_mas(direction):\n",
    "    kernel = np.array([[1, 0, 1], [0, 10, 0], [100, 0, 100]])\n",
    "    target = 2*ord('M') + 10*ord('A') + 200*ord('S')\n",
    "    return np.count_nonzero(correlate2d(direction, kernel) == target)"
   ]
  },
  {
   "cell_type": "code",
   "execution_count": null,
   "metadata": {},
   "outputs": [
    {
     "name": "stdout",
     "output_type": "stream",
     "text": [
      "Part  1: 2575\n",
      "Part  2: 2041\n"
     ]
    }
   ],
   "source": [
    "data = aocd.get_data(day=4, year=2024).splitlines()\n",
    "\n",
    "word_search = np.array([list(line) for line in data])\n",
    "print(\"Part 1:\", count_xmas(word_search) + count_xmas(word_search.T) + count_xmas(diagonals(word_search)) + count_xmas(diagonals(np.rot90(word_search))))\n",
    "\n",
    "ord_search = np.vectorize(ord)(word_search)\n",
    "print(\"Part 2:\", sum(count_x_mas(np.rot90(ord_search, k)) for k in range(4)))"
   ]
  }
 ],
 "metadata": {
  "kernelspec": {
   "display_name": ".venv",
   "language": "python",
   "name": "python3"
  },
  "language_info": {
   "codemirror_mode": {
    "name": "ipython",
    "version": 3
   },
   "file_extension": ".py",
   "mimetype": "text/x-python",
   "name": "python",
   "nbconvert_exporter": "python",
   "pygments_lexer": "ipython3",
   "version": "3.12.5"
  }
 },
 "nbformat": 4,
 "nbformat_minor": 2
}
