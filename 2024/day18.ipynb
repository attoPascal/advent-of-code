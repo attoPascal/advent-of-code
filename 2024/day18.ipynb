{
 "cells": [
  {
   "cell_type": "code",
   "execution_count": 1,
   "metadata": {},
   "outputs": [],
   "source": [
    "import aocd\n",
    "import networkx as nx"
   ]
  },
  {
   "cell_type": "code",
   "execution_count": 2,
   "metadata": {},
   "outputs": [],
   "source": [
    "lines = aocd.get_data(day=18, year=2024).splitlines()\n",
    "coords = [tuple(int(n) for n in line.split(',')) for line in lines]"
   ]
  },
  {
   "cell_type": "code",
   "execution_count": 3,
   "metadata": {},
   "outputs": [
    {
     "name": "stdout",
     "output_type": "stream",
     "text": [
      "Part 1: 232\n"
     ]
    }
   ],
   "source": [
    "G = nx.grid_2d_graph(71, 71)\n",
    "G.remove_nodes_from(coords[:1024])\n",
    "\n",
    "print(\"Part 1:\", nx.shortest_path_length(G, (0, 0), (70, 70)))"
   ]
  },
  {
   "cell_type": "code",
   "execution_count": 4,
   "metadata": {},
   "outputs": [
    {
     "name": "stdout",
     "output_type": "stream",
     "text": [
      "Part 2: 44,64\n"
     ]
    }
   ],
   "source": [
    "for x, y in coords[1024:]:\n",
    "    G.remove_nodes_from([(x, y)])\n",
    "    if not nx.has_path(G, (0, 0), (70, 70)):\n",
    "        break\n",
    "\n",
    "print(f\"Part 2: {x},{y}\")"
   ]
  }
 ],
 "metadata": {
  "kernelspec": {
   "display_name": ".venv",
   "language": "python",
   "name": "python3"
  },
  "language_info": {
   "codemirror_mode": {
    "name": "ipython",
    "version": 3
   },
   "file_extension": ".py",
   "mimetype": "text/x-python",
   "name": "python",
   "nbconvert_exporter": "python",
   "pygments_lexer": "ipython3",
   "version": "3.12.8"
  }
 },
 "nbformat": 4,
 "nbformat_minor": 2
}
