{
 "cells": [
  {
   "cell_type": "code",
   "execution_count": 1,
   "metadata": {},
   "outputs": [],
   "source": [
    "register = {\n",
    "    'A': 0,\n",
    "    'B': 0,\n",
    "    'C': 0,\n",
    "    'ptr': 0,\n",
    "    'out': []\n",
    "}"
   ]
  },
  {
   "cell_type": "code",
   "execution_count": 2,
   "metadata": {},
   "outputs": [],
   "source": [
    "def combo(operand):\n",
    "    match operand:\n",
    "        case 4:\n",
    "            return register['A']\n",
    "        case 5:\n",
    "            return register['B']\n",
    "        case 6:\n",
    "            return register['C']\n",
    "        case 7:\n",
    "            raise ValueError\n",
    "        case literal:\n",
    "            return literal"
   ]
  },
  {
   "cell_type": "code",
   "execution_count": 3,
   "metadata": {},
   "outputs": [],
   "source": [
    "def adv(op):\n",
    "    register['A'] //= 2**combo(op)\n",
    "\n",
    "def bxl(op):\n",
    "    register['B'] ^= op\n",
    "\n",
    "def bst(op):\n",
    "    register['B'] = combo(op) % 8\n",
    "\n",
    "def jnz(op):\n",
    "    register['ptr'] = op-2 if register['A'] else register['ptr']\n",
    "\n",
    "def bxc(_):\n",
    "    register['B'] ^= register['C']\n",
    "\n",
    "def out(op):\n",
    "    register['out'].append(str(combo(op) % 8))\n",
    "\n",
    "def bdv(op):\n",
    "    register['B'] = register['A'] // 2**combo(op)\n",
    "\n",
    "def cdv(op):\n",
    "    register['C'] = register['A'] // 2**combo(op)"
   ]
  },
  {
   "cell_type": "code",
   "execution_count": 4,
   "metadata": {},
   "outputs": [
    {
     "name": "stdout",
     "output_type": "stream",
     "text": [
      "Test 1: 4,6,3,5,6,3,5,2,1,0\n",
      "Part 1: 2,7,2,5,1,2,7,3,7\n"
     ]
    }
   ],
   "source": [
    "def execute(program, a):\n",
    "    ops = [int(n) for n in program.split(',')]\n",
    "    register['A'] = a\n",
    "    register['B'] = 0\n",
    "    register['C'] = 0\n",
    "    register['ptr'] = 0\n",
    "    register['out'] = []\n",
    "\n",
    "    while True:\n",
    "        try:\n",
    "            opcode, operand = ops[register['ptr']], ops[register['ptr']+1]\n",
    "            instruction = {\n",
    "                0: adv, 1: bxl, 2: bst, 3: jnz,\n",
    "                4: bxc, 5: out, 6: bdv, 7: cdv\n",
    "            }[opcode]\n",
    "            instruction(operand)\n",
    "            register['ptr'] += 2\n",
    "        except IndexError:\n",
    "            break\n",
    "\n",
    "execute(\"0,1,5,4,3,0\", 729)\n",
    "print(\"Test 1:\", ','.join(register['out']))\n",
    "\n",
    "program = \"2,4,1,1,7,5,0,3,4,7,1,6,5,5,3,0\"\n",
    "execute(program, 25358015)\n",
    "print(\"Part 1:\", ','.join(register['out']))"
   ]
  },
  {
   "cell_type": "code",
   "execution_count": 5,
   "metadata": {},
   "outputs": [
    {
     "name": "stdout",
     "output_type": "stream",
     "text": [
      "Part 2: 247839002892474\n"
     ]
    }
   ],
   "source": [
    "def backtrack(ops, prev_a):\n",
    "    if not ops:\n",
    "        yield prev_a\n",
    "        return\n",
    "    for b in range(8):\n",
    "        a = prev_a*8 + b^1\n",
    "        c = (a // 2**b) % 8\n",
    "        if b^c^6 == ops[0]:\n",
    "            yield from backtrack(ops[1:], a)\n",
    "\n",
    "ops = [int(n) for n in program.split(',')]\n",
    "print(\"Part 2:\", min(backtrack(ops[::-1], 0)))"
   ]
  },
  {
   "cell_type": "markdown",
   "metadata": {},
   "source": [
    "    bst 4\n",
    "    bxl 1\n",
    "    cdv 5\n",
    "    adv 3\n",
    "    bxc 7\n",
    "    bxl 6\n",
    "    out 5\n",
    "    jnz 0\n",
    "\n",
    "    while A:\n",
    "        B = (A % 8) ^ 1\n",
    "        C = A // 2**B\n",
    "        A = A // 8\n",
    "        B = B ^ C\n",
    "        B = B ^ 0b110\n",
    "        -> B % 8"
   ]
  }
 ],
 "metadata": {
  "kernelspec": {
   "display_name": ".venv",
   "language": "python",
   "name": "python3"
  },
  "language_info": {
   "codemirror_mode": {
    "name": "ipython",
    "version": 3
   },
   "file_extension": ".py",
   "mimetype": "text/x-python",
   "name": "python",
   "nbconvert_exporter": "python",
   "pygments_lexer": "ipython3",
   "version": "3.12.8"
  }
 },
 "nbformat": 4,
 "nbformat_minor": 2
}
