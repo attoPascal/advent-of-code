{
 "cells": [
  {
   "cell_type": "code",
   "execution_count": 8,
   "metadata": {},
   "outputs": [],
   "source": [
    "import aocd\n",
    "import re\n",
    "from re import findall, split, sub, DOTALL"
   ]
  },
  {
   "cell_type": "code",
   "execution_count": 2,
   "metadata": {},
   "outputs": [],
   "source": [
    "def multiplications(data):\n",
    "    pairs = re.findall(r'mul\\((\\d+),(\\d+)\\)', data)\n",
    "    return [int(a) * int(b) for a, b in pairs]"
   ]
  },
  {
   "cell_type": "code",
   "execution_count": 3,
   "metadata": {},
   "outputs": [
    {
     "name": "stdout",
     "output_type": "stream",
     "text": [
      "Part 1: 157621318\n"
     ]
    }
   ],
   "source": [
    "data = aocd.get_data(day=3, year=2024)\n",
    "print(\"Part 1:\", sum(multiplications(data)))"
   ]
  },
  {
   "cell_type": "code",
   "execution_count": 4,
   "metadata": {},
   "outputs": [
    {
     "name": "stdout",
     "output_type": "stream",
     "text": [
      "Part 2: 79845780\n"
     ]
    }
   ],
   "source": [
    "disable_pattern = r\"don't\\(\\).*?do\\(\\)\"\n",
    "parts = re.split(disable_pattern, data, flags=re.DOTALL)\n",
    "tail = parts[-1].split(\"don't()\")\n",
    "data2 = ''.join(parts[:-1] + tail[:1])\n",
    "\n",
    "print(\"Part 2:\", sum(multiplications(data2)))"
   ]
  },
  {
   "cell_type": "code",
   "execution_count": 5,
   "metadata": {},
   "outputs": [
    {
     "name": "stdout",
     "output_type": "stream",
     "text": [
      "Part 2: 79845780\n"
     ]
    }
   ],
   "source": [
    "disable_pattern = r\"don't\\(\\).*?do\\(\\)\"\n",
    "data2 = re.sub(disable_pattern, '', data + 'do()', flags=re.DOTALL)\n",
    "print(\"Part 2:\", sum(multiplications(data2)))"
   ]
  },
  {
   "cell_type": "code",
   "execution_count": null,
   "metadata": {},
   "outputs": [
    {
     "data": {
      "text/plain": [
       "(157621318, 79845780)"
      ]
     },
     "execution_count": 10,
     "metadata": {},
     "output_type": "execute_result"
    }
   ],
   "source": [
    "mul = lambda s: [int(a) * int(b) for a, b in findall(r'mul\\((\\d+),(\\d+)\\)', s)]\n",
    "sum(mul(data)), sum(mul(sub(r\"don't\\(\\).*?do\\(\\)\", '', data + 'do()', flags=DOTALL)))"
   ]
  },
  {
   "cell_type": "code",
   "execution_count": null,
   "metadata": {},
   "outputs": [],
   "source": []
  }
 ],
 "metadata": {
  "kernelspec": {
   "display_name": ".venv",
   "language": "python",
   "name": "python3"
  },
  "language_info": {
   "codemirror_mode": {
    "name": "ipython",
    "version": 3
   },
   "file_extension": ".py",
   "mimetype": "text/x-python",
   "name": "python",
   "nbconvert_exporter": "python",
   "pygments_lexer": "ipython3",
   "version": "3.12.5"
  }
 },
 "nbformat": 4,
 "nbformat_minor": 2
}
