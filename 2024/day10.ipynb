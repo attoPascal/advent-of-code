{
 "cells": [
  {
   "cell_type": "code",
   "execution_count": 1,
   "metadata": {},
   "outputs": [],
   "source": [
    "import aocd\n",
    "import networkx as nx\n",
    "import numpy as np"
   ]
  },
  {
   "cell_type": "code",
   "execution_count": 2,
   "metadata": {},
   "outputs": [],
   "source": [
    "def neighbors(node, shape):\n",
    "    x, y = node\n",
    "    if x >= 1:\n",
    "        yield x-1, y\n",
    "    if y >= 1:\n",
    "        yield x, y-1\n",
    "    if x < shape[0]-1:\n",
    "        yield x+1, y\n",
    "    if y < shape[1]-1:\n",
    "        yield x, y+1"
   ]
  },
  {
   "cell_type": "code",
   "execution_count": 3,
   "metadata": {},
   "outputs": [],
   "source": [
    "data = aocd.get_data(day=10, year=2024)\n",
    "grid = np.array([[int(c) for c in line] for line in data.splitlines()])\n",
    "trailheads = list(zip(*np.where(grid == 0)))\n",
    "summits = list(zip(*np.where(grid == 9)))\n",
    "\n",
    "G = nx.DiGraph()\n",
    "for node, value in np.ndenumerate(grid):\n",
    "    for neighbor in neighbors(node, grid.shape):\n",
    "        if grid[neighbor] == value + 1:\n",
    "            G.add_edge(node, neighbor)"
   ]
  },
  {
   "cell_type": "code",
   "execution_count": 4,
   "metadata": {},
   "outputs": [],
   "source": [
    "def score(trailhead):\n",
    "    return sum(1 if nx.has_path(G, trailhead, summit) else 0 for summit in summits)\n",
    "\n",
    "def rating(trailhead):\n",
    "    return sum(len(list(nx.all_simple_paths(G, trailhead, summit))) for summit in summits)"
   ]
  },
  {
   "cell_type": "code",
   "execution_count": 5,
   "metadata": {},
   "outputs": [
    {
     "name": "stdout",
     "output_type": "stream",
     "text": [
      "Part 1: 737\n",
      "Part 2: 1619\n"
     ]
    }
   ],
   "source": [
    "print(\"Part 1:\", sum(score(th) for th in trailheads))\n",
    "print(\"Part 2:\", sum(rating(th) for th in trailheads))"
   ]
  }
 ],
 "metadata": {
  "kernelspec": {
   "display_name": ".venv",
   "language": "python",
   "name": "python3"
  },
  "language_info": {
   "codemirror_mode": {
    "name": "ipython",
    "version": 3
   },
   "file_extension": ".py",
   "mimetype": "text/x-python",
   "name": "python",
   "nbconvert_exporter": "python",
   "pygments_lexer": "ipython3",
   "version": "3.12.8"
  }
 },
 "nbformat": 4,
 "nbformat_minor": 2
}
