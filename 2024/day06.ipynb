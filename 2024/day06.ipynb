{
 "cells": [
  {
   "cell_type": "code",
   "execution_count": 1,
   "metadata": {},
   "outputs": [],
   "source": [
    "import aocd"
   ]
  },
  {
   "cell_type": "code",
   "execution_count": 2,
   "metadata": {},
   "outputs": [],
   "source": [
    "grid: dict[complex, str] = dict()\n",
    "start_position: complex = 0\n",
    "start_direction: complex = -1\n",
    "\n",
    "data = aocd.get_data(day=6, year=2024)\n",
    "for real, line in enumerate(data.splitlines()):\n",
    "    for imag, char in enumerate(line):\n",
    "        position = complex(real, imag)\n",
    "        grid[position] = char\n",
    "        if char == '^':\n",
    "            start_position = position\n",
    "\n",
    "def step(position: complex, direction: complex) -> tuple[complex, complex]:\n",
    "    next_pos = position + direction\n",
    "    if grid[next_pos] != '#':\n",
    "        return next_pos, direction\n",
    "    else:\n",
    "        return position, direction / 1j\n",
    "\n",
    "def walk() -> set[complex]:\n",
    "    position = start_position\n",
    "    direction = start_direction\n",
    "    visited = {(position, direction)}\n",
    "    while True:\n",
    "        try:\n",
    "            position, direction = step(position, direction)\n",
    "            if (position, direction) in visited:\n",
    "                return set()\n",
    "            visited.add((position, direction))\n",
    "        except KeyError:\n",
    "            return {pos for pos, _ in visited}"
   ]
  },
  {
   "cell_type": "code",
   "execution_count": 3,
   "metadata": {},
   "outputs": [
    {
     "name": "stdout",
     "output_type": "stream",
     "text": [
      "Part 1: 5564\n"
     ]
    }
   ],
   "source": [
    "visited = walk()\n",
    "print(\"Part 1:\", len(visited))"
   ]
  },
  {
   "cell_type": "code",
   "execution_count": 4,
   "metadata": {},
   "outputs": [
    {
     "name": "stdout",
     "output_type": "stream",
     "text": [
      "Part 2: 1976\n"
     ]
    }
   ],
   "source": [
    "num_loops = 0\n",
    "for position in visited - {start_position}:\n",
    "    grid[position] = '#'\n",
    "    num_loops += not walk()\n",
    "    grid[position] = '.'\n",
    "\n",
    "print(\"Part 2:\", num_loops)"
   ]
  }
 ],
 "metadata": {
  "kernelspec": {
   "display_name": ".venv",
   "language": "python",
   "name": "python3"
  },
  "language_info": {
   "codemirror_mode": {
    "name": "ipython",
    "version": 3
   },
   "file_extension": ".py",
   "mimetype": "text/x-python",
   "name": "python",
   "nbconvert_exporter": "python",
   "pygments_lexer": "ipython3",
   "version": "3.12.5"
  }
 },
 "nbformat": 4,
 "nbformat_minor": 2
}
