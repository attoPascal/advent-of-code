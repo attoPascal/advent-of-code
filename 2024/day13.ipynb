{
 "cells": [
  {
   "cell_type": "code",
   "execution_count": 1,
   "metadata": {},
   "outputs": [],
   "source": [
    "import re\n",
    "import aocd\n",
    "from sympy import linsolve, Matrix"
   ]
  },
  {
   "cell_type": "code",
   "execution_count": 2,
   "metadata": {},
   "outputs": [],
   "source": [
    "def parse(line):\n",
    "    num = re.findall(r'\\d+', line)\n",
    "    return int(num[0]), int(num[1])\n",
    "\n",
    "def solve(system, adding=0):\n",
    "    (ax, ay), (bx, by), (cx, cy) = system\n",
    "    machines = Matrix([[ax, bx], [ay, by]])\n",
    "    prize = Matrix([cx+adding, cy+adding])\n",
    "    a, b = linsolve((machines, prize)).args[0]\n",
    "    return (a, b) if a.is_integer and b.is_integer else (0, 0)\n",
    "\n",
    "def cost(a, b):\n",
    "    return 3*a + b"
   ]
  },
  {
   "cell_type": "code",
   "execution_count": 3,
   "metadata": {},
   "outputs": [
    {
     "name": "stdout",
     "output_type": "stream",
     "text": [
      "Part 1: 38839\n",
      "Part 2: 75200131617108\n"
     ]
    }
   ],
   "source": [
    "data = aocd.get_data(day=13, year=2024)\n",
    "systems = [[parse(line) for line in chunk.splitlines()] for chunk in data.split('\\n\\n')]\n",
    "\n",
    "print(\"Part 1:\", sum(cost(*solve(system)) for system in systems))\n",
    "print(\"Part 2:\", sum(cost(*solve(system, adding=10**13)) for system in systems))"
   ]
  }
 ],
 "metadata": {
  "kernelspec": {
   "display_name": ".venv",
   "language": "python",
   "name": "python3"
  },
  "language_info": {
   "codemirror_mode": {
    "name": "ipython",
    "version": 3
   },
   "file_extension": ".py",
   "mimetype": "text/x-python",
   "name": "python",
   "nbconvert_exporter": "python",
   "pygments_lexer": "ipython3",
   "version": "3.12.8"
  }
 },
 "nbformat": 4,
 "nbformat_minor": 2
}
