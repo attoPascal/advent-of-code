{
 "cells": [
  {
   "cell_type": "code",
   "execution_count": 1,
   "metadata": {},
   "outputs": [],
   "source": [
    "import aocd\n",
    "import networkx as nx\n",
    "from itertools import combinations"
   ]
  },
  {
   "cell_type": "code",
   "execution_count": 2,
   "metadata": {},
   "outputs": [],
   "source": [
    "data = aocd.get_data(day=23, year=2024)\n",
    "\n",
    "G = nx.Graph()\n",
    "G.add_edges_from(line.split('-') for line in data.splitlines())\n",
    "\n",
    "cliques = nx.find_cliques(G)"
   ]
  },
  {
   "cell_type": "code",
   "execution_count": 3,
   "metadata": {},
   "outputs": [
    {
     "name": "stdout",
     "output_type": "stream",
     "text": [
      "Part 1: 1330\n"
     ]
    }
   ],
   "source": [
    "three_cliques = set()\n",
    "for clique in nx.find_cliques(G):\n",
    "    for sub_clique in combinations(clique, 3):\n",
    "        if any(computer.startswith('t') for computer in sub_clique):\n",
    "            three_cliques.add(tuple(sorted(sub_clique)))\n",
    "\n",
    "print(\"Part 1:\", len(three_cliques))"
   ]
  },
  {
   "cell_type": "code",
   "execution_count": 4,
   "metadata": {},
   "outputs": [
    {
     "name": "stdout",
     "output_type": "stream",
     "text": [
      "Part 2: hl,io,ku,pk,ps,qq,sh,tx,ty,wq,xi,xj,yp\n"
     ]
    }
   ],
   "source": [
    "print(\"Part 2:\", ','.join(sorted(max(cliques, key=len))))"
   ]
  }
 ],
 "metadata": {
  "kernelspec": {
   "display_name": ".venv",
   "language": "python",
   "name": "python3"
  },
  "language_info": {
   "codemirror_mode": {
    "name": "ipython",
    "version": 3
   },
   "file_extension": ".py",
   "mimetype": "text/x-python",
   "name": "python",
   "nbconvert_exporter": "python",
   "pygments_lexer": "ipython3",
   "version": "3.12.8"
  }
 },
 "nbformat": 4,
 "nbformat_minor": 2
}
