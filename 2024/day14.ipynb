{
 "cells": [
  {
   "cell_type": "code",
   "execution_count": 1,
   "metadata": {},
   "outputs": [],
   "source": [
    "import re\n",
    "import aocd\n",
    "import numpy as np\n",
    "import matplotlib.pyplot as plt\n",
    "\n",
    "from dataclasses import dataclass\n",
    "from math import prod\n",
    "from scipy.signal import convolve2d"
   ]
  },
  {
   "cell_type": "code",
   "execution_count": 2,
   "metadata": {},
   "outputs": [],
   "source": [
    "tiles = (101, 103)\n",
    "data = aocd.get_data(day=14, year=2024)"
   ]
  },
  {
   "cell_type": "code",
   "execution_count": 3,
   "metadata": {},
   "outputs": [],
   "source": [
    "@dataclass\n",
    "class Robot:\n",
    "    position: complex\n",
    "    velocity: complex\n",
    "    \n",
    "    def step(self):\n",
    "        new_pos = self.position + self.velocity\n",
    "        self.position = complex(new_pos.real % tiles[0], new_pos.imag % tiles[1])\n",
    "    \n",
    "    @staticmethod\n",
    "    def parse(line):\n",
    "        num = [int(n) for n in re.findall(r'-?\\d+', line)]\n",
    "        return Robot(position=complex(num[0], num[1]), velocity=complex(num[2], num[3]))\n"
   ]
  },
  {
   "cell_type": "code",
   "execution_count": 4,
   "metadata": {},
   "outputs": [],
   "source": [
    "def step(robots):\n",
    "    for robot in robots:\n",
    "        robot.step()\n",
    "\n",
    "def positions(robots):\n",
    "    return [robot.position for robot in robots]\n",
    "\n",
    "def quadrants(robots):\n",
    "    h, v = tiles[0] // 2, tiles[1] // 2\n",
    "    pos = positions(robots)\n",
    "    a = sum(p.real < h and p.imag < v for p in pos)\n",
    "    b = sum(p.real > h and p.imag < v for p in pos)\n",
    "    c = sum(p.real < h and p.imag > v for p in pos)\n",
    "    d = sum(p.real > h and p.imag > v for p in pos)\n",
    "    return a, b, c, d\n",
    "\n",
    "def image(robots):\n",
    "    im = np.zeros(tiles)\n",
    "    for pos in positions(robots):\n",
    "        x = int(pos.real)\n",
    "        y = int(pos.imag)\n",
    "        im[x, y] = 1\n",
    "    return im.T"
   ]
  },
  {
   "cell_type": "code",
   "execution_count": 5,
   "metadata": {},
   "outputs": [
    {
     "name": "stdout",
     "output_type": "stream",
     "text": [
      "Part 1: 215476074\n"
     ]
    }
   ],
   "source": [
    "robots = [Robot.parse(line) for line in data.splitlines()]\n",
    "for _ in range(100):\n",
    "    step(robots)\n",
    "\n",
    "print(\"Part 1:\",prod(quadrants(robots)))"
   ]
  },
  {
   "cell_type": "code",
   "execution_count": 6,
   "metadata": {},
   "outputs": [
    {
     "name": "stdout",
     "output_type": "stream",
     "text": [
      "Part 2: 6285\n"
     ]
    },
    {
     "data": {
      "text/plain": [
       "<matplotlib.image.AxesImage at 0x1170399d0>"
      ]
     },
     "execution_count": 6,
     "metadata": {},
     "output_type": "execute_result"
    },
    {
     "data": {
      "image/png": "[encoded data removed]",
      "text/plain": [
       "<Figure size 640x480 with 1 Axes>"
      ]
     },
     "metadata": {},
     "output_type": "display_data"
    }
   ],
   "source": [
    "robots = [Robot.parse(line) for line in data.splitlines()]\n",
    "result = 0, 0, np.array([])\n",
    "\n",
    "for sec in range(prod(tiles)):\n",
    "    im = image(robots)\n",
    "    areas = np.count_nonzero(convolve2d(im, np.ones((2, 2))) == 4)\n",
    "    if areas > result[0]:\n",
    "        result = areas, sec, im\n",
    "    step(robots)\n",
    "\n",
    "print(\"Part 2:\", result[1])\n",
    "plt.imshow(result[2])"
   ]
  },
  {
   "cell_type": "code",
   "execution_count": 7,
   "metadata": {},
   "outputs": [
    {
     "name": "stdout",
     "output_type": "stream",
     "text": [
      "Part 2: 6285\n"
     ]
    }
   ],
   "source": [
    "robots = [Robot.parse(line) for line in data.splitlines()]\n",
    "result = 0, 0\n",
    "\n",
    "for sec in range(prod(tiles)):\n",
    "    num_pos = len(set(positions(robots)))\n",
    "    if num_pos > result[0]:\n",
    "        result = num_pos, sec\n",
    "    step(robots)\n",
    "\n",
    "print(\"Part 2:\", result[1])"
   ]
  }
 ],
 "metadata": {
  "kernelspec": {
   "display_name": ".venv",
   "language": "python",
   "name": "python3"
  },
  "language_info": {
   "codemirror_mode": {
    "name": "ipython",
    "version": 3
   },
   "file_extension": ".py",
   "mimetype": "text/x-python",
   "name": "python",
   "nbconvert_exporter": "python",
   "pygments_lexer": "ipython3",
   "version": "3.12.8"
  }
 },
 "nbformat": 4,
 "nbformat_minor": 2
}
