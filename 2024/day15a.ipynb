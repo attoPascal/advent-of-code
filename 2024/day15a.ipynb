{
 "cells": [
  {
   "cell_type": "code",
   "execution_count": 1,
   "metadata": {},
   "outputs": [],
   "source": [
    "import aocd"
   ]
  },
  {
   "cell_type": "code",
   "execution_count": 2,
   "metadata": {},
   "outputs": [],
   "source": [
    "def parse1(chunk):\n",
    "    warehouse, robot = dict(), 0j\n",
    "    for real, line in enumerate(chunk.splitlines()):\n",
    "        for imag, char in enumerate(line):\n",
    "            warehouse[complex(real, imag)] = char\n",
    "            robot = complex(real, imag) if char == '@' else robot\n",
    "    return warehouse, robot"
   ]
  },
  {
   "cell_type": "code",
   "execution_count": 3,
   "metadata": {},
   "outputs": [],
   "source": [
    "data = aocd.get_data(day=15, year=2024)\n",
    "chunk1, chunk2 = data.split('\\n\\n')\n",
    "warehouse, robot = parse1(chunk1)\n",
    "directions = chunk2.replace('\\n', '')"
   ]
  },
  {
   "cell_type": "code",
   "execution_count": 4,
   "metadata": {},
   "outputs": [],
   "source": [
    "def move(position, step):\n",
    "    tile = warehouse[position + step]\n",
    "    if tile == '.' or tile == 'O' and move(position + step, step):\n",
    "        warehouse[position + step] = warehouse[position]\n",
    "        warehouse[position] = '.'\n",
    "        return True\n",
    "\n",
    "def gps(position):\n",
    "    return int(100*position.real + position.imag) if warehouse[position] == 'O' else 0"
   ]
  },
  {
   "cell_type": "code",
   "execution_count": 5,
   "metadata": {},
   "outputs": [
    {
     "data": {
      "text/plain": [
       "1349898"
      ]
     },
     "execution_count": 5,
     "metadata": {},
     "output_type": "execute_result"
    }
   ],
   "source": [
    "for direction in directions:\n",
    "    step = {'^': -1, 'v': 1, '<': -1j, '>': 1j}[direction]\n",
    "    robot += step if move(robot, step) else 0\n",
    "\n",
    "sum(gps(position) for position in warehouse)"
   ]
  }
 ],
 "metadata": {
  "kernelspec": {
   "display_name": ".venv",
   "language": "python",
   "name": "python3"
  },
  "language_info": {
   "codemirror_mode": {
    "name": "ipython",
    "version": 3
   },
   "file_extension": ".py",
   "mimetype": "text/x-python",
   "name": "python",
   "nbconvert_exporter": "python",
   "pygments_lexer": "ipython3",
   "version": "3.12.8"
  }
 },
 "nbformat": 4,
 "nbformat_minor": 2
}
