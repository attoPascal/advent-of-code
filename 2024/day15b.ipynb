{
 "cells": [
  {
   "cell_type": "code",
   "execution_count": 1,
   "metadata": {},
   "outputs": [],
   "source": [
    "import aocd\n",
    "from math import sqrt"
   ]
  },
  {
   "cell_type": "code",
   "execution_count": 2,
   "metadata": {},
   "outputs": [],
   "source": [
    "def parse2(chunk):\n",
    "    warehouse = dict()\n",
    "    for real, line in enumerate(chunk.splitlines()):\n",
    "        for imag, char in enumerate(line):\n",
    "            position = complex(real, 2*imag)\n",
    "            match char:\n",
    "                case '#':\n",
    "                    warehouse[position+0j] = '#'\n",
    "                    warehouse[position+1j] = '#'\n",
    "                case 'O':\n",
    "                    warehouse[position+0j] = '['\n",
    "                    warehouse[position+1j] = ']'\n",
    "                case '.':\n",
    "                    warehouse[position+0j] = '.'\n",
    "                    warehouse[position+1j] = '.'\n",
    "                case '@':\n",
    "                    warehouse[position+0j] = '@'\n",
    "                    warehouse[position+1j] = '.'\n",
    "                    robot = position\n",
    "    return warehouse, robot"
   ]
  },
  {
   "cell_type": "code",
   "execution_count": 3,
   "metadata": {},
   "outputs": [],
   "source": [
    "data = aocd.get_data()\n",
    "chunk1, chunk2 = data.split('\\n\\n')\n",
    "warehouse, robot = parse2(chunk1)\n",
    "directions = chunk2.replace('\\n', '')"
   ]
  },
  {
   "cell_type": "code",
   "execution_count": 4,
   "metadata": {},
   "outputs": [],
   "source": [
    "north = lambda x: x-1\n",
    "south = lambda x: x+1\n",
    "east  = lambda x: x+1j\n",
    "west  = lambda x: x-1j\n",
    "\n",
    "def can_move(position, direction):\n",
    "    next_pos = {'^': north, 'v': south}[direction](position)\n",
    "    match warehouse[next_pos]:\n",
    "        case '#':\n",
    "            return False\n",
    "        case '[':\n",
    "            return can_move(next_pos, direction) and can_move(next_pos+1j, direction)\n",
    "        case ']':\n",
    "            return can_move(next_pos, direction) and can_move(next_pos-1j, direction)\n",
    "        case '.':\n",
    "            return True\n",
    "\n",
    "def move(position, direction):\n",
    "    sprite = warehouse[position]\n",
    "    next_pos = {'^': north, 'v': south, '<': west, '>': east}[direction](position)\n",
    "    # print('moving', sprite, 'to', next_pos, warehouse[next_pos])\n",
    "    match warehouse[next_pos]:\n",
    "        case '.':\n",
    "            warehouse[next_pos] = sprite\n",
    "            warehouse[position] = '.'\n",
    "            return next_pos\n",
    "        case '#':\n",
    "            return position\n",
    "        case box if (box == 'O') or (box in '[]' and direction in '<>'):\n",
    "            if move(next_pos, direction) != next_pos:\n",
    "                return move(position, direction)\n",
    "            else:\n",
    "                return position\n",
    "        case box:\n",
    "            next_pos2 = next_pos+1j if box == '[' else next_pos-1j\n",
    "            if can_move(next_pos, direction) and can_move(next_pos2, direction):\n",
    "                move(next_pos, direction)\n",
    "                move(next_pos2, direction)\n",
    "                return move(position, direction)\n",
    "            else:\n",
    "                return position\n",
    "\n",
    "def gps(position):\n",
    "    return int(100*position.real + position.imag) if warehouse[position] == '[' else 0\n",
    "\n",
    "def draw():\n",
    "    dim = int(sqrt(len(warehouse) // 2))\n",
    "    for real in range(dim):\n",
    "        for imag in range(2*dim):\n",
    "            print(warehouse[complex(real, imag)], end='')\n",
    "        print()"
   ]
  },
  {
   "cell_type": "code",
   "execution_count": 5,
   "metadata": {},
   "outputs": [
    {
     "data": {
      "text/plain": [
       "1376686"
      ]
     },
     "execution_count": 5,
     "metadata": {},
     "output_type": "execute_result"
    }
   ],
   "source": [
    "for direction in directions:\n",
    "    robot = move(robot, direction)\n",
    "\n",
    "sum(gps(position) for position in warehouse)"
   ]
  }
 ],
 "metadata": {
  "kernelspec": {
   "display_name": ".venv",
   "language": "python",
   "name": "python3"
  },
  "language_info": {
   "codemirror_mode": {
    "name": "ipython",
    "version": 3
   },
   "file_extension": ".py",
   "mimetype": "text/x-python",
   "name": "python",
   "nbconvert_exporter": "python",
   "pygments_lexer": "ipython3",
   "version": "3.12.8"
  }
 },
 "nbformat": 4,
 "nbformat_minor": 2
}
