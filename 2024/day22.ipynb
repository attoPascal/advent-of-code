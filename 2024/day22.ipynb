{
 "cells": [
  {
   "cell_type": "code",
   "execution_count": 1,
   "metadata": {},
   "outputs": [],
   "source": [
    "import aocd\n",
    "from collections import Counter, deque\n",
    "from itertools import pairwise\n",
    "from more_itertools import windowed"
   ]
  },
  {
   "cell_type": "code",
   "execution_count": 2,
   "metadata": {},
   "outputs": [],
   "source": [
    "def pseudorandom(initial):\n",
    "    number = initial\n",
    "    yield number\n",
    "    for _ in range(2000):\n",
    "        number ^= number * 64\n",
    "        number %= 16777216\n",
    "        number ^= number // 32\n",
    "        number %= 16777216\n",
    "        number ^= number * 2048\n",
    "        number %= 16777216\n",
    "        yield number"
   ]
  },
  {
   "cell_type": "code",
   "execution_count": 3,
   "metadata": {},
   "outputs": [
    {
     "name": "stdout",
     "output_type": "stream",
     "text": [
      "15006633487\n"
     ]
    }
   ],
   "source": [
    "data = [int(n) for n in aocd.get_data(day=22, year=2024).splitlines()]\n",
    "secrets = {initial: list(pseudorandom(initial)) for initial in data}\n",
    "\n",
    "print(sum(numbers[-1] for numbers in secrets.values()))"
   ]
  },
  {
   "cell_type": "code",
   "execution_count": 4,
   "metadata": {},
   "outputs": [],
   "source": [
    "def prices(initial):\n",
    "    return (n % 10 for n in secrets[initial])\n",
    "\n",
    "def price_changes(initial):\n",
    "    return ((price, price-prev) for prev, price in pairwise(prices(initial)))\n",
    "\n",
    "def change_sequences(initial):\n",
    "    return windowed((change for _, change in price_changes(initial)), 4)"
   ]
  },
  {
   "cell_type": "code",
   "execution_count": 5,
   "metadata": {},
   "outputs": [],
   "source": [
    "counter = Counter()\n",
    "for initial in secrets:\n",
    "    counter.update(set(change_sequences(initial)))"
   ]
  },
  {
   "cell_type": "code",
   "execution_count": null,
   "metadata": {},
   "outputs": [
    {
     "name": "stdout",
     "output_type": "stream",
     "text": [
      "1710\n"
     ]
    }
   ],
   "source": [
    "most_bananas = 0\n",
    "for sequence, _ in counter.most_common():\n",
    "    bananas = 0\n",
    "    for initial in secrets:\n",
    "        current_sequence = deque([], 4)\n",
    "        for price, change in price_changes(initial):\n",
    "            current_sequence.append(change)\n",
    "            if tuple(current_sequence) == sequence:\n",
    "                bananas += price\n",
    "                break\n",
    "    if bananas > most_bananas:\n",
    "        most_bananas = bananas\n",
    "        print(most_bananas)"
   ]
  }
 ],
 "metadata": {
  "kernelspec": {
   "display_name": ".venv",
   "language": "python",
   "name": "python3"
  },
  "language_info": {
   "codemirror_mode": {
    "name": "ipython",
    "version": 3
   },
   "file_extension": ".py",
   "mimetype": "text/x-python",
   "name": "python",
   "nbconvert_exporter": "python",
   "pygments_lexer": "ipython3",
   "version": "3.12.8"
  }
 },
 "nbformat": 4,
 "nbformat_minor": 2
}
