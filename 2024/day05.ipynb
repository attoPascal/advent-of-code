{
 "cells": [
  {
   "cell_type": "code",
   "execution_count": 1,
   "metadata": {},
   "outputs": [],
   "source": [
    "import aocd\n",
    "from itertools import pairwise\n",
    "from more_itertools import partition"
   ]
  },
  {
   "cell_type": "code",
   "execution_count": 2,
   "metadata": {},
   "outputs": [],
   "source": [
    "data1, data2 = aocd.get_data(day=5, year=2024).split('\\n\\n')\n",
    "rules = set(tuple(line.split('|')) for line in data1.splitlines())\n",
    "updates = [line.split(',') for line in data2.splitlines()]"
   ]
  },
  {
   "cell_type": "code",
   "execution_count": 3,
   "metadata": {},
   "outputs": [],
   "source": [
    "def check(pages):\n",
    "    return all((a, b) in rules for a, b in pairwise(pages))\n",
    "\n",
    "def fix(pages):\n",
    "    for i, (a, b) in enumerate(pairwise(pages)):\n",
    "        if (a, b) not in rules:\n",
    "            return fix(pages[:i] + [b, a] + pages[i+2:])\n",
    "    return pages\n",
    "\n",
    "def middle(pages):\n",
    "    return int(pages[len(pages) // 2])"
   ]
  },
  {
   "cell_type": "code",
   "execution_count": 4,
   "metadata": {},
   "outputs": [
    {
     "name": "stdout",
     "output_type": "stream",
     "text": [
      "Part 1: 4462\n",
      "Part 2: 6767\n"
     ]
    }
   ],
   "source": [
    "incorrect, correct = partition(check, updates)\n",
    "print(\"Part 1:\", sum(middle(pages) for pages in correct))\n",
    "print(\"Part 2:\", sum(middle(fix(pages)) for pages in incorrect))"
   ]
  },
  {
   "cell_type": "code",
   "execution_count": 5,
   "metadata": {},
   "outputs": [
    {
     "name": "stdout",
     "output_type": "stream",
     "text": [
      "15.2 ms ± 315 μs per loop (mean ± std. dev. of 7 runs, 10 loops each)\n",
      "117 ms ± 7.54 ms per loop (mean ± std. dev. of 7 runs, 10 loops each)\n"
     ]
    }
   ],
   "source": [
    "def fix2(pages):\n",
    "    for i, page in enumerate(pages):\n",
    "        for pred in pages[:i]:\n",
    "            if (pred, page) not in rules:\n",
    "                return fix2([page] + pages[:i] + pages[i+1:])\n",
    "        for succ in pages[i+1:]:\n",
    "            if (page, succ) not in rules:\n",
    "                return fix2(pages[:i] + pages[i+1:] + [page])\n",
    "    return pages\n",
    "\n",
    "incorrect = [pages for pages in updates if not check(pages)]\n",
    "%timeit [fix(pages) for pages in incorrect]\n",
    "%timeit [fix2(pages) for pages in incorrect]"
   ]
  }
 ],
 "metadata": {
  "kernelspec": {
   "display_name": ".venv",
   "language": "python",
   "name": "python3"
  },
  "language_info": {
   "codemirror_mode": {
    "name": "ipython",
    "version": 3
   },
   "file_extension": ".py",
   "mimetype": "text/x-python",
   "name": "python",
   "nbconvert_exporter": "python",
   "pygments_lexer": "ipython3",
   "version": "3.12.5"
  }
 },
 "nbformat": 4,
 "nbformat_minor": 2
}
