{
 "cells": [
  {
   "cell_type": "code",
   "execution_count": 1,
   "metadata": {},
   "outputs": [],
   "source": [
    "import aocd\n",
    "import networkx as nx"
   ]
  },
  {
   "cell_type": "code",
   "execution_count": 2,
   "metadata": {},
   "outputs": [],
   "source": [
    "lines = aocd.get_data(day=20, year=2024).splitlines()\n",
    "\n",
    "track = set()\n",
    "walls = set()\n",
    "for real, line in enumerate(lines):\n",
    "    for imag, char in enumerate(line):\n",
    "        position = complex(real, imag)\n",
    "        if char == '#':\n",
    "            walls.add(position)\n",
    "        else:\n",
    "            track.add(position)\n",
    "        if char == 'S':\n",
    "            start = position\n",
    "        if char == 'E':\n",
    "            end = position"
   ]
  },
  {
   "cell_type": "code",
   "execution_count": 3,
   "metadata": {},
   "outputs": [],
   "source": [
    "G = nx.Graph()\n",
    "for tile in track:\n",
    "    for step in 1, 1j, -1, -1j:\n",
    "        if tile + step in track:\n",
    "            G.add_edge(tile, tile + step)\n",
    "\n",
    "from_start = nx.single_source_shortest_path_length(G, start)\n",
    "to_end = nx.single_source_shortest_path_length(G, end)\n",
    "base_length = from_start[end]"
   ]
  },
  {
   "cell_type": "code",
   "execution_count": 4,
   "metadata": {},
   "outputs": [],
   "source": [
    "def num_cheats(length, min_saving):\n",
    "    num = 0\n",
    "    for tile in track:\n",
    "        for real in range(-length, length+1):\n",
    "            for imag in range(-length, length+1):\n",
    "                distance = abs(real) + abs(imag)\n",
    "                tile2 = tile + complex(real, imag)\n",
    "                if tile2 in track and 1 < distance <= length:\n",
    "                    cheat_length = from_start[tile] + distance + to_end[tile2]\n",
    "                    if base_length - cheat_length >= min_saving:\n",
    "                        num += 1\n",
    "    return num"
   ]
  },
  {
   "cell_type": "code",
   "execution_count": 5,
   "metadata": {},
   "outputs": [
    {
     "name": "stdout",
     "output_type": "stream",
     "text": [
      "Part 1: 1293\n",
      "Part 2: 977747\n"
     ]
    }
   ],
   "source": [
    "print(\"Part 1:\", num_cheats(length=2,  min_saving=100))\n",
    "print(\"Part 2:\", num_cheats(length=20, min_saving=100))"
   ]
  }
 ],
 "metadata": {
  "kernelspec": {
   "display_name": ".venv",
   "language": "python",
   "name": "python3"
  },
  "language_info": {
   "codemirror_mode": {
    "name": "ipython",
    "version": 3
   },
   "file_extension": ".py",
   "mimetype": "text/x-python",
   "name": "python",
   "nbconvert_exporter": "python",
   "pygments_lexer": "ipython3",
   "version": "3.12.8"
  }
 },
 "nbformat": 4,
 "nbformat_minor": 2
}
