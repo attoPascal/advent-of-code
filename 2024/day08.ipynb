{
 "cells": [
  {
   "cell_type": "code",
   "execution_count": 1,
   "metadata": {},
   "outputs": [],
   "source": [
    "import aocd\n",
    "from collections import defaultdict\n",
    "from itertools import combinations"
   ]
  },
  {
   "cell_type": "code",
   "execution_count": 2,
   "metadata": {},
   "outputs": [],
   "source": [
    "data = aocd.get_data(day=8, year=2024)\n",
    "grid: dict[complex, str] = {}\n",
    "\n",
    "for real, line in enumerate(data.splitlines()):\n",
    "    for imag, char in enumerate(line):\n",
    "        position = complex(real, imag)\n",
    "        grid[position] = char"
   ]
  },
  {
   "cell_type": "code",
   "execution_count": 3,
   "metadata": {},
   "outputs": [],
   "source": [
    "antennas: dict[str, list[complex]] = defaultdict(list)\n",
    "\n",
    "for position, char in grid.items():\n",
    "    if char != '.':\n",
    "        antennas[char].append(position)"
   ]
  },
  {
   "cell_type": "code",
   "execution_count": 4,
   "metadata": {},
   "outputs": [
    {
     "name": "stdout",
     "output_type": "stream",
     "text": [
      "Part 1: 376\n"
     ]
    }
   ],
   "source": [
    "antinodes: set[complex] = set()\n",
    "\n",
    "for positions in antennas.values():\n",
    "    for pos1, pos2 in combinations(positions, 2):\n",
    "        dist = pos1 - pos2\n",
    "        if pos1 + dist in grid:\n",
    "            antinodes.add(pos1 + dist)\n",
    "        if pos2 - dist in grid:\n",
    "            antinodes.add(pos2 - dist)\n",
    "\n",
    "print(\"Part 1:\", len(antinodes))\n"
   ]
  },
  {
   "cell_type": "code",
   "execution_count": null,
   "metadata": {},
   "outputs": [
    {
     "name": "stdout",
     "output_type": "stream",
     "text": [
      "Part 2: 1352\n"
     ]
    }
   ],
   "source": [
    "antinodes.clear()\n",
    "\n",
    "for positions in antennas.values():\n",
    "    for pos1, pos2 in combinations(positions, 2):\n",
    "        dist = pos1 - pos2\n",
    "        while pos1 in grid:\n",
    "            antinodes.add(pos1)\n",
    "            pos1 += dist\n",
    "        while pos2 in grid:\n",
    "            antinodes.add(pos2)\n",
    "            pos2 -= dist\n",
    "\n",
    "print(\"Part 2:\", len(antinodes))"
   ]
  },
  {
   "cell_type": "code",
   "execution_count": 7,
   "metadata": {},
   "outputs": [
    {
     "data": {
      "text/plain": [
       "defaultdict(list,\n",
       "            {'F': [2j, (4+3j), (7+19j), (9+4j)],\n",
       "             'L': [13j, (1+28j), (3+15j), (10+0j)],\n",
       "             '5': [26j, (3+25j), (7+10j), (8+23j)],\n",
       "             'U': [(1+30j), (5+37j), (8+26j), (10+19j)],\n",
       "             'z': [(3+13j), (5+28j), (10+11j), (14+20j)],\n",
       "             '4': [(3+31j), (4+23j), (8+24j), (15+18j)],\n",
       "             '8': [(3+40j), (4+25j), (5+23j), (12+38j)],\n",
       "             '1': [(3+45j), (14+26j), (18+23j), (19+24j)],\n",
       "             'P': [(3+47j), (4+39j), (10+38j)],\n",
       "             'D': [(4+20j), (6+7j), (11+10j), (13+19j)],\n",
       "             'J': [(4+46j), (5+40j), (6+43j), (13+27j)],\n",
       "             'f': [(5+6j), (6+10j), (8+13j), (19+1j)],\n",
       "             'B': [(6+19j), (21+38j), (22+40j), (25+41j)],\n",
       "             'o': [(6+22j), (7+6j), (12+15j), (13+11j)],\n",
       "             'm': [(6+32j), (7+30j), (11+43j), (18+25j)],\n",
       "             'X': [(6+44j), (7+43j), (12+25j), (19+42j)],\n",
       "             '6': [(7+38j), (9+35j), (14+34j), (20+33j)],\n",
       "             's': [(8+4j), (11+2j), (19+11j), (24+5j)],\n",
       "             'n': [(8+17j), (9+38j), (12+42j), (17+33j)],\n",
       "             'E': [(8+31j), (10+32j), (15+28j), (19+33j)],\n",
       "             '3': [(8+48j), (9+37j), (10+41j)],\n",
       "             'l': [(9+12j), (17+19j), (18+14j), (22+7j)],\n",
       "             'k': [(9+20j), (10+36j), (11+25j), (36+39j)],\n",
       "             '7': [(10+16j), (16+23j), (19+15j), (27+22j)],\n",
       "             'b': [(10+42j), (14+39j), (15+36j), (25+43j)],\n",
       "             'h': [(11+21j), (21+24j), (22+31j), (28+32j)],\n",
       "             'G': [(11+31j), (14+33j), (15+32j), (18+36j)],\n",
       "             'y': [(11+40j), (14+44j), (19+47j), (22+49j)],\n",
       "             'd': [(12+0j), (15+1j), (17+2j), (20+13j)],\n",
       "             '9': [(14+28j), (15+34j), (18+39j), (25+15j)],\n",
       "             'Y': [(14+37j), (35+27j), (46+30j), (49+26j)],\n",
       "             'N': [(15+29j), (18+24j), (31+38j), (34+27j)],\n",
       "             'p': [(17+29j), (22+46j), (24+35j), (39+48j)],\n",
       "             'c': [(17+30j), (34+40j), (36+43j), (39+39j)],\n",
       "             'v': [(20+40j), (37+26j), (39+23j), (40+31j)],\n",
       "             'w': [(23+8j), (26+22j), (27+21j), (36+23j)],\n",
       "             'A': [(23+15j), (28+1j), (33+4j), (42+0j)],\n",
       "             'M': [(23+48j), (28+36j), (33+49j), (46+43j)],\n",
       "             'O': [(24+23j), (27+27j), (34+26j), (35+28j)],\n",
       "             '2': [(24+43j), (43+18j), (44+24j), (49+17j)],\n",
       "             '0': [(26+25j), (39+10j), (41+9j), (46+12j)],\n",
       "             'H': [(26+40j), (41+18j), (42+15j), (43+31j)],\n",
       "             'j': [(27+24j), (40+22j), (44+19j), (47+21j)],\n",
       "             'e': [(27+48j), (39+43j), (44+41j), (46+40j)],\n",
       "             'Z': [(28+8j), (29+23j), (31+6j), (34+7j)],\n",
       "             'K': [(28+28j), (29+22j), (33+31j), (34+29j)],\n",
       "             'S': [(29+17j), (38+4j), (40+7j), (41+6j)],\n",
       "             'V': [(30+17j), (40+20j), (43+24j)],\n",
       "             'x': [(30+32j), (35+41j), (40+39j), (49+38j)],\n",
       "             'a': [(32+23j), (41+24j), (42+22j), (47+19j)],\n",
       "             'T': [(34+30j), (36+25j), (41+19j), (43+16j)],\n",
       "             't': [(35+33j), (43+34j), (44+37j), (46+42j)],\n",
       "             'g': [(36+14j), (44+17j), (45+21j), (47+16j)],\n",
       "             'u': [(38+39j), (43+38j), (44+34j), (45+45j)],\n",
       "             'C': [(39+46j), (42+29j), (43+47j), (44+48j)],\n",
       "             'W': [(41+10j), (42+19j), (45+9j), (46+8j)]})"
      ]
     },
     "execution_count": 7,
     "metadata": {},
     "output_type": "execute_result"
    }
   ],
   "source": [
    "antennas"
   ]
  },
  {
   "cell_type": "code",
   "execution_count": null,
   "metadata": {},
   "outputs": [],
   "source": []
  }
 ],
 "metadata": {
  "kernelspec": {
   "display_name": ".venv",
   "language": "python",
   "name": "python3"
  },
  "language_info": {
   "codemirror_mode": {
    "name": "ipython",
    "version": 3
   },
   "file_extension": ".py",
   "mimetype": "text/x-python",
   "name": "python",
   "nbconvert_exporter": "python",
   "pygments_lexer": "ipython3",
   "version": "3.12.8"
  }
 },
 "nbformat": 4,
 "nbformat_minor": 2
}
