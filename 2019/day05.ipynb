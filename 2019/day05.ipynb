{
 "metadata": {
  "language_info": {
   "codemirror_mode": {
    "name": "ipython",
    "version": 3
   },
   "file_extension": ".py",
   "mimetype": "text/x-python",
   "name": "python",
   "nbconvert_exporter": "python",
   "pygments_lexer": "ipython3",
   "version": "3.9.0-final"
  },
  "orig_nbformat": 2,
  "kernelspec": {
   "name": "python3",
   "display_name": "Python 3.9.0 64-bit",
   "metadata": {
    "interpreter": {
     "hash": "aee8b7b246df8f9039afb4144a1f6fd8d2ca17a180786b69acc140d282b71a49"
    }
   }
  }
 },
 "nbformat": 4,
 "nbformat_minor": 2,
 "cells": [
  {
   "cell_type": "code",
   "execution_count": 1,
   "metadata": {},
   "outputs": [],
   "source": [
    "with open('input05.txt') as f:\n",
    "    opcodes = [int(n) for n in f.read().split(',')]"
   ]
  },
  {
   "cell_type": "code",
   "execution_count": 2,
   "metadata": {},
   "outputs": [],
   "source": [
    "class Intcode():\n",
    "    def __init__(self, memory, noun=None, verb=None):\n",
    "        self.memory = memory.copy()\n",
    "        if noun:\n",
    "            self.memory[1] = noun\n",
    "        if verb:\n",
    "            self.memory[2] = verb\n",
    "        \n",
    "        self.ops = {\n",
    "            # op, num_reads, num_writes\n",
    "            1:  ('add', 2, 1),\n",
    "            2:  ('mul', 2, 1),\n",
    "            3:  ('inp', 0, 1),\n",
    "            4:  ('out', 1, 0),\n",
    "            5:  ('jit', 2, 0),\n",
    "            6:  ('jif', 2, 0),\n",
    "            7:  ('les', 2, 1),\n",
    "            8:  ('equ', 2, 1),\n",
    "            99: ('hlt', 0, 0)}\n",
    "        \n",
    "        self.ptr = 0\n",
    "    \n",
    "    def run(self):\n",
    "        while True:\n",
    "            op, args = self.getargs(self.ptr)\n",
    "            if op == 'hlt':\n",
    "                return\n",
    "            else:\n",
    "                # pass arguments to function called op\n",
    "                # advance pointer\n",
    "                adv = getattr(self, op)(*args)\n",
    "                self.ptr += adv\n",
    "    \n",
    "    def getargs(self, ptr):\n",
    "        instr = self.memory[ptr]\n",
    "        opcode = instr % 100\n",
    "        instr //= 100\n",
    "        op, ninputs, noutputs = self.ops[opcode]\n",
    "        args = []\n",
    "        for i in range(ninputs):\n",
    "            parmode = instr % 10\n",
    "            instr //= 10\n",
    "            par = self.memory[ptr+1+i]\n",
    "            args.append(par if parmode == 1 else self.memory[par])\n",
    "        for i in range(noutputs):\n",
    "            par = self.memory[ptr+ninputs+1+i]\n",
    "            args.append(par)\n",
    "        return op, args\n",
    "    \n",
    "    def add(self, p1, p2, p3):\n",
    "        self.memory[p3] = p1 + p2\n",
    "        return 4\n",
    "    \n",
    "    def mul(self, p1, p2, p3):\n",
    "        self.memory[p3] = p1 * p2\n",
    "        return 4\n",
    "    \n",
    "    def inp(self, p1):\n",
    "        self.memory[p1] = int(input())\n",
    "        return 2\n",
    "    \n",
    "    def out(self, p1):\n",
    "        print(p1)\n",
    "        return 2\n",
    "\n",
    "    def jit(self, p1, p2):\n",
    "        if p1:\n",
    "            self.ptr = p2\n",
    "            return 0\n",
    "        else:\n",
    "            return 3\n",
    "    \n",
    "    def jif(self, p1, p2):\n",
    "        if not p1:\n",
    "            self.ptr = p2\n",
    "            return 0\n",
    "        else:\n",
    "            return 3\n",
    "    \n",
    "    def les(self, p1, p2, p3):\n",
    "        self.memory[p3] = int(p1 < p2)\n",
    "        return 4\n",
    "    \n",
    "    def equ(self, p1, p2, p3):\n",
    "        self.memory[p3] = int(p1 == p2)\n",
    "        return 4"
   ]
  },
  {
   "cell_type": "code",
   "execution_count": 3,
   "metadata": {},
   "outputs": [
    {
     "output_type": "stream",
     "name": "stdout",
     "text": [
      "11189491\n"
     ]
    }
   ],
   "source": [
    "intcode = Intcode(opcodes)\n",
    "intcode.run()"
   ]
  },
  {
   "cell_type": "code",
   "execution_count": null,
   "metadata": {},
   "outputs": [],
   "source": []
  }
 ]
}