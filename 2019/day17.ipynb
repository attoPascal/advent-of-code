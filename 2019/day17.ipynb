{
 "cells": [
  {
   "cell_type": "code",
   "execution_count": 20,
   "metadata": {},
   "outputs": [],
   "source": [
    "from intcode import Intcode, Output\n",
    "import numpy as np\n",
    "from scipy.signal import convolve2d"
   ]
  },
  {
   "cell_type": "code",
   "execution_count": 21,
   "metadata": {},
   "outputs": [],
   "source": [
    "with open('input17.txt') as f:\n",
    "    instructions = [int(n) for n in f.read().split(',')]\n",
    "\n",
    "out = Output()\n",
    "ascii = Intcode(instructions, None, out, extend_memory=2000)\n",
    "ascii.run()\n",
    "\n",
    "scaffolds = ''.join(chr(i) for i in out)"
   ]
  },
  {
   "cell_type": "code",
   "execution_count": 22,
   "metadata": {},
   "outputs": [
    {
     "name": "stdout",
     "output_type": "stream",
     "text": [
      "\n",
      "\n",
      "..........#########..........................\n",
      "..........#.......#..........................\n",
      "..........#.......#..........................\n",
      "..........#.......#..........................\n",
      "..........#.......#..........................\n",
      "..........#.......#..........................\n",
      "..........#####...#...........#######.#######\n",
      "..............#...#...........#.....#.#.....#\n",
      "..........###########.........#.....#.#.....#\n",
      "..........#...#...#.#.........#.....#.#.....#\n",
      "..........#...#...#.#.....#############.....#\n",
      "..........#...#...#.#.....#...#.....#.......#\n",
      "..........#...#...#############.....#.......#\n",
      "..........#...#.....#.....#.........#.......#\n",
      "..........#...#.....#.....#.....#############\n",
      "..............#.....#.....#.....#...#........\n",
      "..............#.....#.....###########........\n",
      "..............#.....#...........#............\n",
      "..............#######...........#............\n",
      "................................#............\n",
      "................................#............\n",
      "................................#............\n",
      "............................#######..........\n",
      "............................#...#.#..........\n",
      "............................#...#.#..........\n",
      "............................#...#.#..........\n",
      "............................#...#######......\n",
      "............................#.....#...#......\n",
      "..................#############...#...#......\n",
      "..................#.........#.#...#...#......\n",
      "..................#.........#.#...#...#......\n",
      "..................#.........#.#...#...#......\n",
      "..................#.........###########......\n",
      "..................#...........#...#..........\n",
      "......#############...........#...#####......\n",
      "......#.......................#.......#......\n",
      "......#.......................#.......#......\n",
      "......#.......................#.......#......\n",
      "^######.......................#.......#......\n",
      "..............................#.......#......\n",
      "..............................#########......\n"
     ]
    }
   ],
   "source": [
    "print(scaffolds)"
   ]
  },
  {
   "cell_type": "code",
   "execution_count": 30,
   "metadata": {},
   "outputs": [
    {
     "name": "stdout",
     "output_type": "stream",
     "text": [
      "8 14\n",
      "8 18\n",
      "10 30\n",
      "10 36\n",
      "12 20\n",
      "12 26\n",
      "14 36\n",
      "16 32\n",
      "22 32\n",
      "26 34\n",
      "28 28\n",
      "32 30\n",
      "32 34\n"
     ]
    },
    {
     "data": {
      "text/plain": [
       "6904"
      ]
     },
     "execution_count": 30,
     "metadata": {},
     "output_type": "execute_result"
    }
   ],
   "source": [
    "arr = np.array([list(line) for line in scaffolds.split()])\n",
    "intersection_kernel = np.array([[0, 1, 0], [1, 1, 1], [0, 1, 0]])\n",
    "intersections = convolve2d(arr == '#', intersection_kernel, mode='same') == 5\n",
    "\n",
    "for (x, y), intersection in np.ndenumerate(intersections):\n",
    "    if intersection:\n",
    "        print(x, y)\n",
    "\n",
    "sum((x+0)*y for (x, y), intersection in np.ndenumerate(intersections) if intersection)"
   ]
  },
  {
   "cell_type": "code",
   "execution_count": 25,
   "metadata": {},
   "outputs": [
    {
     "data": {
      "text/plain": [
       "(41, 45)"
      ]
     },
     "execution_count": 25,
     "metadata": {},
     "output_type": "execute_result"
    }
   ],
   "source": [
    "arr.shape"
   ]
  },
  {
   "cell_type": "code",
   "execution_count": null,
   "metadata": {},
   "outputs": [],
   "source": []
  }
 ],
 "metadata": {
  "interpreter": {
   "hash": "aee8b7b246df8f9039afb4144a1f6fd8d2ca17a180786b69acc140d282b71a49"
  },
  "kernelspec": {
   "display_name": "Python 3.9.6 64-bit",
   "name": "python3"
  },
  "language_info": {
   "codemirror_mode": {
    "name": "ipython",
    "version": 3
   },
   "file_extension": ".py",
   "mimetype": "text/x-python",
   "name": "python",
   "nbconvert_exporter": "python",
   "pygments_lexer": "ipython3",
   "version": "3.9.9"
  },
  "orig_nbformat": 4
 },
 "nbformat": 4,
 "nbformat_minor": 2
}
