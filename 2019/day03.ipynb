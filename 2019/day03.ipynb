{
 "metadata": {
  "language_info": {
   "codemirror_mode": {
    "name": "ipython",
    "version": 3
   },
   "file_extension": ".py",
   "mimetype": "text/x-python",
   "name": "python",
   "nbconvert_exporter": "python",
   "pygments_lexer": "ipython3",
   "version": "3.8.6-final"
  },
  "orig_nbformat": 2,
  "kernelspec": {
   "name": "python37764bitc2b96a9319f84cb89abb6df1460b5c0b",
   "display_name": "Python 3.7.7 64-bit"
  }
 },
 "nbformat": 4,
 "nbformat_minor": 2,
 "cells": [
  {
   "cell_type": "code",
   "execution_count": 1,
   "metadata": {},
   "outputs": [],
   "source": [
    "with open('input03.txt') as f:\n",
    "    lines = f.read().splitlines()"
   ]
  },
  {
   "cell_type": "code",
   "execution_count": 2,
   "metadata": {},
   "outputs": [],
   "source": [
    "def parse(line):\n",
    "    steps = line.split(',')\n",
    "    steps = ((s[0], int(s[1:])) for s in steps)\n",
    "    steps = ((dir, -dist) if dir in ['U', 'L'] else (dir, dist) for dir, dist in steps)\n",
    "    steps = ((dist, 0) if dir in ['L', 'R'] else (0, dist) for dir, dist in steps)\n",
    "    return steps\n"
   ]
  },
  {
   "cell_type": "code",
   "execution_count": 3,
   "metadata": {},
   "outputs": [],
   "source": [
    "def trace(steps):\n",
    "    curr = (0, 0)\n",
    "    path = [curr]\n",
    "    for h, v in steps:\n",
    "        if h != 0:\n",
    "            dir = -1 if h < 0 else 1\n",
    "            for i in range(1, abs(h)+1):\n",
    "                path.append((curr[0] + i*dir, curr[1]))\n",
    "            curr = (curr[0] + h, curr[1])\n",
    "        else:\n",
    "            dir = -1 if v < 0 else 1\n",
    "            for i in range(1, abs(v)+1):\n",
    "                path.append((curr[0], curr[1] + i*dir))\n",
    "            curr = (curr[0], curr[1] + v)\n",
    "    return path"
   ]
  },
  {
   "cell_type": "code",
   "execution_count": 4,
   "metadata": {},
   "outputs": [],
   "source": [
    "steps1 = trace(parse(lines[0]))\n",
    "steps2 = trace(parse(lines[1]))"
   ]
  },
  {
   "cell_type": "code",
   "execution_count": 5,
   "metadata": {},
   "outputs": [],
   "source": [
    "visited1 = {pos: True for pos in steps1}\n",
    "visited2 = {pos: True for pos in steps2}"
   ]
  },
  {
   "cell_type": "code",
   "execution_count": 6,
   "metadata": {},
   "outputs": [],
   "source": [
    "crossings = [point for point in visited1 if point in visited2]"
   ]
  },
  {
   "cell_type": "code",
   "execution_count": 7,
   "metadata": {},
   "outputs": [
    {
     "output_type": "execute_result",
     "data": {
      "text/plain": [
       "245"
      ]
     },
     "metadata": {},
     "execution_count": 7
    }
   ],
   "source": [
    "dists = (abs(p1) + abs(p2) for p1, p2 in crossings)\n",
    "min(d for d in dists if d > 0)"
   ]
  },
  {
   "cell_type": "code",
   "execution_count": 8,
   "metadata": {},
   "outputs": [
    {
     "output_type": "execute_result",
     "data": {
      "text/plain": [
       "48262"
      ]
     },
     "metadata": {},
     "execution_count": 8
    }
   ],
   "source": [
    "dists1 = [steps1.index(c) for c in crossings]\n",
    "dists2 = [steps2.index(c) for c in crossings]\n",
    "dists = [d1 + d2 for d1, d2 in zip(dists1, dists2)]\n",
    "min(d for d in dists if d > 0)"
   ]
  },
  {
   "cell_type": "code",
   "execution_count": null,
   "metadata": {},
   "outputs": [],
   "source": []
  }
 ]
}