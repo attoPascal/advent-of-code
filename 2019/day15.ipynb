{
 "metadata": {
  "language_info": {
   "codemirror_mode": {
    "name": "ipython",
    "version": 3
   },
   "file_extension": ".py",
   "mimetype": "text/x-python",
   "name": "python",
   "nbconvert_exporter": "python",
   "pygments_lexer": "ipython3",
   "version": "3.9.0-final"
  },
  "orig_nbformat": 2,
  "kernelspec": {
   "name": "python3",
   "display_name": "Python 3",
   "language": "python"
  }
 },
 "nbformat": 4,
 "nbformat_minor": 2,
 "cells": [
  {
   "cell_type": "code",
   "execution_count": 1,
   "metadata": {},
   "outputs": [],
   "source": [
    "from intcode import Intcode, Input, Output\n",
    "from itertools import count\n",
    "import numpy as np"
   ]
  },
  {
   "cell_type": "code",
   "execution_count": 2,
   "metadata": {},
   "outputs": [],
   "source": [
    "with open('input15.txt') as f:\n",
    "    instructions = [int(n) for n in f.read().split(',')]"
   ]
  },
  {
   "cell_type": "code",
   "execution_count": 3,
   "metadata": {},
   "outputs": [],
   "source": [
    "def opposite(dir):\n",
    "    return {1:2, 2:1, 3:4, 4:3}[dir]\n",
    "\n",
    "def forward(dir):\n",
    "    return {1:1j, 2:-1j, 3:-1, 4:1}[dir]"
   ]
  },
  {
   "cell_type": "code",
   "execution_count": 4,
   "metadata": {
    "tags": []
   },
   "outputs": [
    {
     "output_type": "stream",
     "name": "stdout",
     "text": [
      "258\n"
     ]
    }
   ],
   "source": [
    "inp = Input()\n",
    "out = Output()\n",
    "robot = Intcode(instructions, inp, out)\n",
    "\n",
    "map = {0: 1}\n",
    "\n",
    "def step(dir):\n",
    "    inp.appendleft(dir)\n",
    "    while len(out) == 0:\n",
    "        robot.fetch_exec()\n",
    "    return out.pop()\n",
    "\n",
    "def explore(pos, dir, steps):\n",
    "    status = step(dir)\n",
    "    new_pos = pos + forward(dir)\n",
    "    map[new_pos] = status\n",
    "\n",
    "    if status == 2:\n",
    "        print(steps)\n",
    "\n",
    "    if status > 0:\n",
    "        dirs = [d for d in [1, 2, 3, 4] if (new_pos + forward(d)) not in map]\n",
    "        for d in dirs:\n",
    "            explore(new_pos, d, steps+1)\n",
    "        step(opposite(dir))\n",
    "\n",
    "explore(pos=0, dir=3, steps=1)"
   ]
  },
  {
   "cell_type": "code",
   "execution_count": 5,
   "metadata": {},
   "outputs": [
    {
     "output_type": "stream",
     "name": "stdout",
     "text": [
      "███████████████████████████████████████████\n██     █     █   █       █               ██\n████ █ █ ███ █ █ █ █████ █ ███ █████████ ██\n██   █ █ █   █ █   █   █   █ █     █ █   ██\n██ █████ █ █ █ ███████ █████ █████ █ █ ████\n██   █   █ █ █     █   █     █     █   █ ██\n██ █ █ ███ █ █████ █ █ █ █████ █████ ███ ██\n██ █   █O█ █   █     █   █   █ █ █   █   ██\n██ █████ █ █████ █████████ █ █ █ █ ███ █ ██\n██ █     █     █ █       █ █   █ █ █   █ ██\n██ █████ █████ █ █ █████ █ █████ █ █████ ██\n██       █   █   █ █ █   █   █   █     █ ██\n████ █████ █ ███ █ █ █ █████ █ █ █████ █ ██\n██   █     █   █ █ █         █ █   █   █ ██\n██ ███ ███████ ███ ███████████ ███ █ ███ ██\n██ █   █     █   █       █   █   █ █     ██\n██ █ ███ ███ ███ ███ ███ ███ █ █ ███████ ██\n██ █ █   █   █ █   █   █   █   █   █     ██\n██ █ █ ███ ███ ███ █████ █ █ █████ █ ██████\n██ █ █ █   █     █     █ █ █ █   █   █   ██\n██ █ █ █ █████ █ █████████ █ █ █ █████ █ ██\n██ █ █ █       █   █       █ █ █       █ ██\n████ █ ███████████ ███ █████ ███ ███████ ██\n██   █ █         █     █   █     █     █ ██\n██ ███ █ ███████████████ █ █████████ █ █ ██\n██     █           █     █         █ █ █ ██\n████████ █████████ █ █████████ ███ █ ███ ██\n██ █       █     █ █ █ █     █ █   █   █ ██\n██ █ ███████ ███ █ █ █ █ █ ███ ███ ███ █ ██\n██   █   █   █   █ █ █   █   █   █     █ ██\n██ █████ █ █████ █ █ ███████ ███ ███████ ██\n██ █     █     █   █         █ █         ██\n██ █ █████████ ███ █████████ █ ████████████\n██   █       █ █ █ █ █     █   █   █     ██\n████ █ █████ █ █ █ █ █ ███ ███ █ █ ███ █ ██\n██   █ █       █   █ █   █ █   █ █ █   █ ██\n██ ███ █████ █████ █ ███ █ █ ███ █ █ ███ ██\n██   █     █ █   █     █ █ █ █   █ █ █   ██\n████ █████ ███ █ ███████ █ █ █ ███ █ █ ████\n██       █     █         █     █     █   ██\n███████████████████████████████████████████\n"
     ]
    }
   ],
   "source": [
    "tiles = np.full((41, 43), '█')\n",
    "for pos, val in map.items():\n",
    "    if val > 0:\n",
    "        x = int(pos.imag)\n",
    "        y = int(pos.real)\n",
    "        tiles[19+x, 22+y] = ' ' if val == 1 else 'O'\n",
    "\n",
    "for line in tiles:\n",
    "    print(''.join(line))"
   ]
  },
  {
   "cell_type": "code",
   "execution_count": 6,
   "metadata": {},
   "outputs": [
    {
     "output_type": "stream",
     "name": "stdout",
     "text": [
      "372\n███████████████████████████████████████████\n██OOOOO█OOOOO█OOO█OOOOOOO█OOOOOOOOOOOOOOO██\n████O█O█O███O█O█O█O█████O█O███O█████████O██\n██OOO█O█O█OOO█O█OOO█OOO█OOO█O█OOOOO█O█OOO██\n██O█████O█O█O█O███████O█████O█████O█O█O████\n██OOO█OOO█O█O█OOOOO█OOO█OOOOO█OOOOO█OOO█O██\n██O█O█O███O█O█████O█O█O█O█████O█████O███O██\n██O█OOO█O█O█OOO█OOOOO█OOO█OOO█O█O█OOO█OOO██\n██O█████O█O█████O█████████O█O█O█O█O███O█O██\n██O█OOOOO█OOOOO█O█OOOOOOO█O█OOO█O█O█OOO█O██\n██O█████O█████O█O█O█████O█O█████O█O█████O██\n██OOOOOOO█OOO█OOO█O█O█OOO█OOO█OOO█OOOOO█O██\n████O█████O█O███O█O█O█O█████O█O█O█████O█O██\n██OOO█OOOOO█OOO█O█O█OOOOOOOOO█O█OOO█OOO█O██\n██O███O███████O███O███████████O███O█O███O██\n██O█OOO█OOOOO█OOO█OOOOOOO█OOO█OOO█O█OOOOO██\n██O█O███O███O███O███O███O███O█O█O███████O██\n██O█O█OOO█OOO█O█OOO█OOO█OOO█OOO█OOO█OOOOO██\n██O█O█O███O███O███O█████O█O█O█████O█O██████\n██O█O█O█OOO█OOOOO█OOOOO█O█O█O█OOO█OOO█OOO██\n██O█O█O█O█████O█O█████████O█O█O█O█████O█O██\n██O█O█O█OOOOOOO█OOO█OOOOOOO█O█O█OOOOOOO█O██\n████O█O███████████O███O█████O███O███████O██\n██OOO█O█OOOOOOOOO█OOOOO█OOO█OOOOO█OOOOO█O██\n██O███O█O███████████████O█O█████████O█O█O██\n██OOOOO█OOOOOOOOOOO█OOOOO█OOOOOOOOO█O█O█O██\n████████O█████████O█O█████████O███O█O███O██\n██O█OOOOOOO█OOOOO█O█O█O█OOOOO█O█OOO█OOO█O██\n██O█O███████O███O█O█O█O█O█O███O███O███O█O██\n██OOO█OOO█OOO█OOO█O█O█OOO█OOO█OOO█OOOOO█O██\n██O█████O█O█████O█O█O███████O███O███████O██\n██O█OOOOO█OOOOO█OOO█OOOOOOOOO█O█OOOOOOOOO██\n██O█O█████████O███O█████████O█O████████████\n██OOO█OOOOOOO█O█O█O█O█OOOOO█OOO█OOO█OOOOO██\n████O█O█████O█O█O█O█O█O███O███O█O█O███O█O██\n██OOO█O█OOOOOOO█OOO█O█OOO█O█OOO█O█O█OOO█O██\n██O███O█████O█████O█O███O█O█O███O█O█O███O██\n██OOO█OOOOO█O█OOO█OOOOO█O█O█O█OOO█O█O█OOO██\n████O█████O███O█O███████O█O█O█O███O█O█O████\n██OOOOOOO█OOOOO█OOOOOOOOO█OOOOO█OOOOO█OOO██\n███████████████████████████████████████████\n"
     ]
    }
   ],
   "source": [
    "for i in count(1):\n",
    "    new_tiles = tiles.copy()\n",
    "    for (x, y), t in np.ndenumerate(tiles):\n",
    "        if t == ' ' and np.any(tiles[(x-1, x, x, x+1), (y, y-1, y+1, y)] == 'O'):\n",
    "            new_tiles[x, y] = 'O'\n",
    "    tiles = new_tiles\n",
    "\n",
    "    if not np.any(tiles == ' '):\n",
    "        print(i)\n",
    "        break\n",
    "\n",
    "for line in tiles:\n",
    "    print(''.join(line))"
   ]
  },
  {
   "cell_type": "code",
   "execution_count": null,
   "metadata": {},
   "outputs": [],
   "source": []
  }
 ]
}