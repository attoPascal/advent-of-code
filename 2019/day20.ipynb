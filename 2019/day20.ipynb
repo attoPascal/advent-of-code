{
 "cells": [
  {
   "cell_type": "code",
   "execution_count": 1,
   "metadata": {},
   "outputs": [],
   "source": [
    "import aocd\n",
    "import numpy as np\n",
    "import networkx as nx\n",
    "from collections import defaultdict"
   ]
  },
  {
   "cell_type": "code",
   "execution_count": 2,
   "metadata": {},
   "outputs": [],
   "source": [
    "data = aocd.get_data(day=20, year=2019)\n",
    "grid = np.array([list(line) for line in data.splitlines()])\n",
    "m, n = grid.shape\n",
    "graph = nx.grid_2d_graph(m, n)"
   ]
  },
  {
   "cell_type": "code",
   "execution_count": 3,
   "metadata": {},
   "outputs": [],
   "source": [
    "portals = defaultdict(list)\n",
    "\n",
    "for coords, tile in np.ndenumerate(grid):\n",
    "    if tile.isupper():\n",
    "        neighbors = {grid[n]: n for n in graph.neighbors(coords)}\n",
    "        if '.' in neighbors:\n",
    "            portal = tuple(sorted([n for n in neighbors if n.isupper()] + [tile]))\n",
    "            portals[portal].append(neighbors['.'])\n",
    "\n",
    "for coords, tile in np.ndenumerate(grid):\n",
    "    if tile != '.':\n",
    "        graph.remove_node(coords)\n",
    "\n",
    "graph.add_edges_from(portal for portal in portals.values() if len(portal) == 2)\n",
    "\n",
    "start = portals[('A', 'A')][0]\n",
    "end   = portals[('Z', 'Z')][0]"
   ]
  },
  {
   "cell_type": "code",
   "execution_count": 4,
   "metadata": {},
   "outputs": [
    {
     "data": {
      "text/plain": [
       "556"
      ]
     },
     "execution_count": 4,
     "metadata": {},
     "output_type": "execute_result"
    }
   ],
   "source": [
    "nx.shortest_path_length(graph, start, end)"
   ]
  }
 ],
 "metadata": {
  "kernelspec": {
   "display_name": "Python 3",
   "language": "python",
   "name": "python3"
  },
  "language_info": {
   "codemirror_mode": {
    "name": "ipython",
    "version": 3
   },
   "file_extension": ".py",
   "mimetype": "text/x-python",
   "name": "python",
   "nbconvert_exporter": "python",
   "pygments_lexer": "ipython3",
   "version": "3.11.0 (main, Nov 15 2022, 05:43:36) [Clang 14.0.0 (clang-1400.0.29.202)]"
  },
  "orig_nbformat": 4,
  "vscode": {
   "interpreter": {
    "hash": "1a1af0ee75eeea9e2e1ee996c87e7a2b11a0bebd85af04bb136d915cefc0abce"
   }
  }
 },
 "nbformat": 4,
 "nbformat_minor": 2
}
