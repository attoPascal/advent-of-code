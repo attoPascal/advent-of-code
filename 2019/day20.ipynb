{
 "cells": [
  {
   "cell_type": "code",
   "execution_count": 1,
   "metadata": {},
   "outputs": [],
   "source": [
    "import numpy as np"
   ]
  },
  {
   "cell_type": "code",
   "execution_count": 18,
   "metadata": {},
   "outputs": [
    {
     "data": {
      "text/plain": [
       "' '"
      ]
     },
     "execution_count": 18,
     "metadata": {},
     "output_type": "execute_result"
    }
   ],
   "source": [
    "data = \"\"\"\\\n",
    "         A           \n",
    "         A           \n",
    "  #######.#########  \n",
    "  #######.........#  \n",
    "  #######.#######.#  \n",
    "  #######.#######.#  \n",
    "  #######.#######.#  \n",
    "  #####  B    ###.#  \n",
    "BC...##  C    ###.#  \n",
    "  ##.##       ###.#  \n",
    "  ##...DE  F  ###.#  \n",
    "  #####    G  ###.#  \n",
    "  #########.#####.#  \n",
    "DE..#######...###.#  \n",
    "  #.#########.###.#  \n",
    "FG..#########.....#  \n",
    "  ###########.#####  \n",
    "             Z       \n",
    "             Z       \"\"\"\n",
    "\n",
    "grid = np.array([list(line) for line in data.splitlines()])\n",
    "grid[0,1]"
   ]
  },
  {
   "cell_type": "code",
   "execution_count": 19,
   "metadata": {},
   "outputs": [
    {
     "name": "stdout",
     "output_type": "stream",
     "text": [
      "         A           \n",
      "         A           \n",
      "  #######.#########  \n",
      "  #######.........#  \n",
      "  #######.#######.#  \n",
      "  #######.#######.#  \n",
      "  #######.#######.#  \n",
      "  #####  B    ###.#  \n",
      "BC...##  C    ###.#  \n",
      "  ##.##       ###.#  \n",
      "  ##...DE  F  ###.#  \n",
      "  #####    G  ###.#  \n",
      "  #########.#####.#  \n",
      "DE..#######...###.#  \n",
      "  #.#########.###.#  \n",
      "FG..#########.....#  \n",
      "  ###########.#####  \n",
      "             Z       \n",
      "             Z       \n"
     ]
    }
   ],
   "source": [
    "def pprint(grid):\n",
    "    for row in grid:\n",
    "        print(''.join(row))\n",
    "\n",
    "pprint(grid)"
   ]
  },
  {
   "cell_type": "code",
   "execution_count": null,
   "metadata": {},
   "outputs": [],
   "source": []
  }
 ],
 "metadata": {
  "interpreter": {
   "hash": "aee8b7b246df8f9039afb4144a1f6fd8d2ca17a180786b69acc140d282b71a49"
  },
  "kernelspec": {
   "display_name": "Python 3.9.9 64-bit",
   "language": "python",
   "name": "python3"
  },
  "language_info": {
   "codemirror_mode": {
    "name": "ipython",
    "version": 3
   },
   "file_extension": ".py",
   "mimetype": "text/x-python",
   "name": "python",
   "nbconvert_exporter": "python",
   "pygments_lexer": "ipython3",
   "version": "3.9.9"
  },
  "orig_nbformat": 4
 },
 "nbformat": 4,
 "nbformat_minor": 2
}
