{
 "cells": [
  {
   "cell_type": "code",
   "execution_count": 1,
   "metadata": {},
   "outputs": [],
   "source": [
    "from itertools import permutations\n",
    "from intcode import Intcode\n",
    "from collections import deque"
   ]
  },
  {
   "cell_type": "code",
   "execution_count": 2,
   "metadata": {},
   "outputs": [],
   "source": [
    "with open('input07.txt') as f:\n",
    "    instructions = [int(n) for n in f.read().split(',')]"
   ]
  },
  {
   "cell_type": "code",
   "execution_count": 3,
   "metadata": {},
   "outputs": [],
   "source": [
    "# amp iterator\n",
    "# yields True if instruction executed\n",
    "# yields False if waiting for input\n",
    "# stops iteration when halted\n",
    "def amp(input, output):\n",
    "    controller = Intcode(instructions, input, output)\n",
    "    while not controller.halted:\n",
    "        controller.fetch()\n",
    "        waiting = True\n",
    "        while waiting:\n",
    "            try:\n",
    "                controller.exec()\n",
    "                waiting = False\n",
    "                yield True\n",
    "            except IndexError:\n",
    "                # pop on empty\n",
    "                yield False"
   ]
  },
  {
   "cell_type": "code",
   "execution_count": 4,
   "metadata": {},
   "outputs": [
    {
     "data": {
      "text/plain": [
       "17790"
      ]
     },
     "execution_count": 4,
     "metadata": {},
     "output_type": "execute_result"
    }
   ],
   "source": [
    "outputs = []\n",
    "\n",
    "for p1, p2, p3, p4, p5 in permutations([0, 1, 2, 3, 4]):\n",
    "    in1 = deque([p1, 0])\n",
    "    in2 = deque([p2])\n",
    "    in3 = deque([p3])\n",
    "    in4 = deque([p4])\n",
    "    in5 = deque([p5])\n",
    "    out5 = deque()\n",
    "    \n",
    "    amp1 = amp(in1, in2)\n",
    "    amp2 = amp(in2, in3)\n",
    "    amp3 = amp(in3, in4)\n",
    "    amp4 = amp(in4, in5)\n",
    "    amp5 = amp(in5, out5)\n",
    "\n",
    "    list(amp1)\n",
    "    list(amp2)\n",
    "    list(amp3)\n",
    "    list(amp4)\n",
    "    list(amp5)\n",
    "\n",
    "    outputs.append(out5[0])\n",
    "\n",
    "max(outputs)"
   ]
  },
  {
   "cell_type": "code",
   "execution_count": 5,
   "metadata": {},
   "outputs": [
    {
     "name": "stdout",
     "output_type": "stream",
     "text": [
      "19384820\n"
     ]
    }
   ],
   "source": [
    "outputs = []\n",
    "\n",
    "for p1, p2, p3, p4, p5 in permutations([5, 6, 7, 8, 9]):\n",
    "    in1 = deque([p1, 0])\n",
    "    in2 = deque([p2])\n",
    "    in3 = deque([p3])\n",
    "    in4 = deque([p4])\n",
    "    in5 = deque([p5])\n",
    "\n",
    "    amp1 = amp(input=in1, output=in2)\n",
    "    amp2 = amp(input=in2, output=in3)\n",
    "    amp3 = amp(input=in3, output=in4)\n",
    "    amp4 = amp(input=in4, output=in5)\n",
    "    amp5 = amp(input=in5, output=in1)\n",
    "\n",
    "    amps = [amp1, amp2, amp3, amp4, amp5]\n",
    "    halted = [False, False, False, False, False]\n",
    "\n",
    "    while not all(halted):\n",
    "        # print(\"Not all halted:\", halted)\n",
    "        for i, a in enumerate(amps):\n",
    "            # print(\"Amp\", i+1)\n",
    "            executing = True\n",
    "            while executing:\n",
    "                try:\n",
    "                    executing = next(a)\n",
    "                except StopIteration:\n",
    "                    halted[i] = True\n",
    "                    # print(\"halted\")\n",
    "                    break\n",
    "    \n",
    "    # print(in1[0])\n",
    "    outputs.append(in1[0])\n",
    "\n",
    "print(max(outputs))"
   ]
  }
 ],
 "metadata": {
  "kernelspec": {
   "display_name": "Python 3",
   "language": "python",
   "name": "python3"
  },
  "language_info": {
   "codemirror_mode": {
    "name": "ipython",
    "version": 3
   },
   "file_extension": ".py",
   "mimetype": "text/x-python",
   "name": "python",
   "nbconvert_exporter": "python",
   "pygments_lexer": "ipython3",
   "version": "3.10.8"
  },
  "orig_nbformat": 2,
  "vscode": {
   "interpreter": {
    "hash": "aee8b7b246df8f9039afb4144a1f6fd8d2ca17a180786b69acc140d282b71a49"
   }
  }
 },
 "nbformat": 4,
 "nbformat_minor": 2
}
