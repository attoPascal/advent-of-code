{
 "metadata": {
  "language_info": {
   "codemirror_mode": {
    "name": "ipython",
    "version": 3
   },
   "file_extension": ".py",
   "mimetype": "text/x-python",
   "name": "python",
   "nbconvert_exporter": "python",
   "pygments_lexer": "ipython3",
   "version": "3.9.0-final"
  },
  "orig_nbformat": 2,
  "kernelspec": {
   "name": "python3",
   "display_name": "Python 3.9.0 64-bit",
   "metadata": {
    "interpreter": {
     "hash": "aee8b7b246df8f9039afb4144a1f6fd8d2ca17a180786b69acc140d282b71a49"
    }
   }
  }
 },
 "nbformat": 4,
 "nbformat_minor": 2,
 "cells": [
  {
   "cell_type": "code",
   "execution_count": 1,
   "metadata": {},
   "outputs": [],
   "source": [
    "from itertools import permutations\n",
    "from intcode import Intcode"
   ]
  },
  {
   "cell_type": "code",
   "execution_count": 2,
   "metadata": {},
   "outputs": [],
   "source": [
    "with open('input07.txt') as f:\n",
    "    instructions = [int(n) for n in f.read().split(',')]"
   ]
  },
  {
   "cell_type": "code",
   "execution_count": 3,
   "metadata": {},
   "outputs": [],
   "source": [
    "# amp iterator\n",
    "# yields True if instruction executed\n",
    "# yields False if waiting for input\n",
    "# stops iteration when halted\n",
    "def amp(input, output):\n",
    "    controller = Intcode(instructions, input=input, output=output)\n",
    "    while not controller.halted:\n",
    "        controller.fetch()\n",
    "        waiting = True\n",
    "        while waiting:\n",
    "            try:\n",
    "                controller.exec()\n",
    "                waiting = False\n",
    "                yield True\n",
    "            except IndexError:\n",
    "                # pop on empty\n",
    "                yield False"
   ]
  },
  {
   "cell_type": "code",
   "execution_count": 4,
   "metadata": {},
   "outputs": [
    {
     "output_type": "execute_result",
     "data": {
      "text/plain": [
       "17790"
      ]
     },
     "metadata": {},
     "execution_count": 4
    }
   ],
   "source": [
    "outputs = []\n",
    "\n",
    "for p1, p2, p3, p4, p5 in permutations([0, 1, 2, 3, 4]):\n",
    "    # Amp A\n",
    "    in1 = [0, p1]\n",
    "    out1 = []\n",
    "    amp1 = amp(in1, lambda x: out1.append(x))\n",
    "    list(amp1)\n",
    "\n",
    "    in2 = out1 + [p2]\n",
    "    out2 = []\n",
    "    amp2 = amp(in2, lambda x: out2.append(x))\n",
    "    list(amp2)\n",
    "\n",
    "    in3 = out2 + [p3]\n",
    "    out3 = []\n",
    "    amp3 = amp(in3, lambda x: out3.append(x))\n",
    "    list(amp3)\n",
    "\n",
    "    in4 = out3 + [p4]\n",
    "    out4 = []\n",
    "    amp4 = amp(in4, lambda x: out4.append(x))\n",
    "    list(amp4)\n",
    "\n",
    "    in5 = out4 + [p5]\n",
    "    out5 = []\n",
    "    amp5 = amp(in5, lambda x: out5.append(x))\n",
    "    list(amp5)\n",
    "\n",
    "    outputs.append(out5[0])\n",
    "\n",
    "max(outputs)"
   ]
  },
  {
   "cell_type": "code",
   "execution_count": 5,
   "metadata": {},
   "outputs": [
    {
     "output_type": "stream",
     "name": "stdout",
     "text": [
      "19384820\n"
     ]
    }
   ],
   "source": [
    "outputs = []\n",
    "\n",
    "for p1, p2, p3, p4, p5 in permutations([5, 6, 7, 8, 9]):\n",
    "    in1 = [0, p1]\n",
    "    in2 = [p2]\n",
    "    in3 = [p3]\n",
    "    in4 = [p4]\n",
    "    in5 = [p5]\n",
    "\n",
    "    amp1 = amp(input=in1, output=lambda x: in2.insert(0, x))\n",
    "    amp2 = amp(input=in2, output=lambda x: in3.insert(0, x))\n",
    "    amp3 = amp(input=in3, output=lambda x: in4.insert(0, x))\n",
    "    amp4 = amp(input=in4, output=lambda x: in5.insert(0, x))\n",
    "    amp5 = amp(input=in5, output=lambda x: in1.insert(0, x))\n",
    "\n",
    "    amps = [amp1, amp2, amp3, amp4, amp5]\n",
    "    halted = [False, False, False, False, False]\n",
    "\n",
    "    while not all(halted):\n",
    "        # print(\"Not all halted:\", halted)\n",
    "        for i, a in enumerate(amps):\n",
    "            # print(\"Amp\", i+1)\n",
    "            executing = True\n",
    "            while executing:\n",
    "                try:\n",
    "                    executing = next(a)\n",
    "                except StopIteration:\n",
    "                    halted[i] = True\n",
    "                    # print(\"halted\")\n",
    "                    break\n",
    "    \n",
    "    # print(in1[0])\n",
    "    outputs.append(in1[0])\n",
    "\n",
    "print(max(outputs))"
   ]
  },
  {
   "cell_type": "code",
   "execution_count": null,
   "metadata": {},
   "outputs": [],
   "source": []
  }
 ]
}