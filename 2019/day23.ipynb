{
 "cells": [
  {
   "cell_type": "code",
   "execution_count": 1,
   "metadata": {},
   "outputs": [],
   "source": [
    "import aocd\n",
    "from intcode import Intcode\n",
    "from collections import deque"
   ]
  },
  {
   "cell_type": "code",
   "execution_count": 2,
   "metadata": {},
   "outputs": [],
   "source": [
    "instructions = [int(n) for n in aocd.get_data(day=23, year=2019).split(',')]"
   ]
  },
  {
   "cell_type": "code",
   "execution_count": 3,
   "metadata": {},
   "outputs": [],
   "source": [
    "class Computer:\n",
    "    address: int\n",
    "    controller: Intcode\n",
    "    input_queue: deque\n",
    "    output_queue: deque\n",
    "    missed_inputs: int\n",
    "\n",
    "    def __init__(self, address):\n",
    "        self.address = address\n",
    "        self.input_queue = deque([address])\n",
    "        self.output_queue = deque()\n",
    "        self.controller = Intcode(instructions, self.read_input, self.output_queue)\n",
    "        self.missed_inputs = 0\n",
    "    \n",
    "    @property\n",
    "    def packet(self):\n",
    "        if len(self.output_queue) < 3:\n",
    "            return None\n",
    "        address = self.output_queue.popleft()\n",
    "        x = self.output_queue.popleft()\n",
    "        y = self.output_queue.popleft()\n",
    "        return address, x, y\n",
    "    \n",
    "    def recieve(self, packet):\n",
    "        _, x, y = packet\n",
    "        self.input_queue.extend((x, y))\n",
    "    \n",
    "    def read_input(self):\n",
    "        if not self.input_queue:\n",
    "            self.missed_inputs += 1\n",
    "            return -1\n",
    "        self.missed_inputs = 0\n",
    "        return self.input_queue.popleft()\n",
    "    \n",
    "    @property\n",
    "    def is_idle(self):\n",
    "        return self.missed_inputs > 1 and not self.input_queue and not self.output_queue"
   ]
  },
  {
   "cell_type": "code",
   "execution_count": 4,
   "metadata": {},
   "outputs": [],
   "source": [
    "class NAT:\n",
    "    computers: list[Computer]\n",
    "    last_packet: tuple[int, int, int] | None = None\n",
    "    log: list[int]\n",
    "    looped = False\n",
    "\n",
    "    def __init__(self, computers):\n",
    "        self.computers = computers\n",
    "        self.log = []\n",
    "\n",
    "    def recieve(self, packet):\n",
    "        if not self.last_packet:\n",
    "            print(\"Part 1:\", packet[2])\n",
    "        self.last_packet = packet\n",
    "    \n",
    "    def monitor(self):\n",
    "        if all(c.is_idle for c in self.computers):\n",
    "            assert self.last_packet\n",
    "            self.computers[0].recieve(self.last_packet)\n",
    "            self.log.append(self.last_packet[2])\n",
    "            if len(self.log) >= 2 and self.log[-1] == self.log[-2]:\n",
    "                self.looped = True\n",
    "                print(\"Part 2:\", self.log[-1])\n",
    "                "
   ]
  },
  {
   "cell_type": "code",
   "execution_count": 5,
   "metadata": {},
   "outputs": [],
   "source": [
    "class Network:\n",
    "    computers: list[Computer]\n",
    "    nat: NAT\n",
    "\n",
    "    def __init__(self, num_computers):\n",
    "        self.computers = [Computer(address) for address in range(num_computers)]\n",
    "        self.nat = NAT(self.computers)\n",
    "    \n",
    "    def send(self, packet):\n",
    "        address = packet[0]\n",
    "        if address == 255:\n",
    "            self.nat.recieve(packet)\n",
    "        else:\n",
    "            self.computers[address].recieve(packet)\n",
    "    \n",
    "    def run(self):\n",
    "        while not self.nat.looped:\n",
    "            for computer in self.computers:\n",
    "                computer.controller.fetch_exec()\n",
    "                if packet := computer.packet:\n",
    "                    self.send(packet)\n",
    "            self.nat.monitor()"
   ]
  },
  {
   "cell_type": "code",
   "execution_count": 6,
   "metadata": {},
   "outputs": [
    {
     "name": "stdout",
     "output_type": "stream",
     "text": [
      "Part 1: 17849\n",
      "Part 2: 12235\n"
     ]
    }
   ],
   "source": [
    "Network(num_computers=50).run()"
   ]
  }
 ],
 "metadata": {
  "kernelspec": {
   "display_name": "Python 3",
   "language": "python",
   "name": "python3"
  },
  "language_info": {
   "codemirror_mode": {
    "name": "ipython",
    "version": 3
   },
   "file_extension": ".py",
   "mimetype": "text/x-python",
   "name": "python",
   "nbconvert_exporter": "python",
   "pygments_lexer": "ipython3",
   "version": "3.11.0"
  },
  "orig_nbformat": 4,
  "vscode": {
   "interpreter": {
    "hash": "1a1af0ee75eeea9e2e1ee996c87e7a2b11a0bebd85af04bb136d915cefc0abce"
   }
  }
 },
 "nbformat": 4,
 "nbformat_minor": 2
}
