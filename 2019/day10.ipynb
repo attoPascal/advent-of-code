{
 "metadata": {
  "language_info": {
   "codemirror_mode": {
    "name": "ipython",
    "version": 3
   },
   "file_extension": ".py",
   "mimetype": "text/x-python",
   "name": "python",
   "nbconvert_exporter": "python",
   "pygments_lexer": "ipython3",
   "version": "3.9.0-final"
  },
  "orig_nbformat": 2,
  "kernelspec": {
   "name": "python3",
   "display_name": "Python 3.9.0 64-bit",
   "metadata": {
    "interpreter": {
     "hash": "aee8b7b246df8f9039afb4144a1f6fd8d2ca17a180786b69acc140d282b71a49"
    }
   }
  }
 },
 "nbformat": 4,
 "nbformat_minor": 2,
 "cells": [
  {
   "cell_type": "code",
   "execution_count": 1,
   "metadata": {},
   "outputs": [],
   "source": [
    "import numpy as np"
   ]
  },
  {
   "cell_type": "code",
   "execution_count": 2,
   "metadata": {},
   "outputs": [],
   "source": [
    "asteroids = \"\"\".#..##.###...#######\n",
    "##.############..##.\n",
    ".#.######.########.#\n",
    ".###.#######.####.#.\n",
    "#####.##.#.##.###.##\n",
    "..#####..#.#########\n",
    "####################\n",
    "#.####....###.#.#.##\n",
    "##.#################\n",
    "#####.##.###..####..\n",
    "..######..##.#######\n",
    "####.##.####...##..#\n",
    ".#####..#.######.###\n",
    "##...#.##########...\n",
    "#.##########.#######\n",
    ".####.#.###.###.#.##\n",
    "....##.##.###..#####\n",
    ".#.#.###########.###\n",
    "#.#.#.#####.####.###\n",
    "###.##.####.##.#..##\"\"\"\n",
    "\n",
    "# asteroids = \"\"\".#..#..###\n",
    "# ####.###.#\n",
    "# ....###.#.\n",
    "# ..###.##.#\n",
    "# ##.##.#.#.\n",
    "# ....###..#\n",
    "# ..#.#..#.#\n",
    "# #..#.#.###\n",
    "# .##...##.#\n",
    "# .....#.#..\n",
    "# \"\"\"\n",
    "\n",
    "asteroids = np.array([[c == '#' for c in line] for line in asteroids.splitlines()])"
   ]
  },
  {
   "cell_type": "code",
   "execution_count": 3,
   "metadata": {},
   "outputs": [
    {
     "output_type": "display_data",
     "data": {
      "text/plain": "210"
     },
     "metadata": {}
    },
    {
     "output_type": "display_data",
     "data": {
      "text/plain": "array([[13, 11]])"
     },
     "metadata": {}
    }
   ],
   "source": [
    "h, w = asteroids.shape\n",
    "X, Y = np.mgrid[:h, :w]\n",
    "visible = np.zeros((h, w), dtype=int)\n",
    "\n",
    "for (x, y), ast in np.ndenumerate(asteroids):\n",
    "    if ast:\n",
    "        mask = asteroids.copy()\n",
    "        mask[x, y] = False\n",
    "\n",
    "        distX = -(X - x)\n",
    "        distY = Y - y\n",
    "\n",
    "        ang = np.around(np.angle(distX+distY*1j, deg=True), 8)\n",
    "        ang[ang < 0] += 360\n",
    "        ang[~mask] = np.nan\n",
    "\n",
    "        visible[x, y] = len(np.unique(ang[mask]))\n",
    "display(np.max(visible), np.argwhere(visible == np.max(visible)))"
   ]
  },
  {
   "cell_type": "code",
   "execution_count": 4,
   "metadata": {
    "tags": []
   },
   "outputs": [
    {
     "output_type": "stream",
     "name": "stdout",
     "text": [
      "Iteration 1\n1 10 13\n2 0 14\n3 1 14\n4 2 14\n5 3 14\n6 4 14\n7 5 14\n8 0 15\n9 6 14\n10 2 15\n11 7 14\n12 0 16\n13 4 15\n14 8 14\n15 0 17\n16 3 16\n17 6 15\n18 4 16\n19 2 17\n20 0 18\n21 9 14\n22 0 19\n23 6 16\n24 3 18\n25 8 15\n26 4 18\n27 7 16\n28 6 17\n29 5 18\n30 4 19\n31 10 14\n32 6 19\n33 7 18\n34 8 17\n35 9 16\n36 8 18\n37 10 15\n38 10 16\n39 10 17\n40 10 18\n41 10 19\n42 11 15\n43 12 19\n44 12 18\n45 12 17\n46 12 15\n47 14 18\n48 13 16\n49 14 17\n50 15 18\n51 16 19\n52 12 14\n53 18 19\n54 17 18\n55 16 17\n56 15 16\n57 18 18\n58 14 15\n59 19 18\n60 16 16\n61 18 17\n62 13 14\n63 16 15\n64 14 14\n65 18 15\n66 15 14\n67 17 14\n68 18 14\n69 12 13\n70 19 12\n71 18 12\n72 17 12\n73 16 12\n74 15 12\n75 17 11\n76 19 10\n77 16 11\n78 18 10\n79 13 12\n80 18 9\n81 16 10\n82 19 8\n83 14 11\n84 18 8\n85 15 10\n86 17 8\n87 18 7\n88 12 12\n89 19 4\n90 17 6\n91 16 7\n92 15 8\n93 18 4\n94 14 9\n95 19 2\n96 13 10\n97 18 2\n98 16 5\n99 19 0\n100 14 8\n101 15 6\n102 16 4\n103 18 0\n104 12 11\n105 15 4\n106 14 6\n107 13 8\n108 14 5\n109 15 2\n110 12 10\n111 14 3\n112 14 2\n113 13 5\n114 14 0\n115 12 8\n116 13 1\n117 13 0\n118 12 5\n119 12 4\n120 12 3\n121 12 2\n122 12 1\n123 11 11\n124 10 2\n125 10 3\n126 10 4\n127 10 5\n128 10 6\n129 9 0\n130 10 7\n131 9 2\n132 9 3\n133 9 4\n134 8 0\n135 8 1\n136 9 6\n137 8 3\n138 7 0\n139 10 10\n140 7 2\n141 8 5\n142 6 0\n143 7 3\n144 6 1\n145 8 6\n146 7 4\n147 6 2\n148 10 11\n149 4 0\n150 5 2\n151 6 4\n152 4 1\n153 8 8\n154 6 5\n155 4 2\n156 9 10\n157 4 3\n158 6 6\n159 3 2\n160 8 9\n161 1 0\n162 4 4\n163 3 3\n164 6 7\n165 5 6\n166 2 3\n167 0 1\n168 9 11\n169 1 4\n170 2 5\n171 3 6\n172 4 7\n173 0 4\n174 6 9\n175 2 6\n176 7 10\n177 0 5\n178 1 6\n179 8 11\n180 3 8\n181 6 10\n182 4 9\n183 2 8\n184 0 7\n185 7 11\n186 0 8\n187 6 11\n188 3 10\n189 0 9\n190 8 12\n191 1 10\n192 4 11\n193 7 12\n194 2 11\n195 6 12\n196 5 12\n197 4 12\n198 2 12\n199 1 12\nIteration 2\n200 8 13\n201 3 15\n202 5 15\n203 1 17\n204 5 16\n205 5 17\n206 9 15\n207 7 19\n208 9 17\n209 11 16\n210 14 19\n211 15 19\n212 13 15\n213 19 19\n214 17 17\n215 17 15\n216 19 15\n217 13 13\n218 17 10\n219 17 9\n220 19 7\n221 13 11\n222 17 5\n223 19 1\n224 17 3\n225 13 9\n226 15 3\n227 13 7\n228 11 10\n229 9 1\n230 9 7\n231 9 9\n232 5 3\n233 5 4\n234 5 5\n235 1 1\n236 8 10\n237 1 5\n238 3 7\n239 5 9\n240 1 7\n241 3 9\n242 1 9\n243 5 11\n244 3 11\n245 1 11\nIteration 3\n246 6 13\n247 2 16\n248 1 18\n249 2 19\n250 8 16\n251 8 19\n252 11 19\n253 14 16\n254 14 13\n255 19 9\n256 14 10\n257 14 7\n258 14 4\n259 11 9\n260 8 4\n261 8 7\n262 3 1\n263 2 1\n264 6 8\n265 2 7\n266 1 8\n267 2 10\nIteration 4\n268 5 13\n269 6 18\n270 16 18\n271 15 13\n272 15 9\n273 17 1\n274 15 1\n275 11 8\n276 7 5\n277 4 6\nIteration 5\n278 3 13\n279 5 19\n280 17 19\n281 17 13\n282 16 8\n283 11 6\n284 6 3\n285 3 5\nIteration 6\n286 2 13\n287 18 13\n288 17 7\n289 11 5\n290 2 4\nIteration 7\n291 1 13\n292 19 13\n293 18 6\n294 11 3\n295 1 3\nIteration 8\n296 0 13\n297 19 5\n298 11 2\nIteration 9\n299 11 1\n"
     ]
    }
   ],
   "source": [
    "x, y = 11, 13\n",
    "\n",
    "def new_map(asteroids, x, y):\n",
    "    mask = asteroids.copy()\n",
    "    mask[x, y] = False\n",
    "\n",
    "    h, w = asteroids.shape\n",
    "    X, Y = np.mgrid[:h, :w]\n",
    "    distX = -(X - x)\n",
    "    distY = Y - y\n",
    "\n",
    "    ang = np.around(np.angle(distX+distY*1j, deg=True), 8)\n",
    "    ang[ang < 0] += 360\n",
    "    ang[~mask] = np.nan\n",
    "\n",
    "    abs = np.around(np.abs(distX+distY*1j), 8)\n",
    "    abs[~mask] = np.nan\n",
    "\n",
    "    return ang, abs\n",
    "\n",
    "it = 0\n",
    "lasered = 0\n",
    "\n",
    "while True:\n",
    "    it += 1\n",
    "    print(\"Iteration\", it)\n",
    "    ang, abs = new_map(asteroids, x, y)\n",
    "\n",
    "    smallest_angle = -1\n",
    "    while True:\n",
    "        smallest_angle   = np.nanmin(ang[ang > smallest_angle])\n",
    "        astroids_on_line = np.where(ang == smallest_angle)\n",
    "        nearest_on_line  = np.argmin(abs[astroids_on_line])\n",
    "        nearest_x        = astroids_on_line[0][nearest_on_line]\n",
    "        nearest_y        = astroids_on_line[1][nearest_on_line]\n",
    "\n",
    "        asteroids[nearest_x, nearest_y] = False\n",
    "        lasered += 1\n",
    "        print(lasered, nearest_x, nearest_y)\n",
    "        # print(smallest_angle)\n",
    "\n",
    "        if np.all(ang[asteroids] <= smallest_angle):\n",
    "            break\n",
    "    if np.count_nonzero(asteroids) <= 1:\n",
    "        break"
   ]
  },
  {
   "cell_type": "code",
   "execution_count": null,
   "metadata": {},
   "outputs": [],
   "source": []
  }
 ]
}