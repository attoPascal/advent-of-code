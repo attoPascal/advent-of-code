{
 "metadata": {
  "language_info": {
   "codemirror_mode": {
    "name": "ipython",
    "version": 3
   },
   "file_extension": ".py",
   "mimetype": "text/x-python",
   "name": "python",
   "nbconvert_exporter": "python",
   "pygments_lexer": "ipython3",
   "version": "3.9.0-final"
  },
  "orig_nbformat": 2,
  "kernelspec": {
   "name": "python3",
   "display_name": "Python 3.9.0 64-bit",
   "metadata": {
    "interpreter": {
     "hash": "aee8b7b246df8f9039afb4144a1f6fd8d2ca17a180786b69acc140d282b71a49"
    }
   }
  }
 },
 "nbformat": 4,
 "nbformat_minor": 2,
 "cells": [
  {
   "cell_type": "code",
   "execution_count": 1,
   "metadata": {},
   "outputs": [],
   "source": [
    "import numpy as np"
   ]
  },
  {
   "cell_type": "code",
   "execution_count": 2,
   "metadata": {},
   "outputs": [],
   "source": [
    "input = \"\"\"\\\n",
    "###..#.##.####.##..###.#.#..\n",
    "#..#..###..#.......####.....\n",
    "#.###.#.##..###.##..#.###.#.\n",
    "..#.##..##...#.#.###.##.####\n",
    ".#.##..####...####.###.##...\n",
    "##...###.#.##.##..###..#..#.\n",
    ".##..###...#....###.....##.#\n",
    "#..##...#..#.##..####.....#.\n",
    ".#..#.######.#..#..####....#\n",
    "#.##.##......#..#..####.##..\n",
    "##...#....#.#.##.#..#...##.#\n",
    "##.####.###...#.##........##\n",
    "......##.....#.###.##.#.#..#\n",
    ".###..#####.#..#...#...#.###\n",
    "..##.###..##.#.##.#.##......\n",
    "......##.#.#....#..##.#.####\n",
    "...##..#.#.#.....##.###...##\n",
    ".#.#..#.#....##..##.#..#.#..\n",
    "...#..###..##.####.#...#..##\n",
    "#.#......#.#..##..#...#.#..#\n",
    "..#.##.#......#.##...#..#.##\n",
    "#.##..#....#...#.##..#..#..#\n",
    "#..#.#.#.##..#..#.#.#...##..\n",
    ".#...#.........#..#....#.#.#\n",
    "..####.#..#..##.####.#.##.##\n",
    ".#.######......##..#.#.##.#.\n",
    ".#....####....###.#.#.#.####\n",
    "....####...##.#.#...#..#.##.\"\"\"\n",
    "\n",
    "asteroids = np.array([[c == '#' for c in line] for line in input.splitlines()])"
   ]
  },
  {
   "cell_type": "code",
   "execution_count": 3,
   "metadata": {},
   "outputs": [
    {
     "output_type": "stream",
     "name": "stdout",
     "text": [
      "282 [19 22]\n"
     ]
    }
   ],
   "source": [
    "X, Y = np.indices(asteroids.shape)\n",
    "visible = np.zeros(asteroids.shape, dtype=int)\n",
    "\n",
    "for (x, y), ast in np.ndenumerate(asteroids):\n",
    "    if ast:\n",
    "        mask = asteroids.copy()\n",
    "        mask[x, y] = False\n",
    "\n",
    "        distX = -X + x\n",
    "        distY = Y - y\n",
    "\n",
    "        ang = np.around(np.angle(distX+distY*1j, deg=True), 2)\n",
    "        ang[ang < 0] += 360\n",
    "        ang[~mask] = np.nan\n",
    "\n",
    "        visible[x, y] = len(np.unique(ang[mask]))\n",
    "\n",
    "max_visible = np.max(visible)\n",
    "best_location = np.argwhere(visible == max_visible).flatten()\n",
    "print(max_visible, best_location)"
   ]
  },
  {
   "cell_type": "code",
   "execution_count": 4,
   "metadata": {
    "tags": []
   },
   "outputs": [
    {
     "output_type": "stream",
     "name": "stdout",
     "text": [
      "1008\n"
     ]
    }
   ],
   "source": [
    "x, y = tuple(best_location)\n",
    "\n",
    "def new_map(asteroids, x, y):\n",
    "    mask = asteroids.copy()\n",
    "    mask[x, y] = False\n",
    "\n",
    "    X, Y = np.indices(asteroids.shape)\n",
    "    distX = -X + x\n",
    "    distY = Y - y\n",
    "\n",
    "    ang = np.around(np.angle(distX+distY*1j, deg=True), 2)\n",
    "    ang[ang < 0] += 360\n",
    "    ang[~mask] = np.nan\n",
    "\n",
    "    abs = np.around(np.abs(distX+distY*1j), 2)\n",
    "    abs[~mask] = np.nan\n",
    "\n",
    "    return ang, abs\n",
    "\n",
    "it = 0\n",
    "lasered = 0\n",
    "found = False\n",
    "\n",
    "while not found:\n",
    "    ang, abs = new_map(asteroids, x, y)\n",
    "\n",
    "    smallest_angle = -1\n",
    "    while not found:\n",
    "        smallest_angle   = np.nanmin(ang[ang > smallest_angle])\n",
    "        astroids_on_line = np.where(ang == smallest_angle)\n",
    "        nearest_on_line  = np.argmin(abs[astroids_on_line])\n",
    "        nearest_x        = astroids_on_line[0][nearest_on_line]\n",
    "        nearest_y        = astroids_on_line[1][nearest_on_line]\n",
    "\n",
    "        asteroids[nearest_x, nearest_y] = False\n",
    "        lasered += 1\n",
    "\n",
    "        if lasered == 200:\n",
    "            print(nearest_x + 100 * nearest_y)\n",
    "            found = True\n",
    "            break\n",
    "\n",
    "        if np.all(ang[asteroids] <= smallest_angle):\n",
    "            break\n",
    "    if np.count_nonzero(asteroids) <= 1:\n",
    "        break"
   ]
  }
 ]
}