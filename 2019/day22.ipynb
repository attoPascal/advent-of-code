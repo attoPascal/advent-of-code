{
 "cells": [
  {
   "cell_type": "code",
   "execution_count": 1,
   "metadata": {},
   "outputs": [],
   "source": [
    "import aocd\n",
    "from functools import cache, partial\n",
    "from egcd import egcd"
   ]
  },
  {
   "cell_type": "code",
   "execution_count": 2,
   "metadata": {},
   "outputs": [],
   "source": [
    "def deal_new(stack):\n",
    "    return list(reversed(stack))\n",
    "\n",
    "def cut(stack, n):\n",
    "    return stack[n:] + stack[:n]\n",
    "\n",
    "def deal_increment2(stack, n):\n",
    "    num_cards = len(stack)\n",
    "    new_stack = [0] * num_cards\n",
    "    for i, card in enumerate(stack):\n",
    "        new_stack[i*n % num_cards] = card\n",
    "    return new_stack\n",
    "\n",
    "def deal_increment(stack, n):\n",
    "    o = offset(n, len(stack))\n",
    "    return [stack[i*o % len(stack)] for i in range(len(stack))]\n",
    "\n",
    "@cache\n",
    "def offset(n, len_stack):\n",
    "    return egcd(len_stack, n)[-1]"
   ]
  },
  {
   "cell_type": "code",
   "execution_count": 3,
   "metadata": {},
   "outputs": [
    {
     "name": "stdout",
     "output_type": "stream",
     "text": [
      "4284\n"
     ]
    }
   ],
   "source": [
    "lines = aocd.get_data(day=22, year=2019).splitlines()\n",
    "stack = list(range(10007))\n",
    "\n",
    "for line in lines:\n",
    "    match line.split():\n",
    "        case 'deal', 'with', 'increment', n:\n",
    "            stack = deal_increment(stack, int(n))\n",
    "        case 'cut', n:\n",
    "            stack = cut(stack, int(n))\n",
    "        case 'deal', 'into', 'new', 'stack':\n",
    "            stack = deal_new(stack)\n",
    "\n",
    "print(stack.index(2019))"
   ]
  },
  {
   "cell_type": "code",
   "execution_count": 4,
   "metadata": {},
   "outputs": [],
   "source": [
    "def position_before_deal_new(position: int, len_stack: int) -> int:\n",
    "    return len_stack-1 - position\n",
    "\n",
    "def position_before_cut(position: int, n: int, len_stack: int) -> int:\n",
    "    return (position + n) % len_stack\n",
    "\n",
    "def position_before_deal_increment(position: int, n: int, len_stack: int) -> int:\n",
    "    return position * offset(n, len_stack) % len_stack"
   ]
  },
  {
   "cell_type": "code",
   "execution_count": 5,
   "metadata": {},
   "outputs": [],
   "source": [
    "functions = []\n",
    "len_stack = 10007\n",
    "for line in reversed(lines):\n",
    "    match line.split():\n",
    "        case 'deal', 'with', 'increment', n:\n",
    "            functions.append(partial(position_before_deal_increment, n=int(n), len_stack=len_stack))\n",
    "        case 'cut', n:\n",
    "            functions.append(partial(position_before_cut, n=int(n), len_stack=len_stack))\n",
    "        case 'deal', 'into', 'new', 'stack':\n",
    "            functions.append(partial(position_before_deal_new, len_stack=len_stack))"
   ]
  },
  {
   "cell_type": "code",
   "execution_count": 6,
   "metadata": {},
   "outputs": [
    {
     "data": {
      "text/plain": [
       "2019"
      ]
     },
     "execution_count": 6,
     "metadata": {},
     "output_type": "execute_result"
    }
   ],
   "source": [
    "pos = 4284\n",
    "for f in functions:\n",
    "    pos = f(pos)\n",
    "pos"
   ]
  }
 ],
 "metadata": {
  "kernelspec": {
   "display_name": "Python 3",
   "language": "python",
   "name": "python3"
  },
  "language_info": {
   "codemirror_mode": {
    "name": "ipython",
    "version": 3
   },
   "file_extension": ".py",
   "mimetype": "text/x-python",
   "name": "python",
   "nbconvert_exporter": "python",
   "pygments_lexer": "ipython3",
   "version": "3.11.0 (main, Nov 15 2022, 05:43:36) [Clang 14.0.0 (clang-1400.0.29.202)]"
  },
  "orig_nbformat": 4,
  "vscode": {
   "interpreter": {
    "hash": "1a1af0ee75eeea9e2e1ee996c87e7a2b11a0bebd85af04bb136d915cefc0abce"
   }
  }
 },
 "nbformat": 4,
 "nbformat_minor": 2
}
