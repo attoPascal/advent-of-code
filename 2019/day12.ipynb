{
 "metadata": {
  "language_info": {
   "codemirror_mode": {
    "name": "ipython",
    "version": 3
   },
   "file_extension": ".py",
   "mimetype": "text/x-python",
   "name": "python",
   "nbconvert_exporter": "python",
   "pygments_lexer": "ipython3",
   "version": "3.9.0-final"
  },
  "orig_nbformat": 2,
  "kernelspec": {
   "name": "python3",
   "display_name": "Python 3",
   "language": "python"
  }
 },
 "nbformat": 4,
 "nbformat_minor": 2,
 "cells": [
  {
   "cell_type": "code",
   "execution_count": 1,
   "metadata": {},
   "outputs": [],
   "source": [
    "import numpy as np\n",
    "from itertools import count"
   ]
  },
  {
   "cell_type": "code",
   "execution_count": 2,
   "metadata": {},
   "outputs": [],
   "source": [
    "positions = np.array([\n",
    "    [-15, 1, 4],\n",
    "    [1, -10, -8],\n",
    "    [-5, 4, 9],\n",
    "    [4, 6, -2]\n",
    "])\n",
    "\n",
    "# positions = np.array([\n",
    "#     [-1, 0, 2],\n",
    "#     [2, -10, -7],\n",
    "#     [4, -8, 8],\n",
    "#     [3, 5, -1]\n",
    "# ])\n",
    "\n",
    "initial_positions = positions.copy()\n",
    "velocities = np.zeros_like(positions)"
   ]
  },
  {
   "cell_type": "code",
   "execution_count": 3,
   "metadata": {},
   "outputs": [
    {
     "output_type": "stream",
     "name": "stdout",
     "text": [
      "193052\n"
     ]
    },
    {
     "output_type": "display_data",
     "data": {
      "text/plain": "array([[-165,   33,    4],\n       [ 433,   29,   -8],\n       [-169,  -59,    9],\n       [-114,   -2,   -2]])"
     },
     "metadata": {}
    },
    {
     "output_type": "display_data",
     "data": {
      "text/plain": "array([[-47,  14,   0],\n       [ 44,  -4,   0],\n       [-29,  -6,   0],\n       [ 32,  -4,   0]])"
     },
     "metadata": {}
    }
   ],
   "source": [
    "for it in count(1):\n",
    "    gravities = np.sum(np.sign(positions[:, None] - positions), axis=0)\n",
    "    velocities += gravities\n",
    "    positions += velocities\n",
    "\n",
    "    #print(np.sum(gravities, axis=1))\n",
    "\n",
    "    if not np.any(velocities[:, 2]) and np.array_equal(positions[:, 2], initial_positions[:, 2]):\n",
    "        print(it)\n",
    "        break\n",
    "\n",
    "    if not it % 1000_000:\n",
    "        print(it)\n",
    "display(positions, velocities)"
   ]
  },
  {
   "cell_type": "code",
   "execution_count": 4,
   "metadata": {},
   "outputs": [
    {
     "output_type": "execute_result",
     "data": {
      "text/plain": [
       "47425"
      ]
     },
     "metadata": {},
     "execution_count": 4
    }
   ],
   "source": [
    "np.sum(np.sum(np.abs(positions), axis=1) * np.sum(np.abs(velocities), axis=1))"
   ]
  },
  {
   "cell_type": "code",
   "execution_count": 6,
   "metadata": {},
   "outputs": [
    {
     "output_type": "execute_result",
     "data": {
      "text/plain": [
       "332477126821644"
      ]
     },
     "metadata": {},
     "execution_count": 6
    }
   ],
   "source": [
    "np.lcm.reduce([286332, 96236, 193052])"
   ]
  },
  {
   "cell_type": "code",
   "execution_count": null,
   "metadata": {},
   "outputs": [],
   "source": []
  }
 ]
}