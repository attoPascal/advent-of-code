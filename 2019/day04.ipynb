{
 "metadata": {
  "language_info": {
   "codemirror_mode": {
    "name": "ipython",
    "version": 3
   },
   "file_extension": ".py",
   "mimetype": "text/x-python",
   "name": "python",
   "nbconvert_exporter": "python",
   "pygments_lexer": "ipython3",
   "version": "3.8.6-final"
  },
  "orig_nbformat": 2,
  "kernelspec": {
   "name": "python37764bitc2b96a9319f84cb89abb6df1460b5c0b",
   "display_name": "Python 3.7.7 64-bit"
  }
 },
 "nbformat": 4,
 "nbformat_minor": 2,
 "cells": [
  {
   "cell_type": "code",
   "execution_count": 1,
   "metadata": {},
   "outputs": [],
   "source": [
    "import re"
   ]
  },
  {
   "cell_type": "code",
   "execution_count": 2,
   "metadata": {},
   "outputs": [],
   "source": [
    "lower = 178416\n",
    "upper = 676461+1\n",
    "\n",
    "def increasing(num):\n",
    "    digits = [int(n) for n in str(num)]\n",
    "    prev = 0\n",
    "    for d in digits:\n",
    "        if d < prev:\n",
    "            return False\n",
    "        prev = d\n",
    "    return True\n",
    "\n",
    "def double_digits(num):\n",
    "    return re.match(r'\\d*(\\d)\\1\\d*', str(num)) is not None"
   ]
  },
  {
   "cell_type": "code",
   "execution_count": 3,
   "metadata": {},
   "outputs": [
    {
     "output_type": "execute_result",
     "data": {
      "text/plain": [
       "1650"
      ]
     },
     "metadata": {},
     "execution_count": 3
    }
   ],
   "source": [
    "sum(1 for num in range(lower, upper) if increasing(num) and double_digits(num))"
   ]
  },
  {
   "cell_type": "code",
   "execution_count": 4,
   "metadata": {},
   "outputs": [],
   "source": [
    "def exactly_double_digits(num):\n",
    "    s = str(num)\n",
    "    doubles = re.findall(r'(\\d)\\1', s)\n",
    "    return any(3*d not in s for d in doubles)"
   ]
  },
  {
   "cell_type": "code",
   "execution_count": 5,
   "metadata": {},
   "outputs": [
    {
     "output_type": "execute_result",
     "data": {
      "text/plain": [
       "1129"
      ]
     },
     "metadata": {},
     "execution_count": 5
    }
   ],
   "source": [
    "sum(1 for num in range(lower, upper) if increasing(num) and exactly_double_digits(num))"
   ]
  },
  {
   "cell_type": "code",
   "execution_count": null,
   "metadata": {},
   "outputs": [],
   "source": []
  }
 ]
}