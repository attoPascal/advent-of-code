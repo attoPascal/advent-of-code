{
 "cells": [
  {
   "cell_type": "code",
   "execution_count": 1,
   "metadata": {},
   "outputs": [],
   "source": [
    "import aocd\n",
    "from intcode import Intcode\n",
    "from collections import deque"
   ]
  },
  {
   "cell_type": "code",
   "execution_count": 2,
   "metadata": {},
   "outputs": [],
   "source": [
    "instructions = [int(n) for n in aocd.get_data(day=21, year=2019).split(',')]"
   ]
  },
  {
   "cell_type": "code",
   "execution_count": 3,
   "metadata": {},
   "outputs": [],
   "source": [
    "springscript = \"\"\"\\\n",
    "OR D J\n",
    "OR J T\n",
    "AND A T\n",
    "AND B T\n",
    "AND C T\n",
    "AND D T\n",
    "NOT T T\n",
    "AND T J \n",
    "WALK\n",
    "\"\"\""
   ]
  },
  {
   "cell_type": "code",
   "execution_count": 4,
   "metadata": {},
   "outputs": [
    {
     "name": "stdout",
     "output_type": "stream",
     "text": [
      "19357180\n"
     ]
    }
   ],
   "source": [
    "inp = deque(ord(c) for c in springscript)\n",
    "out = deque()\n",
    "Intcode(instructions, inp, out).run()\n",
    "\n",
    "try:\n",
    "    print(''.join(chr(n) for n in out))\n",
    "except:\n",
    "    print(out[-1])"
   ]
  },
  {
   "cell_type": "code",
   "execution_count": 5,
   "metadata": {},
   "outputs": [],
   "source": [
    "springscript = \"\"\"\\\n",
    "OR D J\n",
    "OR J T\n",
    "AND A T\n",
    "AND B T\n",
    "AND C T\n",
    "AND D T\n",
    "NOT T T\n",
    "AND T J\n",
    "NOT T T\n",
    "OR E T\n",
    "OR H T\n",
    "AND T J\n",
    "RUN\n",
    "\"\"\""
   ]
  },
  {
   "cell_type": "code",
   "execution_count": 6,
   "metadata": {},
   "outputs": [
    {
     "name": "stdout",
     "output_type": "stream",
     "text": [
      "1139793906\n"
     ]
    }
   ],
   "source": [
    "inp = deque(ord(c) for c in springscript)\n",
    "out = deque()\n",
    "Intcode(instructions, inp, out).run()\n",
    "\n",
    "try:\n",
    "    print(''.join(chr(n) for n in out))\n",
    "except:\n",
    "    print(out[-1])"
   ]
  }
 ],
 "metadata": {
  "kernelspec": {
   "display_name": "Python 3",
   "language": "python",
   "name": "python3"
  },
  "language_info": {
   "codemirror_mode": {
    "name": "ipython",
    "version": 3
   },
   "file_extension": ".py",
   "mimetype": "text/x-python",
   "name": "python",
   "nbconvert_exporter": "python",
   "pygments_lexer": "ipython3",
   "version": "3.11.0"
  },
  "orig_nbformat": 4,
  "vscode": {
   "interpreter": {
    "hash": "1a1af0ee75eeea9e2e1ee996c87e7a2b11a0bebd85af04bb136d915cefc0abce"
   }
  }
 },
 "nbformat": 4,
 "nbformat_minor": 2
}
