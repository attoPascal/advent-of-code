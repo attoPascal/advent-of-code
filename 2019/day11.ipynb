{
 "cells": [
  {
   "cell_type": "code",
   "execution_count": 1,
   "metadata": {},
   "outputs": [],
   "source": [
    "from intcode import Intcode\n",
    "from collections import deque, defaultdict\n",
    "\n",
    "import numpy as np\n",
    "import matplotlib.pyplot as plt"
   ]
  },
  {
   "cell_type": "code",
   "execution_count": 2,
   "metadata": {},
   "outputs": [],
   "source": [
    "class Robot():\n",
    "    def __init__(self, instructions, panels, input, output):\n",
    "        self.position = 0\n",
    "        self.facing = 1j\n",
    "        self.input = input\n",
    "        self.output = output\n",
    "        self.controller = Intcode(instructions, input, output)\n",
    "        self.panels = panels\n",
    "    \n",
    "    def turn(self, dir):\n",
    "        if dir == 0:\n",
    "            self.facing *= 1j\n",
    "        else:\n",
    "            self.facing /= 1j\n",
    "    \n",
    "    def forward(self):\n",
    "        self.position += self.facing\n",
    "    \n",
    "    def read(self):\n",
    "        self.input.appendleft(self.panels[self.position])\n",
    "    \n",
    "    def paint(self, color):\n",
    "        self.panels[self.position] = color\n",
    "    \n",
    "    def step(self):\n",
    "        self.read()\n",
    "        while len(self.output) < 2:\n",
    "            self.controller.fetch_exec()\n",
    "            if self.controller.halted:\n",
    "                return False\n",
    "\n",
    "        color = self.output.popleft()\n",
    "        self.paint(color)\n",
    "\n",
    "        dir = self.output.popleft()\n",
    "        self.turn(dir)\n",
    "        self.forward()\n",
    "        return True\n",
    "    \n",
    "    def run(self):\n",
    "        running = True\n",
    "        while running:\n",
    "            running = self.step()\n"
   ]
  },
  {
   "cell_type": "code",
   "execution_count": 3,
   "metadata": {},
   "outputs": [],
   "source": [
    "with open('input11.txt') as f:\n",
    "    instructions = [int(n) for n in f.read().split(',')]"
   ]
  },
  {
   "cell_type": "code",
   "execution_count": 4,
   "metadata": {},
   "outputs": [
    {
     "name": "stdout",
     "output_type": "stream",
     "text": [
      "2441\n"
     ]
    }
   ],
   "source": [
    "panels = defaultdict(int)\n",
    "\n",
    "Robot(instructions, panels, input=deque(), output=deque()).run()\n",
    "\n",
    "print(len(panels))"
   ]
  },
  {
   "cell_type": "code",
   "execution_count": 5,
   "metadata": {},
   "outputs": [
    {
     "data": {
      "text/plain": [
       "<matplotlib.image.AxesImage at 0x115f9ff10>"
      ]
     },
     "execution_count": 5,
     "metadata": {},
     "output_type": "execute_result"
    },
    {
     "data": {
      "image/png": "[encoded data removed]",
      "text/plain": [
       "<Figure size 432x288 with 1 Axes>"
      ]
     },
     "metadata": {
      "needs_background": "light"
     },
     "output_type": "display_data"
    }
   ],
   "source": [
    "panels = defaultdict(int)\n",
    "panels[0] = 1\n",
    "\n",
    "Robot(instructions, panels, input=deque(), output=deque()).run()\n",
    "\n",
    "im = np.zeros((6, 45))\n",
    "for coords, color in panels.items():\n",
    "    y = int(coords.real)\n",
    "    x = -int(coords.imag)\n",
    "    im[x, y] = color\n",
    "\n",
    "plt.imshow(im)"
   ]
  }
 ],
 "metadata": {
  "kernelspec": {
   "display_name": "Python 3",
   "language": "python",
   "name": "python3"
  },
  "language_info": {
   "codemirror_mode": {
    "name": "ipython",
    "version": 3
   },
   "file_extension": ".py",
   "mimetype": "text/x-python",
   "name": "python",
   "nbconvert_exporter": "python",
   "pygments_lexer": "ipython3",
   "version": "3.10.8"
  },
  "orig_nbformat": 2,
  "vscode": {
   "interpreter": {
    "hash": "aee8b7b246df8f9039afb4144a1f6fd8d2ca17a180786b69acc140d282b71a49"
   }
  }
 },
 "nbformat": 4,
 "nbformat_minor": 2
}
