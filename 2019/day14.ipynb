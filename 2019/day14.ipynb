{
 "metadata": {
  "language_info": {
   "codemirror_mode": {
    "name": "ipython",
    "version": 3
   },
   "file_extension": ".py",
   "mimetype": "text/x-python",
   "name": "python",
   "nbconvert_exporter": "python",
   "pygments_lexer": "ipython3",
   "version": "3.9.0-final"
  },
  "orig_nbformat": 2,
  "kernelspec": {
   "name": "python3",
   "display_name": "Python 3",
   "language": "python"
  }
 },
 "nbformat": 4,
 "nbformat_minor": 2,
 "cells": [
  {
   "cell_type": "code",
   "execution_count": 1,
   "metadata": {},
   "outputs": [],
   "source": [
    "with open('input14.txt') as f:\n",
    "    lines = f.read().splitlines()\n",
    "\n",
    "lines = \"\"\"\\\n",
    "157 ORE => 5 NZVS\n",
    "165 ORE => 6 DCFZ\n",
    "44 XJWVT, 5 KHKGT, 1 QDVJ, 29 NZVS, 9 GPVTF, 48 HKGWZ => 1 FUEL\n",
    "12 HKGWZ, 1 GPVTF, 8 PSHF => 9 QDVJ\n",
    "179 ORE => 7 PSHF\n",
    "177 ORE => 5 HKGWZ\n",
    "7 DCFZ, 7 PSHF => 2 XJWVT\n",
    "165 ORE => 2 GPVTF\n",
    "3 DCFZ, 7 NZVS, 5 HKGWZ, 10 PSHF => 8 KHKGT\"\"\".splitlines()"
   ]
  },
  {
   "cell_type": "code",
   "execution_count": 2,
   "metadata": {},
   "outputs": [],
   "source": [
    "all_ingredients = set()\n",
    "\n",
    "def parse(line):\n",
    "    left, right = line.split(' => ')\n",
    "    amount, result = right.split()\n",
    "    ingredients = [l.split() for l in left.split(', ')]\n",
    "    ingredients = [(int(a), i) for a, i in ingredients]\n",
    "    all_ingredients.update([i for _, i in ingredients])\n",
    "    return result, (int(amount), ingredients)"
   ]
  },
  {
   "cell_type": "code",
   "execution_count": 3,
   "metadata": {},
   "outputs": [],
   "source": [
    "reactions = dict(parse(line) for line in lines)"
   ]
  },
  {
   "cell_type": "code",
   "execution_count": 4,
   "metadata": {
    "tags": []
   },
   "outputs": [
    {
     "output_type": "execute_result",
     "data": {
      "text/plain": [
       "13312"
      ]
     },
     "metadata": {},
     "execution_count": 4
    }
   ],
   "source": [
    "needed = ['FUEL']\n",
    "excess = []\n",
    "ore = 0\n",
    "\n",
    "while len(needed) > 0:\n",
    "    output = needed.pop()\n",
    "    if output == 'ORE':\n",
    "        ore += 1\n",
    "    elif output in excess:\n",
    "        excess.remove(output)\n",
    "    else:\n",
    "        out_amount, inputs = reactions[output]\n",
    "        excess += [output] * (out_amount - 1)\n",
    "        for amount, input in inputs:\n",
    "            needed += [input] * amount\n",
    "\n",
    "ore"
   ]
  },
  {
   "cell_type": "code",
   "execution_count": 5,
   "metadata": {},
   "outputs": [
    {
     "output_type": "execute_result",
     "data": {
      "text/plain": [
       "{'GPVTF', 'HKGWZ', 'ORE', 'XJWVT'}"
      ]
     },
     "metadata": {},
     "execution_count": 5
    }
   ],
   "source": [
    "all_ingredients - set(excess)"
   ]
  },
  {
   "cell_type": "code",
   "execution_count": 6,
   "metadata": {},
   "outputs": [
    {
     "output_type": "execute_result",
     "data": {
      "text/plain": [
       "{'DCFZ', 'GPVTF', 'HKGWZ', 'KHKGT', 'NZVS', 'ORE', 'PSHF', 'QDVJ', 'XJWVT'}"
      ]
     },
     "metadata": {},
     "execution_count": 6
    }
   ],
   "source": [
    "all_ingredients"
   ]
  },
  {
   "cell_type": "code",
   "execution_count": null,
   "metadata": {},
   "outputs": [],
   "source": []
  }
 ]
}