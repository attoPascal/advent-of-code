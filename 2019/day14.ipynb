{
 "cells": [
  {
   "cell_type": "code",
   "execution_count": 1,
   "metadata": {},
   "outputs": [],
   "source": [
    "import math\n",
    "from collections import defaultdict"
   ]
  },
  {
   "cell_type": "code",
   "execution_count": 2,
   "metadata": {},
   "outputs": [],
   "source": [
    "with open('input14.txt') as f:\n",
    "    lines = f.read().splitlines()\n",
    "\n",
    "# lines = \"\"\"\\\n",
    "# 157 ORE => 5 NZVS\n",
    "# 165 ORE => 6 DCFZ\n",
    "# 44 XJWVT, 5 KHKGT, 1 QDVJ, 29 NZVS, 9 GPVTF, 48 HKGWZ => 1 FUEL\n",
    "# 12 HKGWZ, 1 GPVTF, 8 PSHF => 9 QDVJ\n",
    "# 179 ORE => 7 PSHF\n",
    "# 177 ORE => 5 HKGWZ\n",
    "# 7 DCFZ, 7 PSHF => 2 XJWVT\n",
    "# 165 ORE => 2 GPVTF\n",
    "# 3 DCFZ, 7 NZVS, 5 HKGWZ, 10 PSHF => 8 KHKGT\"\"\".splitlines()"
   ]
  },
  {
   "cell_type": "code",
   "execution_count": 3,
   "metadata": {},
   "outputs": [],
   "source": [
    "all_ingredients = set()\n",
    "\n",
    "def parse(line):\n",
    "    left, right = line.split(' => ')\n",
    "    amount, result = right.split()\n",
    "    ingredients = [l.split() for l in left.split(', ')]\n",
    "    ingredients = [(int(a), i) for a, i in ingredients]\n",
    "    all_ingredients.update([i for _, i in ingredients])\n",
    "    return result, (int(amount), ingredients)"
   ]
  },
  {
   "cell_type": "code",
   "execution_count": 4,
   "metadata": {},
   "outputs": [],
   "source": [
    "reactions = dict(parse(line) for line in lines)"
   ]
  },
  {
   "cell_type": "code",
   "execution_count": 5,
   "metadata": {
    "tags": []
   },
   "outputs": [
    {
     "data": {
      "text/plain": [
       "741927"
      ]
     },
     "execution_count": 5,
     "metadata": {},
     "output_type": "execute_result"
    }
   ],
   "source": [
    "needed = ['FUEL']\n",
    "excess = []\n",
    "ore = 0\n",
    "\n",
    "while len(needed) > 0:\n",
    "    output = needed.pop()\n",
    "    if output == 'ORE':\n",
    "        ore += 1\n",
    "    elif output in excess:\n",
    "        excess.remove(output)\n",
    "    else:\n",
    "        out_amount, inputs = reactions[output]\n",
    "        excess += [output] * (out_amount - 1)\n",
    "        for amount, input in inputs:\n",
    "            needed += [input] * amount\n",
    "\n",
    "ore"
   ]
  },
  {
   "cell_type": "code",
   "execution_count": 6,
   "metadata": {},
   "outputs": [],
   "source": [
    "def require(chemical, required_amount):\n",
    "    if chemical == 'ORE' and cargo_hold['ORE'] < required_amount:\n",
    "        raise RuntimeError(\"No more ore\")\n",
    "    else:\n",
    "        current_amount = cargo_hold[chemical]\n",
    "        if required_amount > current_amount:\n",
    "            produce(chemical, required_amount-current_amount)\n",
    "        cargo_hold[chemical] -= required_amount\n",
    "\n",
    "def produce(chemical, min_amount):\n",
    "    out_amount, inputs = reactions[chemical]\n",
    "    multiplier = math.ceil(min_amount / out_amount)\n",
    "    for input_amount, input_chemical in inputs:\n",
    "        require(input_chemical, multiplier*input_amount)\n",
    "    cargo_hold[chemical] += multiplier * out_amount\n",
    "    "
   ]
  },
  {
   "cell_type": "code",
   "execution_count": 46,
   "metadata": {},
   "outputs": [
    {
     "name": "stdout",
     "output_type": "stream",
     "text": [
      "No more ore\n"
     ]
    }
   ],
   "source": [
    "cargo_hold = defaultdict(int)\n",
    "cargo_hold['ORE'] = 1000_000_000_000\n",
    "\n",
    "produce('FUEL', 2371699)\n",
    "\n",
    "try:\n",
    "    produce('FUEL', 1)\n",
    "except RuntimeError as e:\n",
    "    print(e)"
   ]
  }
 ],
 "metadata": {
  "interpreter": {
   "hash": "aee8b7b246df8f9039afb4144a1f6fd8d2ca17a180786b69acc140d282b71a49"
  },
  "kernelspec": {
   "display_name": "Python 3.9.6 64-bit",
   "name": "python3"
  },
  "language_info": {
   "codemirror_mode": {
    "name": "ipython",
    "version": 3
   },
   "file_extension": ".py",
   "mimetype": "text/x-python",
   "name": "python",
   "nbconvert_exporter": "python",
   "pygments_lexer": "ipython3",
   "version": "3.9.7"
  },
  "orig_nbformat": 2
 },
 "nbformat": 4,
 "nbformat_minor": 2
}
