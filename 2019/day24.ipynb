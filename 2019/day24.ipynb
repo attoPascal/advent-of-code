{
 "metadata": {
  "language_info": {
   "codemirror_mode": {
    "name": "ipython",
    "version": 3
   },
   "file_extension": ".py",
   "mimetype": "text/x-python",
   "name": "python",
   "nbconvert_exporter": "python",
   "pygments_lexer": "ipython3",
   "version": "3.9.0-final"
  },
  "orig_nbformat": 2,
  "kernelspec": {
   "name": "python3",
   "display_name": "Python 3",
   "language": "python"
  }
 },
 "nbformat": 4,
 "nbformat_minor": 2,
 "cells": [
  {
   "cell_type": "code",
   "execution_count": 1,
   "metadata": {},
   "outputs": [],
   "source": [
    "import numpy as np\n",
    "from scipy.signal import convolve2d"
   ]
  },
  {
   "cell_type": "code",
   "execution_count": 2,
   "metadata": {},
   "outputs": [
    {
     "output_type": "execute_result",
     "data": {
      "text/plain": [
       "array([[ True,  True, False, False, False],\n",
       "       [ True, False,  True,  True,  True],\n",
       "       [False,  True, False,  True, False],\n",
       "       [ True, False, False, False, False],\n",
       "       [False, False,  True,  True,  True]])"
      ]
     },
     "metadata": {},
     "execution_count": 2
    }
   ],
   "source": [
    "lines = \"##...\\n#.###\\n.#.#.\\n#....\\n..###\".splitlines()\n",
    "tiles = np.array([[c == '#' for c in line] for line in lines])\n",
    "tiles"
   ]
  },
  {
   "cell_type": "code",
   "execution_count": 3,
   "metadata": {},
   "outputs": [],
   "source": [
    "mask = np.array([[0, 1, 0], [1, 0, 1], [0, 1, 0]])\n",
    "def step2():\n",
    "    neighbors = convolve2d(tiles, mask, mode='same')\n",
    "    not_dead = np.logical_and(tiles, neighbors == 1)\n",
    "    new_bug = np.logical_and(~tiles, np.logical_or(neighbors == 1, neighbors == 2))\n",
    "    tiles[:] = np.logical_or(not_dead, new_bug)"
   ]
  },
  {
   "cell_type": "code",
   "execution_count": 4,
   "metadata": {},
   "outputs": [],
   "source": [
    "diversity = set()\n",
    "powers = np.array([2**(n) for n in range(25)])\n",
    "def biodiversity(tiles):\n",
    "    return np.dot(tiles.ravel(), powers)"
   ]
  },
  {
   "cell_type": "code",
   "execution_count": 5,
   "metadata": {},
   "outputs": [
    {
     "output_type": "stream",
     "name": "stdout",
     "text": [
      "18350099\n"
     ]
    }
   ],
   "source": [
    " while True:\n",
    "    step2()\n",
    "    bd = biodiversity(tiles)\n",
    "    if bd in diversity:\n",
    "        print(bd)\n",
    "        break\n",
    "    diversity.add(bd)"
   ]
  },
  {
   "cell_type": "code",
   "execution_count": null,
   "metadata": {},
   "outputs": [],
   "source": []
  },
  {
   "cell_type": "code",
   "execution_count": null,
   "metadata": {},
   "outputs": [],
   "source": []
  }
 ]
}