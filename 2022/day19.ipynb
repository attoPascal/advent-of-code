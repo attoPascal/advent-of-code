{
 "cells": [
  {
   "cell_type": "code",
   "execution_count": 1,
   "metadata": {},
   "outputs": [],
   "source": [
    "from dataclasses import dataclass, replace\n",
    "from math import prod\n",
    "from parse import parse\n",
    "import aocd"
   ]
  },
  {
   "cell_type": "code",
   "execution_count": 2,
   "metadata": {},
   "outputs": [],
   "source": [
    "@dataclass(frozen=True)\n",
    "class Blueprint:\n",
    "    id: int\n",
    "    ore_for_ore: int\n",
    "    ore_for_clay: int\n",
    "    ore_for_obsidian: int\n",
    "    clay_for_obsidian: int\n",
    "    ore_for_geode: int\n",
    "    obsidian_for_geode: int\n",
    "\n",
    "@dataclass(unsafe_hash=True)\n",
    "class RobotFactory:\n",
    "    blueprint: Blueprint\n",
    "    time_left: int\n",
    "    ore: int\n",
    "    clay: int\n",
    "    obsidian: int\n",
    "    geodes: int\n",
    "    ore_robots: int\n",
    "    clay_robots: int\n",
    "    obsidian_robots: int\n",
    "    geode_robots: int\n",
    "    building_ore_robot: bool\n",
    "    building_clay_robot: bool\n",
    "    building_obsidian_robot: bool\n",
    "    building_geode_robot: bool\n",
    "\n",
    "    def collect(self):\n",
    "        self.ore += self.ore_robots\n",
    "        self.clay += self.clay_robots\n",
    "        self.obsidian += self.obsidian_robots\n",
    "        self.geodes += self.geode_robots\n",
    "    \n",
    "    def can_build_robot(self, robot_type):\n",
    "        match robot_type:\n",
    "            case 'ore':\n",
    "                return self.ore >= self.blueprint.ore_for_ore\n",
    "            case 'clay':\n",
    "                return self.ore >= self.blueprint.ore_for_clay\n",
    "            case 'obsidian':\n",
    "                return self.ore >= self.blueprint.ore_for_obsidian and self.clay >= self.blueprint.clay_for_obsidian\n",
    "            case 'geode':\n",
    "                return self.ore >= self.blueprint.ore_for_geode and self.obsidian >= self.blueprint.obsidian_for_geode\n",
    "    \n",
    "    def start_building_robot(self, robot_type):\n",
    "        match robot_type:\n",
    "            case 'ore':\n",
    "                self.ore -= self.blueprint.ore_for_ore\n",
    "                self.building_ore_robot = True\n",
    "            case 'clay':\n",
    "                self.ore -= self.blueprint.ore_for_clay\n",
    "                self.building_clay_robot = True\n",
    "            case 'obsidian':\n",
    "                self.ore -= self.blueprint.ore_for_obsidian\n",
    "                self.clay -= self.blueprint.clay_for_obsidian\n",
    "                self.building_obsidian_robot = True\n",
    "            case 'geode':\n",
    "                self.ore -= self.blueprint.ore_for_geode\n",
    "                self.obsidian -= self.blueprint.obsidian_for_geode\n",
    "                self.building_geode_robot = True\n",
    "    \n",
    "    def finish_building_robots(self):\n",
    "        if self.building_ore_robot:\n",
    "            self.ore_robots += 1\n",
    "            self.building_ore_robot = False\n",
    "        if self.building_clay_robot:\n",
    "            self.clay_robots += 1\n",
    "            self.building_clay_robot = False\n",
    "        if self.building_obsidian_robot:\n",
    "            self.obsidian_robots += 1\n",
    "            self.building_obsidian_robot = False\n",
    "        if self.building_geode_robot:\n",
    "            self.geode_robots += 1\n",
    "            self.building_geode_robot = False"
   ]
  },
  {
   "cell_type": "code",
   "execution_count": 3,
   "metadata": {},
   "outputs": [],
   "source": [
    "def parse_blueprint(line):\n",
    "    assert (m := parse('Blueprint {id:d}: Each ore robot costs {ore_for_ore:d} ore. Each clay robot costs {ore_for_clay:d} ore. Each obsidian robot costs {ore_for_obsidian:d} ore and {clay_for_obsidian:d} clay. Each geode robot costs {ore_for_geode:d} ore and {obsidian_for_geode:d} obsidian.', line))\n",
    "    return Blueprint(**m.named)"
   ]
  },
  {
   "cell_type": "code",
   "execution_count": 4,
   "metadata": {},
   "outputs": [],
   "source": [
    "def time_step(factory_set: set[RobotFactory]):\n",
    "    factory_list = list(factory_set)\n",
    "    new_factories = []\n",
    "    for factory in factory_list:\n",
    "        for robot_type in ['ore', 'clay', 'obsidian', 'geode']:\n",
    "            if factory.can_build_robot(robot_type):\n",
    "                new_factory = replace(factory)\n",
    "                new_factory.start_building_robot(robot_type)\n",
    "                new_factories.append(new_factory)\n",
    "    factory_list.extend(new_factories)\n",
    "\n",
    "    for factory in factory_list:\n",
    "        factory.collect()\n",
    "        factory.finish_building_robots()\n",
    "        factory.time_left -= 1\n",
    "    \n",
    "    return factory_list"
   ]
  },
  {
   "cell_type": "code",
   "execution_count": 5,
   "metadata": {},
   "outputs": [],
   "source": [
    "lines = aocd.get_data(day=19, year=2022).splitlines()\n",
    "blueprints = [parse_blueprint(line) for line in lines]"
   ]
  },
  {
   "cell_type": "code",
   "execution_count": 6,
   "metadata": {},
   "outputs": [
    {
     "name": "stdout",
     "output_type": "stream",
     "text": [
      "1\t2\n",
      "2\t1\n",
      "3\t0\n",
      "4\t8\n",
      "5\t1\n",
      "6\t11\n",
      "7\t0\n",
      "8\t2\n",
      "9\t0\n",
      "10\t1\n",
      "11\t1\n",
      "12\t7\n",
      "13\t0\n",
      "14\t0\n",
      "15\t0\n",
      "16\t2\n",
      "17\t2\n",
      "18\t7\n",
      "19\t2\n",
      "20\t6\n",
      "21\t5\n",
      "22\t1\n",
      "23\t1\n",
      "24\t1\n",
      "25\t0\n",
      "26\t0\n",
      "27\t0\n",
      "28\t1\n",
      "29\t2\n",
      "30\t5\n",
      "Part 1: 988\n"
     ]
    }
   ],
   "source": [
    "part1_results = []\n",
    "for blueprint in blueprints:\n",
    "    first_factory = RobotFactory(blueprint, 24, 0, 0, 0, 0, 1, 0, 0, 0, False, False, False, False)\n",
    "    factory_set = set([first_factory])\n",
    "\n",
    "    for i in range(24):\n",
    "        factories = time_step(factory_set)\n",
    "        max_geodes = max(f.geodes for f in factories)\n",
    "        max_geode_robots = max(f.geode_robots for f in factories)\n",
    "        factory_set = set(f for f in factories if f.geodes == max_geodes or f.geode_robots == max_geode_robots)\n",
    "    max_geodes = max(f.geodes for f in factory_set)\n",
    "    part1_results.append((blueprint.id, max_geodes))\n",
    "    print(f\"{blueprint.id}\\t{max_geodes}\")\n",
    "\n",
    "print(\"Part 1:\", sum(bpid * geodes for (bpid, geodes) in part1_results))"
   ]
  },
  {
   "cell_type": "code",
   "execution_count": 8,
   "metadata": {},
   "outputs": [
    {
     "name": "stdout",
     "output_type": "stream",
     "text": [
      "1\t30\n",
      "2\t26\n",
      "3\t11\n",
      "Part 2: 8580\n"
     ]
    }
   ],
   "source": [
    "part2_results = []\n",
    "for blueprint in blueprints[:3]:\n",
    "    first_factory = RobotFactory(blueprint, 24, 0, 0, 0, 0, 1, 0, 0, 0, False, False, False, False)\n",
    "    factory_set = set([first_factory])\n",
    "\n",
    "    for i in range(32):\n",
    "        factories = time_step(factory_set)\n",
    "        max_geodes = max(f.geodes for f in factories)\n",
    "        max_geode_robots = max(f.geode_robots for f in factories)\n",
    "        factory_set = set(f for f in factories if f.geodes == max_geodes or f.geode_robots == max_geode_robots)\n",
    "    max_geodes = max(f.geodes for f in factory_set)\n",
    "    part2_results.append(max_geodes)\n",
    "    print(f\"{blueprint.id}\\t{max_geodes}\")\n",
    "\n",
    "print(\"Part 2:\", prod(part2_results))"
   ]
  }
 ],
 "metadata": {
  "kernelspec": {
   "display_name": "Python 3",
   "language": "python",
   "name": "python3"
  },
  "language_info": {
   "codemirror_mode": {
    "name": "ipython",
    "version": 3
   },
   "file_extension": ".py",
   "mimetype": "text/x-python",
   "name": "python",
   "nbconvert_exporter": "python",
   "pygments_lexer": "ipython3",
   "version": "3.11.0"
  },
  "orig_nbformat": 4,
  "vscode": {
   "interpreter": {
    "hash": "1a1af0ee75eeea9e2e1ee996c87e7a2b11a0bebd85af04bb136d915cefc0abce"
   }
  }
 },
 "nbformat": 4,
 "nbformat_minor": 2
}
