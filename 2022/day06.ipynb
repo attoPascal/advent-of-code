{
 "cells": [
  {
   "cell_type": "code",
   "execution_count": 17,
   "metadata": {},
   "outputs": [],
   "source": [
    "from aocd import data"
   ]
  },
  {
   "cell_type": "code",
   "execution_count": 18,
   "metadata": {},
   "outputs": [
    {
     "name": "stdout",
     "output_type": "stream",
     "text": [
      "Part 1: (1920, 'brmd')\n",
      "Part 2: (2334, 'qtpdmfcwglnbjz')\n"
     ]
    }
   ],
   "source": [
    "def find_sequence(data, length):\n",
    "    for pos in range(length, len(data)):\n",
    "        seq = data[pos-length:pos]\n",
    "        if len(set(seq)) == length:\n",
    "            return pos, seq\n",
    "\n",
    "print(\"Part 1:\", find_sequence(data, 4))\n",
    "print(\"Part 2:\", find_sequence(data, 14))\n"
   ]
  }
 ],
 "metadata": {
  "kernelspec": {
   "display_name": "Python 3.10.8 64-bit",
   "language": "python",
   "name": "python3"
  },
  "language_info": {
   "codemirror_mode": {
    "name": "ipython",
    "version": 3
   },
   "file_extension": ".py",
   "mimetype": "text/x-python",
   "name": "python",
   "nbconvert_exporter": "python",
   "pygments_lexer": "ipython3",
   "version": "3.10.8"
  },
  "orig_nbformat": 4,
  "vscode": {
   "interpreter": {
    "hash": "8f9328efe3468e6c370cdfed98702d3986faf748314d5bcec59da615d65baa7a"
   }
  }
 },
 "nbformat": 4,
 "nbformat_minor": 2
}
