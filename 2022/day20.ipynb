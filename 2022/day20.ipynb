{
 "cells": [
  {
   "cell_type": "code",
   "execution_count": 1,
   "metadata": {},
   "outputs": [],
   "source": [
    "import aocd"
   ]
  },
  {
   "cell_type": "code",
   "execution_count": 2,
   "metadata": {},
   "outputs": [],
   "source": [
    "def move_element(l: list, index: int, offset: int):\n",
    "    modulo = len(l) - 1\n",
    "    new_index = (index + offset) % (modulo if offset >= 0 else -modulo)\n",
    "    element = l.pop(index)\n",
    "    l.insert(new_index, element)"
   ]
  },
  {
   "cell_type": "code",
   "execution_count": 3,
   "metadata": {},
   "outputs": [],
   "source": [
    "def circular_index(l, i):\n",
    "    return l[i % len(l)][1]"
   ]
  },
  {
   "cell_type": "code",
   "execution_count": 4,
   "metadata": {},
   "outputs": [
    {
     "name": "stdout",
     "output_type": "stream",
     "text": [
      "Part 1: 8721\n"
     ]
    }
   ],
   "source": [
    "lines = aocd.get_data(day=20, year=2022).splitlines()\n",
    "numbers = list(enumerate(int(n) for n in lines))\n",
    "\n",
    "for initial_position in range(len(numbers)):\n",
    "    pos, num = next((p, n) for (p, n) in numbers if p == initial_position)\n",
    "    current_position = numbers.index((pos, num))\n",
    "    move_element(numbers, current_position, offset=num)\n",
    "\n",
    "zero = numbers.index(next((p, n) for (p, n) in numbers if n == 0))\n",
    "print(\"Part 1:\", sum(circular_index(numbers, zero+offset) for offset in (1000, 2000, 3000)))"
   ]
  },
  {
   "cell_type": "code",
   "execution_count": 5,
   "metadata": {},
   "outputs": [
    {
     "name": "stdout",
     "output_type": "stream",
     "text": [
      "Part 2: 831878881825\n"
     ]
    }
   ],
   "source": [
    "numbers = list(enumerate(int(n) * 811589153 for n in lines))\n",
    "\n",
    "for _ in range(10):\n",
    "    for initial_position in range(len(numbers)):\n",
    "        pos, num = next((p, n) for (p, n) in numbers if p == initial_position)\n",
    "        current_position = numbers.index((pos, num))\n",
    "        move_element(numbers, current_position, offset=num)\n",
    "\n",
    "zero = numbers.index(next((p, n) for (p, n) in numbers if n == 0))\n",
    "print(\"Part 2:\", sum(circular_index(numbers, zero+offset) for offset in (1000, 2000, 3000)))"
   ]
  }
 ],
 "metadata": {
  "kernelspec": {
   "display_name": "Python 3",
   "language": "python",
   "name": "python3"
  },
  "language_info": {
   "codemirror_mode": {
    "name": "ipython",
    "version": 3
   },
   "file_extension": ".py",
   "mimetype": "text/x-python",
   "name": "python",
   "nbconvert_exporter": "python",
   "pygments_lexer": "ipython3",
   "version": "3.11.0"
  },
  "orig_nbformat": 4,
  "vscode": {
   "interpreter": {
    "hash": "1a1af0ee75eeea9e2e1ee996c87e7a2b11a0bebd85af04bb136d915cefc0abce"
   }
  }
 },
 "nbformat": 4,
 "nbformat_minor": 2
}
