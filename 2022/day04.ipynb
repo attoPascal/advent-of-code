{
 "cells": [
  {
   "cell_type": "code",
   "execution_count": 52,
   "metadata": {},
   "outputs": [],
   "source": [
    "import re\n",
    "from aocd import lines"
   ]
  },
  {
   "cell_type": "code",
   "execution_count": 53,
   "metadata": {},
   "outputs": [
    {
     "name": "stdout",
     "output_type": "stream",
     "text": [
      "Part 1: 444\n",
      "Part 2: 801\n"
     ]
    }
   ],
   "source": [
    "def parse_ranges(line):\n",
    "    numbers = re.findall(r'\\d+', line)\n",
    "    l1, l2, r1, r2 = map(int, numbers)\n",
    "    return range(l1, l2+1), range(r1, r2+1)\n",
    "\n",
    "def check_subset(range1, range2):\n",
    "    set1 = {n for n in range1}\n",
    "    set2 = {n for n in range2}\n",
    "    return set1.issubset(set2) or set2.issubset(set1)\n",
    "\n",
    "def check_overlap(range1, range2):\n",
    "    set1 = {n for n in range1}\n",
    "    set2 = {n for n in range2}\n",
    "    return not set1.isdisjoint(set2)\n",
    "\n",
    "range_pairs = [parse_ranges(line) for line in lines]\n",
    "print(\"Part 1:\", sum(check_subset(r1, r2) for r1, r2 in range_pairs))\n",
    "print(\"Part 2:\", sum(check_overlap(r1, r2) for r1, r2 in range_pairs))"
   ]
  }
 ],
 "metadata": {
  "kernelspec": {
   "display_name": "Python 3.9.1 64-bit",
   "language": "python",
   "name": "python3"
  },
  "language_info": {
   "codemirror_mode": {
    "name": "ipython",
    "version": 3
   },
   "file_extension": ".py",
   "mimetype": "text/x-python",
   "name": "python",
   "nbconvert_exporter": "python",
   "pygments_lexer": "ipython3",
   "version": "3.10.8"
  },
  "orig_nbformat": 4,
  "vscode": {
   "interpreter": {
    "hash": "aee8b7b246df8f9039afb4144a1f6fd8d2ca17a180786b69acc140d282b71a49"
   }
  }
 },
 "nbformat": 4,
 "nbformat_minor": 2
}
