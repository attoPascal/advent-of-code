{
 "cells": [
  {
   "cell_type": "code",
   "execution_count": 204,
   "metadata": {},
   "outputs": [],
   "source": [
    "import re\n",
    "from copy import deepcopy\n",
    "from aocd import lines"
   ]
  },
  {
   "cell_type": "code",
   "execution_count": 205,
   "metadata": {},
   "outputs": [
    {
     "data": {
      "text/plain": [
       "['[S]                 [T] [Q]        ',\n",
       " '[L]             [B] [M] [P]     [T]',\n",
       " '[F]     [S]     [Z] [N] [S]     [R]',\n",
       " '[Z] [R] [N]     [R] [D] [F]     [V]',\n",
       " '[D] [Z] [H] [J] [W] [G] [W]     [G]',\n",
       " '[B] [M] [C] [F] [H] [Z] [N] [R] [L]',\n",
       " '[R] [B] [L] [C] [G] [J] [L] [Z] [C]',\n",
       " '[H] [T] [Z] [S] [P] [V] [G] [M] [M]',\n",
       " ' 1   2   3   4   5   6   7   8   9 ']"
      ]
     },
     "execution_count": 205,
     "metadata": {},
     "output_type": "execute_result"
    }
   ],
   "source": [
    "lines[:9]"
   ]
  },
  {
   "cell_type": "code",
   "execution_count": 206,
   "metadata": {},
   "outputs": [
    {
     "data": {
      "text/plain": [
       "[['H', 'R', 'B', 'D', 'Z', 'F', 'L', 'S'],\n",
       " ['T', 'B', 'M', 'Z', 'R'],\n",
       " ['Z', 'L', 'C', 'H', 'N', 'S'],\n",
       " ['S', 'C', 'F', 'J'],\n",
       " ['P', 'G', 'H', 'W', 'R', 'Z', 'B'],\n",
       " ['V', 'J', 'Z', 'G', 'D', 'N', 'M', 'T'],\n",
       " ['G', 'L', 'N', 'W', 'F', 'S', 'P', 'Q'],\n",
       " ['M', 'Z', 'R'],\n",
       " ['M', 'C', 'L', 'G', 'V', 'R', 'T']]"
      ]
     },
     "execution_count": 206,
     "metadata": {},
     "output_type": "execute_result"
    }
   ],
   "source": [
    "stacks = [[] for _ in range(9)]\n",
    "for line in reversed(lines[:8]):\n",
    "    for n in range(9):\n",
    "        crate = line[n*4+1]\n",
    "        if crate.isalpha():\n",
    "            stacks[n].append(crate)\n",
    "stacks"
   ]
  },
  {
   "cell_type": "code",
   "execution_count": 207,
   "metadata": {},
   "outputs": [
    {
     "name": "stdout",
     "output_type": "stream",
     "text": [
      "RNZLFZSJH\n",
      "CNSFCGJSM"
     ]
    }
   ],
   "source": [
    "def parse_instructions(line):\n",
    "    numbers = re.findall(r'\\d+', line)\n",
    "    return tuple(map(int, numbers))\n",
    "\n",
    "def rearrange1(stacks, instructions):\n",
    "    for amount, from_, to in instructions:\n",
    "        for _ in range(amount):\n",
    "            crate = stacks[from_-1].pop()\n",
    "            stacks[to-1].append(crate)\n",
    "    return stacks\n",
    "\n",
    "def rearrange2(stacks, instructions):\n",
    "    for amount, from_, to in instructions:\n",
    "        stacks[to-1] += stacks[from_-1][-amount:]\n",
    "        del stacks[from_-1][-amount:]\n",
    "    return stacks\n",
    "\n",
    "instructions = [parse_instructions(line) for line in lines[10:]]\n",
    "\n",
    "for stack in rearrange1(deepcopy(stacks), instructions):\n",
    "    print(stack[-1], end='')\n",
    "print()\n",
    "\n",
    "for stack in rearrange2(deepcopy(stacks), instructions):\n",
    "    print(stack[-1], end='')\n"
   ]
  }
 ],
 "metadata": {
  "kernelspec": {
   "display_name": "Python 3.10.8 64-bit",
   "language": "python",
   "name": "python3"
  },
  "language_info": {
   "codemirror_mode": {
    "name": "ipython",
    "version": 3
   },
   "file_extension": ".py",
   "mimetype": "text/x-python",
   "name": "python",
   "nbconvert_exporter": "python",
   "pygments_lexer": "ipython3",
   "version": "3.10.8"
  },
  "orig_nbformat": 4,
  "vscode": {
   "interpreter": {
    "hash": "8f9328efe3468e6c370cdfed98702d3986faf748314d5bcec59da615d65baa7a"
   }
  }
 },
 "nbformat": 4,
 "nbformat_minor": 2
}
