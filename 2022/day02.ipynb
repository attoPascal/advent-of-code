{
 "cells": [
  {
   "cell_type": "code",
   "execution_count": 22,
   "metadata": {},
   "outputs": [],
   "source": [
    "import aocd"
   ]
  },
  {
   "cell_type": "code",
   "execution_count": 23,
   "metadata": {},
   "outputs": [
    {
     "data": {
      "text/plain": [
       "14375"
      ]
     },
     "execution_count": 23,
     "metadata": {},
     "output_type": "execute_result"
    }
   ],
   "source": [
    "ROCK, PAPER, SCISSORS = 0, 1, 2\n",
    "\n",
    "def parse(line):\n",
    "    opponent = ROCK if line[0] == 'A' else PAPER if line[0] == 'B' else SCISSORS\n",
    "    player   = ROCK if line[2] == 'X' else PAPER if line[2] == 'Y' else SCISSORS\n",
    "    return opponent, player\n",
    "\n",
    "def score(opponent, player):\n",
    "    s1 = player + 1\n",
    "    s2 = [3, 6, 0][(player - opponent) % 3]\n",
    "    return s1 + s2\n",
    "\n",
    "data = aocd.get_data(day=2, year=2022).splitlines()\n",
    "rounds = [parse(line) for line in data]\n",
    "sum(score(*round) for round in rounds)"
   ]
  },
  {
   "cell_type": "code",
   "execution_count": 24,
   "metadata": {},
   "outputs": [
    {
     "data": {
      "text/plain": [
       "10274"
      ]
     },
     "execution_count": 24,
     "metadata": {},
     "output_type": "execute_result"
    }
   ],
   "source": [
    "def parse2(line):\n",
    "    opponent = ROCK if line[0] == 'A' else PAPER if line[0] == 'B' else SCISSORS\n",
    "    strategy = line[2]\n",
    "    if strategy == 'X':\n",
    "        player = (opponent - 1) % 3 # lose\n",
    "    elif strategy == 'Y':\n",
    "        player = opponent           # draw\n",
    "    else: #win\n",
    "        player = (opponent + 1) % 3 # win\n",
    "    return opponent, player\n",
    "\n",
    "rounds = [parse2(line) for line in data]\n",
    "sum(score(*round) for round in rounds)"
   ]
  }
 ],
 "metadata": {
  "kernelspec": {
   "display_name": "Python 3.10.8 64-bit",
   "language": "python",
   "name": "python3"
  },
  "language_info": {
   "codemirror_mode": {
    "name": "ipython",
    "version": 3
   },
   "file_extension": ".py",
   "mimetype": "text/x-python",
   "name": "python",
   "nbconvert_exporter": "python",
   "pygments_lexer": "ipython3",
   "version": "3.10.8"
  },
  "orig_nbformat": 4,
  "vscode": {
   "interpreter": {
    "hash": "8f9328efe3468e6c370cdfed98702d3986faf748314d5bcec59da615d65baa7a"
   }
  }
 },
 "nbformat": 4,
 "nbformat_minor": 2
}
