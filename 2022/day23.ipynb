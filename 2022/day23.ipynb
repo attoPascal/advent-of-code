{
 "cells": [
  {
   "cell_type": "code",
   "execution_count": 1,
   "metadata": {},
   "outputs": [],
   "source": [
    "import aocd\n",
    "from collections import defaultdict\n",
    "from itertools import count\n",
    "from more_itertools import minmax"
   ]
  },
  {
   "cell_type": "code",
   "execution_count": 2,
   "metadata": {},
   "outputs": [],
   "source": [
    "N, E, S, W = -1j, 1, 1j, -1\n",
    "move_order = ['N', 'S', 'W', 'E']\n",
    "\n",
    "def step(elves: set[complex]):\n",
    "    global move_order\n",
    "    proposals = defaultdict(list)\n",
    "\n",
    "    for elf in elves:\n",
    "        if elves.isdisjoint({elf+N, elf+N+E, elf+E, elf+S+E, elf+S, elf+S+W, elf+W, elf+N+W}):\n",
    "            continue\n",
    "        \n",
    "        for move in move_order:\n",
    "            if move == 'N' and elves.isdisjoint({elf+N, elf+N+W, elf+N+E}):\n",
    "                proposals[elf+N].append(elf)\n",
    "                break\n",
    "            elif move == 'S' and elves.isdisjoint({elf+S, elf+S+W, elf+S+E}):\n",
    "                proposals[elf+S].append(elf)\n",
    "                break\n",
    "            elif move == 'W' and elves.isdisjoint({elf+W, elf+N+W, elf+S+W}):\n",
    "                proposals[elf+W].append(elf)\n",
    "                break\n",
    "            elif move == 'E' and elves.isdisjoint({elf+E, elf+N+E, elf+S+E}):\n",
    "                proposals[elf+E].append(elf)\n",
    "                break\n",
    "    move_order = move_order[1:] + move_order[:1]\n",
    "\n",
    "    if not proposals:\n",
    "        raise StopIteration\n",
    "    \n",
    "    for new_pos, old_pos in proposals.items():\n",
    "        if len(old_pos) == 1:\n",
    "            elves.remove(old_pos[0])\n",
    "            elves.add(new_pos)"
   ]
  },
  {
   "cell_type": "code",
   "execution_count": 3,
   "metadata": {},
   "outputs": [
    {
     "name": "stdout",
     "output_type": "stream",
     "text": [
      "Part 1: 4114\n",
      "Part 2: 970\n"
     ]
    }
   ],
   "source": [
    "lines = aocd.get_data(day=23, year=2022).splitlines()\n",
    "elves = set()\n",
    "\n",
    "for im, line in enumerate(lines):\n",
    "    for re, c in enumerate(line):\n",
    "        if c == '#':\n",
    "            elves.add(re+im*1j)\n",
    "\n",
    "for _ in range(10):\n",
    "    step(elves)\n",
    "\n",
    "min_x, max_x = minmax(elf.real for elf in elves)\n",
    "min_y, max_y = minmax(elf.imag for elf in elves)\n",
    "size = (max_x-min_x+1) * (max_y-min_y+1)\n",
    "print(\"Part 1:\", int(size) - len(elves))\n",
    "\n",
    "for r in count(11):\n",
    "    try:\n",
    "        step(elves)\n",
    "    except StopIteration:\n",
    "        print(\"Part 2:\", r)  \n",
    "        break"
   ]
  }
 ],
 "metadata": {
  "kernelspec": {
   "display_name": "Python 3",
   "language": "python",
   "name": "python3"
  },
  "language_info": {
   "codemirror_mode": {
    "name": "ipython",
    "version": 3
   },
   "file_extension": ".py",
   "mimetype": "text/x-python",
   "name": "python",
   "nbconvert_exporter": "python",
   "pygments_lexer": "ipython3",
   "version": "3.11.0"
  },
  "orig_nbformat": 4,
  "vscode": {
   "interpreter": {
    "hash": "1a1af0ee75eeea9e2e1ee996c87e7a2b11a0bebd85af04bb136d915cefc0abce"
   }
  }
 },
 "nbformat": 4,
 "nbformat_minor": 2
}
