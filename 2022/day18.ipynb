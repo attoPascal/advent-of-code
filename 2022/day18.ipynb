{
 "cells": [
  {
   "cell_type": "code",
   "execution_count": 1,
   "metadata": {},
   "outputs": [],
   "source": [
    "import aocd\n",
    "import networkx as nx"
   ]
  },
  {
   "cell_type": "code",
   "execution_count": 2,
   "metadata": {},
   "outputs": [],
   "source": [
    "lines = aocd.get_data(day=18, year=2022).splitlines()\n",
    "cubes = [tuple(int(n) + 1 for n in line.split(',')) for line in lines]\n",
    "grid_size = tuple(max(cube[dim] for cube in cubes) + 2 for dim in [2, 1, 0]) "
   ]
  },
  {
   "cell_type": "code",
   "execution_count": 3,
   "metadata": {},
   "outputs": [
    {
     "name": "stdout",
     "output_type": "stream",
     "text": [
      "Part 1: 3576\n"
     ]
    }
   ],
   "source": [
    "G1 = nx.grid_graph(grid_size)\n",
    "for n in [n for n in G1.nodes]:\n",
    "    if n not in cubes:\n",
    "        G1.remove_node(n)\n",
    "\n",
    "print(\"Part 1:\", sum(6 - len(G1[cube]) for cube in cubes))"
   ]
  },
  {
   "cell_type": "code",
   "execution_count": 4,
   "metadata": {},
   "outputs": [
    {
     "name": "stdout",
     "output_type": "stream",
     "text": [
      "Part 2: 2066\n"
     ]
    }
   ],
   "source": [
    "G2 = nx.grid_graph(grid_size)\n",
    "for node in G2.nodes:\n",
    "    if node in G1.nodes:\n",
    "        for neighbor in G2[node]:\n",
    "            G2[node][neighbor]['weight'] = 100\n",
    "\n",
    "reachable = nx.single_source_dijkstra_path(G2, (0, 0, 0), cutoff=100)\n",
    "def reachable_sides(cube):\n",
    "    return sum(1 for neighbor in G2[cube] if neighbor in reachable)\n",
    "\n",
    "print(\"Part 2:\", sum(reachable_sides(cube) for cube in cubes))"
   ]
  }
 ],
 "metadata": {
  "kernelspec": {
   "display_name": "Python 3",
   "language": "python",
   "name": "python3"
  },
  "language_info": {
   "codemirror_mode": {
    "name": "ipython",
    "version": 3
   },
   "file_extension": ".py",
   "mimetype": "text/x-python",
   "name": "python",
   "nbconvert_exporter": "python",
   "pygments_lexer": "ipython3",
   "version": "3.11.0"
  },
  "orig_nbformat": 4,
  "vscode": {
   "interpreter": {
    "hash": "1a1af0ee75eeea9e2e1ee996c87e7a2b11a0bebd85af04bb136d915cefc0abce"
   }
  }
 },
 "nbformat": 4,
 "nbformat_minor": 2
}
