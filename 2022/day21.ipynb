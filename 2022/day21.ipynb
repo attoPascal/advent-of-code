{
 "cells": [
  {
   "cell_type": "code",
   "execution_count": 1,
   "metadata": {},
   "outputs": [],
   "source": [
    "import aocd\n",
    "import networkx as nx\n",
    "import operator\n",
    "import sympy"
   ]
  },
  {
   "cell_type": "code",
   "execution_count": 2,
   "metadata": {},
   "outputs": [],
   "source": [
    "G = nx.DiGraph()\n",
    "lines = aocd.get_data(day=21, year=2022).splitlines()\n",
    "\n",
    "for line in lines:\n",
    "    node, value = line.split(': ')\n",
    "    try:\n",
    "        G.add_node(node, num=int(value))\n",
    "    except ValueError:\n",
    "        left, op, right = value.split()\n",
    "        G.add_node(node, op={\n",
    "            '+': operator.add,\n",
    "            '-': operator.sub,\n",
    "            '*': operator.mul,\n",
    "            '/': operator.truediv\n",
    "        }[op])\n",
    "        G.add_edge(node, left)\n",
    "        G.add_edge(node, right)"
   ]
  },
  {
   "cell_type": "code",
   "execution_count": 3,
   "metadata": {},
   "outputs": [
    {
     "name": "stdout",
     "output_type": "stream",
     "text": [
      "Part 1: 223971851179174\n"
     ]
    }
   ],
   "source": [
    "def eval_tree(G, node='root'):\n",
    "    try:\n",
    "        return G.nodes[node]['num']\n",
    "    except KeyError:\n",
    "        return G.nodes[node]['op'](*(eval_tree(G, n) for n in G[node]))\n",
    "\n",
    "print(\"Part 1:\", int(eval_tree(G)))"
   ]
  },
  {
   "cell_type": "code",
   "execution_count": 4,
   "metadata": {},
   "outputs": [
    {
     "name": "stdout",
     "output_type": "stream",
     "text": [
      "Part 2: 3379022190351\n"
     ]
    }
   ],
   "source": [
    "G.nodes['root']['op'] = operator.sub\n",
    "G.nodes['humn']['num'] = sympy.symbols('x')\n",
    "\n",
    "print(\"Part 2:\", int(sympy.solve(eval_tree(G))[0]))"
   ]
  }
 ],
 "metadata": {
  "kernelspec": {
   "display_name": "Python 3",
   "language": "python",
   "name": "python3"
  },
  "language_info": {
   "codemirror_mode": {
    "name": "ipython",
    "version": 3
   },
   "file_extension": ".py",
   "mimetype": "text/x-python",
   "name": "python",
   "nbconvert_exporter": "python",
   "pygments_lexer": "ipython3",
   "version": "3.11.0"
  },
  "orig_nbformat": 4,
  "vscode": {
   "interpreter": {
    "hash": "1a1af0ee75eeea9e2e1ee996c87e7a2b11a0bebd85af04bb136d915cefc0abce"
   }
  }
 },
 "nbformat": 4,
 "nbformat_minor": 2
}
