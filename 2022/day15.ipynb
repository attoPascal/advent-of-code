{
 "cells": [
  {
   "cell_type": "code",
   "execution_count": 1,
   "metadata": {},
   "outputs": [],
   "source": [
    "from collections import defaultdict\n",
    "from dataclasses import dataclass\n",
    "from functools import reduce\n",
    "\n",
    "import aocd\n",
    "import parse"
   ]
  },
  {
   "cell_type": "code",
   "execution_count": 2,
   "metadata": {},
   "outputs": [],
   "source": [
    "@dataclass\n",
    "class Sensor:\n",
    "    coords: tuple[int, int]\n",
    "    closest_beacon: tuple[int, int]\n",
    "\n",
    "    @property\n",
    "    def beacon_distance(self) -> int:\n",
    "        return abs(self.coords[0] - self.closest_beacon[0]) + abs(self.coords[1] - self.closest_beacon[1])\n",
    "\n",
    "lines = aocd.get_data(day=15, year=2022).splitlines()\n",
    "sensors = [Sensor(*(tup.fixed for tup in parse.findall('x={:d}, y={:d}', line))) for line in lines]"
   ]
  },
  {
   "cell_type": "code",
   "execution_count": 3,
   "metadata": {},
   "outputs": [],
   "source": [
    "Ranges = dict[int, list[range]]\n",
    "beacons:    Ranges = defaultdict(list)\n",
    "no_beacons: Ranges = defaultdict(list)\n",
    "\n",
    "for sensor in sensors:\n",
    "    x, y = sensor.coords\n",
    "    dist = sensor.beacon_distance\n",
    "\n",
    "    for offset in range(-dist, dist+1):\n",
    "        beacon_x, beacon_y = sensor.closest_beacon\n",
    "        if beacon_y == y+offset:\n",
    "            beacons[beacon_y].append(range(beacon_x, beacon_x+1))\n",
    "            if beacon_x < x:\n",
    "                start = x-dist+abs(offset)+1\n",
    "                stop  = x+dist-abs(offset)+1\n",
    "            else:\n",
    "                start = x-dist+abs(offset)\n",
    "                stop  = x+dist-abs(offset)\n",
    "        else:\n",
    "            start     = x-dist+abs(offset)\n",
    "            stop      = x+dist-abs(offset)+1\n",
    "        no_beacons[y+offset].append(range(start, stop))"
   ]
  },
  {
   "cell_type": "code",
   "execution_count": 4,
   "metadata": {},
   "outputs": [
    {
     "name": "stdout",
     "output_type": "stream",
     "text": [
      "Part 1: 4725496\n"
     ]
    }
   ],
   "source": [
    "print(\"Part 1:\", len(reduce(set.union, [set(r) for r in no_beacons[2000000]], set())))"
   ]
  },
  {
   "cell_type": "code",
   "execution_count": 5,
   "metadata": {},
   "outputs": [
    {
     "name": "stdout",
     "output_type": "stream",
     "text": [
      "Part 2: 12051287042458\n"
     ]
    }
   ],
   "source": [
    "for y in range(4000001):\n",
    "    possible = range(4000001)\n",
    "    not_possible = no_beacons[y] + beacons[y]\n",
    "    while len(possible) > 1:\n",
    "        for np in not_possible:\n",
    "            if np.start <= possible.start and np.stop > possible.start:\n",
    "                possible = range(np.stop, possible.stop)\n",
    "            if np.stop >= possible.stop and np.start < possible.stop:\n",
    "                possible = range(possible.start, np.start)\n",
    "    if len(possible) == 1:\n",
    "        for np in not_possible:\n",
    "            if np.start <= possible.start and np.stop > possible.start:\n",
    "                possible = range(np.stop, possible.stop)\n",
    "            if np.stop >= possible.stop and np.start < possible.stop:\n",
    "                possible = range(possible.start, np.start)\n",
    "    if len(possible) == 1:\n",
    "        print(\"Part 2:\", possible.start*4000000+y)\n",
    "        break"
   ]
  }
 ],
 "metadata": {
  "kernelspec": {
   "display_name": "Python 3",
   "language": "python",
   "name": "python3"
  },
  "language_info": {
   "codemirror_mode": {
    "name": "ipython",
    "version": 3
   },
   "file_extension": ".py",
   "mimetype": "text/x-python",
   "name": "python",
   "nbconvert_exporter": "python",
   "pygments_lexer": "ipython3",
   "version": "3.11.0"
  },
  "orig_nbformat": 4,
  "vscode": {
   "interpreter": {
    "hash": "1a1af0ee75eeea9e2e1ee996c87e7a2b11a0bebd85af04bb136d915cefc0abce"
   }
  }
 },
 "nbformat": 4,
 "nbformat_minor": 2
}
