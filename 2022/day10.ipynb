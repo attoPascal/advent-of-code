{
 "cells": [
  {
   "cell_type": "code",
   "execution_count": 1,
   "metadata": {},
   "outputs": [],
   "source": [
    "from aocd import lines as instructions"
   ]
  },
  {
   "cell_type": "code",
   "execution_count": 2,
   "metadata": {},
   "outputs": [],
   "source": [
    "def run(instructions):\n",
    "    x = 1\n",
    "    for line in instructions:\n",
    "        match line.split():\n",
    "            case ['noop']:\n",
    "                yield x\n",
    "            case ['addx', n]:\n",
    "                yield x\n",
    "                yield x\n",
    "                x += int(n)"
   ]
  },
  {
   "cell_type": "code",
   "execution_count": 3,
   "metadata": {},
   "outputs": [
    {
     "data": {
      "text/plain": [
       "16880"
      ]
     },
     "execution_count": 3,
     "metadata": {},
     "output_type": "execute_result"
    }
   ],
   "source": [
    "sum(i*x for (i, x) in enumerate(run(instructions), 1) if i % 40 == 20)"
   ]
  },
  {
   "cell_type": "code",
   "execution_count": 4,
   "metadata": {},
   "outputs": [
    {
     "name": "stdout",
     "output_type": "stream",
     "text": [
      "███  █  █  ██  ████  ██    ██ ███  ███  \n",
      "█  █ █ █  █  █    █ █  █    █ █  █ █  █ \n",
      "█  █ ██   █  █   █  █  █    █ ███  █  █ \n",
      "███  █ █  ████  █   ████    █ █  █ ███  \n",
      "█ █  █ █  █  █ █    █  █ █  █ █  █ █ █  \n",
      "█  █ █  █ █  █ ████ █  █  ██  ███  █  █ \n"
     ]
    }
   ],
   "source": [
    "program = run(instructions)\n",
    "for line in range(6):\n",
    "    print(*(\"█\" if -1 <= next(program) - pixel <= 1 else \" \" for pixel in range(40)), sep='')"
   ]
  }
 ],
 "metadata": {
  "kernelspec": {
   "display_name": "Python 3",
   "language": "python",
   "name": "python3"
  },
  "language_info": {
   "codemirror_mode": {
    "name": "ipython",
    "version": 3
   },
   "file_extension": ".py",
   "mimetype": "text/x-python",
   "name": "python",
   "nbconvert_exporter": "python",
   "pygments_lexer": "ipython3",
   "version": "3.10.8"
  },
  "orig_nbformat": 4,
  "vscode": {
   "interpreter": {
    "hash": "8f9328efe3468e6c370cdfed98702d3986faf748314d5bcec59da615d65baa7a"
   }
  }
 },
 "nbformat": 4,
 "nbformat_minor": 2
}
