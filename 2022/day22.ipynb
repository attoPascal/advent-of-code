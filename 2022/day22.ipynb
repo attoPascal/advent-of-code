{
 "cells": [
  {
   "cell_type": "code",
   "execution_count": 1,
   "metadata": {},
   "outputs": [],
   "source": [
    "import aocd\n",
    "import numpy as np\n",
    "from itertools import groupby\n",
    "from typing import Callable"
   ]
  },
  {
   "cell_type": "code",
   "execution_count": 2,
   "metadata": {},
   "outputs": [],
   "source": [
    "class Traversal:\n",
    "    grid: np.ndarray\n",
    "    position: complex\n",
    "    facing: complex\n",
    "    wrapping: Callable[[complex, complex], tuple[complex, complex] | None]\n",
    "    OPEN, WALL, WRAP = '.', '#', ' '\n",
    "\n",
    "    def __init__(self, grid: np.ndarray, wrapping: Callable):\n",
    "        self.grid = grid\n",
    "        self.wrapping = wrapping\n",
    "        self.position = 0\n",
    "        self.facing = 1\n",
    "        while self.tile != self.OPEN:\n",
    "            self.position += 1\n",
    "\n",
    "    @property\n",
    "    def coords(self) -> tuple[int, int]:\n",
    "        return int(self.position.imag), int(self.position.real)\n",
    "    \n",
    "    @property\n",
    "    def tile(self) -> str:\n",
    "        return self.grid[self.coords]\n",
    "    \n",
    "    @property\n",
    "    def next_tile(self) -> str:\n",
    "        next_position = wrapped[0] if (wrapped := self.wrapping(self.position, self.facing)) else self.position + self.facing\n",
    "        return self.grid[int(next_position.imag), int(next_position.real)]\n",
    "    \n",
    "    def turn(self, direction: str):\n",
    "        self.facing *= 1j if direction == 'R' else -1j\n",
    "    \n",
    "    def forward(self, amount: int):\n",
    "        while amount:\n",
    "            if self.next_tile == self.WALL:\n",
    "                break\n",
    "            if wrapped := self.wrapping(self.position, self.facing):\n",
    "                self.position, self.facing = wrapped\n",
    "            else:\n",
    "                self.position += self.facing\n",
    "            amount -= 1\n",
    "    \n",
    "    def move(self, instruction: str | int):\n",
    "        if instruction in ('L', 'R'):\n",
    "            self.turn(instruction)\n",
    "        else:\n",
    "            assert isinstance(instruction, int)\n",
    "            self.forward(instruction)"
   ]
  },
  {
   "cell_type": "code",
   "execution_count": 3,
   "metadata": {},
   "outputs": [],
   "source": [
    "def parse_instruction(isdigits, group):\n",
    "    return int(''.join(group)) if isdigits else next(group)\n",
    "\n",
    "board, instructions = aocd.get_data(day=22, year=2022).split('\\n\\n')\n",
    "instructions = [parse_instruction(*i) for i in groupby(instructions, str.isdigit)]\n",
    "max_length = max(len(line) for line in board.splitlines())\n",
    "board = [line.ljust(max_length) for line in board.splitlines()]\n",
    "\n",
    "grid = np.array([[c for c in line] for line in board])\n",
    "R, L, D, U = 1, -1, 1j, -1j"
   ]
  },
  {
   "cell_type": "code",
   "execution_count": 4,
   "metadata": {},
   "outputs": [
    {
     "name": "stdout",
     "output_type": "stream",
     "text": [
      "Part 1: 64256\n"
     ]
    }
   ],
   "source": [
    "def wrap2d(position, facing):\n",
    "    next_position = position + facing\n",
    "    while grid[int(next_position.imag) % grid.shape[0], int(next_position.real) % grid.shape[1]] == ' ':\n",
    "        next_position += facing\n",
    "    return complex(next_position.real % grid.shape[1], next_position.imag % grid.shape[0]), facing\n",
    "\n",
    "traversal = Traversal(grid, wrapping=wrap2d)\n",
    "for i in instructions:\n",
    "    traversal.move(i)\n",
    "\n",
    "print(\"Part 1:\", 1000*(traversal.coords[0]+1) + 4*(traversal.coords[1]+1) + {R: 0, D: 1, L: 2, U: 3}[traversal.facing])"
   ]
  },
  {
   "cell_type": "code",
   "execution_count": 5,
   "metadata": {},
   "outputs": [],
   "source": [
    "wrap3d = {}\n",
    "for n in range(50):\n",
    "    connections = [\n",
    "        ((complex(real= 50+n, imag=  0), U), (complex(imag=150+n, real=  0), L)),\n",
    "        ((complex(real=100+n, imag=  0), U), (complex(real=  0+n, imag=199), D)),\n",
    "        ((complex(imag=  0+n, real=149), R), (complex(imag=149-n, real= 99), R)),\n",
    "        ((complex(real=100+n, imag= 49), D), (complex(imag= 50+n, real= 99), R)),\n",
    "        ((complex(real= 50+n, imag=149), D), (complex(imag=150+n, real= 49), R)),\n",
    "        ((complex(imag=  0+n, real= 50), L), (complex(imag=149-n, real=  0), L)),\n",
    "        ((complex(imag= 50+n, real= 50), L), (complex(real=  0+n, imag=100), U))\n",
    "    ]\n",
    "\n",
    "    for (p1, f1), (p2, f2) in connections:\n",
    "        wrap3d[p1, f1] = p2, -f2\n",
    "        wrap3d[p2, f2] = p1, -f1"
   ]
  },
  {
   "cell_type": "code",
   "execution_count": 6,
   "metadata": {},
   "outputs": [
    {
     "name": "stdout",
     "output_type": "stream",
     "text": [
      "Part 2: 109224\n"
     ]
    }
   ],
   "source": [
    "traversal = Traversal(grid, wrapping=lambda p, f: wrap3d.get((p, f)))\n",
    "for i in instructions:\n",
    "    traversal.move(i)\n",
    "\n",
    "print(\"Part 2:\", 1000*(traversal.coords[0]+1) + 4*(traversal.coords[1]+1) + {R: 0, D: 1, L: 2, U: 3}[traversal.facing])"
   ]
  }
 ],
 "metadata": {
  "kernelspec": {
   "display_name": "Python 3",
   "language": "python",
   "name": "python3"
  },
  "language_info": {
   "codemirror_mode": {
    "name": "ipython",
    "version": 3
   },
   "file_extension": ".py",
   "mimetype": "text/x-python",
   "name": "python",
   "nbconvert_exporter": "python",
   "pygments_lexer": "ipython3",
   "version": "3.11.0 (main, Nov 15 2022, 05:43:36) [Clang 14.0.0 (clang-1400.0.29.202)]"
  },
  "orig_nbformat": 4,
  "vscode": {
   "interpreter": {
    "hash": "1a1af0ee75eeea9e2e1ee996c87e7a2b11a0bebd85af04bb136d915cefc0abce"
   }
  }
 },
 "nbformat": 4,
 "nbformat_minor": 2
}
