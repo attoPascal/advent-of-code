{
 "cells": [
  {
   "cell_type": "code",
   "execution_count": 1,
   "metadata": {},
   "outputs": [],
   "source": [
    "import aocd\n",
    "import math\n",
    "import networkx as nx\n",
    "import numpy as np\n",
    "from enum import IntFlag"
   ]
  },
  {
   "cell_type": "code",
   "execution_count": 2,
   "metadata": {},
   "outputs": [],
   "source": [
    "class Blizzard(IntFlag):\n",
    "    UP = 1\n",
    "    DOWN = 2\n",
    "    LEFT = 4\n",
    "    RIGHT = 8\n",
    "\n",
    "def parse_blizzard(s):\n",
    "    return {'^': Blizzard.UP, 'v': Blizzard.DOWN, '<': Blizzard.LEFT, '>': Blizzard.RIGHT, '.': Blizzard(0)}[s]"
   ]
  },
  {
   "cell_type": "code",
   "execution_count": 3,
   "metadata": {},
   "outputs": [],
   "source": [
    "lines = aocd.get_data(day=24, year=2022).splitlines()\n",
    "grid = np.array([[parse_blizzard(c) for c in line[1:-1]] for line in lines[1:-1]])\n",
    "\n",
    "lx, ly = grid.shape\n",
    "cycle_length = math.lcm(lx, ly)\n",
    "\n",
    "start = -1, 0\n",
    "goal = lx, ly-1\n",
    "\n",
    "G = nx.grid_2d_graph(lx, ly)\n",
    "G.add_edge(start, (0, 0))\n",
    "G.add_edge(goal, (lx-1, ly-1))"
   ]
  },
  {
   "cell_type": "code",
   "execution_count": 4,
   "metadata": {},
   "outputs": [],
   "source": [
    "blizzard_states = np.zeros((cycle_length, lx, ly), dtype=int)\n",
    "blizzard_states[0] = grid\n",
    "\n",
    "for step in range(1, cycle_length):\n",
    "    for (x, y), cell in np.ndenumerate(blizzard_states[step-1]):\n",
    "        if cell & Blizzard.UP:\n",
    "            blizzard_states[step, (x-1) % lx, y] |= Blizzard.UP\n",
    "        if cell & Blizzard.DOWN:\n",
    "            blizzard_states[step, (x+1) % lx, y] |= Blizzard.DOWN\n",
    "        if cell & Blizzard.LEFT:\n",
    "            blizzard_states[step, x, (y-1) % ly] |= Blizzard.LEFT\n",
    "        if cell & Blizzard.RIGHT:\n",
    "            blizzard_states[step, x, (y+1) % ly] |= Blizzard.RIGHT"
   ]
  },
  {
   "cell_type": "code",
   "execution_count": 6,
   "metadata": {},
   "outputs": [
    {
     "name": "stdout",
     "output_type": "stream",
     "text": [
      "Part 1: 249\n",
      "Part 2: 735\n"
     ]
    }
   ],
   "source": [
    "def step_bfs(start, goal, n=0, nodes=None):\n",
    "    nodes = nodes if nodes else [start]\n",
    "    next_nodes = set()\n",
    "\n",
    "    for node in nodes:\n",
    "        for neighbor in list(G[node]) + [node]:\n",
    "            if neighbor == goal:\n",
    "                return n+1\n",
    "            if neighbor == start or blizzard_states[(n+1) % cycle_length, neighbor[0], neighbor[1]] == 0:\n",
    "                next_nodes.add(neighbor)\n",
    "    return step_bfs(start, goal, n+1, next_nodes)\n",
    "\n",
    "there       = step_bfs(start, goal)\n",
    "back_again  = step_bfs(goal, start, n=there)\n",
    "there_again = step_bfs(start, goal, n=back_again)\n",
    "\n",
    "print(\"Part 1:\", there)\n",
    "print(\"Part 2:\", there_again)   "
   ]
  }
 ],
 "metadata": {
  "kernelspec": {
   "display_name": "Python 3",
   "language": "python",
   "name": "python3"
  },
  "language_info": {
   "codemirror_mode": {
    "name": "ipython",
    "version": 3
   },
   "file_extension": ".py",
   "mimetype": "text/x-python",
   "name": "python",
   "nbconvert_exporter": "python",
   "pygments_lexer": "ipython3",
   "version": "3.11.0 (main, Nov 15 2022, 05:43:36) [Clang 14.0.0 (clang-1400.0.29.202)]"
  },
  "orig_nbformat": 4,
  "vscode": {
   "interpreter": {
    "hash": "1a1af0ee75eeea9e2e1ee996c87e7a2b11a0bebd85af04bb136d915cefc0abce"
   }
  }
 },
 "nbformat": 4,
 "nbformat_minor": 2
}
