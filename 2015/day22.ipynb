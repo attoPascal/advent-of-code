{
 "cells": [
  {
   "cell_type": "code",
   "execution_count": 1,
   "metadata": {},
   "outputs": [],
   "source": [
    "from dataclasses import dataclass, replace\n",
    "from typing import Callable, Iterable"
   ]
  },
  {
   "cell_type": "code",
   "execution_count": 2,
   "metadata": {},
   "outputs": [],
   "source": [
    "@dataclass\n",
    "class Character:\n",
    "    hit_points: int\n",
    "    damage: int = 0\n",
    "    armor: int = 0\n",
    "    mana: int = 0"
   ]
  },
  {
   "cell_type": "code",
   "execution_count": 3,
   "metadata": {},
   "outputs": [],
   "source": [
    "@dataclass(unsafe_hash=True)\n",
    "class Spell:\n",
    "    name: str\n",
    "    mana: int\n",
    "    duration: int\n",
    "    effect: Callable\n",
    "    cast_by: Character | None = None\n",
    "    cast_on: Character | None = None\n",
    "\n",
    "    def cast(self, by, on):\n",
    "        return replace(self, cast_by=by, cast_on=on)\n",
    "\n",
    "    def __call__(self):\n",
    "        self.effect(self)\n",
    "        return replace(self, duration=self.duration-1)\n",
    "    \n",
    "def magic_missile(spell: Spell):\n",
    "    assert spell.cast_on\n",
    "    if spell.duration > 0:\n",
    "        spell.cast_on.hit_points -= 4\n",
    "\n",
    "def drain(spell: Spell):\n",
    "    assert spell.cast_by and spell.cast_on\n",
    "    if spell.duration > 0:\n",
    "        spell.cast_on.hit_points -= 2\n",
    "        spell.cast_by.hit_points += 2\n",
    "\n",
    "def shield(spell: Spell):\n",
    "    assert spell.cast_by\n",
    "    if spell.duration == 6:\n",
    "        spell.cast_by.armor += 7\n",
    "    elif spell.duration == 0:\n",
    "        spell.cast_by.armor -= 7\n",
    "\n",
    "def poison(spell: Spell):\n",
    "    assert spell.cast_on\n",
    "    if spell.duration > 0:\n",
    "        spell.cast_on.hit_points -= 3\n",
    "\n",
    "def recharge(spell: Spell):\n",
    "    assert spell.cast_by\n",
    "    if spell.duration > 0:\n",
    "        spell.cast_by.mana += 101\n",
    "\n",
    "spells = (\n",
    "    Spell(\"Magic Missile\", mana=53,  duration=1, effect=magic_missile),\n",
    "    Spell(\"Drain\",         mana=73,  duration=1, effect=drain),\n",
    "    Spell(\"Shield\",        mana=113, duration=6, effect=shield),\n",
    "    Spell(\"Poison\",        mana=173, duration=6, effect=poison),\n",
    "    Spell(\"Recharge\",      mana=229, duration=5, effect=recharge)\n",
    ")"
   ]
  },
  {
   "cell_type": "code",
   "execution_count": 4,
   "metadata": {},
   "outputs": [],
   "source": [
    "def simulate(spells_prepared: Iterable[Spell], player_stats: tuple[int, int], boss_stats: tuple[int, int], hard_mode=False):\n",
    "    player = Character(hit_points=player_stats[0], mana=player_stats[1])\n",
    "    boss   = Character(hit_points=boss_stats[0], damage=boss_stats[1])\n",
    "    effects = []\n",
    "\n",
    "    for spell in spells_prepared:\n",
    "        # \"-- Player turn --\\n\"\n",
    "        # f\"- Player has {player.hit_points} hit points, {player.armor} armor, {player.mana} mana\\n\"\n",
    "        # f\"- Boss has {boss.hit_points} hit points\\n\"\n",
    "\n",
    "        if hard_mode:\n",
    "            player.hit_points -= 1\n",
    "            if player.hit_points <= 0:\n",
    "                return \"died\"\n",
    "\n",
    "\n",
    "        effects = [effect() for effect in effects if effect.duration >= 0]\n",
    "        # \", \".join(f\"{effect.name} ({effect.duration})\" for effect in effects if effect.duration >= 0) + \"\\n\"\n",
    "\n",
    "        if boss.hit_points <= 0:\n",
    "            return \"won\"\n",
    "        if spell.mana > player.mana:\n",
    "            return \"out of mana\"\n",
    "        if spell.name in [effect.name for effect in effects if effect.duration > 0]:\n",
    "            return \"not possible\"\n",
    "        \n",
    "        effects += [spell.cast(by=player, on=boss)]\n",
    "        player.mana -= spell.mana\n",
    "        # f\"Player casts {effects[-1].name}\\n\\n\"\n",
    "\n",
    "        # \"-- Boss turn --\\n\"\n",
    "        # f\"- Player has {player.hit_points} hit points, {player.armor} armor, {player.mana} mana\\n\"\n",
    "        # f\"- Boss has {boss.hit_points} hit points\\n\"\n",
    "        \n",
    "        effects = [effect() for effect in effects if effect.duration >= 0]\n",
    "        # \", \".join(f\"{effect.name} ({effect.duration})\" for effect in effects if effect.duration >= 0) + \"\\n\"\n",
    "        \n",
    "        if boss.hit_points <= 0:\n",
    "            return \"won\"\n",
    "        \n",
    "        attack = max(1, boss.damage - player.armor)\n",
    "        player.hit_points -= attack\n",
    "        # f\"Boss attacks for {attack} damage\\n\\n\"\n",
    "\n",
    "        if player.hit_points <= 0:\n",
    "            return \"died\"\n",
    "    \n",
    "    return \"exhausted\""
   ]
  },
  {
   "cell_type": "code",
   "execution_count": 5,
   "metadata": {},
   "outputs": [],
   "source": [
    "def find_least_mana(hard_mode=False):\n",
    "    player_stats = 50, 500\n",
    "    boss_stats = 71, 10\n",
    "    viable_spell_lists = {(spell,) for spell in spells}\n",
    "    min_mana = 9999\n",
    "\n",
    "    while viable_spell_lists:\n",
    "        next_viable_spell_lists = set()\n",
    "        for viable_spell_list in viable_spell_lists:\n",
    "            viable_spells = list(viable_spell_list)\n",
    "            for spell in spells:\n",
    "                spells_prepared = viable_spells + [spell]\n",
    "                mana = sum(spell.mana for spell in spells_prepared)\n",
    "                if mana >= min_mana:\n",
    "                    continue\n",
    "                result = simulate(spells_prepared, player_stats, boss_stats, hard_mode)\n",
    "                if result == \"won\":\n",
    "                    min_mana = mana\n",
    "                elif result == \"exhausted\":\n",
    "                    next_viable_spell_lists.add(tuple(spells_prepared))\n",
    "        viable_spell_lists = next_viable_spell_lists\n",
    "    \n",
    "    return min_mana"
   ]
  },
  {
   "cell_type": "code",
   "execution_count": 6,
   "metadata": {},
   "outputs": [
    {
     "name": "stdout",
     "output_type": "stream",
     "text": [
      "Part 1: 1824\n",
      "Part 2: 1937\n"
     ]
    }
   ],
   "source": [
    "print(\"Part 1:\", find_least_mana())\n",
    "print(\"Part 2:\", find_least_mana(hard_mode=True))"
   ]
  }
 ],
 "metadata": {
  "kernelspec": {
   "display_name": "Python 3",
   "language": "python",
   "name": "python3"
  },
  "language_info": {
   "codemirror_mode": {
    "name": "ipython",
    "version": 3
   },
   "file_extension": ".py",
   "mimetype": "text/x-python",
   "name": "python",
   "nbconvert_exporter": "python",
   "pygments_lexer": "ipython3",
   "version": "3.11.0"
  },
  "orig_nbformat": 4,
  "vscode": {
   "interpreter": {
    "hash": "1a1af0ee75eeea9e2e1ee996c87e7a2b11a0bebd85af04bb136d915cefc0abce"
   }
  }
 },
 "nbformat": 4,
 "nbformat_minor": 2
}
