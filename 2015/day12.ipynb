{
 "cells": [
  {
   "cell_type": "code",
   "execution_count": 1,
   "metadata": {},
   "outputs": [],
   "source": [
    "import aocd\n",
    "import json"
   ]
  },
  {
   "cell_type": "code",
   "execution_count": 2,
   "metadata": {},
   "outputs": [],
   "source": [
    "data = json.loads(aocd.get_data(day=12, year=2015))"
   ]
  },
  {
   "cell_type": "code",
   "execution_count": 3,
   "metadata": {},
   "outputs": [
    {
     "data": {
      "text/plain": [
       "119433"
      ]
     },
     "execution_count": 3,
     "metadata": {},
     "output_type": "execute_result"
    }
   ],
   "source": [
    "def sum_numbers1(element) -> int:\n",
    "    if isinstance(element, int):\n",
    "        return element\n",
    "    if isinstance(element, dict):\n",
    "        return sum(sum_numbers1(v) for v in element.values())\n",
    "    if isinstance(element, list):\n",
    "        return sum(sum_numbers1(e) for e in element)\n",
    "    return 0\n",
    "\n",
    "sum_numbers1(data)\n"
   ]
  },
  {
   "cell_type": "code",
   "execution_count": 4,
   "metadata": {},
   "outputs": [
    {
     "data": {
      "text/plain": [
       "68466"
      ]
     },
     "execution_count": 4,
     "metadata": {},
     "output_type": "execute_result"
    }
   ],
   "source": [
    "def sum_numbers2(element) -> int:\n",
    "    if isinstance(element, int):\n",
    "        return element\n",
    "    if isinstance(element, dict):\n",
    "        if \"red\" in element.values():\n",
    "            return 0\n",
    "        return sum(sum_numbers2(v) for v in element.values())\n",
    "    if isinstance(element, list):\n",
    "        return sum(sum_numbers2(e) for e in element)\n",
    "    return 0\n",
    "\n",
    "sum_numbers2(data)"
   ]
  }
 ],
 "metadata": {
  "kernelspec": {
   "display_name": "Python 3",
   "language": "python",
   "name": "python3"
  },
  "language_info": {
   "codemirror_mode": {
    "name": "ipython",
    "version": 3
   },
   "file_extension": ".py",
   "mimetype": "text/x-python",
   "name": "python",
   "nbconvert_exporter": "python",
   "pygments_lexer": "ipython3",
   "version": "3.11.0"
  },
  "orig_nbformat": 4,
  "vscode": {
   "interpreter": {
    "hash": "1a1af0ee75eeea9e2e1ee996c87e7a2b11a0bebd85af04bb136d915cefc0abce"
   }
  }
 },
 "nbformat": 4,
 "nbformat_minor": 2
}
