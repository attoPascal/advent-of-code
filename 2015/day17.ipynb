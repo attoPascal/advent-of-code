{
 "cells": [
  {
   "cell_type": "code",
   "execution_count": 1,
   "metadata": {},
   "outputs": [],
   "source": [
    "def choose_from(l, k):\n",
    "    if k == 0 or k > len(l):\n",
    "        yield []\n",
    "    elif k == 1:\n",
    "        yield from ([s] for s in l)\n",
    "    else:\n",
    "        for i in range(len(l)):\n",
    "            e = l[i]\n",
    "            r = l[i+1:]\n",
    "            yield from ([e] + s for s in choose_from(r, k-1) if s)\n"
   ]
  },
  {
   "cell_type": "code",
   "execution_count": 6,
   "metadata": {},
   "outputs": [
    {
     "name": "stdout",
     "output_type": "stream",
     "text": [
      "choosing 1\n",
      "choosing 2\n",
      "choosing 3\n",
      "choosing 4\n",
      "choosing 5\n",
      "choosing 6\n",
      "choosing 7\n",
      "choosing 8\n",
      "choosing 9\n",
      "choosing 10\n",
      "choosing 11\n",
      "choosing 12\n",
      "choosing 13\n",
      "choosing 14\n",
      "choosing 15\n",
      "choosing 16\n",
      "choosing 17\n",
      "choosing 18\n",
      "choosing 19\n",
      "choosing 20\n",
      "4372\n",
      "{4, 5, 6, 7, 8, 9, 10, 11, 12}\n",
      "4\n"
     ]
    }
   ],
   "source": [
    "containers = [20, 15, 10, 5, 5]\n",
    "containers = [11, 30, 47, 31, 32, 36, 3, 1, 5, 3, 32, 36, 15, 11, 46, 26, 28, 1, 19, 3]\n",
    "configs = 0\n",
    "num_containers = set()\n",
    "\n",
    "for num in range(1, len(containers)+1):\n",
    "    print(\"choosing\", num)\n",
    "    for sample in choose_from(containers, num):\n",
    "        if sum(sample) == 150:\n",
    "            configs += 1\n",
    "            num_containers.add(len(sample))\n",
    "\n",
    "print(configs)\n",
    "print(num_containers)\n",
    "print(min(num_containers))"
   ]
  },
  {
   "cell_type": "code",
   "execution_count": 8,
   "metadata": {},
   "outputs": [
    {
     "name": "stdout",
     "output_type": "stream",
     "text": [
      "[47, 31, 36, 36]\n",
      "[47, 31, 46, 26]\n",
      "[32, 36, 36, 46]\n",
      "[36, 32, 36, 46]\n"
     ]
    },
    {
     "data": {
      "text/plain": [
       "4"
      ]
     },
     "execution_count": 8,
     "metadata": {},
     "output_type": "execute_result"
    }
   ],
   "source": [
    "configs = 0\n",
    "for sample in choose_from(containers, 4):\n",
    "    if sum(sample) == 150:\n",
    "        configs += 1\n",
    "configs"
   ]
  },
  {
   "cell_type": "code",
   "execution_count": null,
   "metadata": {},
   "outputs": [],
   "source": []
  }
 ],
 "metadata": {
  "interpreter": {
   "hash": "aee8b7b246df8f9039afb4144a1f6fd8d2ca17a180786b69acc140d282b71a49"
  },
  "kernelspec": {
   "display_name": "Python 3.9.9 64-bit",
   "language": "python",
   "name": "python3"
  },
  "language_info": {
   "codemirror_mode": {
    "name": "ipython",
    "version": 3
   },
   "file_extension": ".py",
   "mimetype": "text/x-python",
   "name": "python",
   "nbconvert_exporter": "python",
   "pygments_lexer": "ipython3",
   "version": "3.9.9"
  },
  "orig_nbformat": 4
 },
 "nbformat": 4,
 "nbformat_minor": 2
}
