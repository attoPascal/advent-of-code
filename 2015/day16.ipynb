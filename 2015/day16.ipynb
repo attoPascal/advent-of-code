{
 "cells": [
  {
   "cell_type": "code",
   "execution_count": 1,
   "metadata": {},
   "outputs": [],
   "source": [
    "import aocd\n",
    "import json\n",
    "import re\n",
    "from dataclasses import dataclass\n",
    "from typing import Optional\n"
   ]
  },
  {
   "cell_type": "code",
   "execution_count": 2,
   "metadata": {},
   "outputs": [],
   "source": [
    "@dataclass(kw_only=True)\n",
    "class Sue:\n",
    "    children:    Optional[int] = None\n",
    "    cats:        Optional[int] = None\n",
    "    samoyeds:    Optional[int] = None\n",
    "    pomeranians: Optional[int] = None\n",
    "    akitas:      Optional[int] = None\n",
    "    vizslas:     Optional[int] = None\n",
    "    goldfish:    Optional[int] = None\n",
    "    trees:       Optional[int] = None\n",
    "    cars:        Optional[int] = None\n",
    "    perfumes:    Optional[int] = None"
   ]
  },
  {
   "cell_type": "code",
   "execution_count": 3,
   "metadata": {},
   "outputs": [],
   "source": [
    "data = aocd.get_data(day=16, year=2015)\n",
    "data = re.sub(r\"Sue \\d+: \", \"\", data)\n",
    "data = re.sub(r\"([a-z]+)\", r'\"\\1\"', data)\n",
    "compounds = [json.loads(f\"{{{line}}}\") for line in data.splitlines()]\n",
    "sues = [Sue(**kwargs) for kwargs in compounds]"
   ]
  },
  {
   "cell_type": "code",
   "execution_count": 6,
   "metadata": {},
   "outputs": [
    {
     "name": "stdout",
     "output_type": "stream",
     "text": [
      "40\n"
     ]
    }
   ],
   "source": [
    "def is_the_sue(sue: Sue):\n",
    "    if not (sue.children    is None or sue.children == 3):    return False\n",
    "    if not (sue.cats        is None or sue.cats == 7):        return False\n",
    "    if not (sue.samoyeds    is None or sue.samoyeds == 2):    return False\n",
    "    if not (sue.pomeranians is None or sue.pomeranians == 3): return False\n",
    "    if not (sue.akitas      is None or sue.akitas == 0):      return False\n",
    "    if not (sue.vizslas     is None or sue.vizslas == 0):     return False\n",
    "    if not (sue.goldfish    is None or sue.goldfish == 5):    return False\n",
    "    if not (sue.trees       is None or sue.trees == 3):       return False\n",
    "    if not (sue.cars        is None or sue.cars == 2):        return False\n",
    "    if not (sue.perfumes    is None or sue.perfumes == 1):    return False\n",
    "    return True\n",
    "\n",
    "for i, sue in enumerate(sues, 1):\n",
    "    if is_the_sue(sue):\n",
    "        print(i)"
   ]
  },
  {
   "cell_type": "code",
   "execution_count": 7,
   "metadata": {},
   "outputs": [
    {
     "name": "stdout",
     "output_type": "stream",
     "text": [
      "241\n"
     ]
    }
   ],
   "source": [
    "def fits_mfcsam(sue: Sue):\n",
    "    if not (sue.children    is None or sue.children == 3):   return False\n",
    "    if not (sue.cats        is None or sue.cats > 7):        return False\n",
    "    if not (sue.samoyeds    is None or sue.samoyeds == 2):   return False\n",
    "    if not (sue.pomeranians is None or sue.pomeranians < 3): return False\n",
    "    if not (sue.akitas      is None or sue.akitas == 0):     return False\n",
    "    if not (sue.vizslas     is None or sue.vizslas == 0):    return False\n",
    "    if not (sue.goldfish    is None or sue.goldfish < 5):    return False\n",
    "    if not (sue.trees       is None or sue.trees > 3):       return False\n",
    "    if not (sue.cars        is None or sue.cars == 2):       return False\n",
    "    if not (sue.perfumes    is None or sue.perfumes == 1):   return False\n",
    "    return True\n",
    "\n",
    "for i, sue in enumerate(sues, 1):\n",
    "    if fits_mfcsam(sue):\n",
    "        print(i)"
   ]
  }
 ],
 "metadata": {
  "kernelspec": {
   "display_name": "Python 3",
   "language": "python",
   "name": "python3"
  },
  "language_info": {
   "codemirror_mode": {
    "name": "ipython",
    "version": 3
   },
   "file_extension": ".py",
   "mimetype": "text/x-python",
   "name": "python",
   "nbconvert_exporter": "python",
   "pygments_lexer": "ipython3",
   "version": "3.11.0"
  },
  "orig_nbformat": 4,
  "vscode": {
   "interpreter": {
    "hash": "1a1af0ee75eeea9e2e1ee996c87e7a2b11a0bebd85af04bb136d915cefc0abce"
   }
  }
 },
 "nbformat": 4,
 "nbformat_minor": 2
}
