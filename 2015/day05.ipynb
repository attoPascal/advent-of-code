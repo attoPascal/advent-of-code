{
 "cells": [
  {
   "cell_type": "code",
   "execution_count": 1,
   "metadata": {},
   "outputs": [],
   "source": [
    "import aocd\n",
    "import re"
   ]
  },
  {
   "cell_type": "code",
   "execution_count": 2,
   "metadata": {},
   "outputs": [
    {
     "data": {
      "text/plain": [
       "236"
      ]
     },
     "execution_count": 2,
     "metadata": {},
     "output_type": "execute_result"
    }
   ],
   "source": [
    "lines = aocd.get_data(day=5, year=2015).splitlines()\n",
    "\n",
    "def nice(s):\n",
    "    p0 = len(re.findall(r'[aeiou]', s)) >= 3\n",
    "    p1 = re.search(r'(.)\\1', s)\n",
    "    p2 = all(forbidden not in s for forbidden in ['ab', 'cd', 'pq', 'xy'])\n",
    "    return all([p0, p1, p2])\n",
    "\n",
    "sum(nice(s) for s in lines)"
   ]
  },
  {
   "cell_type": "code",
   "execution_count": 7,
   "metadata": {},
   "outputs": [
    {
     "data": {
      "text/plain": [
       "51"
      ]
     },
     "execution_count": 7,
     "metadata": {},
     "output_type": "execute_result"
    }
   ],
   "source": [
    "def nice2(s):\n",
    "    p0 = re.search(r'(.)(.).*\\1\\2', s)\n",
    "    p1 = re.search(r'(.).\\1', s)\n",
    "    return all([p0, p1])\n",
    "    \n",
    "sum(nice2(s) for s in lines)"
   ]
  }
 ],
 "metadata": {
  "interpreter": {
   "hash": "aee8b7b246df8f9039afb4144a1f6fd8d2ca17a180786b69acc140d282b71a49"
  },
  "kernelspec": {
   "display_name": "Python 3.9.9 64-bit",
   "language": "python",
   "name": "python3"
  },
  "language_info": {
   "codemirror_mode": {
    "name": "ipython",
    "version": 3
   },
   "file_extension": ".py",
   "mimetype": "text/x-python",
   "name": "python",
   "nbconvert_exporter": "python",
   "pygments_lexer": "ipython3",
   "version": "3.9.9"
  },
  "orig_nbformat": 4
 },
 "nbformat": 4,
 "nbformat_minor": 2
}
