{
 "cells": [
  {
   "cell_type": "code",
   "execution_count": 1,
   "metadata": {},
   "outputs": [],
   "source": [
    "import aocd\n",
    "from dataclasses import dataclass\n",
    "from itertools import repeat, islice, accumulate\n",
    "from more_itertools import nth\n",
    "from parse import parse"
   ]
  },
  {
   "cell_type": "code",
   "execution_count": 2,
   "metadata": {},
   "outputs": [],
   "source": [
    "@dataclass\n",
    "class Reindeer:\n",
    "    name: str\n",
    "    velocity: int\n",
    "    fly_duration: int\n",
    "    rest_duration: int"
   ]
  },
  {
   "cell_type": "code",
   "execution_count": 3,
   "metadata": {},
   "outputs": [],
   "source": [
    "lines = aocd.get_data(day=14, year=2015).splitlines()\n",
    "reindeer = [Reindeer(**parse(\"{name} can fly {velocity:d} km/s for {fly_duration:d} seconds, but then must rest for {rest_duration:d} seconds.\", line).named) for line in lines]"
   ]
  },
  {
   "cell_type": "code",
   "execution_count": 4,
   "metadata": {},
   "outputs": [],
   "source": [
    "def simulate(reindeer: Reindeer):\n",
    "    while True:\n",
    "        yield from repeat(reindeer.velocity, reindeer.fly_duration)\n",
    "        yield from repeat(0, reindeer.rest_duration)"
   ]
  },
  {
   "cell_type": "code",
   "execution_count": 5,
   "metadata": {},
   "outputs": [
    {
     "name": "stdout",
     "output_type": "stream",
     "text": [
      "Part 1: 2660\n"
     ]
    }
   ],
   "source": [
    "flights = [accumulate(simulate(r)) for r in reindeer]\n",
    "print(\"Part 1:\", max(nth(flight, 2503) for flight in flights))"
   ]
  },
  {
   "cell_type": "code",
   "execution_count": 6,
   "metadata": {},
   "outputs": [
    {
     "name": "stdout",
     "output_type": "stream",
     "text": [
      "Part 2: 1256\n"
     ]
    }
   ],
   "source": [
    "flights = [accumulate(simulate(r)) for r in reindeer]\n",
    "points = [0] * len(reindeer)\n",
    "\n",
    "for _ in range(2503):\n",
    "    distances = [next(flight) for flight in flights]\n",
    "    for i, distance in enumerate(distances):\n",
    "        if distance == max(distances):\n",
    "            points[i] += 1\n",
    "\n",
    "print(\"Part 2:\", max(points))"
   ]
  }
 ],
 "metadata": {
  "kernelspec": {
   "display_name": "Python 3",
   "language": "python",
   "name": "python3"
  },
  "language_info": {
   "codemirror_mode": {
    "name": "ipython",
    "version": 3
   },
   "file_extension": ".py",
   "mimetype": "text/x-python",
   "name": "python",
   "nbconvert_exporter": "python",
   "pygments_lexer": "ipython3",
   "version": "3.11.0"
  },
  "orig_nbformat": 4,
  "vscode": {
   "interpreter": {
    "hash": "1a1af0ee75eeea9e2e1ee996c87e7a2b11a0bebd85af04bb136d915cefc0abce"
   }
  }
 },
 "nbformat": 4,
 "nbformat_minor": 2
}
