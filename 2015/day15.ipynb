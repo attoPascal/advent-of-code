{
 "cells": [
  {
   "cell_type": "code",
   "execution_count": 1,
   "metadata": {},
   "outputs": [],
   "source": [
    "from dataclasses import dataclass\n",
    "from parse import parse"
   ]
  },
  {
   "cell_type": "code",
   "execution_count": 2,
   "metadata": {},
   "outputs": [],
   "source": [
    "@dataclass(frozen=True)\n",
    "class Ingredient:\n",
    "    name: str\n",
    "    capacity: int\n",
    "    durability: int\n",
    "    flavor: int\n",
    "    texture: int\n",
    "    calories: int\n",
    "\n",
    "@dataclass\n",
    "class Cookie:\n",
    "    ingredients: dict[Ingredient, int]\n",
    "\n",
    "    @property\n",
    "    def capacity(self):\n",
    "        return max(0, sum(amount * ingredient.capacity for ingredient, amount in self.ingredients.items()))\n",
    "    \n",
    "    @property\n",
    "    def durability(self):\n",
    "        return max(0, sum(amount * ingredient.durability for ingredient, amount in self.ingredients.items()))\n",
    "    \n",
    "    @property\n",
    "    def flavor(self):\n",
    "        return max(0, sum(amount * ingredient.flavor for ingredient, amount in self.ingredients.items()))\n",
    "\n",
    "    @property\n",
    "    def texture(self):\n",
    "        return max(0, sum(amount * ingredient.texture for ingredient, amount in self.ingredients.items()))\n",
    "    \n",
    "    @property\n",
    "    def calories(self):\n",
    "        return max(0, sum(amount * ingredient.calories for ingredient, amount in self.ingredients.items()))\n",
    "    \n",
    "    @property\n",
    "    def score(self):\n",
    "        return self.capacity * self.durability * self.flavor * self.texture"
   ]
  },
  {
   "cell_type": "code",
   "execution_count": 3,
   "metadata": {},
   "outputs": [],
   "source": [
    "def parse_ingredient(line):\n",
    "    return Ingredient(**parse(\"{name}: capacity {capacity:d}, durability {durability:d}, flavor {flavor:d}, texture {texture:d}, calories {calories:d}\", line).named)\n",
    "\n",
    "sprinkles, butterscotch, chocolate, candy = (parse_ingredient(line) for line in [\n",
    "    \"Sprinkles: capacity 2, durability 0, flavor -2, texture 0, calories 3\",\n",
    "    \"Butterscotch: capacity 0, durability 5, flavor -3, texture 0, calories 3\",\n",
    "    \"Chocolate: capacity 0, durability 0, flavor 5, texture -1, calories 8\",\n",
    "    \"Candy: capacity 0, durability -1, flavor 0, texture 5, calories 8\"])"
   ]
  },
  {
   "cell_type": "code",
   "execution_count": 4,
   "metadata": {},
   "outputs": [],
   "source": [
    "cookies = []\n",
    "for a1 in range(101):\n",
    "    for a2 in range(101-a1):\n",
    "        for a3 in range(101-a1-a2):\n",
    "            a4 = 100-a1-a2-a3\n",
    "            cookies.append(Cookie({sprinkles: a1, butterscotch: a2, chocolate: a3, candy: a4}))"
   ]
  },
  {
   "cell_type": "code",
   "execution_count": 5,
   "metadata": {},
   "outputs": [
    {
     "name": "stdout",
     "output_type": "stream",
     "text": [
      "Part 1: 21367368\n",
      "Part 2: 1766400\n"
     ]
    }
   ],
   "source": [
    "print(\"Part 1:\", max(cookie.score for cookie in cookies))\n",
    "print(\"Part 2:\", max(cookie.score for cookie in filter(lambda c: c.calories == 500, cookies)))"
   ]
  }
 ],
 "metadata": {
  "kernelspec": {
   "display_name": "Python 3",
   "language": "python",
   "name": "python3"
  },
  "language_info": {
   "codemirror_mode": {
    "name": "ipython",
    "version": 3
   },
   "file_extension": ".py",
   "mimetype": "text/x-python",
   "name": "python",
   "nbconvert_exporter": "python",
   "pygments_lexer": "ipython3",
   "version": "3.11.0"
  },
  "orig_nbformat": 4,
  "vscode": {
   "interpreter": {
    "hash": "1a1af0ee75eeea9e2e1ee996c87e7a2b11a0bebd85af04bb136d915cefc0abce"
   }
  }
 },
 "nbformat": 4,
 "nbformat_minor": 2
}
