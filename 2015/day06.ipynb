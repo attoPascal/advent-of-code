{
 "cells": [
  {
   "cell_type": "code",
   "execution_count": 1,
   "metadata": {},
   "outputs": [],
   "source": [
    "import aocd\n",
    "import numpy as np\n",
    "import re"
   ]
  },
  {
   "cell_type": "code",
   "execution_count": 2,
   "metadata": {},
   "outputs": [
    {
     "data": {
      "text/plain": [
       "569999"
      ]
     },
     "execution_count": 2,
     "metadata": {},
     "output_type": "execute_result"
    }
   ],
   "source": [
    "data = aocd.get_data(day=6, year=2015).splitlines()\n",
    "grid = np.zeros((1000, 1000), dtype=bool)\n",
    "\n",
    "r = re.compile(r'(.+) (\\d+),(\\d+) through (\\d+),(\\d+)')\n",
    "for line in data:\n",
    "    m = r.match(line)\n",
    "    instruction = m.group(1)\n",
    "    x0, y0 = int(m.group(2)), int(m.group(3))\n",
    "    x1, y1 = int(m.group(4)), int(m.group(5))\n",
    "\n",
    "    if instruction == 'turn on':\n",
    "        grid[x0:x1+1, y0:y1+1] = True\n",
    "    elif instruction == 'turn off':\n",
    "        grid[x0:x1+1, y0:y1+1] = False\n",
    "    elif instruction == 'toggle':\n",
    "        grid[x0:x1+1, y0:y1+1] = ~grid[x0:x1+1, y0:y1+1]\n",
    "\n",
    "np.count_nonzero(grid)"
   ]
  },
  {
   "cell_type": "code",
   "execution_count": 3,
   "metadata": {},
   "outputs": [
    {
     "data": {
      "text/plain": [
       "17836115"
      ]
     },
     "execution_count": 3,
     "metadata": {},
     "output_type": "execute_result"
    }
   ],
   "source": [
    "grid = np.zeros((1000, 1000), dtype=int)\n",
    "\n",
    "for line in data:\n",
    "    m = r.match(line)\n",
    "    instruction = m.group(1)\n",
    "    x0, y0 = int(m.group(2)), int(m.group(3))\n",
    "    x1, y1 = int(m.group(4)), int(m.group(5))\n",
    "\n",
    "    if instruction == 'turn on':\n",
    "        grid[x0:x1+1, y0:y1+1] += 1\n",
    "    elif instruction == 'turn off':\n",
    "        grid[x0:x1+1, y0:y1+1] -= 1\n",
    "        grid[grid < 0] = 0\n",
    "    elif instruction == 'toggle':\n",
    "        grid[x0:x1+1, y0:y1+1] += 2\n",
    "\n",
    "np.sum(grid)"
   ]
  },
  {
   "cell_type": "code",
   "execution_count": null,
   "metadata": {},
   "outputs": [],
   "source": []
  }
 ],
 "metadata": {
  "interpreter": {
   "hash": "aee8b7b246df8f9039afb4144a1f6fd8d2ca17a180786b69acc140d282b71a49"
  },
  "kernelspec": {
   "display_name": "Python 3.9.9 64-bit",
   "language": "python",
   "name": "python3"
  },
  "language_info": {
   "codemirror_mode": {
    "name": "ipython",
    "version": 3
   },
   "file_extension": ".py",
   "mimetype": "text/x-python",
   "name": "python",
   "nbconvert_exporter": "python",
   "pygments_lexer": "ipython3",
   "version": "3.9.9"
  },
  "orig_nbformat": 4
 },
 "nbformat": 4,
 "nbformat_minor": 2
}
