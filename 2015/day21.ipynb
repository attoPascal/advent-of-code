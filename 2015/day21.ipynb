{
 "cells": [
  {
   "cell_type": "code",
   "execution_count": 1,
   "metadata": {},
   "outputs": [],
   "source": [
    "from dataclasses import dataclass\n",
    "from enum import Enum, auto\n",
    "from itertools import combinations, product\n",
    "from more_itertools import collapse"
   ]
  },
  {
   "cell_type": "code",
   "execution_count": 2,
   "metadata": {},
   "outputs": [],
   "source": [
    "@dataclass\n",
    "class Item:\n",
    "    name: str\n",
    "    cost: int\n",
    "    damage: int = 0\n",
    "    armor: int = 0\n",
    "\n",
    "items = [\n",
    "    Item(\"Dagger\",      8, damage=4),\n",
    "    Item(\"Shortsword\", 10, damage=5),\n",
    "    Item(\"Warhammer\",  25, damage=6),\n",
    "    Item(\"Longsword\",  40, damage=7),\n",
    "    Item(\"Greataxe\",   74, damage=8),\n",
    "    Item(\"Leather\",    13, armor=1),\n",
    "    Item(\"Chainmail\",  31, armor=2),\n",
    "    Item(\"Splintmail\", 53, armor=3),\n",
    "    Item(\"Bandedmail\", 75, armor=4),\n",
    "    Item(\"Platemail\", 102, armor=5),\n",
    "    Item(\"Damage +1\",  25, damage=1),\n",
    "    Item(\"Damage +2\",  50, damage=2),\n",
    "    Item(\"Damage +3\", 100, damage=3),\n",
    "    Item(\"Defense +1\", 20, armor=1),\n",
    "    Item(\"Defense +2\", 40, armor=2),\n",
    "    Item(\"Defense +3\", 80, armor=3),\n",
    "    Item(\"<none>\",      0)\n",
    "]\n",
    "\n",
    "weapons = items[0:5]\n",
    "armors  = items[5:10]\n",
    "rings   = items[10:16]\n",
    "no_item = items[16]"
   ]
  },
  {
   "cell_type": "code",
   "execution_count": 3,
   "metadata": {},
   "outputs": [],
   "source": [
    "valid_equiments: list[list[Item]] = sorted(list(\n",
    "    list(collapse(items)) for items in product(\n",
    "        weapons,\n",
    "        [no_item] + armors,\n",
    "        [no_item] + rings + list(combinations(rings, 2)))),\n",
    "    key=lambda items: sum(item.cost for item in items))"
   ]
  },
  {
   "cell_type": "code",
   "execution_count": 4,
   "metadata": {},
   "outputs": [],
   "source": [
    "@dataclass\n",
    "class Character:\n",
    "    hit_points: int\n",
    "    damage: int = 0\n",
    "    armor: int = 0\n",
    "\n",
    "def player_with_equipment(equiment: list[Item]):\n",
    "    player = Character(100)\n",
    "    player.damage = sum(item.damage for item in equiment)\n",
    "    player.armor = sum(item.armor for item in equiment)    \n",
    "    return player\n",
    "\n",
    "def attack(ch1: Character, ch2: Character):\n",
    "    ch2.hit_points -= max(1, ch1.damage - ch2.armor)"
   ]
  },
  {
   "cell_type": "code",
   "execution_count": 5,
   "metadata": {},
   "outputs": [
    {
     "name": "stdout",
     "output_type": "stream",
     "text": [
      "121\n"
     ]
    }
   ],
   "source": [
    "for equipment in valid_equiments:\n",
    "    player = player_with_equipment(equipment)\n",
    "    boss = Character(103, 9, 2)\n",
    "\n",
    "    while player.hit_points > 0:\n",
    "        attack(player, boss)\n",
    "        attack(boss, player)\n",
    "    \n",
    "    if boss.hit_points <= 0:\n",
    "        print(sum(item.cost for item in equipment))\n",
    "        break"
   ]
  },
  {
   "cell_type": "code",
   "execution_count": 6,
   "metadata": {},
   "outputs": [
    {
     "name": "stdout",
     "output_type": "stream",
     "text": [
      "201\n"
     ]
    }
   ],
   "source": [
    "for equiment in reversed(valid_equiments):\n",
    "    player = player_with_equipment(equiment)\n",
    "    boss = Character(103, 9, 2)\n",
    "\n",
    "    while boss.hit_points > 0:\n",
    "        attack(player, boss)\n",
    "        attack(boss, player)\n",
    "    \n",
    "    if player.hit_points <= 0:\n",
    "        print(sum(item.cost for item in equiment))\n",
    "        break"
   ]
  }
 ],
 "metadata": {
  "kernelspec": {
   "display_name": "Python 3",
   "language": "python",
   "name": "python3"
  },
  "language_info": {
   "codemirror_mode": {
    "name": "ipython",
    "version": 3
   },
   "file_extension": ".py",
   "mimetype": "text/x-python",
   "name": "python",
   "nbconvert_exporter": "python",
   "pygments_lexer": "ipython3",
   "version": "3.11.0"
  },
  "orig_nbformat": 4,
  "vscode": {
   "interpreter": {
    "hash": "1a1af0ee75eeea9e2e1ee996c87e7a2b11a0bebd85af04bb136d915cefc0abce"
   }
  }
 },
 "nbformat": 4,
 "nbformat_minor": 2
}
