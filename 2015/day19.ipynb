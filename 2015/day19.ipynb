{
 "cells": [
  {
   "cell_type": "code",
   "execution_count": 1,
   "metadata": {},
   "outputs": [],
   "source": [
    "import aocd\n",
    "from itertools import count"
   ]
  },
  {
   "cell_type": "code",
   "execution_count": 2,
   "metadata": {},
   "outputs": [],
   "source": [
    "lines, medicine = aocd.get_data(day=19, year=2015).split('\\n\\n')\n",
    "replacements = [tuple(line.split(' => ')) for line in lines.splitlines()]"
   ]
  },
  {
   "cell_type": "code",
   "execution_count": 3,
   "metadata": {},
   "outputs": [
    {
     "name": "stdout",
     "output_type": "stream",
     "text": [
      "Part 1: 518\n"
     ]
    }
   ],
   "source": [
    "possible_molecules = set()\n",
    "molecule = medicine\n",
    "\n",
    "for atom, replaced_atoms in replacements:\n",
    "    current = molecule\n",
    "    prefix = \"\"\n",
    "    while True:\n",
    "        try:\n",
    "            left, right = current.split(atom, 1)\n",
    "        except:\n",
    "            break\n",
    "        possible_molecules.add(prefix + left + replaced_atoms + right)\n",
    "        prefix += left + atom\n",
    "        current = right\n",
    "\n",
    "print(\"Part 1:\", len(possible_molecules))"
   ]
  },
  {
   "cell_type": "code",
   "execution_count": 4,
   "metadata": {},
   "outputs": [
    {
     "name": "stdout",
     "output_type": "stream",
     "text": [
      "Part 2: 200\n"
     ]
    }
   ],
   "source": [
    "steps = 0\n",
    "molecule = medicine\n",
    "\n",
    "while molecule != \"e\":\n",
    "    for atom, replaced_atoms in replacements:\n",
    "        steps += molecule.count(replaced_atoms)\n",
    "        molecule = molecule.replace(replaced_atoms, atom)\n",
    "\n",
    "print(\"Part 2:\", steps)"
   ]
  }
 ],
 "metadata": {
  "kernelspec": {
   "display_name": "Python 3",
   "language": "python",
   "name": "python3"
  },
  "language_info": {
   "codemirror_mode": {
    "name": "ipython",
    "version": 3
   },
   "file_extension": ".py",
   "mimetype": "text/x-python",
   "name": "python",
   "nbconvert_exporter": "python",
   "pygments_lexer": "ipython3",
   "version": "3.11.0"
  },
  "orig_nbformat": 4,
  "vscode": {
   "interpreter": {
    "hash": "1a1af0ee75eeea9e2e1ee996c87e7a2b11a0bebd85af04bb136d915cefc0abce"
   }
  }
 },
 "nbformat": 4,
 "nbformat_minor": 2
}
