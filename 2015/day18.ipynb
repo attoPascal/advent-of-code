{
 "cells": [
  {
   "cell_type": "code",
   "execution_count": 1,
   "metadata": {},
   "outputs": [],
   "source": [
    "import aocd\n",
    "import numpy as np\n",
    "from scipy.signal import convolve2d"
   ]
  },
  {
   "cell_type": "code",
   "execution_count": 2,
   "metadata": {},
   "outputs": [],
   "source": [
    "grid = np.array([[c == '#' for c in line] for line in aocd.get_data(day=18, year=2015).splitlines()], dtype=int)\n",
    "adj  = np.array([[1, 1, 1], [1, 0, 1], [1, 1, 1]])"
   ]
  },
  {
   "cell_type": "code",
   "execution_count": 3,
   "metadata": {},
   "outputs": [
    {
     "data": {
      "text/plain": [
       "1061"
      ]
     },
     "execution_count": 3,
     "metadata": {},
     "output_type": "execute_result"
    }
   ],
   "source": [
    "on = grid.copy()\n",
    "for step in range(100):\n",
    "    neighbors = convolve2d(on, adj, mode='same')\n",
    "    stays_on = on & ((neighbors == 2) | (neighbors == 3))\n",
    "    turns_on = ~on & (neighbors == 3)\n",
    "    on = stays_on | turns_on\n",
    "np.sum(on)"
   ]
  },
  {
   "cell_type": "code",
   "execution_count": 4,
   "metadata": {},
   "outputs": [
    {
     "data": {
      "text/plain": [
       "1006"
      ]
     },
     "execution_count": 4,
     "metadata": {},
     "output_type": "execute_result"
    }
   ],
   "source": [
    "on = grid.copy()\n",
    "for step in range(100):\n",
    "    neighbors = convolve2d(on, adj, mode='same')\n",
    "    stays_on = on & ((neighbors == 2) | (neighbors == 3))\n",
    "    turns_on = ~on & (neighbors == 3)\n",
    "    on = stays_on | turns_on\n",
    "    on[0, 0]   = 1\n",
    "    on[0, -1]  = 1\n",
    "    on[-1, 0]  = 1\n",
    "    on[-1, -1] = 1\n",
    "np.sum(on)"
   ]
  }
 ],
 "metadata": {
  "kernelspec": {
   "display_name": "Python 3",
   "language": "python",
   "name": "python3"
  },
  "language_info": {
   "codemirror_mode": {
    "name": "ipython",
    "version": 3
   },
   "file_extension": ".py",
   "mimetype": "text/x-python",
   "name": "python",
   "nbconvert_exporter": "python",
   "pygments_lexer": "ipython3",
   "version": "3.11.0"
  },
  "orig_nbformat": 4,
  "vscode": {
   "interpreter": {
    "hash": "1a1af0ee75eeea9e2e1ee996c87e7a2b11a0bebd85af04bb136d915cefc0abce"
   }
  }
 },
 "nbformat": 4,
 "nbformat_minor": 2
}
