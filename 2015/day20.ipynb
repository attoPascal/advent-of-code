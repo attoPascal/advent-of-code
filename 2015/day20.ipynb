{
 "cells": [
  {
   "cell_type": "code",
   "execution_count": 2,
   "metadata": {},
   "outputs": [],
   "source": [
    "import math\n",
    "from itertools import count, chain\n",
    "from functools import cache"
   ]
  },
  {
   "cell_type": "code",
   "execution_count": 3,
   "metadata": {},
   "outputs": [],
   "source": [
    "@cache\n",
    "def factors(number):\n",
    "    f = set()\n",
    "    for n in range(1, int(math.sqrt(number))+1):\n",
    "        if number % n == 0:\n",
    "            f.add(n)\n",
    "            f.add(number // n)\n",
    "    return f"
   ]
  },
  {
   "cell_type": "code",
   "execution_count": 5,
   "metadata": {},
   "outputs": [
    {
     "name": "stdout",
     "output_type": "stream",
     "text": [
      "776160\n"
     ]
    }
   ],
   "source": [
    "def presents_for_house(number):\n",
    "    return 10 * sum(factors(number))\n",
    "\n",
    "for n in count(1):\n",
    "    if presents_for_house(n) >= 33100000:\n",
    "        print(n)\n",
    "        break"
   ]
  },
  {
   "cell_type": "code",
   "execution_count": 6,
   "metadata": {},
   "outputs": [
    {
     "name": "stdout",
     "output_type": "stream",
     "text": [
      "786240\n"
     ]
    }
   ],
   "source": [
    "def presents_for_house2(number):\n",
    "    return 11 * sum(n for n in factors(number) if number <= 50*n)\n",
    "\n",
    "for n in count(1):\n",
    "    if presents_for_house2(n) >= 33100000:\n",
    "        print(n)\n",
    "        break"
   ]
  }
 ],
 "metadata": {
  "kernelspec": {
   "display_name": "Python 3",
   "language": "python",
   "name": "python3"
  },
  "language_info": {
   "codemirror_mode": {
    "name": "ipython",
    "version": 3
   },
   "file_extension": ".py",
   "mimetype": "text/x-python",
   "name": "python",
   "nbconvert_exporter": "python",
   "pygments_lexer": "ipython3",
   "version": "3.11.0"
  },
  "orig_nbformat": 4,
  "vscode": {
   "interpreter": {
    "hash": "1a1af0ee75eeea9e2e1ee996c87e7a2b11a0bebd85af04bb136d915cefc0abce"
   }
  }
 },
 "nbformat": 4,
 "nbformat_minor": 2
}
