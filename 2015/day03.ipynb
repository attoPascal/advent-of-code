{
 "cells": [
  {
   "cell_type": "code",
   "execution_count": 1,
   "metadata": {},
   "outputs": [],
   "source": [
    "import aocd\n",
    "from collections import defaultdict"
   ]
  },
  {
   "cell_type": "code",
   "execution_count": 2,
   "metadata": {},
   "outputs": [
    {
     "name": "stdout",
     "output_type": "stream",
     "text": [
      "2081\n"
     ]
    }
   ],
   "source": [
    "data = aocd.get_data(day=3, year=2015)\n",
    "direction = {'^': +1j, '>': +1, 'v': -1j, '<': -1}\n",
    "\n",
    "houses = defaultdict(int)\n",
    "position = 0\n",
    "\n",
    "houses[position] += 1\n",
    "for c in data:\n",
    "    position += direction[c]\n",
    "    houses[position] += 1\n",
    "\n",
    "print(sum(1 for visits in houses.values() if visits > 0))"
   ]
  },
  {
   "cell_type": "code",
   "execution_count": 3,
   "metadata": {},
   "outputs": [
    {
     "name": "stdout",
     "output_type": "stream",
     "text": [
      "2341\n"
     ]
    }
   ],
   "source": [
    "houses = defaultdict(int)\n",
    "santa = 0\n",
    "robo = 0\n",
    "\n",
    "houses[santa] += 1\n",
    "for i, c in enumerate(data):\n",
    "    if i % 2:\n",
    "        robo += direction[c]\n",
    "        houses[robo] += 1\n",
    "    else:\n",
    "        santa += direction[c]\n",
    "        houses[santa] += 1\n",
    "\n",
    "print(sum(1 for visits in houses.values() if visits > 0))"
   ]
  }
 ],
 "metadata": {
  "interpreter": {
   "hash": "aee8b7b246df8f9039afb4144a1f6fd8d2ca17a180786b69acc140d282b71a49"
  },
  "kernelspec": {
   "display_name": "Python 3.9.9 64-bit",
   "language": "python",
   "name": "python3"
  },
  "language_info": {
   "codemirror_mode": {
    "name": "ipython",
    "version": 3
   },
   "file_extension": ".py",
   "mimetype": "text/x-python",
   "name": "python",
   "nbconvert_exporter": "python",
   "pygments_lexer": "ipython3",
   "version": "3.9.9"
  },
  "orig_nbformat": 4
 },
 "nbformat": 4,
 "nbformat_minor": 2
}
