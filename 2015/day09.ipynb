{
 "cells": [
  {
   "cell_type": "code",
   "execution_count": 1,
   "metadata": {},
   "outputs": [],
   "source": [
    "import aocd\n",
    "import parse\n",
    "import networkx as nx\n",
    "from itertools import pairwise, permutations"
   ]
  },
  {
   "cell_type": "code",
   "execution_count": 2,
   "metadata": {},
   "outputs": [],
   "source": [
    "data = aocd.get_data(day=9, year=2015)\n",
    "G = nx.Graph()\n",
    "\n",
    "for m in parse.findall(\"{u_of_edge} to {v_of_edge} = {weight:d}\\n\", data + '\\n'):\n",
    "    G.add_edge(**m.named)"
   ]
  },
  {
   "cell_type": "code",
   "execution_count": 3,
   "metadata": {},
   "outputs": [
    {
     "name": "stdout",
     "output_type": "stream",
     "text": [
      "Part 1: 207\n",
      "Part 2: 804\n"
     ]
    }
   ],
   "source": [
    "def length(path):\n",
    "    return sum(G[u][v]['weight'] for u, v in pairwise(path))\n",
    "\n",
    "print(\"Part 1:\", min(length(path) for path in permutations(G.nodes)))\n",
    "print(\"Part 2:\", max(length(path) for path in permutations(G.nodes)))"
   ]
  }
 ],
 "metadata": {
  "kernelspec": {
   "display_name": "Python 3",
   "language": "python",
   "name": "python3"
  },
  "language_info": {
   "codemirror_mode": {
    "name": "ipython",
    "version": 3
   },
   "file_extension": ".py",
   "mimetype": "text/x-python",
   "name": "python",
   "nbconvert_exporter": "python",
   "pygments_lexer": "ipython3",
   "version": "3.11.0"
  },
  "orig_nbformat": 4,
  "vscode": {
   "interpreter": {
    "hash": "1a1af0ee75eeea9e2e1ee996c87e7a2b11a0bebd85af04bb136d915cefc0abce"
   }
  }
 },
 "nbformat": 4,
 "nbformat_minor": 2
}
