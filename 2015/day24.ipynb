{
 "cells": [
  {
   "cell_type": "code",
   "execution_count": 1,
   "metadata": {},
   "outputs": [],
   "source": [
    "import aocd\n",
    "from math import prod\n",
    "from itertools import combinations"
   ]
  },
  {
   "cell_type": "code",
   "execution_count": 2,
   "metadata": {},
   "outputs": [],
   "source": [
    "packages = sorted([int(n) for n in aocd.get_data(day=24, year=2015).splitlines()], reverse=True)\n",
    "weight = sum(packages)"
   ]
  },
  {
   "cell_type": "code",
   "execution_count": 3,
   "metadata": {},
   "outputs": [],
   "source": [
    "def smallest_quantum_entanglement(packages, num_compartments):\n",
    "    for k in range(1, len(packages)):\n",
    "        groups = [list(group) for group in combinations(packages, k)]\n",
    "        if fits := [group for group in groups if sum(group) == weight // num_compartments]:\n",
    "            return min(prod(group) for group in fits)"
   ]
  },
  {
   "cell_type": "code",
   "execution_count": 4,
   "metadata": {},
   "outputs": [
    {
     "name": "stdout",
     "output_type": "stream",
     "text": [
      "Part 1: 11846773891\n",
      "Part 2: 80393059\n"
     ]
    }
   ],
   "source": [
    "print(\"Part 1:\", smallest_quantum_entanglement(packages, 3))\n",
    "print(\"Part 2:\", smallest_quantum_entanglement(packages, 4))"
   ]
  }
 ],
 "metadata": {
  "kernelspec": {
   "display_name": "Python 3",
   "language": "python",
   "name": "python3"
  },
  "language_info": {
   "codemirror_mode": {
    "name": "ipython",
    "version": 3
   },
   "file_extension": ".py",
   "mimetype": "text/x-python",
   "name": "python",
   "nbconvert_exporter": "python",
   "pygments_lexer": "ipython3",
   "version": "3.11.0"
  },
  "orig_nbformat": 4,
  "vscode": {
   "interpreter": {
    "hash": "1a1af0ee75eeea9e2e1ee996c87e7a2b11a0bebd85af04bb136d915cefc0abce"
   }
  }
 },
 "nbformat": 4,
 "nbformat_minor": 2
}
