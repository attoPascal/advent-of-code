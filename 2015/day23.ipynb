{
 "cells": [
  {
   "cell_type": "code",
   "execution_count": 1,
   "metadata": {},
   "outputs": [],
   "source": [
    "import aocd"
   ]
  },
  {
   "cell_type": "code",
   "execution_count": 2,
   "metadata": {},
   "outputs": [],
   "source": [
    "instructions = [line.split() for line in aocd.get_data(day=23, year=2015).splitlines()]\n",
    "\n",
    "def run(reg, ptr=0):\n",
    "    while 0 <= ptr < len(instructions):\n",
    "        match instructions[ptr]:\n",
    "            case 'hlf', r:\n",
    "                reg[r] //= 2\n",
    "            case 'tpl', r:\n",
    "                reg[r] *= 3\n",
    "            case 'inc', r:\n",
    "                reg[r] += 1\n",
    "            case 'jmp', offset:\n",
    "                ptr += int(offset)-1\n",
    "            case 'jie', r, offset:\n",
    "                if reg[r[0]] % 2 == 0:\n",
    "                    ptr += int(offset)-1\n",
    "            case 'jio', r, offset:\n",
    "                if reg[r[0]] == 1:\n",
    "                    ptr += int(offset)-1\n",
    "        ptr += 1\n",
    "\n",
    "    return reg['b']"
   ]
  },
  {
   "cell_type": "code",
   "execution_count": 3,
   "metadata": {},
   "outputs": [
    {
     "name": "stdout",
     "output_type": "stream",
     "text": [
      "Part 1: 307\n",
      "Part 2: 160\n"
     ]
    }
   ],
   "source": [
    "print(\"Part 1:\", run({'a': 0, 'b': 0}))\n",
    "print(\"Part 2:\", run({'a': 1, 'b': 0}))"
   ]
  }
 ],
 "metadata": {
  "kernelspec": {
   "display_name": "Python 3",
   "language": "python",
   "name": "python3"
  },
  "language_info": {
   "codemirror_mode": {
    "name": "ipython",
    "version": 3
   },
   "file_extension": ".py",
   "mimetype": "text/x-python",
   "name": "python",
   "nbconvert_exporter": "python",
   "pygments_lexer": "ipython3",
   "version": "3.11.0"
  },
  "orig_nbformat": 4,
  "vscode": {
   "interpreter": {
    "hash": "1a1af0ee75eeea9e2e1ee996c87e7a2b11a0bebd85af04bb136d915cefc0abce"
   }
  }
 },
 "nbformat": 4,
 "nbformat_minor": 2
}
