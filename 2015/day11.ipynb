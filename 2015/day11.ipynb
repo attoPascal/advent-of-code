{
 "cells": [
  {
   "cell_type": "code",
   "execution_count": 1,
   "metadata": {},
   "outputs": [],
   "source": [
    "def contains_increasing_staight(numbers):\n",
    "    for a, b, c in zip(numbers, numbers[1:], numbers[2:]):\n",
    "        if a + 1 == b and b + 1 == c:\n",
    "            return True\n",
    "    return False\n",
    "\n",
    "def contains_iol(numbers):\n",
    "    return ord('i') in numbers or ord('o') in numbers or ord('l') in numbers\n",
    "\n",
    "def contains_two_pairs(numbers):\n",
    "    for i, (a1, a2) in enumerate(zip(numbers, numbers[1:])):\n",
    "        if a1 == a2:\n",
    "            for b1, b2 in zip(numbers[i+2:], numbers[i+3:]):\n",
    "                if b1 == b2:\n",
    "                    return True\n",
    "    return False\n",
    "\n",
    "def increment(numbers):\n",
    "    for pos in range(-1, -len(numbers)-1, -1):\n",
    "        numbers[pos] += 1\n",
    "        if numbers[pos] <= ord('z'):\n",
    "            return numbers\n",
    "        else:\n",
    "            numbers[pos] = ord('a')\n",
    "    return numbers\n",
    "\n",
    "def check(numbers):\n",
    "    return contains_increasing_staight(numbers) and not contains_iol(numbers) and contains_two_pairs(numbers)\n",
    "\n",
    "def next_password(password):\n",
    "    numbers = [ord(letter) for letter in password]\n",
    "\n",
    "    while True:\n",
    "        numbers = increment(numbers)\n",
    "        if check(numbers):\n",
    "            return ''.join(chr(n) for n in numbers)"
   ]
  },
  {
   "cell_type": "code",
   "execution_count": 2,
   "metadata": {},
   "outputs": [
    {
     "data": {
      "text/plain": [
       "'hxbxxyzz'"
      ]
     },
     "execution_count": 2,
     "metadata": {},
     "output_type": "execute_result"
    }
   ],
   "source": [
    "next_password(\"hxbxwxba\")"
   ]
  },
  {
   "cell_type": "code",
   "execution_count": 3,
   "metadata": {},
   "outputs": [
    {
     "data": {
      "text/plain": [
       "'hxcaabcc'"
      ]
     },
     "execution_count": 3,
     "metadata": {},
     "output_type": "execute_result"
    }
   ],
   "source": [
    "next_password(\"hxbxxyzz\")"
   ]
  }
 ],
 "metadata": {
  "kernelspec": {
   "display_name": "Python 3",
   "language": "python",
   "name": "python3"
  },
  "language_info": {
   "codemirror_mode": {
    "name": "ipython",
    "version": 3
   },
   "file_extension": ".py",
   "mimetype": "text/x-python",
   "name": "python",
   "nbconvert_exporter": "python",
   "pygments_lexer": "ipython3",
   "version": "3.11.0"
  },
  "orig_nbformat": 4,
  "vscode": {
   "interpreter": {
    "hash": "1a1af0ee75eeea9e2e1ee996c87e7a2b11a0bebd85af04bb136d915cefc0abce"
   }
  }
 },
 "nbformat": 4,
 "nbformat_minor": 2
}
