{
 "cells": [
  {
   "cell_type": "code",
   "execution_count": 1,
   "metadata": {},
   "outputs": [],
   "source": [
    "import aocd\n",
    "import re"
   ]
  },
  {
   "cell_type": "code",
   "execution_count": 2,
   "metadata": {},
   "outputs": [],
   "source": [
    "def decode(s):\n",
    "    assert s[0] == '\"'\n",
    "    assert s[-1] == '\"'\n",
    "    s = s[1:-1]\n",
    "    s = re.sub(r'\\\\x[0-9a-f][0-9a-f]', '_', s)\n",
    "    s = re.sub(r'\\\\\\\\', r'\\\\', s)\n",
    "    s = re.sub(r'\\\\\"', r'\"', s)\n",
    "    return s\n",
    "\n",
    "def encode(s):\n",
    "    s = re.sub(r'\\\\', r'\\\\\\\\', s)\n",
    "    s = re.sub(r'\"', r'\\\\\"', s)\n",
    "    s = '\"' + s + '\"'\n",
    "    return s"
   ]
  },
  {
   "cell_type": "code",
   "execution_count": 3,
   "metadata": {},
   "outputs": [
    {
     "name": "stdout",
     "output_type": "stream",
     "text": [
      "Part 1: 1371\n",
      "Part 2: 2117\n"
     ]
    }
   ],
   "source": [
    "lines = aocd.get_data(day=8, year=2015).splitlines()\n",
    "\n",
    "print(\"Part 1:\", sum(len(line) for line in lines) - sum(len(decode(line)) for line in lines))\n",
    "print(\"Part 2:\", sum(len(encode(line)) for line in lines) - sum(len(line) for line in lines))\n"
   ]
  }
 ],
 "metadata": {
  "kernelspec": {
   "display_name": "Python 3",
   "language": "python",
   "name": "python3"
  },
  "language_info": {
   "codemirror_mode": {
    "name": "ipython",
    "version": 3
   },
   "file_extension": ".py",
   "mimetype": "text/x-python",
   "name": "python",
   "nbconvert_exporter": "python",
   "pygments_lexer": "ipython3",
   "version": "3.11.0"
  },
  "orig_nbformat": 4,
  "vscode": {
   "interpreter": {
    "hash": "1a1af0ee75eeea9e2e1ee996c87e7a2b11a0bebd85af04bb136d915cefc0abce"
   }
  }
 },
 "nbformat": 4,
 "nbformat_minor": 2
}
