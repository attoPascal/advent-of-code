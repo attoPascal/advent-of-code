{
 "cells": [
  {
   "cell_type": "code",
   "execution_count": 1,
   "metadata": {},
   "outputs": [],
   "source": [
    "import aocd\n",
    "from collections import defaultdict\n",
    "from itertools import pairwise, permutations\n",
    "from parse import parse"
   ]
  },
  {
   "cell_type": "code",
   "execution_count": 2,
   "metadata": {},
   "outputs": [],
   "source": [
    "lines = aocd.get_data(day=13, year=2015).splitlines()\n",
    "happiness_gain = defaultdict(dict)\n",
    "\n",
    "for line in lines:\n",
    "    assert (m := parse(\"{name} would {gain} {units:d} happiness units by sitting next to {neighbor}.\", line))\n",
    "    happiness_gain[m.named['name']][m.named['neighbor']] = m.named['units'] * (1 if m.named['gain'] == 'gain' else -1)\n",
    "\n",
    "names = list(happiness_gain.keys())"
   ]
  },
  {
   "cell_type": "code",
   "execution_count": 3,
   "metadata": {},
   "outputs": [],
   "source": [
    "def pairwise_happiness(name, neighbor):\n",
    "    try:\n",
    "        return happiness_gain[name][neighbor] + happiness_gain[neighbor][name]\n",
    "    except KeyError:\n",
    "        return 0\n",
    "\n",
    "def happiness(arrangement):\n",
    "    return sum(pairwise_happiness(n1, n2) for n1, n2 in pairwise(arrangement)) + pairwise_happiness(arrangement[0], arrangement[-1])"
   ]
  },
  {
   "cell_type": "code",
   "execution_count": 4,
   "metadata": {},
   "outputs": [
    {
     "name": "stdout",
     "output_type": "stream",
     "text": [
      "Part 1: 733\n",
      "Part 2: 725\n"
     ]
    }
   ],
   "source": [
    "print(\"Part 1:\", max(happiness(arrangement) for arrangement in permutations(names)))\n",
    "print(\"Part 2:\", max(happiness(arrangement) for arrangement in permutations(names + ['me'])))"
   ]
  }
 ],
 "metadata": {
  "kernelspec": {
   "display_name": "Python 3",
   "language": "python",
   "name": "python3"
  },
  "language_info": {
   "codemirror_mode": {
    "name": "ipython",
    "version": 3
   },
   "file_extension": ".py",
   "mimetype": "text/x-python",
   "name": "python",
   "nbconvert_exporter": "python",
   "pygments_lexer": "ipython3",
   "version": "3.11.0"
  },
  "orig_nbformat": 4,
  "vscode": {
   "interpreter": {
    "hash": "1a1af0ee75eeea9e2e1ee996c87e7a2b11a0bebd85af04bb136d915cefc0abce"
   }
  }
 },
 "nbformat": 4,
 "nbformat_minor": 2
}
