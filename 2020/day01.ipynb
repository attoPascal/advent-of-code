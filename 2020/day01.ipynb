{
 "metadata": {
  "language_info": {
   "codemirror_mode": {
    "name": "ipython",
    "version": 3
   },
   "file_extension": ".py",
   "mimetype": "text/x-python",
   "name": "python",
   "nbconvert_exporter": "python",
   "pygments_lexer": "ipython3",
   "version": "3.8.6-final"
  },
  "orig_nbformat": 2,
  "kernelspec": {
   "name": "python37764bitc2b96a9319f84cb89abb6df1460b5c0b",
   "display_name": "Python 3.7.7 64-bit"
  }
 },
 "nbformat": 4,
 "nbformat_minor": 2,
 "cells": [
  {
   "cell_type": "code",
   "execution_count": 1,
   "metadata": {},
   "outputs": [],
   "source": [
    "with open('input01.txt') as f:\n",
    "    lines = f.read().splitlines()"
   ]
  },
  {
   "cell_type": "code",
   "execution_count": 2,
   "metadata": {},
   "outputs": [],
   "source": [
    "nums = [int(l) for l in lines]"
   ]
  },
  {
   "cell_type": "code",
   "execution_count": 3,
   "metadata": {},
   "outputs": [
    {
     "output_type": "execute_result",
     "data": {
      "text/plain": [
       "870331"
      ]
     },
     "metadata": {},
     "execution_count": 3
    }
   ],
   "source": [
    "def search1():\n",
    "    for n1 in nums:\n",
    "      for n2 in nums:\n",
    "        if n1 + n2 == 2020:\n",
    "          return n1 * n2\n",
    "search1()"
   ]
  },
  {
   "cell_type": "code",
   "execution_count": 4,
   "metadata": {},
   "outputs": [
    {
     "output_type": "execute_result",
     "data": {
      "text/plain": [
       "283025088"
      ]
     },
     "metadata": {},
     "execution_count": 4
    }
   ],
   "source": [
    "def search2():\n",
    "  for n1 in nums:\n",
    "    for n2 in nums:\n",
    "      for n3 in nums:\n",
    "        if n1 + n2 + n3 == 2020:\n",
    "          return n1 * n2 * n3\n",
    "search2()"
   ]
  },
  {
   "cell_type": "code",
   "execution_count": null,
   "metadata": {},
   "outputs": [],
   "source": []
  }
 ]
}