{
 "metadata": {
  "language_info": {
   "codemirror_mode": {
    "name": "ipython",
    "version": 3
   },
   "file_extension": ".py",
   "mimetype": "text/x-python",
   "name": "python",
   "nbconvert_exporter": "python",
   "pygments_lexer": "ipython3",
   "version": "3.9.0-final"
  },
  "orig_nbformat": 2,
  "kernelspec": {
   "name": "python3",
   "display_name": "Python 3",
   "language": "python"
  }
 },
 "nbformat": 4,
 "nbformat_minor": 2,
 "cells": [
  {
   "cell_type": "code",
   "execution_count": 1,
   "metadata": {},
   "outputs": [],
   "source": [
    "import re\n",
    "import numpy as np\n",
    "from scipy.signal import convolve2d"
   ]
  },
  {
   "cell_type": "code",
   "execution_count": 2,
   "metadata": {},
   "outputs": [],
   "source": [
    "input = \"\"\"\\\n",
    "sesenwnenenewseeswwswswwnenewsewsw\n",
    "neeenesenwnwwswnenewnwwsewnenwseswesw\n",
    "seswneswswsenwwnwse\n",
    "nwnwneseeswswnenewneswwnewseswneseene\n",
    "swweswneswnenwsewnwneneseenw\n",
    "eesenwseswswnenwswnwnwsewwnwsene\n",
    "sewnenenenesenwsewnenwwwse\n",
    "wenwwweseeeweswwwnwwe\n",
    "wsweesenenewnwwnwsenewsenwwsesesenwne\n",
    "neeswseenwwswnwswswnw\n",
    "nenwswwsewswnenenewsenwsenwnesesenew\n",
    "enewnwewneswsewnwswenweswnenwsenwsw\n",
    "sweneswneswneneenwnewenewwneswswnese\n",
    "swwesenesewenwneswnwwneseswwne\n",
    "enesenwswwswneneswsenwnewswseenwsese\n",
    "wnwnesenesenenwwnenwsewesewsesesew\n",
    "nenewswnwewswnenesenwnesewesw\n",
    "eneswnwswnwsenenwnwnwwseeswneewsenese\n",
    "neswnwewnwnwseenwseesewsenwsweewe\n",
    "wseweeenwnesenwwwswnew\"\"\".splitlines()\n",
    "\n",
    "with open('input24.txt') as f:\n",
    "    input = f.read().splitlines()\n",
    "\n",
    "paths = [re.findall(r'e|se|sw|w|nw|ne', line) for line in input]"
   ]
  },
  {
   "cell_type": "code",
   "execution_count": 3,
   "metadata": {},
   "outputs": [
    {
     "output_type": "execute_result",
     "data": {
      "text/plain": [
       "22"
      ]
     },
     "metadata": {},
     "execution_count": 3
    }
   ],
   "source": [
    "max(len(p) for p in paths)"
   ]
  },
  {
   "cell_type": "code",
   "execution_count": 4,
   "metadata": {},
   "outputs": [],
   "source": [
    "def direction(d):\n",
    "    return np.array({\n",
    "        'e':   [0,  1],\n",
    "        'se':  [1,  0],\n",
    "        'sw':  [1, -1],\n",
    "        'w':   [0, -1],\n",
    "        'nw': [-1,  0],\n",
    "        'ne': [-1,  1]\n",
    "    }[d])"
   ]
  },
  {
   "cell_type": "code",
   "execution_count": 5,
   "metadata": {},
   "outputs": [],
   "source": [
    "grid = np.zeros((50, 50), bool)\n",
    "reference = np.array([25, 25])"
   ]
  },
  {
   "cell_type": "code",
   "execution_count": 6,
   "metadata": {},
   "outputs": [],
   "source": [
    "path = paths[0]"
   ]
  },
  {
   "cell_type": "code",
   "execution_count": 7,
   "metadata": {},
   "outputs": [],
   "source": [
    "for path in paths:\n",
    "    i = tuple(reference + np.sum([direction(d) for d in path], axis=0))\n",
    "    grid[i] = ~grid[i]"
   ]
  },
  {
   "cell_type": "code",
   "execution_count": 8,
   "metadata": {},
   "outputs": [
    {
     "output_type": "execute_result",
     "data": {
      "text/plain": [
       "411"
      ]
     },
     "metadata": {},
     "execution_count": 8
    }
   ],
   "source": [
    "np.sum(grid)"
   ]
  },
  {
   "cell_type": "code",
   "execution_count": 9,
   "metadata": {},
   "outputs": [
    {
     "output_type": "stream",
     "name": "stdout",
     "text": [
      "4092\n"
     ]
    }
   ],
   "source": [
    "mask = np.array([[0, 1, 1], [1, 0, 1], [1, 1, 0]])\n",
    "\n",
    "for i in range(100):\n",
    "    grid = np.pad(grid, 1)\n",
    "    neighbors = convolve2d(grid, mask, mode='same')\n",
    "\n",
    "    black_to_white = np.logical_and(grid, np.logical_or(neighbors == 0, neighbors > 2))\n",
    "    white_to_black = np.logical_and(~grid, neighbors == 2)\n",
    "    flip = np.logical_or(black_to_white, white_to_black)\n",
    "\n",
    "    grid[flip] = ~grid[flip]\n",
    "print(np.sum(grid))"
   ]
  }
 ]
}