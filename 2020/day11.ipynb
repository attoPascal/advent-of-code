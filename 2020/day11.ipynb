{
 "metadata": {
  "language_info": {
   "codemirror_mode": {
    "name": "ipython",
    "version": 3
   },
   "file_extension": ".py",
   "mimetype": "text/x-python",
   "name": "python",
   "nbconvert_exporter": "python",
   "pygments_lexer": "ipython3",
   "version": "3.9.0-final"
  },
  "orig_nbformat": 2,
  "kernelspec": {
   "name": "python3",
   "display_name": "Python 3.9.0 64-bit",
   "metadata": {
    "interpreter": {
     "hash": "aee8b7b246df8f9039afb4144a1f6fd8d2ca17a180786b69acc140d282b71a49"
    }
   }
  }
 },
 "nbformat": 4,
 "nbformat_minor": 2,
 "cells": [
  {
   "cell_type": "code",
   "execution_count": 1,
   "metadata": {},
   "outputs": [],
   "source": [
    "import numpy as np"
   ]
  },
  {
   "cell_type": "code",
   "execution_count": 2,
   "metadata": {},
   "outputs": [],
   "source": [
    "with open('input11.txt') as f:\n",
    "    lines = f.read().splitlines()\n",
    "\n",
    "seats  = np.array([[ord(c) for c in line] for line in lines], dtype=int)\n",
    "seats2 = seats.copy()"
   ]
  },
  {
   "cell_type": "code",
   "execution_count": 3,
   "metadata": {},
   "outputs": [
    {
     "output_type": "execute_result",
     "data": {
      "text/plain": [
       "array([[76, 76, 76, ..., 76, 76, 76],\n",
       "       [76, 76, 76, ..., 76, 76, 76],\n",
       "       [76, 76, 76, ..., 46, 76, 46],\n",
       "       ...,\n",
       "       [76, 46, 76, ..., 76, 76, 76],\n",
       "       [76, 76, 76, ..., 76, 76, 76],\n",
       "       [76, 76, 76, ..., 76, 76, 76]])"
      ]
     },
     "metadata": {},
     "execution_count": 3
    }
   ],
   "source": [
    "seats"
   ]
  },
  {
   "cell_type": "code",
   "execution_count": 4,
   "metadata": {},
   "outputs": [],
   "source": [
    "def check_neighbors(seats, x, y):\n",
    "    seat = seats[x, y]\n",
    "    lower_x = x-1 if x > 0 else 0\n",
    "    lower_y = y-1 if y > 0 else 0\n",
    "    area = seats[lower_x:x+2, lower_y:y+2]\n",
    "    if seat == ord('L') and np.count_nonzero(area == ord('#')) == 0:\n",
    "        return ord('#')\n",
    "    if seat == ord('#') and np.count_nonzero(area == ord('#')) > 4:\n",
    "        return ord('L')\n",
    "    return seat"
   ]
  },
  {
   "cell_type": "code",
   "execution_count": 5,
   "metadata": {
    "tags": []
   },
   "outputs": [
    {
     "output_type": "stream",
     "name": "stdout",
     "text": [
      "2346\n"
     ]
    }
   ],
   "source": [
    "while True:\n",
    "    new_seats = seats.copy()\n",
    "    for (x, y), s in np.ndenumerate(seats):\n",
    "        new_seats[x, y] = check_neighbors(seats, x, y)\n",
    "    \n",
    "    if np.array_equal(seats, new_seats):\n",
    "        print(np.count_nonzero(seats == ord('#')))\n",
    "        break\n",
    "    \n",
    "    seats = new_seats\n"
   ]
  },
  {
   "cell_type": "code",
   "execution_count": 6,
   "metadata": {},
   "outputs": [],
   "source": [
    "def check_taken(dir):\n",
    "    free = dir == ord('L')\n",
    "    taken = dir == ord('#')\n",
    "\n",
    "    try:\n",
    "        return (np.flatnonzero(taken)[0] < np.flatnonzero(free)[0])\n",
    "    except IndexError:\n",
    "        if not np.any(taken):\n",
    "            return False\n",
    "        else:\n",
    "            return True\n",
    "\n",
    "def check_directions(seats, x, y):\n",
    "    seat = seats[x, y]\n",
    "    if seat == ord('.'):\n",
    "        return seat\n",
    "    \n",
    "    n = seats[:x, y][::-1]\n",
    "    s = seats[x+1:, y]\n",
    "    w = seats[x, :y][::-1]\n",
    "    e = seats[x, y+1:]\n",
    "    nw = np.rot90(seats[:x,     :y], 2).diagonal()\n",
    "    ne = np.rot90(seats[:x,   y+1:], 3).diagonal()\n",
    "    se = np.rot90(seats[x+1:, y+1:], 0).diagonal()\n",
    "    sw = np.rot90(seats[x+1:,   :y], 1).diagonal()\n",
    "    dirs = [n, ne, e, se, s, sw, w, nw]\n",
    "\n",
    "    neighbors = sum(check_taken(dir) for dir in dirs)\n",
    "\n",
    "    if seat == ord('L') and neighbors == 0:\n",
    "        return ord('#')\n",
    "    if seat == ord('#') and neighbors >= 5:\n",
    "        return ord('L')\n",
    "    return seat\n"
   ]
  },
  {
   "cell_type": "code",
   "execution_count": 7,
   "metadata": {
    "tags": []
   },
   "outputs": [
    {
     "output_type": "stream",
     "name": "stdout",
     "text": [
      "0\n",
      "1\n",
      "2\n",
      "3\n"
     ]
    }
   ],
   "source": [
    "it = 0\n",
    "while True:\n",
    "    print(it)\n",
    "    it += 1\n",
    "    new_seats = seats2.copy()\n",
    "    for (x, y), s in np.ndenumerate(seats2):\n",
    "        new_seats[x, y] = check_directions(seats2, x, y)\n",
    "\n",
    "    if np.array_equal(seats2, new_seats):\n",
    "        print(\"====\")\n",
    "        print(np.count_nonzero(seats2 == ord('#')))\n",
    "        break\n",
    "    seats2 = new_seats"
   ]
  },
  {
   "cell_type": "code",
   "execution_count": 1,
   "metadata": {},
   "outputs": [
    {
     "output_type": "execute_result",
     "data": {
      "text/plain": [
       "False"
      ]
     },
     "metadata": {},
     "execution_count": 1
    }
   ],
   "source": [
    "bool(None)"
   ]
  },
  {
   "cell_type": "code",
   "execution_count": null,
   "metadata": {},
   "outputs": [],
   "source": []
  }
 ]
}