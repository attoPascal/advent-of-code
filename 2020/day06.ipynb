{
 "metadata": {
  "language_info": {
   "codemirror_mode": {
    "name": "ipython",
    "version": 3
   },
   "file_extension": ".py",
   "mimetype": "text/x-python",
   "name": "python",
   "nbconvert_exporter": "python",
   "pygments_lexer": "ipython3",
   "version": "3.9.0-final"
  },
  "orig_nbformat": 2,
  "kernelspec": {
   "name": "python3",
   "display_name": "Python 3.9.0 64-bit",
   "metadata": {
    "interpreter": {
     "hash": "aee8b7b246df8f9039afb4144a1f6fd8d2ca17a180786b69acc140d282b71a49"
    }
   }
  }
 },
 "nbformat": 4,
 "nbformat_minor": 2,
 "cells": [
  {
   "cell_type": "code",
   "execution_count": 1,
   "metadata": {},
   "outputs": [],
   "source": [
    "import numpy as np\n",
    "from itertools import groupby\n",
    "from functools import reduce, partial\n",
    "from operator import eq"
   ]
  },
  {
   "cell_type": "code",
   "execution_count": 2,
   "metadata": {},
   "outputs": [],
   "source": [
    "with open('input06.txt') as f:\n",
    "    lines = f.read().splitlines()"
   ]
  },
  {
   "cell_type": "code",
   "execution_count": 3,
   "metadata": {},
   "outputs": [],
   "source": [
    "groups = groupby(lines, partial(eq, ''))\n",
    "groups = [list(group) for empty, group in groups if not empty]"
   ]
  },
  {
   "cell_type": "code",
   "execution_count": 4,
   "metadata": {},
   "outputs": [
    {
     "output_type": "execute_result",
     "data": {
      "text/plain": [
       "7128"
      ]
     },
     "metadata": {},
     "execution_count": 4
    }
   ],
   "source": [
    "answers = (''.join(g) for g in groups)\n",
    "answers = (set(a) for a in answers)\n",
    "\n",
    "sum((len(a) for a in answers))"
   ]
  },
  {
   "cell_type": "code",
   "execution_count": 5,
   "metadata": {},
   "outputs": [],
   "source": [
    "def to_num_array(answers):\n",
    "    indices = np.array([ord(a)-97 for a in answers])\n",
    "    arr = np.zeros(26, dtype=bool)\n",
    "    arr[indices] = True\n",
    "    return arr"
   ]
  },
  {
   "cell_type": "code",
   "execution_count": 6,
   "metadata": {},
   "outputs": [
    {
     "output_type": "execute_result",
     "data": {
      "text/plain": [
       "3640"
      ]
     },
     "metadata": {},
     "execution_count": 6
    }
   ],
   "source": [
    "answers = ((to_num_array(p) for p in g) for g in groups)\n",
    "answers = (reduce(np.logical_and, a) for a in answers)\n",
    "answers = (np.count_nonzero(a) for a in answers)\n",
    "\n",
    "np.sum(answers)"
   ]
  },
  {
   "cell_type": "code",
   "execution_count": null,
   "metadata": {},
   "outputs": [],
   "source": []
  }
 ]
}