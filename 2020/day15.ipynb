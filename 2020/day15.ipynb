{
 "metadata": {
  "language_info": {
   "codemirror_mode": {
    "name": "ipython",
    "version": 3
   },
   "file_extension": ".py",
   "mimetype": "text/x-python",
   "name": "python",
   "nbconvert_exporter": "python",
   "pygments_lexer": "ipython3",
   "version": "3.9.0-final"
  },
  "orig_nbformat": 2,
  "kernelspec": {
   "name": "python3",
   "display_name": "Python 3",
   "language": "python"
  }
 },
 "nbformat": 4,
 "nbformat_minor": 2,
 "cells": [
  {
   "cell_type": "code",
   "execution_count": 1,
   "metadata": {},
   "outputs": [],
   "source": [
    "import numpy as np"
   ]
  },
  {
   "cell_type": "code",
   "execution_count": 2,
   "metadata": {},
   "outputs": [],
   "source": [
    "numbers = np.zeros(30000000)\n",
    "numbers[:] = np.nan"
   ]
  },
  {
   "cell_type": "code",
   "execution_count": 3,
   "metadata": {},
   "outputs": [
    {
     "output_type": "execute_result",
     "data": {
      "text/plain": [
       "array([ 8., 13.,  1., ..., nan, nan, nan])"
      ]
     },
     "metadata": {},
     "execution_count": 3
    }
   ],
   "source": [
    "# numbers[0:3] = [0, 3, 6]\n",
    "numbers[0:6] = [8,13,1,0,18,9]\n",
    "numbers"
   ]
  },
  {
   "cell_type": "code",
   "execution_count": 4,
   "metadata": {
    "tags": []
   },
   "outputs": [
    {
     "output_type": "stream",
     "name": "stdout",
     "text": [
      "iteration 1000000\n",
      "iteration 2000000\n",
      "iteration 3000000\n",
      "iteration 4000000\n",
      "iteration 5000000\n",
      "iteration 6000000\n",
      "iteration 7000000\n",
      "iteration 8000000\n",
      "iteration 9000000\n",
      "iteration 10000000\n",
      "iteration 11000000\n",
      "iteration 12000000\n",
      "iteration 13000000\n",
      "iteration 14000000\n",
      "iteration 15000000\n",
      "iteration 16000000\n",
      "iteration 17000000\n",
      "iteration 18000000\n",
      "iteration 19000000\n",
      "iteration 20000000\n",
      "iteration 21000000\n",
      "iteration 22000000\n",
      "iteration 23000000\n",
      "iteration 24000000\n",
      "iteration 25000000\n",
      "iteration 26000000\n",
      "iteration 27000000\n",
      "iteration 28000000\n",
      "iteration 29000000\n",
      "11962.0\n"
     ]
    }
   ],
   "source": [
    "upper = 30000000\n",
    "mentions = {8:0, 13:1, 1:2, 0:3, 18:4}\n",
    "# mentions = {0:0, 3:1}\n",
    "\n",
    "for i in range(6, upper):\n",
    "    if not i % 1000000:\n",
    "        print(\"iteration\", i)\n",
    "    prev = numbers[i-1]\n",
    "    if prev not in mentions:\n",
    "        numbers[i] = 0\n",
    "    else:\n",
    "        numbers[i] = i - mentions[prev] - 1\n",
    "        mentions[prev] = i-1\n",
    "    mentions[prev] = i-1\n",
    "print(numbers[upper-1])\n"
   ]
  },
  {
   "cell_type": "code",
   "execution_count": null,
   "metadata": {},
   "outputs": [],
   "source": []
  },
  {
   "cell_type": "code",
   "execution_count": null,
   "metadata": {},
   "outputs": [],
   "source": []
  }
 ]
}