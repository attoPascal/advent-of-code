{
 "metadata": {
  "language_info": {
   "codemirror_mode": {
    "name": "ipython",
    "version": 3
   },
   "file_extension": ".py",
   "mimetype": "text/x-python",
   "name": "python",
   "nbconvert_exporter": "python",
   "pygments_lexer": "ipython3",
   "version": "3.9.0-final"
  },
  "orig_nbformat": 2,
  "kernelspec": {
   "name": "python3",
   "display_name": "Python 3.9.0 64-bit",
   "metadata": {
    "interpreter": {
     "hash": "ac2eaa0ea0ebeafcc7822e65e46aa9d4f966f30b695406963e145ea4a91cd4fc"
    }
   }
  }
 },
 "nbformat": 4,
 "nbformat_minor": 2,
 "cells": [
  {
   "cell_type": "code",
   "execution_count": 1,
   "metadata": {},
   "outputs": [],
   "source": [
    "import re"
   ]
  },
  {
   "cell_type": "code",
   "execution_count": 2,
   "metadata": {},
   "outputs": [],
   "source": [
    "with open('input04.txt') as f:\n",
    "    passports = f.read().split('\\n\\n')"
   ]
  },
  {
   "cell_type": "code",
   "execution_count": 3,
   "metadata": {},
   "outputs": [],
   "source": [
    "passports = (p.split() for p in passports)\n",
    "passports = ((line.split(':') for line in p) for p in passports)\n",
    "passports = [dict(p) for p in passports]"
   ]
  },
  {
   "cell_type": "code",
   "execution_count": 4,
   "metadata": {},
   "outputs": [],
   "source": [
    "def validate1(passport):\n",
    "    if len(passport) < 7:\n",
    "        return False\n",
    "    if len(passport) == 7 and 'cid' in passport:\n",
    "        return False\n",
    "    return True"
   ]
  },
  {
   "cell_type": "code",
   "execution_count": 5,
   "metadata": {},
   "outputs": [
    {
     "output_type": "execute_result",
     "data": {
      "text/plain": [
       "213"
      ]
     },
     "metadata": {},
     "execution_count": 5
    }
   ],
   "source": [
    "sum(validate1(p) for p in passports)"
   ]
  },
  {
   "cell_type": "code",
   "execution_count": 6,
   "metadata": {},
   "outputs": [],
   "source": [
    "def validate2(passport):\n",
    "    try:\n",
    "        if int(passport['byr']) not in range(1920, 2002+1):\n",
    "            return False\n",
    "        if int(passport['iyr']) not in range(2010, 2020+1):\n",
    "            return False\n",
    "        if int(passport['eyr']) not in range(2020, 2030+1):\n",
    "            return False\n",
    "        if passport['ecl'] not in ['amb', 'blu', 'brn', 'gry', 'grn', 'hzl', 'oth']:\n",
    "            return False\n",
    "        if not re.match(r'#[0-9a-f]{6}$', passport['hcl']):\n",
    "            return False\n",
    "        if not re.match(r'\\d{9}$', passport['pid']):\n",
    "            return False\n",
    "        \n",
    "        unit = passport['hgt'][-2:]\n",
    "        height = int(passport['hgt'][:-2])\n",
    "        if unit not in ['cm', 'in']:\n",
    "            return False\n",
    "        if unit == 'cm' and height not in range(150, 193+1):\n",
    "            return False\n",
    "        if unit == 'in' and height not in range(59, 76+1):\n",
    "            return False\n",
    "    except KeyError:\n",
    "        return False # field missing\n",
    "    except ValueError:\n",
    "        return False # incorrect number format\n",
    "    \n",
    "    return True"
   ]
  },
  {
   "cell_type": "code",
   "execution_count": 7,
   "metadata": {},
   "outputs": [
    {
     "output_type": "execute_result",
     "data": {
      "text/plain": [
       "147"
      ]
     },
     "metadata": {},
     "execution_count": 7
    }
   ],
   "source": [
    "sum(validate2(p) for p in passports)"
   ]
  },
  {
   "cell_type": "code",
   "execution_count": 10,
   "metadata": {},
   "outputs": [],
   "source": [
    "def valid_passport(passport):\n",
    "    try:\n",
    "        byr = 1920 <= int(passport[\"byr\"]) <= 2002\n",
    "        iyr = 2010 <= int(passport[\"iyr\"]) <= 2020\n",
    "        eyr = 2020 <= int(passport[\"eyr\"]) <= 2030\n",
    "        if not byr or not iyr or not eyr:\n",
    "            return False\n",
    "        hcl = re.match(r\"#[0-9a-f]{6}\", passport[\"hcl\"])\n",
    "        ecl = re.match(r\"amb|blu|brn|gry|grn|hzl|oth\", passport[\"ecl\"])\n",
    "        pid = re.match(r\"[0-9]{9}$\", passport[\"pid\"])\n",
    "        hgt = re.match(\"(\\d{2,3})(cm|in)\", passport[\"hgt\"])\n",
    "        if not hcl or not ecl or not pid or not hgt:\n",
    "            return False\n",
    "        if hgt[2] == \"cm\" and not 150 <= int(hgt[1]) <= 193:\n",
    "            return False\n",
    "        if hgt[2] == \"in\" and not 59 <= int(hgt[1]) <= 76:\n",
    "            return False\n",
    "    except (ValueError, KeyError):\n",
    "        return False\n",
    "    return True"
   ]
  },
  {
   "cell_type": "code",
   "execution_count": 11,
   "metadata": {},
   "outputs": [
    {
     "output_type": "execute_result",
     "data": {
      "text/plain": [
       "147"
      ]
     },
     "metadata": {},
     "execution_count": 11
    }
   ],
   "source": [
    "sum(valid_passport(p) for p in passports)"
   ]
  },
  {
   "cell_type": "code",
   "execution_count": null,
   "metadata": {},
   "outputs": [],
   "source": []
  }
 ]
}