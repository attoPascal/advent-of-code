{
 "metadata": {
  "language_info": {
   "codemirror_mode": {
    "name": "ipython",
    "version": 3
   },
   "file_extension": ".py",
   "mimetype": "text/x-python",
   "name": "python",
   "nbconvert_exporter": "python",
   "pygments_lexer": "ipython3",
   "version": "3.9.0-final"
  },
  "orig_nbformat": 2,
  "kernelspec": {
   "name": "python3",
   "display_name": "Python 3",
   "language": "python"
  }
 },
 "nbformat": 4,
 "nbformat_minor": 2,
 "cells": [
  {
   "cell_type": "code",
   "execution_count": 1,
   "metadata": {},
   "outputs": [],
   "source": [
    "import re\n",
    "from rich.progress import track\n",
    "from functools import cache"
   ]
  },
  {
   "cell_type": "code",
   "execution_count": 2,
   "metadata": {},
   "outputs": [],
   "source": [
    "with open('input19.txt') as f:\n",
    "    input = f.read().split('\\n\\n')\n",
    "\n",
    "messages = input[1].splitlines()"
   ]
  },
  {
   "cell_type": "code",
   "execution_count": 3,
   "metadata": {},
   "outputs": [],
   "source": [
    "def parse(rule):\n",
    "    if m := re.match(r'\"([a-z])\"', rule):\n",
    "        return m[1]\n",
    "    rule = rule.split(' | ')\n",
    "    rule = [[int(num) for num in r.split()] for r in rule]\n",
    "    return rule\n",
    "\n",
    "rules1 = input[0].splitlines()\n",
    "rules1 = (re.match(r'(\\d+): (.+)', r) for r in rules1)\n",
    "rules1 = {int(r[1]): r[2] for r in rules1}\n",
    "rules1 = {k: parse(v) for k, v in rules1.items()}"
   ]
  },
  {
   "cell_type": "code",
   "execution_count": 4,
   "metadata": {},
   "outputs": [],
   "source": [
    "rules2 = rules1.copy()\n",
    "rules2[8] = [[42], [42, 8]]\n",
    "rules2[11] = [[42, 31], [42, 11, 31]]"
   ]
  },
  {
   "cell_type": "code",
   "execution_count": 5,
   "metadata": {},
   "outputs": [],
   "source": [
    "@cache\n",
    "def validate(message, r=0, rules=1):\n",
    "    rule = rules1[r] if rules == 1 else rules2[r]\n",
    "\n",
    "    if isinstance(rule, str):\n",
    "        return message == rule\n",
    "    \n",
    "    for subrule in rule:\n",
    "        if len(subrule) == 1:\n",
    "            if validate(message, subrule[0], rules):\n",
    "                return True\n",
    "        elif len(subrule) == 2:\n",
    "            for s in range(1, len(message)):\n",
    "                if validate(message[:s], subrule[0], rules) \\\n",
    "                    and validate(message[s:], subrule[1], rules):\n",
    "                    return True\n",
    "        elif len(subrule) == 3:\n",
    "            for s2 in range(2, len(message)):\n",
    "                for s1 in range(1, s2):\n",
    "                    if validate(message[:s1], subrule[0], rules) \\\n",
    "                        and validate(message[s1:s2], subrule[1], rules) \\\n",
    "                        and validate(message[s2:], subrule[2], rules):\n",
    "                        return True\n",
    "    return False\n"
   ]
  },
  {
   "cell_type": "code",
   "execution_count": 6,
   "metadata": {
    "tags": []
   },
   "outputs": [
    {
     "output_type": "display_data",
     "data": {
      "text/plain": "<rich.jupyter.JupyterRenderable at 0x1118290a0>",
      "text/html": "<pre style=\"white-space:pre;overflow-x:auto;line-height:normal;font-family:Menlo,'DejaVu Sans Mono',consolas,'Courier New',monospace\">Working... <span style=\"color: #729c1f\">━━━━━━━━━━━━━━━━━━━━━━━━━━━━━━━━━━━━━━━━</span> <span style=\"color: #800080\">100%</span> <span style=\"color: #008080\">0:00:00</span>\n</pre>\n"
     },
     "metadata": {}
    },
    {
     "output_type": "execute_result",
     "data": {
      "text/plain": [
       "265"
      ]
     },
     "metadata": {},
     "execution_count": 6
    }
   ],
   "source": [
    "sum(validate(m) for m in track(messages))"
   ]
  },
  {
   "cell_type": "code",
   "execution_count": 7,
   "metadata": {
    "tags": []
   },
   "outputs": [
    {
     "output_type": "display_data",
     "data": {
      "text/plain": "<rich.jupyter.JupyterRenderable at 0x116329340>",
      "text/html": "<pre style=\"white-space:pre;overflow-x:auto;line-height:normal;font-family:Menlo,'DejaVu Sans Mono',consolas,'Courier New',monospace\">Working... <span style=\"color: #729c1f\">━━━━━━━━━━━━━━━━━━━━━━━━━━━━━━━━━━━━━━━━</span> <span style=\"color: #800080\">100%</span> <span style=\"color: #008080\">0:00:00</span>\n</pre>\n"
     },
     "metadata": {}
    },
    {
     "output_type": "execute_result",
     "data": {
      "text/plain": [
       "394"
      ]
     },
     "metadata": {},
     "execution_count": 7
    }
   ],
   "source": [
    "sum(validate(m, rules=2) for m in track(messages))"
   ]
  },
  {
   "cell_type": "code",
   "execution_count": null,
   "metadata": {},
   "outputs": [],
   "source": []
  }
 ]
}