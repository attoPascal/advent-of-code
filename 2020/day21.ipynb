{
 "metadata": {
  "language_info": {
   "codemirror_mode": {
    "name": "ipython",
    "version": 3
   },
   "file_extension": ".py",
   "mimetype": "text/x-python",
   "name": "python",
   "nbconvert_exporter": "python",
   "pygments_lexer": "ipython3",
   "version": "3.9.0-final"
  },
  "orig_nbformat": 2,
  "kernelspec": {
   "name": "python3",
   "display_name": "Python 3",
   "language": "python"
  }
 },
 "nbformat": 4,
 "nbformat_minor": 2,
 "cells": [
  {
   "cell_type": "code",
   "execution_count": 1,
   "metadata": {},
   "outputs": [],
   "source": [
    "from functools import reduce"
   ]
  },
  {
   "cell_type": "code",
   "execution_count": 2,
   "metadata": {},
   "outputs": [],
   "source": [
    "foods = [\n",
    "    ({'mxmxvkd', 'kfcds', 'sqjhc', 'nhms'}, {'dairy', 'fish'}),\n",
    "    ({'trh', 'fvjkl', 'sbzzf', 'mxmxvkd'},  {'dairy'}),\n",
    "    ({'sqjhc', 'fvjkl'},                    {'soy'}),\n",
    "    ({'sqjhc', 'mxmxvkd', 'sbzzf'},         {'fish'})\n",
    "]"
   ]
  },
  {
   "cell_type": "code",
   "execution_count": 3,
   "metadata": {},
   "outputs": [],
   "source": [
    "with open('input21.txt') as f:\n",
    "    lines = f.read().splitlines()\n",
    "\n",
    "input_ingredients = [line.split(' (')[0].split() for line in lines]\n",
    "input_allergens = [line[:-1].split('contains ')[1].split(', ') for line in lines]\n",
    "\n",
    "foods = [(set(i), set(a)) for i, a in zip(input_ingredients, input_allergens)]"
   ]
  },
  {
   "cell_type": "code",
   "execution_count": 4,
   "metadata": {},
   "outputs": [],
   "source": [
    "all_ingredients = reduce(set.union, (ingredients for ingredients, _ in foods))\n",
    "all_allergens   = reduce(set.union, (allergens for _, allergens in foods))"
   ]
  },
  {
   "cell_type": "code",
   "execution_count": 5,
   "metadata": {},
   "outputs": [
    {
     "output_type": "stream",
     "name": "stdout",
     "text": [
      "soy {'cxfz', 'vzzz'}\nwheat {'cxfz', 'lxjtns', 'prxmdlz', 'qdfpq'}\nnuts {'vzzz', 'knprxg'}\nfish {'knprxg', 'lxjtns', 'ncjv'}\npeanuts {'clg', 'lxjtns'}\nsesame {'vzzz', 'lxjtns'}\neggs {'vzzz', 'clg', 'prxmdlz', 'lxjtns'}\nshellfish {'clg'}\n"
     ]
    }
   ],
   "source": [
    "unsafe_ingredients = set()\n",
    "\n",
    "for allergen in all_allergens:\n",
    "    potential_ingredients = set(all_ingredients)\n",
    "    for ingredients, allergens in foods:\n",
    "        if allergen in allergens:\n",
    "            potential_ingredients &= ingredients\n",
    "    print(allergen, potential_ingredients)\n",
    "    unsafe_ingredients |= potential_ingredients\n",
    "\n",
    "safe_ingredients = all_ingredients - unsafe_ingredients"
   ]
  },
  {
   "cell_type": "code",
   "execution_count": 6,
   "metadata": {},
   "outputs": [
    {
     "output_type": "execute_result",
     "data": {
      "text/plain": [
       "2786"
      ]
     },
     "metadata": {},
     "execution_count": 6
    }
   ],
   "source": [
    "sum(len(ingredients & safe_ingredients) for ingredients, _ in foods)"
   ]
  },
  {
   "cell_type": "code",
   "execution_count": 7,
   "metadata": {},
   "outputs": [
    {
     "output_type": "execute_result",
     "data": {
      "text/plain": [
       "{'clg', 'cxfz', 'knprxg', 'lxjtns', 'ncjv', 'prxmdlz', 'qdfpq', 'vzzz'}"
      ]
     },
     "metadata": {},
     "execution_count": 7
    }
   ],
   "source": [
    "unsafe_ingredients"
   ]
  },
  {
   "cell_type": "code",
   "execution_count": 8,
   "metadata": {},
   "outputs": [
    {
     "output_type": "execute_result",
     "data": {
      "text/plain": [
       "'prxmdlz,ncjv,knprxg,lxjtns,vzzz,clg,cxfz,qdfpq'"
      ]
     },
     "metadata": {},
     "execution_count": 8
    }
   ],
   "source": [
    "canon = [\n",
    "    ('nuts', 'knprxg'),\n",
    "    ('shellfish', 'clg'),\n",
    "    ('peanuts', 'lxjtns'),\n",
    "    ('eggs', 'prxmdlz'),\n",
    "    ('sesame', 'vzzz'),\n",
    "    ('soy', 'cxfz'),\n",
    "    ('fish', 'ncjv'),\n",
    "    ('wheat', 'qdfpq')\n",
    "]\n",
    "\n",
    "','.join(i for _, i in sorted(canon))"
   ]
  }
 ]
}