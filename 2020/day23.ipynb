{
 "metadata": {
  "language_info": {
   "codemirror_mode": {
    "name": "ipython",
    "version": 3
   },
   "file_extension": ".py",
   "mimetype": "text/x-python",
   "name": "python",
   "nbconvert_exporter": "python",
   "pygments_lexer": "ipython3",
   "version": "3.9.0-final"
  },
  "orig_nbformat": 2,
  "kernelspec": {
   "name": "python3",
   "display_name": "Python 3",
   "language": "python"
  }
 },
 "nbformat": 4,
 "nbformat_minor": 2,
 "cells": [
  {
   "cell_type": "code",
   "execution_count": 1,
   "metadata": {
    "tags": []
   },
   "outputs": [
    {
     "output_type": "execute_result",
     "data": {
      "text/plain": [
       "166298218695"
      ]
     },
     "metadata": {},
     "execution_count": 1
    }
   ],
   "source": [
    "input = '284573961'\n",
    "num_cups = 1_000_000\n",
    "cups = [int(n) for n in input] + list(range(10, num_cups+1))\n",
    "\n",
    "lookup = [None] * num_cups\n",
    "\n",
    "def get_next(index):\n",
    "    return lookup[index-1]\n",
    "\n",
    "def set_next(index, next):\n",
    "    lookup[index-1] = next\n",
    "\n",
    "for i in range(num_cups):\n",
    "    set_next(cups[i-1], next=cups[i])\n",
    "\n",
    "current = cups[0]\n",
    "for i in range(10_000_000):\n",
    "    pickup1 = get_next(current)\n",
    "    pickup2 = get_next(pickup1)\n",
    "    pickup3 = get_next(pickup2)\n",
    "    next    = get_next(pickup3)\n",
    "\n",
    "    set_next(current, next)\n",
    "\n",
    "    dest = current-1 if current > 1 else num_cups\n",
    "    while dest in [pickup1, pickup2, pickup3]:\n",
    "        dest = dest-1 if dest > 1 else num_cups\n",
    "    \n",
    "    end = get_next(dest)\n",
    "    set_next(dest, pickup1)\n",
    "    set_next(pickup3, end)\n",
    "\n",
    "    current = next\n",
    "\n",
    "n1 = get_next(1)\n",
    "n2 = get_next(n1)\n",
    "n1 * n2"
   ]
  },
  {
   "cell_type": "code",
   "execution_count": null,
   "metadata": {},
   "outputs": [],
   "source": []
  }
 ]
}