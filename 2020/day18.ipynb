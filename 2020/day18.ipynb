{
 "metadata": {
  "language_info": {
   "codemirror_mode": {
    "name": "ipython",
    "version": 3
   },
   "file_extension": ".py",
   "mimetype": "text/x-python",
   "name": "python",
   "nbconvert_exporter": "python",
   "pygments_lexer": "ipython3",
   "version": "3.9.0-final"
  },
  "orig_nbformat": 2,
  "kernelspec": {
   "name": "python3",
   "display_name": "Python 3",
   "language": "python"
  }
 },
 "nbformat": 4,
 "nbformat_minor": 2,
 "cells": [
  {
   "cell_type": "code",
   "execution_count": 1,
   "metadata": {},
   "outputs": [],
   "source": [
    "from operator import add, mul"
   ]
  },
  {
   "cell_type": "code",
   "execution_count": 2,
   "metadata": {},
   "outputs": [],
   "source": [
    "def eval(s):\n",
    "    # remove outer parantheses\n",
    "    if s[0] == '(' and s[-1] == ')':\n",
    "        level = 0\n",
    "        valid = True\n",
    "        for c in s[1:-1]:\n",
    "            if c == '(':\n",
    "                level += 1\n",
    "            elif c == ')':\n",
    "                level -= 1\n",
    "                if level < 0:\n",
    "                    valid = False\n",
    "                    break\n",
    "        if valid:\n",
    "            s = s[1:-1]\n",
    "    \n",
    "    # return integers\n",
    "    if len(s) == 1:\n",
    "        return int(s)\n",
    "    \n",
    "    # find last op not in parantheses\n",
    "    level = 0\n",
    "    for i, c in reversed(list(enumerate(s))):\n",
    "        if c == '(':\n",
    "            level += 1\n",
    "        elif c == ')':\n",
    "            level -= 1\n",
    "        \n",
    "        if level == 0:\n",
    "            # print(f\"op={s[i-1]}\", c)\n",
    "            op_index = i-1\n",
    "            break\n",
    "\n",
    "    p1 = eval(s[:op_index])\n",
    "    p2 = eval(s[op_index+1:])\n",
    "    op = add if s[op_index] == '+' else mul\n",
    "\n",
    "    return op(p1, p2)\n",
    "    "
   ]
  },
  {
   "cell_type": "code",
   "execution_count": 3,
   "metadata": {},
   "outputs": [],
   "source": [
    "with open('input18.txt') as f:\n",
    "    lines = f.read().splitlines()\n",
    "lines = [line.replace(' ', '') for line in lines]"
   ]
  },
  {
   "cell_type": "code",
   "execution_count": 4,
   "metadata": {
    "tags": []
   },
   "outputs": [
    {
     "output_type": "execute_result",
     "data": {
      "text/plain": [
       "280014646144"
      ]
     },
     "metadata": {},
     "execution_count": 4
    }
   ],
   "source": [
    "sum(eval(line) for line in lines)"
   ]
  },
  {
   "cell_type": "code",
   "execution_count": 5,
   "metadata": {},
   "outputs": [],
   "source": [
    "def eval2(s):\n",
    "    # remove outer parantheses\n",
    "    if s[0] == '(' and s[-1] == ')':\n",
    "        level = 0\n",
    "        valid = True\n",
    "        for c in s[1:-1]:\n",
    "            if c == '(':\n",
    "                level += 1\n",
    "            elif c == ')':\n",
    "                level -= 1\n",
    "                if level < 0:\n",
    "                    valid = False\n",
    "                    break\n",
    "        if valid:\n",
    "            s = s[1:-1]\n",
    "    \n",
    "    # return integers\n",
    "    if len(s) == 1:\n",
    "        return int(s)\n",
    "    \n",
    "    # find last multiplication not in parantheses\n",
    "    level = 0\n",
    "    op_index = -1\n",
    "    for i, c in reversed(list(enumerate(s))):\n",
    "        if c == '(':\n",
    "            level += 1\n",
    "        elif c == ')':\n",
    "            level -= 1\n",
    "        \n",
    "        if level == 0 and s[i-1] == '*':\n",
    "            op_index = i-1\n",
    "            break\n",
    "    \n",
    "    # alternatively, find last addition\n",
    "    if op_index < 0:\n",
    "        for i, c in reversed(list(enumerate(s))):\n",
    "            if c == '(':\n",
    "                level += 1\n",
    "            elif c == ')':\n",
    "                level -= 1\n",
    "            \n",
    "            if level == 0:\n",
    "                op_index = i-1\n",
    "                break\n",
    "\n",
    "    # print(s[:op_index], s[op_index], s[op_index+1:])\n",
    "\n",
    "    p1 = eval2(s[:op_index])\n",
    "    p2 = eval2(s[op_index+1:])\n",
    "    op = add if s[op_index] == '+' else mul\n",
    "\n",
    "    return op(p1, p2)"
   ]
  },
  {
   "cell_type": "code",
   "execution_count": 6,
   "metadata": {},
   "outputs": [
    {
     "output_type": "execute_result",
     "data": {
      "text/plain": [
       "9966990988262"
      ]
     },
     "metadata": {},
     "execution_count": 6
    }
   ],
   "source": [
    "sum(eval2(line) for line in lines)"
   ]
  }
 ]
}