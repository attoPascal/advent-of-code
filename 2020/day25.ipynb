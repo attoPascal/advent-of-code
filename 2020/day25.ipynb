{
 "metadata": {
  "language_info": {
   "codemirror_mode": {
    "name": "ipython",
    "version": 3
   },
   "file_extension": ".py",
   "mimetype": "text/x-python",
   "name": "python",
   "nbconvert_exporter": "python",
   "pygments_lexer": "ipython3",
   "version": "3.9.0-final"
  },
  "orig_nbformat": 2,
  "kernelspec": {
   "name": "python3",
   "display_name": "Python 3",
   "language": "python"
  }
 },
 "nbformat": 4,
 "nbformat_minor": 2,
 "cells": [
  {
   "cell_type": "code",
   "execution_count": 1,
   "metadata": {},
   "outputs": [],
   "source": [
    "from itertools import count"
   ]
  },
  {
   "cell_type": "code",
   "execution_count": 2,
   "metadata": {},
   "outputs": [],
   "source": [
    "def transform(subject_number, loop_size):\n",
    "    value = 1\n",
    "    for _ in range(loop_size):\n",
    "        value *= subject_number\n",
    "        value %= 20201227\n",
    "    return value\n",
    "\n",
    "def try_loop(subject_number):\n",
    "    value = 1\n",
    "    for loop_size in count(1):\n",
    "        value *= subject_number\n",
    "        value %= 20201227\n",
    "        yield value, loop_size"
   ]
  },
  {
   "cell_type": "code",
   "execution_count": 3,
   "metadata": {},
   "outputs": [],
   "source": [
    "card_public = 15733400\n",
    "door_public = 6408062"
   ]
  },
  {
   "cell_type": "code",
   "execution_count": 4,
   "metadata": {},
   "outputs": [
    {
     "output_type": "stream",
     "name": "stdout",
     "text": [
      "card loop: 3903333\n",
      "16457981\n"
     ]
    }
   ],
   "source": [
    "card_loop = 0\n",
    "door_loop = 0\n",
    "\n",
    "for value, loop_size in try_loop(7):\n",
    "    if value == card_public:\n",
    "        card_loop = loop_size\n",
    "        print(\"card loop:\", card_loop)\n",
    "        break\n",
    "    if value == door_public:\n",
    "        door_loop = loop_size\n",
    "        print(\"door loop:\", door_loop)\n",
    "        break\n",
    "\n",
    "if door_loop != 0:\n",
    "    print(transform(card_public, door_loop))\n",
    "else:\n",
    "    print(transform(door_public, card_loop))\n"
   ]
  }
 ]
}