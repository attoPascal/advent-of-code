{
 "metadata": {
  "language_info": {
   "codemirror_mode": {
    "name": "ipython",
    "version": 3
   },
   "file_extension": ".py",
   "mimetype": "text/x-python",
   "name": "python",
   "nbconvert_exporter": "python",
   "pygments_lexer": "ipython3",
   "version": "3.9.0-final"
  },
  "orig_nbformat": 2,
  "kernelspec": {
   "name": "python3",
   "display_name": "Python 3",
   "language": "python"
  }
 },
 "nbformat": 4,
 "nbformat_minor": 2,
 "cells": [
  {
   "source": [
    "# Day 13: Shuttle Search"
   ],
   "cell_type": "markdown",
   "metadata": {}
  },
  {
   "cell_type": "code",
   "execution_count": 1,
   "metadata": {},
   "outputs": [
    {
     "output_type": "display_data",
     "data": {
      "text/plain": "array([ 7, 13, 59, 31, 19])"
     },
     "metadata": {}
    },
    {
     "output_type": "display_data",
     "data": {
      "text/plain": "array([0, 1, 4, 6, 7])"
     },
     "metadata": {}
    }
   ],
   "source": [
    "import numpy as np\n",
    "from itertools import count\n",
    "\n",
    "input = \"19,x,x,x,x,x,x,x,x,x,x,x,x,37,x,x,x,x,x,523,x,x,x,x,x,x,x,x,x,x,x,x,x,x,x,x,x,13,x,x,x,x,23,x,x,x,x,x,29,x,547,x,x,x,x,x,x,x,x,x,41,x,x,x,x,x,x,17\"\n",
    "input = \"7,13,x,x,59,x,31,19\"\n",
    "\n",
    "lines = np.array([int(l) if l != 'x' else 0 for l in input.split(',')])\n",
    "\n",
    "offset = np.flatnonzero(lines)\n",
    "bus = lines[offset]\n",
    "\n",
    "display(bus, offset)"
   ]
  },
  {
   "source": [
    "## Task 1"
   ],
   "cell_type": "markdown",
   "metadata": {}
  },
  {
   "cell_type": "code",
   "execution_count": 2,
   "metadata": {
    "tags": []
   },
   "outputs": [
    {
     "output_type": "execute_result",
     "data": {
      "text/plain": [
       "14"
      ]
     },
     "metadata": {},
     "execution_count": 2
    }
   ],
   "source": [
    "def earliest(bus, time):\n",
    "    for departure in count(time):\n",
    "        for b in bus:\n",
    "            if departure % b == 0:\n",
    "                return b * (departure - time)\n",
    "\n",
    "earliest(bus, 1000053)"
   ]
  },
  {
   "source": [
    "## Task 2"
   ],
   "cell_type": "markdown",
   "metadata": {}
  },
  {
   "cell_type": "code",
   "execution_count": 3,
   "metadata": {},
   "outputs": [
    {
     "output_type": "execute_result",
     "data": {
      "text/plain": [
       "1068781"
      ]
     },
     "metadata": {},
     "execution_count": 3
    }
   ],
   "source": [
    "t = bus[0]\n",
    "for i in range(1, len(bus)):\n",
    "    while (t + offset[i]) % bus[i]:\n",
    "        t += np.prod(bus[:i])\n",
    "\n",
    "t"
   ]
  },
  {
   "source": [
    "### Pretty but too slow:"
   ],
   "cell_type": "markdown",
   "metadata": {}
  },
  {
   "cell_type": "code",
   "execution_count": 4,
   "metadata": {},
   "outputs": [],
   "source": [
    "from sys import maxsize\n",
    "\n",
    "class Departure():\n",
    "    def __init__(self, line, offset, other):\n",
    "        self.departures = range(line-offset, maxsize, line)\n",
    "        self.other = other\n",
    "    \n",
    "    def __contains__(self, n):\n",
    "        return n in self.departures and n in self.other\n",
    "    \n",
    "    def __next__(self):\n",
    "        return next(n for n in self.departures if n in self.other)"
   ]
  },
  {
   "cell_type": "code",
   "execution_count": 5,
   "metadata": {},
   "outputs": [],
   "source": [
    "def find_departure(bus, offset):\n",
    "    departure = Departure(line=bus[0], offset=offset[0], other=range(maxsize))\n",
    "    for line, offset in zip(bus[1:], offset[1:]):\n",
    "        departure = Departure(line, offset, departure)\n",
    "    return next(departure)"
   ]
  },
  {
   "cell_type": "code",
   "execution_count": 6,
   "metadata": {
    "tags": []
   },
   "outputs": [
    {
     "output_type": "execute_result",
     "data": {
      "text/plain": [
       "1068781"
      ]
     },
     "metadata": {},
     "execution_count": 6
    }
   ],
   "source": [
    "sort = np.argsort(bus)[::-1]\n",
    "find_departure(bus[sort], offset[sort])"
   ]
  }
 ]
}