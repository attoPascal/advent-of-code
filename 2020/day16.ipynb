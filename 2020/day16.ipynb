{
 "metadata": {
  "language_info": {
   "codemirror_mode": {
    "name": "ipython",
    "version": 3
   },
   "file_extension": ".py",
   "mimetype": "text/x-python",
   "name": "python",
   "nbconvert_exporter": "python",
   "pygments_lexer": "ipython3",
   "version": "3.9.0-final"
  },
  "orig_nbformat": 2,
  "kernelspec": {
   "name": "python3",
   "display_name": "Python 3",
   "language": "python"
  }
 },
 "nbformat": 4,
 "nbformat_minor": 2,
 "cells": [
  {
   "cell_type": "code",
   "execution_count": 1,
   "metadata": {},
   "outputs": [],
   "source": [
    "import re"
   ]
  },
  {
   "cell_type": "code",
   "execution_count": 2,
   "metadata": {},
   "outputs": [],
   "source": [
    "with open('input16.txt') as f:\n",
    "    input = f.read().split('\\n\\n')\n",
    "\n",
    "my_ticket = [int(s) for s in input[1].splitlines()[1].split(',')]\n",
    "tickets = [[int(t) for t in line.split(',')] for line in input[2].splitlines()[1:]]"
   ]
  },
  {
   "cell_type": "code",
   "execution_count": 3,
   "metadata": {},
   "outputs": [],
   "source": [
    "fields = {}\n",
    "for field in input[0].splitlines():\n",
    "    m = re.match(r'([a-z ]+): (\\d+)-(\\d+) or (\\d+)-(\\d+)', field)\n",
    "    range1 = range(int(m[2]), int(m[3])+1)\n",
    "    range2 = range(int(m[4]), int(m[5])+1)\n",
    "    fields[m[1]] = [range1, range2]"
   ]
  },
  {
   "cell_type": "code",
   "execution_count": 4,
   "metadata": {},
   "outputs": [
    {
     "output_type": "execute_result",
     "data": {
      "text/plain": [
       "23009"
      ]
     },
     "metadata": {},
     "execution_count": 4
    }
   ],
   "source": [
    "def field_error(f):\n",
    "    possible = False\n",
    "    for range in fields.values():\n",
    "        if f in range[0] or f in range[1]:\n",
    "            possible = True\n",
    "            break\n",
    "    return 0 if possible else f\n",
    "\n",
    "def ticket_error(t):\n",
    "    return sum(field_error(f) for f in t)\n",
    "\n",
    "sum(ticket_error(t) for t in tickets)"
   ]
  },
  {
   "cell_type": "code",
   "execution_count": 5,
   "metadata": {},
   "outputs": [],
   "source": [
    "def possible_field(f):\n",
    "    return any(f in range[0] or f in range[1] for range in fields.values())\n",
    "\n",
    "def valid_ticket(t):\n",
    "    return all(possible_field(f) for f in t)\n",
    "\n",
    "valid_tickets = [t for t in tickets if valid_ticket(t)]"
   ]
  },
  {
   "cell_type": "code",
   "execution_count": 6,
   "metadata": {
    "tags": []
   },
   "outputs": [],
   "source": [
    "possible_fields = []\n",
    "for i in range(len(fields)):\n",
    "    possible = set()\n",
    "    for field, r in fields.items():\n",
    "        if all((t[i] in r[0] or t[i] in r[1]) for t in valid_tickets):\n",
    "            possible.add(field)\n",
    "    possible_fields.append(possible)"
   ]
  },
  {
   "cell_type": "code",
   "execution_count": 7,
   "metadata": {},
   "outputs": [],
   "source": [
    "found = set()\n",
    "for _ in range(1, len(possible_fields)):\n",
    "    for s in possible_fields:\n",
    "        if len(s) == 1 and not s.issubset(found):\n",
    "            found |= s\n",
    "            s1 = s\n",
    "            break\n",
    "    possible_fields = [s-s1 if s != s1 else s for s in possible_fields]"
   ]
  },
  {
   "cell_type": "code",
   "execution_count": 8,
   "metadata": {},
   "outputs": [
    {
     "output_type": "execute_result",
     "data": {
      "text/plain": [
       "10458887314153"
      ]
     },
     "metadata": {},
     "execution_count": 8
    }
   ],
   "source": [
    "labels = [s.pop() for s in possible_fields]\n",
    "indices = [i for i, label in enumerate(labels) if label.startswith('departure')]\n",
    "\n",
    "product = 1\n",
    "for i in indices:\n",
    "    product *= my_ticket[i]\n",
    "\n",
    "product"
   ]
  }
 ]
}