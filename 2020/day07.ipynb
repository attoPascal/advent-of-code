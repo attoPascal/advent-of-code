{
 "metadata": {
  "language_info": {
   "codemirror_mode": {
    "name": "ipython",
    "version": 3
   },
   "file_extension": ".py",
   "mimetype": "text/x-python",
   "name": "python",
   "nbconvert_exporter": "python",
   "pygments_lexer": "ipython3",
   "version": "3.9.0-final"
  },
  "orig_nbformat": 2,
  "kernelspec": {
   "name": "python37764bitc2b96a9319f84cb89abb6df1460b5c0b",
   "display_name": "Python 3.7.7 64-bit"
  }
 },
 "nbformat": 4,
 "nbformat_minor": 2,
 "cells": [
  {
   "cell_type": "code",
   "execution_count": 1,
   "metadata": {},
   "outputs": [],
   "source": [
    "import re"
   ]
  },
  {
   "cell_type": "code",
   "execution_count": 2,
   "metadata": {},
   "outputs": [],
   "source": [
    "lines = \"\"\"light red bags contain 1 bright white bag, 2 muted yellow bags.\n",
    "dark orange bags contain 3 bright white bags, 4 muted yellow bags.\n",
    "bright white bags contain 1 shiny gold bag.\n",
    "muted yellow bags contain 2 shiny gold bags, 9 faded blue bags.\n",
    "shiny gold bags contain 1 dark olive bag, 2 vibrant plum bags.\n",
    "dark olive bags contain 3 faded blue bags, 4 dotted black bags.\n",
    "vibrant plum bags contain 5 faded blue bags, 6 dotted black bags.\n",
    "faded blue bags contain no other bags.\n",
    "dotted black bags contain no other bags.\"\"\".splitlines()\n",
    "\n",
    "with open('input07.txt') as f:\n",
    "    lines = f.read().splitlines()"
   ]
  },
  {
   "cell_type": "code",
   "execution_count": 3,
   "metadata": {},
   "outputs": [],
   "source": [
    "def parse(line):\n",
    "    bag = re.match(r'\\w+ \\w+', line)[0]         # ^adj color\n",
    "    contents = re.findall(r'(\\d) (\\w+ \\w+)', line) # X adj color\n",
    "    contents = [(int(num), bag) for num, bag in contents]\n",
    "    return bag, contents\n",
    "\n",
    "bags = dict(parse(line) for line in lines)\n",
    "# bags"
   ]
  },
  {
   "cell_type": "code",
   "execution_count": 4,
   "metadata": {},
   "outputs": [
    {
     "output_type": "execute_result",
     "data": {
      "text/plain": [
       "112"
      ]
     },
     "metadata": {},
     "execution_count": 4
    }
   ],
   "source": [
    "def can_contain(outer, inner):\n",
    "    contents = [bag for num, bag in bags[outer]]\n",
    "    if contents == []:\n",
    "        return False\n",
    "    if inner in contents:\n",
    "        return True\n",
    "    for bag in contents:\n",
    "        if can_contain(bag, inner):\n",
    "            return True\n",
    "    return False\n",
    "\n",
    "sum(can_contain(bag, 'shiny gold') for bag in bags)"
   ]
  },
  {
   "cell_type": "code",
   "execution_count": 5,
   "metadata": {},
   "outputs": [
    {
     "output_type": "execute_result",
     "data": {
      "text/plain": [
       "6260"
      ]
     },
     "metadata": {},
     "execution_count": 5
    }
   ],
   "source": [
    "def must_contain(bag):\n",
    "    contents = bags[bag]\n",
    "    if contents == []:\n",
    "        return 0\n",
    "    directly = sum(num for num, _ in contents)\n",
    "    nested = sum(num * must_contain(b) for num, b in contents)\n",
    "    return directly + nested\n",
    "\n",
    "must_contain('shiny gold')"
   ]
  },
  {
   "cell_type": "code",
   "execution_count": null,
   "metadata": {},
   "outputs": [],
   "source": []
  }
 ]
}