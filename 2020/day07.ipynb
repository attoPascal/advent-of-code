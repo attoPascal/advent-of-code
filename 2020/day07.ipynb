{
 "metadata": {
  "language_info": {
   "codemirror_mode": {
    "name": "ipython",
    "version": 3
   },
   "file_extension": ".py",
   "mimetype": "text/x-python",
   "name": "python",
   "nbconvert_exporter": "python",
   "pygments_lexer": "ipython3",
   "version": "3.9.0-final"
  },
  "orig_nbformat": 2,
  "kernelspec": {
   "name": "python3",
   "display_name": "Python 3.9.0 64-bit",
   "metadata": {
    "interpreter": {
     "hash": "aee8b7b246df8f9039afb4144a1f6fd8d2ca17a180786b69acc140d282b71a49"
    }
   }
  }
 },
 "nbformat": 4,
 "nbformat_minor": 2,
 "cells": [
  {
   "cell_type": "code",
   "execution_count": 1,
   "metadata": {},
   "outputs": [],
   "source": [
    "import re"
   ]
  },
  {
   "cell_type": "code",
   "execution_count": 2,
   "metadata": {},
   "outputs": [],
   "source": [
    "with open('input07.txt') as f:\n",
    "    lines = f.read().splitlines()"
   ]
  },
  {
   "cell_type": "code",
   "execution_count": 3,
   "metadata": {},
   "outputs": [],
   "source": [
    "def parse(line):\n",
    "    bag = re.match(r'\\w+ \\w+', line)[0] # ^adj color\n",
    "    contents = re.findall(r'(\\d) (\\w+ \\w+)', line) # X adj color\n",
    "    contents = [(int(num), bag) for num, bag in contents]\n",
    "    return bag, contents\n",
    "\n",
    "bags = dict(parse(line) for line in lines)\n",
    "# bags"
   ]
  },
  {
   "cell_type": "code",
   "execution_count": 4,
   "metadata": {},
   "outputs": [
    {
     "output_type": "execute_result",
     "data": {
      "text/plain": [
       "112"
      ]
     },
     "metadata": {},
     "execution_count": 4
    }
   ],
   "source": [
    "def can_contain(outer, inner):\n",
    "    contents = [bag for _, bag in bags[outer]]\n",
    "    if contents == []:\n",
    "        return False\n",
    "    if inner in contents:\n",
    "        return True\n",
    "    for bag in contents:\n",
    "        if can_contain(bag, inner):\n",
    "            return True\n",
    "    return False\n",
    "\n",
    "sum(can_contain(bag, 'shiny gold') for bag in bags)"
   ]
  },
  {
   "cell_type": "code",
   "execution_count": 5,
   "metadata": {},
   "outputs": [
    {
     "output_type": "execute_result",
     "data": {
      "text/plain": [
       "6260"
      ]
     },
     "metadata": {},
     "execution_count": 5
    }
   ],
   "source": [
    "def contains(bag):\n",
    "    return sum(num * (1 + contains(b)) for num, b in bags[bag])\n",
    "\n",
    "contains('shiny gold')"
   ]
  },
  {
   "cell_type": "code",
   "execution_count": null,
   "metadata": {},
   "outputs": [],
   "source": []
  }
 ]
}