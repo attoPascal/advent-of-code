{
 "metadata": {
  "language_info": {
   "codemirror_mode": {
    "name": "ipython",
    "version": 3
   },
   "file_extension": ".py",
   "mimetype": "text/x-python",
   "name": "python",
   "nbconvert_exporter": "python",
   "pygments_lexer": "ipython3",
   "version": "3.9.0-final"
  },
  "orig_nbformat": 2,
  "kernelspec": {
   "name": "python3",
   "display_name": "Python 3",
   "language": "python"
  }
 },
 "nbformat": 4,
 "nbformat_minor": 2,
 "cells": [
  {
   "cell_type": "code",
   "execution_count": 1,
   "metadata": {},
   "outputs": [],
   "source": [
    "import re\n",
    "from collections import defaultdict"
   ]
  },
  {
   "cell_type": "code",
   "execution_count": 2,
   "metadata": {},
   "outputs": [],
   "source": [
    "with open('input14.txt') as f:\n",
    "    lines = f.readlines()"
   ]
  },
  {
   "cell_type": "code",
   "execution_count": 3,
   "metadata": {},
   "outputs": [],
   "source": [
    "def apply(num, mask):\n",
    "    mask1 = int(mask.replace('X', '1'), 2)\n",
    "    mask0  = int(mask.replace('X', '0'), 2)\n",
    "    return num & mask1 | mask0\n",
    "\n",
    "def parse(line):\n",
    "    match_mask = re.match(r'mask = ([01X]+)', line)\n",
    "    match_nums = re.match(r'mem\\[(\\d+)\\] = (\\d+)', line)\n",
    "    if match_mask:\n",
    "        return match_mask[1],\n",
    "    if match_nums:\n",
    "        return int(match_nums[1]), int(match_nums[2])"
   ]
  },
  {
   "cell_type": "code",
   "execution_count": 4,
   "metadata": {},
   "outputs": [
    {
     "output_type": "execute_result",
     "data": {
      "text/plain": [
       "8332632930672"
      ]
     },
     "metadata": {},
     "execution_count": 4
    }
   ],
   "source": [
    "memory = defaultdict(int)\n",
    "\n",
    "for line in lines:\n",
    "    args = parse(line)\n",
    "    if len(args) == 1:\n",
    "        mask = args[0]\n",
    "    else:\n",
    "        address, num = args\n",
    "        memory[address] = apply(num, mask)\n",
    "\n",
    "sum(num for num in memory.values())"
   ]
  },
  {
   "cell_type": "code",
   "execution_count": 5,
   "metadata": {},
   "outputs": [],
   "source": [
    "def enumerate_floating(mask):\n",
    "    numx = mask.count('X')\n",
    "    addresses = []\n",
    "    for n in range(2**numx):\n",
    "        address = ''.join(mask)\n",
    "        bits = list(f'{n:036b}'[-numx:])\n",
    "        for i, bit in enumerate(bits):\n",
    "            address = address.replace('X', bit, 1)\n",
    "        yield int(address, 2)"
   ]
  },
  {
   "cell_type": "code",
   "execution_count": 6,
   "metadata": {},
   "outputs": [],
   "source": [
    "def masked_addresses(address, mask):\n",
    "    address_bits = f'{address:036b}'\n",
    "    masked = [m if m != '0' else a for m, a in zip(mask, address_bits)]\n",
    "    return enumerate_floating(masked)"
   ]
  },
  {
   "cell_type": "code",
   "execution_count": 7,
   "metadata": {},
   "outputs": [
    {
     "output_type": "execute_result",
     "data": {
      "text/plain": [
       "4753238784664"
      ]
     },
     "metadata": {},
     "execution_count": 7
    }
   ],
   "source": [
    "memory = defaultdict(int)\n",
    "\n",
    "for line in lines:\n",
    "    args = parse(line)\n",
    "    if len(args) == 1:\n",
    "        mask = args[0]\n",
    "    else:\n",
    "        address, num = args\n",
    "        for a in masked_addresses(address, mask):\n",
    "            memory[a] = num\n",
    "\n",
    "sum(num for num in memory.values())"
   ]
  },
  {
   "cell_type": "code",
   "execution_count": null,
   "metadata": {},
   "outputs": [],
   "source": []
  }
 ]
}