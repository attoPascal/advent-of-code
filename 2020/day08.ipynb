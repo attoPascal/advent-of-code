{
 "metadata": {
  "language_info": {
   "codemirror_mode": {
    "name": "ipython",
    "version": 3
   },
   "file_extension": ".py",
   "mimetype": "text/x-python",
   "name": "python",
   "nbconvert_exporter": "python",
   "pygments_lexer": "ipython3",
   "version": "3.9.0-final"
  },
  "orig_nbformat": 2,
  "kernelspec": {
   "name": "python3",
   "display_name": "Python 3.9.0 64-bit",
   "metadata": {
    "interpreter": {
     "hash": "aee8b7b246df8f9039afb4144a1f6fd8d2ca17a180786b69acc140d282b71a49"
    }
   }
  }
 },
 "nbformat": 4,
 "nbformat_minor": 2,
 "cells": [
  {
   "cell_type": "code",
   "execution_count": 1,
   "metadata": {},
   "outputs": [],
   "source": [
    "with open('input08.txt') as f:\n",
    "    lines = f.read().splitlines()"
   ]
  },
  {
   "cell_type": "code",
   "execution_count": 2,
   "metadata": {},
   "outputs": [],
   "source": [
    "instructions = (line.split() for line in lines)\n",
    "instructions = [(op, int(arg)) for op, arg in instructions]"
   ]
  },
  {
   "cell_type": "code",
   "execution_count": 7,
   "metadata": {},
   "outputs": [],
   "source": [
    "def run(instructions):\n",
    "    acc = 0\n",
    "    ptr = 0\n",
    "    executed = []\n",
    "\n",
    "    while True:\n",
    "        try:\n",
    "            op, arg = instructions[ptr]\n",
    "            if ptr in executed:\n",
    "                # looped\n",
    "                return False, acc\n",
    "            executed.append(ptr)\n",
    "\n",
    "            if op == 'acc':\n",
    "                acc += arg\n",
    "                ptr += 1\n",
    "            elif op == 'jmp':\n",
    "                ptr += arg\n",
    "            else:\n",
    "                ptr += 1\n",
    "        except IndexError:\n",
    "            # finished\n",
    "            return True, acc"
   ]
  },
  {
   "cell_type": "code",
   "execution_count": 9,
   "metadata": {},
   "outputs": [
    {
     "output_type": "stream",
     "name": "stdout",
     "text": [
      "1125\n"
     ]
    }
   ],
   "source": [
    "for i, (op, arg) in enumerate(instructions):\n",
    "    result = None\n",
    "    if op == 'jmp':\n",
    "        instructions_mod = instructions.copy()\n",
    "        instructions_mod[i] = ('nop', arg)\n",
    "        result = run(instructions_mod)\n",
    "    elif op == 'nop':\n",
    "        instructions_mod = instructions.copy()\n",
    "        instructions_mod[i] = ('jmp', arg)\n",
    "        result = run(instructions_mod)\n",
    "    \n",
    "    if result and result[0]:\n",
    "        print(result[1])\n",
    "        break"
   ]
  },
  {
   "cell_type": "code",
   "execution_count": 5,
   "metadata": {},
   "outputs": [
    {
     "output_type": "stream",
     "name": "stdout",
     "text": [
      "loop\n"
     ]
    }
   ],
   "source": [
    "\n",
    "    \n",
    "    # print(\"a\", acc, executed)"
   ]
  },
  {
   "cell_type": "code",
   "execution_count": 6,
   "metadata": {},
   "outputs": [
    {
     "output_type": "execute_result",
     "data": {
      "text/plain": [
       "1137"
      ]
     },
     "metadata": {},
     "execution_count": 6
    }
   ],
   "source": [
    "acc"
   ]
  },
  {
   "cell_type": "code",
   "execution_count": null,
   "metadata": {},
   "outputs": [],
   "source": []
  }
 ]
}