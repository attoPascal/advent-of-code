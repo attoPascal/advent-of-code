{
 "metadata": {
  "language_info": {
   "codemirror_mode": {
    "name": "ipython",
    "version": 3
   },
   "file_extension": ".py",
   "mimetype": "text/x-python",
   "name": "python",
   "nbconvert_exporter": "python",
   "pygments_lexer": "ipython3",
   "version": "3.9.0-final"
  },
  "orig_nbformat": 2,
  "kernelspec": {
   "name": "python3",
   "display_name": "Python 3.9.0 64-bit",
   "metadata": {
    "interpreter": {
     "hash": "aee8b7b246df8f9039afb4144a1f6fd8d2ca17a180786b69acc140d282b71a49"
    }
   }
  }
 },
 "nbformat": 4,
 "nbformat_minor": 2,
 "cells": [
  {
   "cell_type": "code",
   "execution_count": 1,
   "metadata": {},
   "outputs": [],
   "source": [
    "from itertools import combinations, count"
   ]
  },
  {
   "cell_type": "code",
   "execution_count": 2,
   "metadata": {},
   "outputs": [],
   "source": [
    "with open('input09.txt') as f:\n",
    "    lines = f.read().splitlines()\n",
    "\n",
    "nums = [int(n) for n in lines]"
   ]
  },
  {
   "cell_type": "code",
   "execution_count": 3,
   "metadata": {},
   "outputs": [
    {
     "output_type": "execute_result",
     "data": {
      "text/plain": [
       "104054607"
      ]
     },
     "metadata": {},
     "execution_count": 3
    }
   ],
   "source": [
    "def find_invalid(nums, preamble):\n",
    "    for i, n in enumerate(nums[preamble:]):\n",
    "        sums = (a + b for a, b in combinations(nums[i:i+preamble], 2))\n",
    "        if n not in sums:\n",
    "            return n\n",
    "\n",
    "find_invalid(nums, 25)"
   ]
  },
  {
   "cell_type": "code",
   "execution_count": 4,
   "metadata": {},
   "outputs": [
    {
     "output_type": "execute_result",
     "data": {
      "text/plain": [
       "13935797"
      ]
     },
     "metadata": {},
     "execution_count": 4
    }
   ],
   "source": [
    "def find_range(nums, n):\n",
    "    len_nums = len(nums)\n",
    "    for len_range in range(2, len_nums+1):\n",
    "        for i in range(len_nums-len_range+1):\n",
    "            r = nums[i:i+len_range]\n",
    "            if sum(r) == n:\n",
    "                return min(r) + max(r)\n",
    "\n",
    "find_range(nums, 104054607)"
   ]
  }
 ]
}