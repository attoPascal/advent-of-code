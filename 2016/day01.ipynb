{
 "cells": [
  {
   "cell_type": "code",
   "execution_count": 1,
   "metadata": {},
   "outputs": [],
   "source": [
    "import aocd"
   ]
  },
  {
   "cell_type": "code",
   "execution_count": 2,
   "metadata": {},
   "outputs": [],
   "source": [
    "data = aocd.get_data(day=1, year=2016)\n",
    "instructions = data.split(', ')"
   ]
  },
  {
   "cell_type": "code",
   "execution_count": 3,
   "metadata": {},
   "outputs": [
    {
     "data": {
      "text/plain": [
       "231"
      ]
     },
     "execution_count": 3,
     "metadata": {},
     "output_type": "execute_result"
    }
   ],
   "source": [
    "position = 0\n",
    "direction = -1j\n",
    "\n",
    "for instruction in instructions:\n",
    "    turn, walk = instruction[0], int(instruction[1:])\n",
    "    if turn == 'L':\n",
    "        direction *= 1j\n",
    "    else:\n",
    "        direction /= 1j\n",
    "    position += walk * direction\n",
    "\n",
    "int(abs(position.real) + abs(position.imag))"
   ]
  },
  {
   "cell_type": "code",
   "execution_count": 4,
   "metadata": {},
   "outputs": [
    {
     "data": {
      "text/plain": [
       "147"
      ]
     },
     "execution_count": 4,
     "metadata": {},
     "output_type": "execute_result"
    }
   ],
   "source": [
    "position = complex(0)\n",
    "direction = -1j\n",
    "visited = {position}\n",
    "\n",
    "for instruction in instructions:\n",
    "    turn, walk = instruction[0], int(instruction[1:])\n",
    "    if turn == 'L':\n",
    "        direction *= 1j\n",
    "    elif turn == 'R':\n",
    "        direction /= 1j\n",
    "    \n",
    "    for step in range(walk):\n",
    "        position += direction\n",
    "        if position in visited:\n",
    "            break\n",
    "        visited.add(position)\n",
    "    else:\n",
    "        continue\n",
    "    break\n",
    "\n",
    "int(abs(position.real) + abs(position.imag))"
   ]
  }
 ],
 "metadata": {
  "kernelspec": {
   "display_name": ".venv",
   "language": "python",
   "name": "python3"
  },
  "language_info": {
   "codemirror_mode": {
    "name": "ipython",
    "version": 3
   },
   "file_extension": ".py",
   "mimetype": "text/x-python",
   "name": "python",
   "nbconvert_exporter": "python",
   "pygments_lexer": "ipython3",
   "version": "3.12.8"
  }
 },
 "nbformat": 4,
 "nbformat_minor": 2
}
