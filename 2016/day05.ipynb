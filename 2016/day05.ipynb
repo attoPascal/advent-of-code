{
 "cells": [
  {
   "cell_type": "code",
   "execution_count": 1,
   "metadata": {},
   "outputs": [],
   "source": [
    "from hashlib import md5\n",
    "from itertools import count"
   ]
  },
  {
   "cell_type": "code",
   "execution_count": 2,
   "metadata": {},
   "outputs": [
    {
     "name": "stdout",
     "output_type": "stream",
     "text": [
      "4543c154"
     ]
    }
   ],
   "source": [
    "door_id = 'ojvtpuvg'\n",
    "password = []\n",
    "\n",
    "for idx in count():\n",
    "    if len(password) == 8:\n",
    "        break\n",
    "    hex_hash = md5(f\"{door_id}{idx}\".encode()).hexdigest()\n",
    "    if hex_hash.startswith('00000'):\n",
    "        password.append(hex_hash[5])\n",
    "        print(hex_hash[5], end='')"
   ]
  },
  {
   "cell_type": "code",
   "execution_count": null,
   "metadata": {},
   "outputs": [
    {
     "name": "stdout",
     "output_type": "stream",
     "text": [
      "1050cbbd\r"
     ]
    }
   ],
   "source": [
    "password = [''] * 8\n",
    "\n",
    "for idx in count():\n",
    "    if all(password):\n",
    "        break\n",
    "    hex_hash = md5(f\"{door_id}{idx}\".encode()).hexdigest()\n",
    "    if hex_hash.startswith('00000') and hex_hash[5] in '01234567':\n",
    "        position = int(hex_hash[5])\n",
    "        password[position] = password[position] or hex_hash[6]\n",
    "        print(''.join(c if c else '_' for c in password), end='\\r')"
   ]
  }
 ],
 "metadata": {
  "kernelspec": {
   "display_name": ".venv",
   "language": "python",
   "name": "python3"
  },
  "language_info": {
   "codemirror_mode": {
    "name": "ipython",
    "version": 3
   },
   "file_extension": ".py",
   "mimetype": "text/x-python",
   "name": "python",
   "nbconvert_exporter": "python",
   "pygments_lexer": "ipython3",
   "version": "3.12.8"
  }
 },
 "nbformat": 4,
 "nbformat_minor": 2
}
