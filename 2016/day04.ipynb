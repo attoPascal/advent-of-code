{
 "cells": [
  {
   "cell_type": "code",
   "execution_count": 1,
   "metadata": {},
   "outputs": [],
   "source": [
    "import aocd\n",
    "import re\n",
    "from  collections import Counter"
   ]
  },
  {
   "cell_type": "code",
   "execution_count": 2,
   "metadata": {},
   "outputs": [],
   "source": [
    "def parse(line: str) -> tuple[str, int, str]:\n",
    "    name, sector, checksum = re.split(r'-(\\d+)', line)\n",
    "    return name, int(sector), checksum[1:-1]\n",
    "\n",
    "def check(name: str, _, checksum: str):\n",
    "    counts = Counter(name.replace('-', '')).items()\n",
    "    most_common = sorted(counts, key=lambda item: (-item[1], item[0]))\n",
    "    check5 = ''.join(letter for letter, _ in most_common[:5])\n",
    "    return check5 == checksum"
   ]
  },
  {
   "cell_type": "code",
   "execution_count": 3,
   "metadata": {},
   "outputs": [
    {
     "data": {
      "text/plain": [
       "245102"
      ]
     },
     "execution_count": 3,
     "metadata": {},
     "output_type": "execute_result"
    }
   ],
   "source": [
    "data = aocd.get_data(day=4, year=2016)\n",
    "rooms = [parse(line) for line in data.splitlines()]\n",
    "real_rooms = [room for room in rooms if check(*room)]\n",
    "\n",
    "sum(sector for _, sector, _ in real_rooms)"
   ]
  },
  {
   "cell_type": "code",
   "execution_count": 4,
   "metadata": {},
   "outputs": [
    {
     "data": {
      "text/plain": [
       "('northpole object storage', 324)"
      ]
     },
     "execution_count": 4,
     "metadata": {},
     "output_type": "execute_result"
    }
   ],
   "source": [
    "def rot(letter, n):\n",
    "    offset = ord('a')\n",
    "    number = ord(letter) - offset\n",
    "    return chr(((number + n) % 26) + offset)\n",
    "\n",
    "def decrypt(name: str, sector: int):\n",
    "    return ''.join(rot(l, sector) if l != '-' else ' ' for l in name)\n",
    "\n",
    "[(decrypt(name, sector), sector) for name, sector, _ in real_rooms][273]"
   ]
  }
 ],
 "metadata": {
  "kernelspec": {
   "display_name": ".venv",
   "language": "python",
   "name": "python3"
  },
  "language_info": {
   "codemirror_mode": {
    "name": "ipython",
    "version": 3
   },
   "file_extension": ".py",
   "mimetype": "text/x-python",
   "name": "python",
   "nbconvert_exporter": "python",
   "pygments_lexer": "ipython3",
   "version": "3.12.8"
  }
 },
 "nbformat": 4,
 "nbformat_minor": 2
}
