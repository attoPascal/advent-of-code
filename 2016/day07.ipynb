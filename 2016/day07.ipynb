{
 "cells": [
  {
   "cell_type": "code",
   "execution_count": 1,
   "metadata": {},
   "outputs": [],
   "source": [
    "import aocd\n",
    "import re"
   ]
  },
  {
   "cell_type": "code",
   "execution_count": 2,
   "metadata": {},
   "outputs": [],
   "source": [
    "def abba(string):\n",
    "    for a, b, c, d in zip(string[:-3], string[1:-2], string[2:-1], string[3:]):\n",
    "        if a == d and b == c and a != b:\n",
    "            return True\n",
    "    return False\n",
    "\n",
    "def aba(string):\n",
    "    for a, b, c in zip(string[:-2], string[1:-1], string[2:]):\n",
    "        if a == c and a != b:\n",
    "            yield a, b\n",
    "\n",
    "def hypernet(string):\n",
    "    sequences = re.split(r'[\\]\\[]', string)\n",
    "    return ', '.join(sequences[::2]), ', '.join(sequences[1::2])\n",
    "\n",
    "def tls(string):\n",
    "    a, b = hypernet(string)\n",
    "    return abba(a) and not abba(b)\n",
    "\n",
    "def ssl(string):\n",
    "    a, b = hypernet(string)\n",
    "    abas = set(aba(a))\n",
    "    babs = set((b, a) for a, b in aba(b))\n",
    "    return bool(abas & babs)"
   ]
  },
  {
   "cell_type": "code",
   "execution_count": 3,
   "metadata": {},
   "outputs": [
    {
     "name": "stdout",
     "output_type": "stream",
     "text": [
      "Part 1: 118\n",
      "Part 2: 260\n"
     ]
    }
   ],
   "source": [
    "lines = aocd.get_data(day=7, year=2016).splitlines()\n",
    "print(\"Part 1:\", sum(tls(line) for line in lines))\n",
    "print(\"Part 2:\", sum(ssl(line) for line in lines))"
   ]
  }
 ],
 "metadata": {
  "kernelspec": {
   "display_name": ".venv",
   "language": "python",
   "name": "python3"
  },
  "language_info": {
   "codemirror_mode": {
    "name": "ipython",
    "version": 3
   },
   "file_extension": ".py",
   "mimetype": "text/x-python",
   "name": "python",
   "nbconvert_exporter": "python",
   "pygments_lexer": "ipython3",
   "version": "3.12.8"
  }
 },
 "nbformat": 4,
 "nbformat_minor": 2
}
