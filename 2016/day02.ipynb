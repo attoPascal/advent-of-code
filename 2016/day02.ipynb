{
 "cells": [
  {
   "cell_type": "code",
   "execution_count": 1,
   "metadata": {},
   "outputs": [],
   "source": [
    "import aocd"
   ]
  },
  {
   "cell_type": "code",
   "execution_count": 2,
   "metadata": {},
   "outputs": [],
   "source": [
    "data = aocd.get_data(day=2, year=2016).splitlines()\n",
    "\n",
    "def movement(dir) -> complex:\n",
    "    match dir:\n",
    "        case 'U': return  1j\n",
    "        case 'D': return -1j\n",
    "        case 'R': return  1\n",
    "        case 'L': return -1\n",
    "        case  _ : return  0\n",
    "\n",
    "def code(grid, start=0):\n",
    "    pos = start\n",
    "    for line in data:\n",
    "        for dir in line:\n",
    "            pos += movement(dir) if pos + movement(dir) in grid else 0\n",
    "        print(grid[pos], end='')"
   ]
  },
  {
   "cell_type": "code",
   "execution_count": 3,
   "metadata": {},
   "outputs": [
    {
     "name": "stdout",
     "output_type": "stream",
     "text": [
      "74921"
     ]
    }
   ],
   "source": [
    "grid1 = {\n",
    "    -1+1j: '1', 0+1j: '2', 1+1j: '3',\n",
    "    -1+0j: '4', 0+0j: '5', 1+0j: '6',\n",
    "    -1-1j: '7', 0-1j: '8', 1-1j: '9'\n",
    "}\n",
    "\n",
    "code(grid1)"
   ]
  },
  {
   "cell_type": "code",
   "execution_count": 4,
   "metadata": {},
   "outputs": [
    {
     "name": "stdout",
     "output_type": "stream",
     "text": [
      "A6B35"
     ]
    }
   ],
   "source": [
    "grid2 = {\n",
    "                            0+2j: '1',\n",
    "                -1+1j: '2', 0+1j: '3', 1+1j: '4',\n",
    "    -2+0j: '5', -1+0j: '6', 0+0j: '7', 1+0j: '8', 2+0j: '9',\n",
    "                -1-1j: 'A', 0-1j: 'B', 1-1j: 'C',\n",
    "                            0-2j: 'D'\n",
    "}\n",
    "\n",
    "code(grid2, start=-2)"
   ]
  }
 ],
 "metadata": {
  "kernelspec": {
   "display_name": ".venv",
   "language": "python",
   "name": "python3"
  },
  "language_info": {
   "codemirror_mode": {
    "name": "ipython",
    "version": 3
   },
   "file_extension": ".py",
   "mimetype": "text/x-python",
   "name": "python",
   "nbconvert_exporter": "python",
   "pygments_lexer": "ipython3",
   "version": "3.12.8"
  }
 },
 "nbformat": 4,
 "nbformat_minor": 2
}
