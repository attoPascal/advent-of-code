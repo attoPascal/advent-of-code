{
 "cells": [
  {
   "cell_type": "code",
   "execution_count": 1,
   "metadata": {},
   "outputs": [],
   "source": [
    "import aocd\n",
    "import re\n",
    "import numpy as np\n",
    "import matplotlib.pyplot as plt"
   ]
  },
  {
   "cell_type": "code",
   "execution_count": 2,
   "metadata": {},
   "outputs": [],
   "source": [
    "display = np.zeros((6, 50))\n",
    "\n",
    "def parse(line):\n",
    "    return [int(n) for n in re.findall(r'\\d+', line)]\n",
    "\n",
    "def rect(a, b):\n",
    "    display[:b, :a] = 1\n",
    "\n",
    "def rotate_row(a, b):\n",
    "    display[a, :] = np.roll(display[a, :], b)\n",
    "\n",
    "def rotate_column(a, b):\n",
    "    display[:, a] = np.roll(display[:, a], b)"
   ]
  },
  {
   "cell_type": "code",
   "execution_count": 3,
   "metadata": {},
   "outputs": [
    {
     "name": "stdout",
     "output_type": "stream",
     "text": [
      "115\n"
     ]
    },
    {
     "data": {
      "text/plain": [
       "<matplotlib.image.AxesImage at 0x117e298e0>"
      ]
     },
     "execution_count": 3,
     "metadata": {},
     "output_type": "execute_result"
    },
    {
     "data": {
      "image/png": "[encoded data removed]",
      "text/plain": [
       "<Figure size 640x480 with 1 Axes>"
      ]
     },
     "metadata": {},
     "output_type": "display_data"
    }
   ],
   "source": [
    "for line in aocd.get_data(day=8, year=2016).splitlines():\n",
    "    a, b = parse(line)\n",
    "    match line.split():\n",
    "        case ['rect', *_]:\n",
    "            rect(a, b)\n",
    "        case ['rotate', 'row', *_]:\n",
    "            rotate_row(a, b)\n",
    "        case ['rotate', 'column', *_]:\n",
    "            rotate_column(a, b)\n",
    "\n",
    "print(np.count_nonzero(display))\n",
    "plt.imshow(display)"
   ]
  }
 ],
 "metadata": {
  "kernelspec": {
   "display_name": ".venv",
   "language": "python",
   "name": "python3"
  },
  "language_info": {
   "codemirror_mode": {
    "name": "ipython",
    "version": 3
   },
   "file_extension": ".py",
   "mimetype": "text/x-python",
   "name": "python",
   "nbconvert_exporter": "python",
   "pygments_lexer": "ipython3",
   "version": "3.12.8"
  }
 },
 "nbformat": 4,
 "nbformat_minor": 2
}
