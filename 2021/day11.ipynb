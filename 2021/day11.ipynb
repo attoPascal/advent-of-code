{
 "cells": [
  {
   "cell_type": "code",
   "execution_count": 1,
   "metadata": {},
   "outputs": [],
   "source": [
    "import aocd\n",
    "import numpy as np\n",
    "from itertools import count\n",
    "from io import StringIO"
   ]
  },
  {
   "cell_type": "code",
   "execution_count": 2,
   "metadata": {},
   "outputs": [],
   "source": [
    "data = aocd.get_data(day=11)\n",
    "grid = np.genfromtxt(StringIO(data), delimiter=1, dtype=int)"
   ]
  },
  {
   "cell_type": "code",
   "execution_count": 3,
   "metadata": {},
   "outputs": [],
   "source": [
    "def area_around(x, y):\n",
    "    return np.s_[max(x-1, 0):x+2, max(y-1, 0):y+2]"
   ]
  },
  {
   "cell_type": "code",
   "execution_count": 4,
   "metadata": {},
   "outputs": [
    {
     "name": "stdout",
     "output_type": "stream",
     "text": [
      "1644 flashes after 100 steps\n",
      "229 steps until synchronisation\n"
     ]
    }
   ],
   "source": [
    "flashes = 0\n",
    "\n",
    "for step in count(1):\n",
    "    did_flash = np.zeros_like(grid, dtype=bool)\n",
    "    grid += 1\n",
    "    \n",
    "    while True:\n",
    "        flashed_this_iteration = False\n",
    "        for (x, y), octopus in np.ndenumerate(grid):\n",
    "            if octopus > 9 and not did_flash[x, y]:\n",
    "                grid[area_around(x, y)] += 1\n",
    "                did_flash[x, y] = True\n",
    "                flashes += 1\n",
    "                flashed_this_iteration += 1\n",
    "        if not flashed_this_iteration:\n",
    "            break\n",
    "    \n",
    "    grid[did_flash] = 0\n",
    "\n",
    "    if step == 100:\n",
    "        print(f\"{flashes} flashes after 100 steps\")\n",
    "    if np.all(did_flash):\n",
    "        print(f\"{step} steps until synchronisation\")\n",
    "        break"
   ]
  }
 ],
 "metadata": {
  "interpreter": {
   "hash": "aee8b7b246df8f9039afb4144a1f6fd8d2ca17a180786b69acc140d282b71a49"
  },
  "kernelspec": {
   "display_name": "Python 3.9.9 64-bit",
   "language": "python",
   "name": "python3"
  },
  "language_info": {
   "codemirror_mode": {
    "name": "ipython",
    "version": 3
   },
   "file_extension": ".py",
   "mimetype": "text/x-python",
   "name": "python",
   "nbconvert_exporter": "python",
   "pygments_lexer": "ipython3",
   "version": "3.9.9"
  },
  "orig_nbformat": 4
 },
 "nbformat": 4,
 "nbformat_minor": 2
}
