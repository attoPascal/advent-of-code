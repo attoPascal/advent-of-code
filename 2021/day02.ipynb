{
 "cells": [
  {
   "cell_type": "code",
   "execution_count": 6,
   "metadata": {},
   "outputs": [],
   "source": [
    "import aocd"
   ]
  },
  {
   "cell_type": "code",
   "execution_count": 7,
   "metadata": {},
   "outputs": [],
   "source": [
    "data = aocd.get_data(day=2)\n",
    "instructions = (line.split() for line in data.splitlines())\n",
    "instructions = [(direction, int(amount)) for direction, amount in instructions]\n"
   ]
  },
  {
   "cell_type": "code",
   "execution_count": 8,
   "metadata": {},
   "outputs": [
    {
     "name": "stdout",
     "output_type": "stream",
     "text": [
      "1840243\n"
     ]
    }
   ],
   "source": [
    "horizontal, vertical = 0, 0\n",
    "\n",
    "for direction, amount in instructions:\n",
    "    match direction:\n",
    "        case 'forward':\n",
    "            horizontal += amount\n",
    "        case 'down':\n",
    "            vertical += amount\n",
    "        case 'up':\n",
    "            vertical -= amount\n",
    "\n",
    "print(horizontal * vertical)"
   ]
  },
  {
   "cell_type": "code",
   "execution_count": 9,
   "metadata": {},
   "outputs": [
    {
     "name": "stdout",
     "output_type": "stream",
     "text": [
      "1727785422\n"
     ]
    }
   ],
   "source": [
    "horizontal, vertical, aim = 0, 0, 0\n",
    "\n",
    "for direction, amount in instructions:\n",
    "    match direction:\n",
    "        case 'forward':\n",
    "            horizontal += amount\n",
    "            vertical += aim * amount\n",
    "        case 'down':\n",
    "            aim += amount\n",
    "        case 'up':\n",
    "            aim -= amount\n",
    "\n",
    "print(horizontal * vertical)"
   ]
  },
  {
   "cell_type": "code",
   "execution_count": null,
   "metadata": {},
   "outputs": [],
   "source": []
  }
 ],
 "metadata": {
  "interpreter": {
   "hash": "aee8b7b246df8f9039afb4144a1f6fd8d2ca17a180786b69acc140d282b71a49"
  },
  "kernelspec": {
   "display_name": "Python 3.9.9 64-bit",
   "language": "python",
   "name": "python3"
  },
  "language_info": {
   "codemirror_mode": {
    "name": "ipython",
    "version": 3
   },
   "file_extension": ".py",
   "mimetype": "text/x-python",
   "name": "python",
   "nbconvert_exporter": "python",
   "pygments_lexer": "ipython3",
   "version": "3.10.0"
  },
  "orig_nbformat": 4
 },
 "nbformat": 4,
 "nbformat_minor": 2
}
