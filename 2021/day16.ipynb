{
 "cells": [
  {
   "cell_type": "code",
   "execution_count": 1,
   "metadata": {},
   "outputs": [],
   "source": [
    "import aocd\n",
    "from collections import namedtuple, deque\n",
    "from math import prod"
   ]
  },
  {
   "cell_type": "code",
   "execution_count": 2,
   "metadata": {},
   "outputs": [],
   "source": [
    "Packet = namedtuple('Packet', ['version', 'type', 'payload'])"
   ]
  },
  {
   "cell_type": "code",
   "execution_count": 3,
   "metadata": {},
   "outputs": [],
   "source": [
    "def pop_bits(packet, nbits, to_int=True):\n",
    "    bits = [packet.popleft() for _ in range(nbits)]\n",
    "    return int(''.join(bits), 2) if to_int else deque(bits)"
   ]
  },
  {
   "cell_type": "code",
   "execution_count": 4,
   "metadata": {},
   "outputs": [],
   "source": [
    "def parse_hex_packet(h):\n",
    "    bin_packet = f'{int(h, 16):0b}'.zfill(len(h) * 4)\n",
    "    return parse_packet(deque(bin_packet))\n",
    "\n",
    "def parse_packet(packet):\n",
    "    version = pop_bits(packet, 3)\n",
    "    type_id = pop_bits(packet, 3)\n",
    "\n",
    "    if type_id == 4:\n",
    "        literal_value = 0\n",
    "        while True:\n",
    "            v = pop_bits(packet, 5)\n",
    "            literal_value <<= 4\n",
    "            literal_value += v & 0b1111\n",
    "            if not v >> 4:\n",
    "                break\n",
    "        return Packet(version, type_id, literal_value)\n",
    "    \n",
    "    subpackets = []\n",
    "    length_type = pop_bits(packet, 1)\n",
    "    if length_type == 0:\n",
    "        bitnum_subpackets = pop_bits(packet, 15)\n",
    "        bits_subpackets = pop_bits(packet, bitnum_subpackets, to_int=False)\n",
    "        while bits_subpackets:\n",
    "            subpackets.append(parse_packet(bits_subpackets))\n",
    "    else:\n",
    "        num_subpackets = pop_bits(packet, 11)\n",
    "        for _ in range(num_subpackets):\n",
    "            subpackets.append(parse_packet(packet))\n",
    "    return Packet(version, type_id, subpackets)"
   ]
  },
  {
   "cell_type": "code",
   "execution_count": 5,
   "metadata": {},
   "outputs": [],
   "source": [
    "def version_count(packet):\n",
    "    if packet.type == 4:\n",
    "        return packet.version\n",
    "    else:\n",
    "        return packet.version + sum(version_count(p) for p in packet.payload)"
   ]
  },
  {
   "cell_type": "code",
   "execution_count": 6,
   "metadata": {},
   "outputs": [],
   "source": [
    "def calculate(packet):\n",
    "    if packet.type == 0:\n",
    "        return sum(calculate(p) for p in packet.payload)\n",
    "    elif packet.type == 1:\n",
    "        return prod(calculate(p) for p in packet.payload)\n",
    "    elif packet.type == 2:\n",
    "        return min(calculate(p) for p in packet.payload)\n",
    "    elif packet.type == 3:\n",
    "        return max(calculate(p) for p in packet.payload)\n",
    "    elif packet.type == 4:\n",
    "        return packet.payload\n",
    "    elif packet.type == 5:\n",
    "        return 1 if calculate(packet.payload[0]) > calculate(packet.payload[1]) else 0\n",
    "    elif packet.type == 6:\n",
    "        return 1 if calculate(packet.payload[0]) < calculate(packet.payload[1]) else 0\n",
    "    elif packet.type == 7:\n",
    "        return 1 if calculate(packet.payload[0]) == calculate(packet.payload[1]) else 0"
   ]
  },
  {
   "cell_type": "code",
   "execution_count": 7,
   "metadata": {},
   "outputs": [
    {
     "name": "stdout",
     "output_type": "stream",
     "text": [
      "873\n",
      "402817863665\n"
     ]
    }
   ],
   "source": [
    "data = aocd.get_data(day=16)\n",
    "packet = parse_hex_packet(data)\n",
    "task1 = version_count(packet)\n",
    "task2 = calculate(packet)\n",
    "\n",
    "print(task1)\n",
    "print(task2)\n",
    "assert(task1 == 873)\n",
    "assert(task2 == 402817863665)"
   ]
  }
 ],
 "metadata": {
  "interpreter": {
   "hash": "aee8b7b246df8f9039afb4144a1f6fd8d2ca17a180786b69acc140d282b71a49"
  },
  "kernelspec": {
   "display_name": "Python 3.9.9 64-bit",
   "language": "python",
   "name": "python3"
  },
  "language_info": {
   "codemirror_mode": {
    "name": "ipython",
    "version": 3
   },
   "file_extension": ".py",
   "mimetype": "text/x-python",
   "name": "python",
   "nbconvert_exporter": "python",
   "pygments_lexer": "ipython3",
   "version": "3.9.9"
  },
  "orig_nbformat": 4
 },
 "nbformat": 4,
 "nbformat_minor": 2
}
