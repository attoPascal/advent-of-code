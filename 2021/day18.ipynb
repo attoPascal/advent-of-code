{
 "cells": [
  {
   "cell_type": "code",
   "execution_count": 1,
   "metadata": {},
   "outputs": [],
   "source": [
    "from snailfish import SnailfishNumber\n",
    "from aocd import get_data\n",
    "from ast import literal_eval"
   ]
  },
  {
   "cell_type": "code",
   "execution_count": 2,
   "metadata": {},
   "outputs": [
    {
     "name": "stdout",
     "output_type": "stream",
     "text": [
      "Task 1: 4008\n"
     ]
    }
   ],
   "source": [
    "numbers = [SnailfishNumber(literal_eval(line)) for line in get_data(day=18).splitlines()]\n",
    "\n",
    "print(\"Task 1:\", sum(numbers[1:], numbers[0]).magnitude)"
   ]
  },
  {
   "cell_type": "code",
   "execution_count": 3,
   "metadata": {},
   "outputs": [
    {
     "name": "stdout",
     "output_type": "stream",
     "text": [
      "Task 2: 4667\n"
     ]
    }
   ],
   "source": [
    "magnitudes = []\n",
    "for i1, n1 in enumerate(numbers):\n",
    "    for n2 in numbers[i1+1:]:\n",
    "        magnitudes.append((n1+n2).magnitude)\n",
    "        magnitudes.append((n2+n1).magnitude)\n",
    "\n",
    "print(\"Task 2:\", max(magnitudes))"
   ]
  }
 ],
 "metadata": {
  "interpreter": {
   "hash": "aee8b7b246df8f9039afb4144a1f6fd8d2ca17a180786b69acc140d282b71a49"
  },
  "kernelspec": {
   "display_name": "Python 3.9.9 64-bit",
   "language": "python",
   "name": "python3"
  },
  "language_info": {
   "codemirror_mode": {
    "name": "ipython",
    "version": 3
   },
   "file_extension": ".py",
   "mimetype": "text/x-python",
   "name": "python",
   "nbconvert_exporter": "python",
   "pygments_lexer": "ipython3",
   "version": "3.9.9"
  },
  "orig_nbformat": 4
 },
 "nbformat": 4,
 "nbformat_minor": 2
}
