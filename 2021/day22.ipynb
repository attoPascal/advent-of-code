{
 "cells": [
  {
   "cell_type": "code",
   "execution_count": 1,
   "metadata": {},
   "outputs": [],
   "source": [
    "import re\n",
    "import aocd\n",
    "from collections import deque\n",
    "from cuboid import Cuboid"
   ]
  },
  {
   "cell_type": "code",
   "execution_count": 2,
   "metadata": {},
   "outputs": [],
   "source": [
    "class Reactor():\n",
    "    def __init__(self, cuboids=None):\n",
    "        self.cuboids = deque(cuboids) if cuboids else deque()\n",
    "\n",
    "    @property\n",
    "    def cubes_on(self):\n",
    "        return sum(c.size for c in self.cuboids)\n",
    "    \n",
    "    def turn_on(self, cuboid):\n",
    "        for c in self.cuboids:\n",
    "            match cuboid-c:\n",
    "                case []:\n",
    "                    return\n",
    "                case [diff]:\n",
    "                    cuboid = diff\n",
    "                case [*diffs]:\n",
    "                    for d in diffs:\n",
    "                        self.turn_on(d)\n",
    "                    return\n",
    "        self.cuboids.append(cuboid)\n",
    "    \n",
    "    def turn_off(self, cuboid):\n",
    "        for _ in range(len(self.cuboids)):\n",
    "            c = self.cuboids.popleft()\n",
    "            self.cuboids.extend(c-cuboid)\n",
    "    "
   ]
  },
  {
   "cell_type": "code",
   "execution_count": 3,
   "metadata": {},
   "outputs": [],
   "source": [
    "r = re.compile(r'(.+) x=(-?\\d+)..(-?\\d+),y=(-?\\d+)..(-?\\d+),z=(-?\\d+)..(-?\\d+)')\n",
    "def parse(line):\n",
    "    m = r.match(line)\n",
    "    return m[1] == 'on', Cuboid((int(m[2]), int(m[3])), (int(m[4]), int(m[5])), (int(m[6]), int(m[7])))\n",
    "\n",
    "instructions = [parse(line) for line in aocd.get_data(day=22).splitlines()]"
   ]
  },
  {
   "cell_type": "code",
   "execution_count": 4,
   "metadata": {},
   "outputs": [
    {
     "data": {
      "text/plain": [
       "1160303042684776"
      ]
     },
     "execution_count": 4,
     "metadata": {},
     "output_type": "execute_result"
    }
   ],
   "source": [
    "reactor = Reactor() \n",
    "for on, cuboid in instructions:\n",
    "    if on: reactor.turn_on(cuboid)\n",
    "    else:  reactor.turn_off(cuboid)\n",
    "\n",
    "reactor.cubes_on"
   ]
  }
 ],
 "metadata": {
  "interpreter": {
   "hash": "aee8b7b246df8f9039afb4144a1f6fd8d2ca17a180786b69acc140d282b71a49"
  },
  "kernelspec": {
   "display_name": "Python 3.9.9 64-bit",
   "language": "python",
   "name": "python3"
  },
  "language_info": {
   "codemirror_mode": {
    "name": "ipython",
    "version": 3
   },
   "file_extension": ".py",
   "mimetype": "text/x-python",
   "name": "python",
   "nbconvert_exporter": "python",
   "pygments_lexer": "ipython3",
   "version": "3.10.0"
  },
  "orig_nbformat": 4
 },
 "nbformat": 4,
 "nbformat_minor": 2
}
