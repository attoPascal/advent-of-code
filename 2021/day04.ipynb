{
 "cells": [
  {
   "cell_type": "code",
   "execution_count": 127,
   "metadata": {},
   "outputs": [],
   "source": [
    "import numpy as np\n",
    "import aocd"
   ]
  },
  {
   "cell_type": "code",
   "execution_count": 128,
   "metadata": {},
   "outputs": [],
   "source": [
    "blocks = aocd.get_data(day=4, year=2021).split('\\n\\n')\n",
    "numbers_drawn = np.fromstring(blocks[0], sep=',', dtype=int)\n",
    "boards = [np.fromstring(b, sep=' ', dtype=int).reshape(5, 5) for b in blocks[1:]]"
   ]
  },
  {
   "cell_type": "code",
   "execution_count": 129,
   "metadata": {},
   "outputs": [],
   "source": [
    "def find_winning_board(boards, numbers_drawn):\n",
    "    boards = [b.copy() for b in boards]\n",
    "    for num in numbers_drawn:\n",
    "        for b in boards:\n",
    "            b[b == num] = -num\n",
    "            for row in b:\n",
    "                if np.all(row < 0):\n",
    "                    return b, num\n",
    "            for col in b.T:\n",
    "                if np.all(col < 0):\n",
    "                    return b, num\n",
    "\n",
    "winning_board, winning_number = find_winning_board(boards, numbers_drawn)"
   ]
  },
  {
   "cell_type": "code",
   "execution_count": 130,
   "metadata": {},
   "outputs": [
    {
     "data": {
      "text/plain": [
       "array([[-32,  34,  55,  90,  64],\n",
       "       [-16,  -1,  94,  48,  91],\n",
       "       [-96,  45, -27,  58,  63],\n",
       "       [-98,  20,  43,  73, -10],\n",
       "       [-87,  52,  49,   8,  24]])"
      ]
     },
     "execution_count": 130,
     "metadata": {},
     "output_type": "execute_result"
    }
   ],
   "source": [
    "winning_board"
   ]
  },
  {
   "cell_type": "code",
   "execution_count": 131,
   "metadata": {},
   "outputs": [
    {
     "data": {
      "text/plain": [
       "87456"
      ]
     },
     "execution_count": 131,
     "metadata": {},
     "output_type": "execute_result"
    }
   ],
   "source": [
    "winning_board[winning_board < 0] = 0\n",
    "np.sum(winning_board) * winning_number"
   ]
  },
  {
   "cell_type": "code",
   "execution_count": 132,
   "metadata": {},
   "outputs": [],
   "source": [
    "def find_last_winning_board(boards, numbers_drawn):\n",
    "    boards = [b.copy() for b in boards]\n",
    "    turn_won = np.zeros((len(boards),)) - 1\n",
    "\n",
    "    for turn, num in enumerate(numbers_drawn):\n",
    "        for i, b in enumerate(boards):\n",
    "            if turn_won[i] >= 0:\n",
    "                continue\n",
    "\n",
    "            b[b == num] = -num\n",
    "            for row in b:\n",
    "                if np.all(row < 0):\n",
    "                    turn_won[i] = turn\n",
    "            for col in b.T:\n",
    "                if np.all(col < 0):\n",
    "                    turn_won[i] = turn\n",
    "        \n",
    "        if np.all(turn_won >= 0):\n",
    "            return boards[np.argmax(turn_won)], num\n",
    "\n",
    "last_winning_board, last_winning_number = find_last_winning_board(boards, numbers_drawn)"
   ]
  },
  {
   "cell_type": "code",
   "execution_count": 133,
   "metadata": {},
   "outputs": [
    {
     "data": {
      "text/plain": [
       "(array([[ 46, -11, -41,  86, -21],\n",
       "        [-31, -82, -38, -23,  53],\n",
       "        [-66, -52, -39,  -6,  -1],\n",
       "        [-16,  95, -36,   0, -69],\n",
       "        [ 28, -54,  91, -99, -60]]),\n",
       " 39)"
      ]
     },
     "execution_count": 133,
     "metadata": {},
     "output_type": "execute_result"
    }
   ],
   "source": [
    "last_winning_board, last_winning_number"
   ]
  },
  {
   "cell_type": "code",
   "execution_count": 134,
   "metadata": {},
   "outputs": [
    {
     "data": {
      "text/plain": [
       "15561"
      ]
     },
     "execution_count": 134,
     "metadata": {},
     "output_type": "execute_result"
    }
   ],
   "source": [
    "last_winning_board[last_winning_board < 0] = 0\n",
    "np.sum(last_winning_board) * last_winning_number"
   ]
  },
  {
   "cell_type": "code",
   "execution_count": null,
   "metadata": {},
   "outputs": [],
   "source": []
  }
 ],
 "metadata": {
  "interpreter": {
   "hash": "aee8b7b246df8f9039afb4144a1f6fd8d2ca17a180786b69acc140d282b71a49"
  },
  "kernelspec": {
   "display_name": "Python 3.9.9 64-bit",
   "language": "python",
   "name": "python3"
  },
  "language_info": {
   "codemirror_mode": {
    "name": "ipython",
    "version": 3
   },
   "file_extension": ".py",
   "mimetype": "text/x-python",
   "name": "python",
   "nbconvert_exporter": "python",
   "pygments_lexer": "ipython3",
   "version": "3.9.9"
  },
  "orig_nbformat": 4
 },
 "nbformat": 4,
 "nbformat_minor": 2
}
