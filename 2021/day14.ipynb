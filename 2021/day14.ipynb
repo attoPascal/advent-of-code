{
 "cells": [
  {
   "cell_type": "code",
   "execution_count": 1,
   "metadata": {},
   "outputs": [],
   "source": [
    "import aocd\n",
    "from collections import Counter"
   ]
  },
  {
   "cell_type": "code",
   "execution_count": 2,
   "metadata": {},
   "outputs": [],
   "source": [
    "data = aocd.get_data(day=14).split('\\n\\n')\n",
    "polymer = data[0]\n",
    "rules = dict(l.split(' -> ') for l in data[1].splitlines())"
   ]
  },
  {
   "cell_type": "code",
   "execution_count": 3,
   "metadata": {},
   "outputs": [],
   "source": [
    "pairs = [polymer[s-1:s+1] for s in range(1, len(polymer))]\n",
    "pair_counts = Counter(pairs)"
   ]
  },
  {
   "cell_type": "code",
   "execution_count": 4,
   "metadata": {},
   "outputs": [],
   "source": [
    "for step in range(40):\n",
    "    for pair, count in pair_counts.copy().items():\n",
    "        insert = rules[pair]\n",
    "        pair_counts[pair[0]+insert] += count\n",
    "        pair_counts[insert+pair[1]] += count\n",
    "        pair_counts[pair] -= count"
   ]
  },
  {
   "cell_type": "code",
   "execution_count": 5,
   "metadata": {},
   "outputs": [
    {
     "name": "stdout",
     "output_type": "stream",
     "text": [
      "2827627697643\n"
     ]
    }
   ],
   "source": [
    "letter_counts = Counter()\n",
    "letter_counts[polymer[-1]] += 1\n",
    "for pair, count in pair_counts.items():\n",
    "    letter_counts[pair[0]] += count\n",
    "\n",
    "common = letter_counts.most_common()\n",
    "most = common[0][1]\n",
    "least = common[-1][1]\n",
    "print(most - least)"
   ]
  }
 ],
 "metadata": {
  "interpreter": {
   "hash": "aee8b7b246df8f9039afb4144a1f6fd8d2ca17a180786b69acc140d282b71a49"
  },
  "kernelspec": {
   "display_name": "Python 3.9.9 64-bit",
   "language": "python",
   "name": "python3"
  },
  "language_info": {
   "codemirror_mode": {
    "name": "ipython",
    "version": 3
   },
   "file_extension": ".py",
   "mimetype": "text/x-python",
   "name": "python",
   "nbconvert_exporter": "python",
   "pygments_lexer": "ipython3",
   "version": "3.9.9"
  },
  "orig_nbformat": 4
 },
 "nbformat": 4,
 "nbformat_minor": 2
}
