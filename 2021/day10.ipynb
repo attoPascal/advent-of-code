{
 "cells": [
  {
   "cell_type": "code",
   "execution_count": 1,
   "metadata": {},
   "outputs": [],
   "source": [
    "import aocd\n",
    "from statistics import median"
   ]
  },
  {
   "cell_type": "code",
   "execution_count": 2,
   "metadata": {},
   "outputs": [],
   "source": [
    "lines = aocd.get_data(day=10).splitlines()"
   ]
  },
  {
   "cell_type": "code",
   "execution_count": 3,
   "metadata": {},
   "outputs": [
    {
     "data": {
      "text/plain": [
       "319329"
      ]
     },
     "execution_count": 3,
     "metadata": {},
     "output_type": "execute_result"
    }
   ],
   "source": [
    "close = {'(': ')', '[': ']', '{': '}', '<': '>'}\n",
    "\n",
    "score = 0\n",
    "points = {')': 3, ']': 57, '}': 1197, '>': 25137}\n",
    "incomplete = []\n",
    "\n",
    "for line in lines:\n",
    "    stack = []\n",
    "    for c in line:\n",
    "        if c in '([{<':\n",
    "            stack.append(c)\n",
    "        else:\n",
    "            correct = stack.pop()\n",
    "            if close[correct] != c:\n",
    "                score += points[c]\n",
    "                corrupted = True\n",
    "                break\n",
    "    else:\n",
    "        incomplete.append(line)\n",
    "\n",
    "score"
   ]
  },
  {
   "cell_type": "code",
   "execution_count": 4,
   "metadata": {},
   "outputs": [
    {
     "data": {
      "text/plain": [
       "3515583998"
      ]
     },
     "execution_count": 4,
     "metadata": {},
     "output_type": "execute_result"
    }
   ],
   "source": [
    "scores = []\n",
    "points = {')': 1, ']': 2, '}': 3, '>': 4}\n",
    "\n",
    "for line in incomplete:\n",
    "    stack = []\n",
    "    for c in line:\n",
    "        if c in '([{<':\n",
    "            stack.append(close[c])\n",
    "        else:\n",
    "            assert(c == stack.pop())\n",
    "    \n",
    "    score = 0\n",
    "    for c in reversed(stack):\n",
    "        score = score * 5 + points[c]\n",
    "    scores.append(score)\n",
    "\n",
    "median(scores)\n",
    "\n",
    "            "
   ]
  },
  {
   "cell_type": "code",
   "execution_count": null,
   "metadata": {},
   "outputs": [],
   "source": []
  }
 ],
 "metadata": {
  "interpreter": {
   "hash": "aee8b7b246df8f9039afb4144a1f6fd8d2ca17a180786b69acc140d282b71a49"
  },
  "kernelspec": {
   "display_name": "Python 3.9.9 64-bit",
   "language": "python",
   "name": "python3"
  },
  "language_info": {
   "codemirror_mode": {
    "name": "ipython",
    "version": 3
   },
   "file_extension": ".py",
   "mimetype": "text/x-python",
   "name": "python",
   "nbconvert_exporter": "python",
   "pygments_lexer": "ipython3",
   "version": "3.9.9"
  },
  "orig_nbformat": 4
 },
 "nbformat": 4,
 "nbformat_minor": 2
}
