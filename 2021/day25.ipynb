{
 "cells": [
  {
   "cell_type": "code",
   "execution_count": 36,
   "metadata": {},
   "outputs": [],
   "source": [
    "import aocd\n",
    "import numpy as np\n",
    "from scipy.signal import correlate2d\n",
    "from itertools import count"
   ]
  },
  {
   "cell_type": "code",
   "execution_count": 37,
   "metadata": {},
   "outputs": [],
   "source": [
    "grid = np.array([[ord(c) for c in line] for line in aocd.get_data(day=25).splitlines()])"
   ]
  },
  {
   "cell_type": "code",
   "execution_count": 38,
   "metadata": {},
   "outputs": [
    {
     "data": {
      "text/plain": [
       "329"
      ]
     },
     "execution_count": 38,
     "metadata": {},
     "output_type": "execute_result"
    }
   ],
   "source": [
    "def move_right(grid):\n",
    "    cucumbers = correlate2d(grid, [[1, 2]], boundary='wrap', mode='same') == 154\n",
    "    spaces = np.roll(cucumbers, 1, axis=1)\n",
    "    grid[cucumbers] = ord('.')\n",
    "    grid[spaces] = ord('>')\n",
    "\n",
    "def move_down(grid):\n",
    "    cucumbers = correlate2d(grid, [[1], [2]], boundary='wrap', mode='same') == 210\n",
    "    spaces = np.roll(cucumbers, 1, axis=0)\n",
    "    grid[cucumbers] = ord('.')\n",
    "    grid[spaces] = ord('v')\n",
    "\n",
    "def step(grid):\n",
    "    grid = grid.copy()\n",
    "    move_right(grid)\n",
    "    move_down(grid)\n",
    "    return grid\n",
    "\n",
    "num_steps = 0\n",
    "for num_steps in count(1):\n",
    "    next_grid = step(grid)\n",
    "    if np.array_equal(grid, next_grid):\n",
    "        break\n",
    "    grid = next_grid\n",
    "\n",
    "num_steps\n"
   ]
  }
 ],
 "metadata": {
  "interpreter": {
   "hash": "aee8b7b246df8f9039afb4144a1f6fd8d2ca17a180786b69acc140d282b71a49"
  },
  "kernelspec": {
   "display_name": "Python 3.9.9 64-bit",
   "language": "python",
   "name": "python3"
  },
  "language_info": {
   "codemirror_mode": {
    "name": "ipython",
    "version": 3
   },
   "file_extension": ".py",
   "mimetype": "text/x-python",
   "name": "python",
   "nbconvert_exporter": "python",
   "pygments_lexer": "ipython3",
   "version": "3.9.9"
  },
  "orig_nbformat": 4
 },
 "nbformat": 4,
 "nbformat_minor": 2
}
