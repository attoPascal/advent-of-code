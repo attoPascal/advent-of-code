{
 "cells": [
  {
   "cell_type": "code",
   "execution_count": 3,
   "metadata": {},
   "outputs": [],
   "source": [
    "import aocd"
   ]
  },
  {
   "cell_type": "code",
   "execution_count": 4,
   "metadata": {},
   "outputs": [
    {
     "name": "stdout",
     "output_type": "stream",
     "text": [
      "011000011101 100111100010\n",
      "3959450\n"
     ]
    }
   ],
   "source": [
    "lines = aocd.get_data(day=3).splitlines()\n",
    "num_lines = len(lines)\n",
    "num_bits = len(lines[0])\n",
    "gamma, epsilon = '', ''\n",
    "\n",
    "for b in range(num_bits):\n",
    "    ones = sum(int(line[b]) for line in lines)\n",
    "    gamma   += '0' if ones <= (num_lines / 2) else '1'\n",
    "    epsilon += '1' if ones <= (num_lines / 2) else '0'\n",
    "\n",
    "print(gamma, epsilon)\n",
    "print(int(gamma, 2) * int(epsilon, 2))"
   ]
  },
  {
   "cell_type": "code",
   "execution_count": 5,
   "metadata": {},
   "outputs": [
    {
     "name": "stdout",
     "output_type": "stream",
     "text": [
      "['011110000000'] ['111100110111']\n",
      "7478400\n"
     ]
    }
   ],
   "source": [
    "oxy = lines\n",
    "co2 = lines\n",
    "\n",
    "for b in range(num_bits):\n",
    "    ones = sum(int(line[b]) for line in oxy)\n",
    "    if ones <= len(oxy) / 2:\n",
    "        oxy = [n for n in oxy if n[b] == '0']\n",
    "    else:\n",
    "        oxy = [n for n in oxy if n[b] == '1']\n",
    "    if len(oxy) == 1:\n",
    "        break\n",
    "    \n",
    "for b in range(num_bits):\n",
    "    ones = sum(int(line[b]) for line in co2)\n",
    "    if ones <= len(co2) / 2:\n",
    "        co2 = [n for n in co2 if n[b] == '1']\n",
    "    else:\n",
    "        co2 = [n for n in co2 if n[b] == '0']\n",
    "    if len(co2) == 1:\n",
    "        break\n",
    "\n",
    "print(oxy, co2)\n",
    "print(int(oxy[0], 2) * int(co2[0], 2))\n",
    "    "
   ]
  },
  {
   "cell_type": "code",
   "execution_count": null,
   "metadata": {},
   "outputs": [],
   "source": []
  }
 ],
 "metadata": {
  "interpreter": {
   "hash": "aee8b7b246df8f9039afb4144a1f6fd8d2ca17a180786b69acc140d282b71a49"
  },
  "kernelspec": {
   "display_name": "Python 3.9.9 64-bit",
   "language": "python",
   "name": "python3"
  },
  "language_info": {
   "codemirror_mode": {
    "name": "ipython",
    "version": 3
   },
   "file_extension": ".py",
   "mimetype": "text/x-python",
   "name": "python",
   "nbconvert_exporter": "python",
   "pygments_lexer": "ipython3",
   "version": "3.9.9"
  },
  "orig_nbformat": 4
 },
 "nbformat": 4,
 "nbformat_minor": 2
}
