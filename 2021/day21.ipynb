{
 "cells": [
  {
   "cell_type": "code",
   "execution_count": 1,
   "metadata": {},
   "outputs": [],
   "source": [
    "from itertools import cycle\n",
    "from functools import cache"
   ]
  },
  {
   "cell_type": "code",
   "execution_count": 2,
   "metadata": {},
   "outputs": [],
   "source": [
    "class Player():\n",
    "    def __init__(self, name, starting):\n",
    "        self.name = name\n",
    "        self.position = starting\n",
    "        self.score = 0\n",
    "        self.rolls = 0\n",
    "    \n",
    "    def roll(self, die):\n",
    "        forward = next(die) + next(die) + next(die)\n",
    "        self.position = (self.position + forward - 1) % 10 + 1\n",
    "        self.score += self.position\n",
    "        self.rolls += 3\n",
    "\n",
    "def deterministic_die(n):\n",
    "    yield from cycle(range(1, n+1))"
   ]
  },
  {
   "cell_type": "code",
   "execution_count": 3,
   "metadata": {},
   "outputs": [],
   "source": [
    "def play(pos1, pos2):\n",
    "    p1 = Player(\"1\", starting=pos1)\n",
    "    p2 = Player(\"2\", starting=pos2)\n",
    "    die = deterministic_die(100)\n",
    "\n",
    "    while True:\n",
    "        p1.roll(die)\n",
    "        if p1.score >= 1000:\n",
    "            return p1, p2\n",
    "        p2.roll(die)\n",
    "        if p2.score >= 1000:\n",
    "            return p2, p1"
   ]
  },
  {
   "cell_type": "code",
   "execution_count": 4,
   "metadata": {},
   "outputs": [
    {
     "name": "stdout",
     "output_type": "stream",
     "text": [
      "Player 2 wins\n",
      "989352\n"
     ]
    }
   ],
   "source": [
    "winner, loser = play(pos1=5, pos2=9)\n",
    "print(f\"Player {winner.name} wins\")\n",
    "print(loser.score * (winner.rolls + loser.rolls))"
   ]
  },
  {
   "cell_type": "code",
   "execution_count": 5,
   "metadata": {},
   "outputs": [
    {
     "name": "stdout",
     "output_type": "stream",
     "text": [
      "Player 1 wins in 430229563871565 universes\n",
      "Player 2 wins in 370143448743170 universes\n"
     ]
    }
   ],
   "source": [
    "roll_possibilities = {3:1, 4:3, 5:6, 6:7, 7:6, 8:3, 9:1}\n",
    "\n",
    "@cache\n",
    "def assess(pos1, pos2, score1=0, score2=0, p1_is_next=True):\n",
    "    wins  = [0, 0]\n",
    "    pos   =   pos1 if p1_is_next else pos2\n",
    "    score = score1 if p1_is_next else score2\n",
    "\n",
    "    for roll, combinations in roll_possibilities.items():\n",
    "        next_pos = (pos + roll - 1) % 10 + 1\n",
    "        next_score = score + next_pos\n",
    "        if next_score >= 21:\n",
    "            wins[0 if p1_is_next else 1] += combinations\n",
    "        else:\n",
    "            if p1_is_next:\n",
    "                p1_wins, p2_wins = assess(next_pos, pos2, next_score, score2, p1_is_next=False)\n",
    "            else:\n",
    "                p1_wins, p2_wins = assess(pos1, next_pos, score1, next_score, p1_is_next=True)\n",
    "            wins[0] += p1_wins * combinations\n",
    "            wins[1] += p2_wins * combinations\n",
    "    return wins\n",
    "\n",
    "p1_wins, p2_wins = assess(pos1=5, pos2=9)\n",
    "print(f\"Player 1 wins in {p1_wins} universes\")\n",
    "print(f\"Player 2 wins in {p2_wins} universes\")"
   ]
  }
 ],
 "metadata": {
  "interpreter": {
   "hash": "aee8b7b246df8f9039afb4144a1f6fd8d2ca17a180786b69acc140d282b71a49"
  },
  "kernelspec": {
   "display_name": "Python 3.9.9 64-bit",
   "language": "python",
   "name": "python3"
  },
  "language_info": {
   "codemirror_mode": {
    "name": "ipython",
    "version": 3
   },
   "file_extension": ".py",
   "mimetype": "text/x-python",
   "name": "python",
   "nbconvert_exporter": "python",
   "pygments_lexer": "ipython3",
   "version": "3.9.9"
  },
  "orig_nbformat": 4
 },
 "nbformat": 4,
 "nbformat_minor": 2
}
