{
 "cells": [
  {
   "cell_type": "code",
   "execution_count": 1,
   "metadata": {},
   "outputs": [],
   "source": [
    "import aocd\n",
    "import re\n",
    "import numpy as np\n",
    "from collections import deque"
   ]
  },
  {
   "cell_type": "code",
   "execution_count": 2,
   "metadata": {},
   "outputs": [],
   "source": [
    "class Scanner():\n",
    "    def __init__(self, id, beacons, position=[0, 0, 0]):\n",
    "        self.id = id\n",
    "        self.position = np.array(position)\n",
    "        self._beacons = np.array(beacons)\n",
    "        self._rotation = 0\n",
    "\n",
    "        vectors = []\n",
    "        for i, b in enumerate(self._beacons):\n",
    "            vectors.extend(self._beacons[i+1:]-b)\n",
    "        self._vectors = np.array(vectors)\n",
    "        self._distances = np.linalg.norm(vectors, axis=1)\n",
    "    \n",
    "    @property\n",
    "    def beacons(self):\n",
    "        return self._beacons + self.position\n",
    "    \n",
    "    @property\n",
    "    def beacon_tuples(self):\n",
    "        return [tuple(b) for b in self.beacons]\n",
    "    \n",
    "    def rotate(self):\n",
    "        # c c c cu c c c cr c c c cu ...\n",
    "        self._clockwise()\n",
    "        if self._rotation % 8 == 3:\n",
    "            self._up()\n",
    "        elif self._rotation % 8 == 7:\n",
    "            self._right()\n",
    "        self._rotation += 1\n",
    "    \n",
    "    def _up(self):\n",
    "        # x y z -> x z -y\n",
    "        self._beacons = self._beacons[:, [0, 2, 1]] * [1, 1, -1]\n",
    "        self._vectors = self._vectors[:, [0, 2, 1]] * [1, 1, -1]\n",
    "    \n",
    "    def _right(self):\n",
    "        # x y z -> y -x z\n",
    "        self._beacons = self._beacons[:, [1, 0, 2]] * [1, -1, 1]\n",
    "        self._vectors = self._vectors[:, [1, 0, 2]] * [1, -1, 1]\n",
    "\n",
    "    def _clockwise(self):\n",
    "        # x y z -> z y -x\n",
    "        self._beacons = self._beacons[:, [2, 1, 0]] * [1, 1, -1]\n",
    "        self._vectors = self._vectors[:, [2, 1, 0]] * [1, 1, -1]\n",
    "    \n",
    "    def intersect_distances(self, other):\n",
    "        return np.intersect1d(self._distances, other._distances)\n",
    "    \n",
    "    def intersect_vectors(self, other):\n",
    "        v0 = set(tuple(v) for v in self._vectors)\n",
    "        v1 = set(tuple(v) for v in other._vectors) | set(tuple(-v) for v in other._vectors)\n",
    "        return v0 & v1"
   ]
  },
  {
   "cell_type": "code",
   "execution_count": 3,
   "metadata": {},
   "outputs": [],
   "source": [
    "data = aocd.get_data(day=19)\n",
    "blocks = (block.splitlines() for block in data.split('\\n\\n'))\n",
    "scanners = []\n",
    "\n",
    "for block in blocks:\n",
    "    scanner_id = int(re.search(r'\\d+', block[0])[0])\n",
    "    lines = (re.match(r'(-?\\d+),(-?\\d+),(-?\\d+)', line) for line in block[1:])\n",
    "    beacons = [(int(m[1]), int(m[2]), int(m[3])) for m in lines]\n",
    "    scanners.append(Scanner(scanner_id, beacons))"
   ]
  },
  {
   "cell_type": "code",
   "execution_count": 4,
   "metadata": {},
   "outputs": [
    {
     "name": "stdout",
     "output_type": "stream",
     "text": [
      "428\n"
     ]
    }
   ],
   "source": [
    "scanner0 = scanners[0]\n",
    "scanners_to_check  = deque([scanner0])\n",
    "canonical_scanners = set([scanner0])\n",
    "canonical_beacons  = set(scanner0.beacon_tuples)\n",
    "\n",
    "while scanners_to_check:\n",
    "    current_scanner = scanners_to_check.popleft()\n",
    "    other_scanners = [s for s in scanners if s not in canonical_scanners]\n",
    "\n",
    "    for other_scanner in other_scanners:\n",
    "        if len(current_scanner.intersect_distances(other_scanner)) >= 66:\n",
    "            for _ in range(24):\n",
    "                other_scanner.rotate()\n",
    "                if len(current_scanner.intersect_vectors(other_scanner)) >= 66:\n",
    "                    break\n",
    "            \n",
    "            differences = []\n",
    "            for i, b in enumerate(other_scanner.beacons):\n",
    "                differences.extend(current_scanner.beacons - b)\n",
    "            difference, counts = np.unique(differences, return_counts=True, axis=0)\n",
    "            \n",
    "            other_scanner.position = difference[np.argmax(counts)]\n",
    "            scanners_to_check.append(other_scanner)\n",
    "            canonical_scanners.add(other_scanner)\n",
    "            canonical_beacons.update(other_scanner.beacon_tuples)\n",
    "\n",
    "print(len(canonical_beacons))"
   ]
  },
  {
   "cell_type": "code",
   "execution_count": 5,
   "metadata": {},
   "outputs": [
    {
     "name": "stdout",
     "output_type": "stream",
     "text": [
      "12140\n"
     ]
    }
   ],
   "source": [
    "manhattan_distances = []\n",
    "for i, s1 in enumerate(scanners):\n",
    "    for s2 in scanners[i+1:]:\n",
    "        manhattan_distances.append(np.sum(np.abs(s1.position - s2.position)))\n",
    "\n",
    "print(max(manhattan_distances))"
   ]
  },
  {
   "cell_type": "code",
   "execution_count": 6,
   "metadata": {},
   "outputs": [
    {
     "data": {
      "text/plain": [
       "(325, 3)"
      ]
     },
     "execution_count": 6,
     "metadata": {},
     "output_type": "execute_result"
    }
   ],
   "source": [
    "vectors = []\n",
    "for i, b in enumerate(scanner0._beacons):\n",
    "    vectors.extend(scanner0._beacons[i+1:]-b)\n",
    "np.array(vectors).shape"
   ]
  },
  {
   "cell_type": "code",
   "execution_count": 30,
   "metadata": {},
   "outputs": [
    {
     "data": {
      "text/plain": [
       "(array([[[-2170, -1418, -1008],\n",
       "         [-1060,  -142,   -76],\n",
       "         [ -889,  -170, -1160],\n",
       "         ...,\n",
       "         [-1839,    34, -1023],\n",
       "         [-2109, -1452,  -169],\n",
       "         [-1087, -1235,   199]],\n",
       " \n",
       "        [[-2402,  -141, -2356],\n",
       "         [-1292,  1135, -1424],\n",
       "         [-1121,  1107, -2508],\n",
       "         ...,\n",
       "         [-2071,  1311, -2371],\n",
       "         [-2341,  -175, -1517],\n",
       "         [-1319,    42, -1149]],\n",
       " \n",
       "        [[-1109,     0, -1186],\n",
       "         [    1,  1276,  -254],\n",
       "         [  172,  1248, -1338],\n",
       "         ...,\n",
       "         [ -778,  1452, -1201],\n",
       "         [-1048,   -34,  -347],\n",
       "         [  -26,   183,    21]],\n",
       " \n",
       "        ...,\n",
       " \n",
       "        [[-1410, -1055, -2011],\n",
       "         [ -300,   221, -1079],\n",
       "         [ -129,   193, -2163],\n",
       "         ...,\n",
       "         [-1079,   397, -2026],\n",
       "         [-1349, -1089, -1172],\n",
       "         [ -327,  -872,  -804]],\n",
       " \n",
       "        [[-2588, -1513, -2034],\n",
       "         [-1478,  -237, -1102],\n",
       "         [-1307,  -265, -2186],\n",
       "         ...,\n",
       "         [-2257,   -61, -2049],\n",
       "         [-2527, -1547, -1195],\n",
       "         [-1505, -1330,  -827]],\n",
       " \n",
       "        [[-1104,  -443, -2351],\n",
       "         [    6,   833, -1419],\n",
       "         [  177,   805, -2503],\n",
       "         ...,\n",
       "         [ -773,  1009, -2366],\n",
       "         [-1043,  -477, -1512],\n",
       "         [  -21,  -260, -1144]]]),\n",
       " array([1, 1, 1]))"
      ]
     },
     "execution_count": 30,
     "metadata": {},
     "output_type": "execute_result"
    }
   ],
   "source": [
    "np.unique(scanner0.beacons[:, None, :] - scanner1.beacons[None, :, :], axis=2, return_counts=True)"
   ]
  }
 ],
 "metadata": {
  "interpreter": {
   "hash": "aee8b7b246df8f9039afb4144a1f6fd8d2ca17a180786b69acc140d282b71a49"
  },
  "kernelspec": {
   "display_name": "Python 3.9.9 64-bit",
   "language": "python",
   "name": "python3"
  },
  "language_info": {
   "codemirror_mode": {
    "name": "ipython",
    "version": 3
   },
   "file_extension": ".py",
   "mimetype": "text/x-python",
   "name": "python",
   "nbconvert_exporter": "python",
   "pygments_lexer": "ipython3",
   "version": "3.9.9"
  },
  "orig_nbformat": 4
 },
 "nbformat": 4,
 "nbformat_minor": 2
}
