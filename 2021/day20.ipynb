{
 "cells": [
  {
   "cell_type": "code",
   "execution_count": 1,
   "metadata": {},
   "outputs": [],
   "source": [
    "import aocd\n",
    "import numpy as np\n",
    "from scipy.signal import correlate2d"
   ]
  },
  {
   "cell_type": "code",
   "execution_count": 2,
   "metadata": {},
   "outputs": [],
   "source": [
    "data = aocd.get_data(day=20).splitlines()\n",
    "algorithm = np.array([c == '#' for c in data[0]])\n",
    "image = np.array([[c == '#' for c in line] for line in data[2:]])"
   ]
  },
  {
   "cell_type": "code",
   "execution_count": 3,
   "metadata": {},
   "outputs": [
    {
     "name": "stdout",
     "output_type": "stream",
     "text": [
      "5268\n",
      "16875\n"
     ]
    }
   ],
   "source": [
    "kernel = np.array([[256, 128, 64], [32, 16, 8], [4, 2, 1]])\n",
    "\n",
    "def enhance(image, repetitions):\n",
    "    for n in range(repetitions):\n",
    "        image = algorithm[correlate2d(image, kernel, fillvalue=n%2)]\n",
    "    return image\n",
    "\n",
    "print(np.count_nonzero(enhance(image, 2)))\n",
    "print(np.count_nonzero(enhance(image, 50)))"
   ]
  }
 ],
 "metadata": {
  "interpreter": {
   "hash": "aee8b7b246df8f9039afb4144a1f6fd8d2ca17a180786b69acc140d282b71a49"
  },
  "kernelspec": {
   "display_name": "Python 3.9.9 64-bit",
   "language": "python",
   "name": "python3"
  },
  "language_info": {
   "codemirror_mode": {
    "name": "ipython",
    "version": 3
   },
   "file_extension": ".py",
   "mimetype": "text/x-python",
   "name": "python",
   "nbconvert_exporter": "python",
   "pygments_lexer": "ipython3",
   "version": "3.9.9"
  },
  "orig_nbformat": 4
 },
 "nbformat": 4,
 "nbformat_minor": 2
}
