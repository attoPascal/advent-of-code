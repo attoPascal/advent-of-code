{
 "cells": [
  {
   "cell_type": "code",
   "execution_count": 1,
   "metadata": {},
   "outputs": [],
   "source": [
    "import aocd\n"
   ]
  },
  {
   "cell_type": "code",
   "execution_count": 2,
   "metadata": {},
   "outputs": [],
   "source": [
    "data = aocd.get_data(day=8)\n",
    "patterns = (l.split(' | ') for l in data.splitlines())\n",
    "patterns = ((e[0].split(), e[1].split()) for e in patterns)\n",
    "patterns = [([set(a) for a in e[0]], [set(b) for b in e[1]]) for e in patterns]"
   ]
  },
  {
   "cell_type": "code",
   "execution_count": 3,
   "metadata": {},
   "outputs": [
    {
     "data": {
      "text/plain": [
       "543"
      ]
     },
     "execution_count": 3,
     "metadata": {},
     "output_type": "execute_result"
    }
   ],
   "source": [
    "num = 0\n",
    "for _, outputs in patterns:\n",
    "    for p in outputs:\n",
    "        num += len(p) <= 4 or len(p) == 7\n",
    "num"
   ]
  },
  {
   "cell_type": "code",
   "execution_count": 4,
   "metadata": {},
   "outputs": [
    {
     "name": "stdout",
     "output_type": "stream",
     "text": [
      "994266\n"
     ]
    }
   ],
   "source": [
    "s = 0\n",
    "\n",
    "for inputs, outputs in patterns:\n",
    "    one   = next(p for p in inputs if len(p) == 2)\n",
    "    four  = next(p for p in inputs if len(p) == 4)\n",
    "    seven = next(p for p in inputs if len(p) == 3)\n",
    "    eight = next(p for p in inputs if len(p) == 7)\n",
    "    three = next(p for p in inputs if len(p) == 5 and len(p - one) == 3)\n",
    "    zero  = eight - (four & three - one)\n",
    "    nine  = three | four\n",
    "    six   = next(p for p in inputs if len(p) == 6 and p != zero and p != nine)\n",
    "    two   = (three - one) | (eight - six) | (eight - nine)\n",
    "    five  = nine - (eight - six)\n",
    "\n",
    "    def recognize(pattern):\n",
    "        if   pattern == one:   return 1\n",
    "        elif pattern == two:   return 2\n",
    "        elif pattern == three: return 3\n",
    "        elif pattern == four:  return 4\n",
    "        elif pattern == five:  return 5\n",
    "        elif pattern == six:   return 6\n",
    "        elif pattern == seven: return 7\n",
    "        elif pattern == eight: return 8\n",
    "        elif pattern == nine:  return 9\n",
    "        elif pattern == zero:  return 0\n",
    "        else: raise ValueError(\"not recognized\")\n",
    "\n",
    "    s += sum(d*t for d, t in zip((recognize(p) for p in outputs), [1000, 100, 10, 1]))\n",
    "\n",
    "print(s)\n"
   ]
  }
 ],
 "metadata": {
  "interpreter": {
   "hash": "aee8b7b246df8f9039afb4144a1f6fd8d2ca17a180786b69acc140d282b71a49"
  },
  "kernelspec": {
   "display_name": "Python 3.9.9 64-bit",
   "language": "python",
   "name": "python3"
  },
  "language_info": {
   "codemirror_mode": {
    "name": "ipython",
    "version": 3
   },
   "file_extension": ".py",
   "mimetype": "text/x-python",
   "name": "python",
   "nbconvert_exporter": "python",
   "pygments_lexer": "ipython3",
   "version": "3.9.9"
  },
  "orig_nbformat": 4
 },
 "nbformat": 4,
 "nbformat_minor": 2
}
