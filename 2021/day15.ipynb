{
 "cells": [
  {
   "cell_type": "code",
   "execution_count": 4,
   "metadata": {},
   "outputs": [],
   "source": [
    "import aocd\n",
    "import numpy as np\n",
    "import networkx as nx\n",
    "from io import StringIO"
   ]
  },
  {
   "cell_type": "code",
   "execution_count": 5,
   "metadata": {},
   "outputs": [
    {
     "data": {
      "text/plain": [
       "540"
      ]
     },
     "execution_count": 5,
     "metadata": {},
     "output_type": "execute_result"
    }
   ],
   "source": [
    "def least_dangerous_path(grid):    \n",
    "    G = nx.grid_2d_graph(*grid.shape)\n",
    "    bottom_right = grid.shape[0]-1, grid.shape[1]-1\n",
    "    danger = lambda *args: grid[args[1]]\n",
    "    return nx.dijkstra_path_length(G, source=(0, 0), target=bottom_right, weight=danger)\n",
    "\n",
    "data = aocd.get_data(day=15)\n",
    "grid = np.genfromtxt(StringIO(data), dtype=int, delimiter=1)\n",
    "least_dangerous_path(grid)"
   ]
  },
  {
   "cell_type": "code",
   "execution_count": 6,
   "metadata": {},
   "outputs": [
    {
     "data": {
      "text/plain": [
       "2879"
      ]
     },
     "execution_count": 6,
     "metadata": {},
     "output_type": "execute_result"
    }
   ],
   "source": [
    "def increase_danger(grid, amount):\n",
    "    new_grid = grid.copy()\n",
    "    for _ in range(amount):\n",
    "        new_grid += 1\n",
    "        new_grid[new_grid == 10] = 1\n",
    "    return new_grid\n",
    "\n",
    "\n",
    "big_row = np.hstack([increase_danger(grid, amount) for amount in range(5)])\n",
    "big_grid = np.vstack([increase_danger(big_row,  amount) for amount in range(5)])\n",
    "\n",
    "least_dangerous_path(big_grid)"
   ]
  }
 ],
 "metadata": {
  "interpreter": {
   "hash": "aee8b7b246df8f9039afb4144a1f6fd8d2ca17a180786b69acc140d282b71a49"
  },
  "kernelspec": {
   "display_name": "Python 3.9.9 64-bit",
   "language": "python",
   "name": "python3"
  },
  "language_info": {
   "codemirror_mode": {
    "name": "ipython",
    "version": 3
   },
   "file_extension": ".py",
   "mimetype": "text/x-python",
   "name": "python",
   "nbconvert_exporter": "python",
   "pygments_lexer": "ipython3",
   "version": "3.9.9"
  },
  "orig_nbformat": 4
 },
 "nbformat": 4,
 "nbformat_minor": 2
}
