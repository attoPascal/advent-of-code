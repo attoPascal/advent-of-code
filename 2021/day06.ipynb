{
 "cells": [
  {
   "cell_type": "code",
   "execution_count": 1,
   "metadata": {},
   "outputs": [],
   "source": [
    "import numpy as np\n",
    "import aocd\n",
    "from collections import Counter"
   ]
  },
  {
   "cell_type": "code",
   "execution_count": 2,
   "metadata": {},
   "outputs": [],
   "source": [
    "fish = np.fromstring(aocd.get_data(day=6), dtype=int, sep=',')\n",
    "fish_counts = Counter(fish)"
   ]
  },
  {
   "cell_type": "code",
   "execution_count": 3,
   "metadata": {},
   "outputs": [
    {
     "data": {
      "text/plain": [
       "379114"
      ]
     },
     "execution_count": 3,
     "metadata": {},
     "output_type": "execute_result"
    }
   ],
   "source": [
    "for day in range(80):\n",
    "    new_fish = fish.size - np.count_nonzero(fish)\n",
    "    fish -= 1\n",
    "    fish[fish == -1] = 6\n",
    "    fish = np.concatenate((fish, np.full(new_fish, 8)))\n",
    "fish.size"
   ]
  },
  {
   "cell_type": "code",
   "execution_count": 4,
   "metadata": {},
   "outputs": [
    {
     "name": "stdout",
     "output_type": "stream",
     "text": [
      "1702631502303\n"
     ]
    }
   ],
   "source": [
    "for day in range(256):\n",
    "    new_fish = fish_counts[0]\n",
    "    for n in range(8):\n",
    "        fish_counts[n] = fish_counts[n+1]\n",
    "    fish_counts[8] = new_fish\n",
    "    fish_counts[6] += new_fish\n",
    "\n",
    "print(sum(c for c in fish_counts.values()))"
   ]
  }
 ],
 "metadata": {
  "interpreter": {
   "hash": "aee8b7b246df8f9039afb4144a1f6fd8d2ca17a180786b69acc140d282b71a49"
  },
  "kernelspec": {
   "display_name": "Python 3.9.9 64-bit",
   "language": "python",
   "name": "python3"
  },
  "language_info": {
   "codemirror_mode": {
    "name": "ipython",
    "version": 3
   },
   "file_extension": ".py",
   "mimetype": "text/x-python",
   "name": "python",
   "nbconvert_exporter": "python",
   "pygments_lexer": "ipython3",
   "version": "3.9.9"
  },
  "orig_nbformat": 4
 },
 "nbformat": 4,
 "nbformat_minor": 2
}
