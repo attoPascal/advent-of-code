{
 "cells": [
  {
   "cell_type": "code",
   "execution_count": 1,
   "metadata": {},
   "outputs": [],
   "source": [
    "import aocd\n",
    "import re\n",
    "import numpy as np\n",
    "import matplotlib.pyplot as plt"
   ]
  },
  {
   "cell_type": "code",
   "execution_count": 2,
   "metadata": {},
   "outputs": [],
   "source": [
    "data = aocd.get_data(day=13)\n",
    "points, folds = data.split('\\n\\n')\n",
    "\n",
    "points = (line.split(',') for line in points.splitlines())\n",
    "points = [(int(x), int(y)) for x, y in points]\n",
    "\n",
    "r = re.compile(r'.*(.)=(.+)')\n",
    "folds = (r.match(line) for line in folds.splitlines())\n",
    "folds = [(m.group(1), int(m.group(2))) for m in folds]"
   ]
  },
  {
   "cell_type": "code",
   "execution_count": 3,
   "metadata": {},
   "outputs": [],
   "source": [
    "xmax, ymax = max(x for x, _ in points), max(y for _, y in points)\n",
    "grid = np.zeros((ymax+1, xmax+1), dtype=bool)\n",
    "for x, y in points:\n",
    "    grid[y, x] = True"
   ]
  },
  {
   "cell_type": "code",
   "execution_count": 4,
   "metadata": {},
   "outputs": [
    {
     "name": "stdout",
     "output_type": "stream",
     "text": [
      "Task 1: 737\n"
     ]
    },
    {
     "data": {
      "text/plain": [
       "<matplotlib.image.AxesImage at 0x1076a4670>"
      ]
     },
     "execution_count": 4,
     "metadata": {},
     "output_type": "execute_result"
    },
    {
     "data": {
      "image/png": "[encoded data removed]",
      "text/plain": [
       "<Figure size 432x288 with 1 Axes>"
      ]
     },
     "metadata": {
      "needs_background": "light"
     },
     "output_type": "display_data"
    }
   ],
   "source": [
    "folded = grid.copy()\n",
    "for n, (dir, pos) in enumerate(folds):\n",
    "    if dir == 'y':\n",
    "        top = folded[:pos, :]\n",
    "        bottom = folded[pos+1:, :]\n",
    "        if top.size > bottom.size:\n",
    "            bottom = np.pad(bottom, ((0,1), (0,0)))\n",
    "        folded = top | np.flipud(bottom)\n",
    "    else:\n",
    "        left = folded[:, :pos]\n",
    "        right = folded[:, pos+1:]\n",
    "        if left.size > right.size:\n",
    "            right = np.pad(right, ((0,0), (0,1)))\n",
    "        folded = left | np.fliplr(right)\n",
    "\n",
    "    if n == 0:\n",
    "        print(\"Task 1:\", np.count_nonzero(folded))\n",
    "\n",
    "plt.imshow(folded)"
   ]
  }
 ],
 "metadata": {
  "interpreter": {
   "hash": "aee8b7b246df8f9039afb4144a1f6fd8d2ca17a180786b69acc140d282b71a49"
  },
  "kernelspec": {
   "display_name": "Python 3.9.9 64-bit",
   "language": "python",
   "name": "python3"
  },
  "language_info": {
   "codemirror_mode": {
    "name": "ipython",
    "version": 3
   },
   "file_extension": ".py",
   "mimetype": "text/x-python",
   "name": "python",
   "nbconvert_exporter": "python",
   "pygments_lexer": "ipython3",
   "version": "3.9.9"
  },
  "orig_nbformat": 4
 },
 "nbformat": 4,
 "nbformat_minor": 2
}
