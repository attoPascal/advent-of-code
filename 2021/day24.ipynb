{
 "cells": [
  {
   "cell_type": "code",
   "execution_count": 1,
   "metadata": {},
   "outputs": [],
   "source": [
    "import aocd\n",
    "from collections import deque\n",
    "from random import randint"
   ]
  },
  {
   "cell_type": "code",
   "execution_count": 2,
   "metadata": {},
   "outputs": [],
   "source": [
    "class ALU():\n",
    "    def __init__(self, inputs=None):\n",
    "        self.vars = {'w': 0, 'x': 0, 'y': 0, 'z': 0}\n",
    "        self.inputs = deque(inputs) if inputs else deque()\n",
    "    \n",
    "    def parse(self, instruction):\n",
    "        instr = instruction.split()\n",
    "        op = instr[0]\n",
    "        var = instr[1]\n",
    "        num = ''\n",
    "        if len(instr) == 3: num = instr[2]\n",
    "        if num and num.lstrip('-').isnumeric(): num = int(num)\n",
    "        return op, var, num\n",
    "    \n",
    "    def exec(self, instruction):\n",
    "        op, var, num = self.parse(instruction)\n",
    "        if num and isinstance(num, str):\n",
    "            num = self.vars[num]\n",
    "        func = getattr(self, op)\n",
    "        func(var, num)\n",
    "    \n",
    "    def inp(self, var, _):\n",
    "        self.vars[var] = self.inputs.popleft()\n",
    "    \n",
    "    def add(self, var, num):\n",
    "        self.vars[var] += num\n",
    "\n",
    "    def mul(self, var, num):\n",
    "        self.vars[var] *= num\n",
    "    \n",
    "    def div(self, var, num):\n",
    "        self.vars[var] //= num\n",
    "    \n",
    "    def mod(self, var, num):\n",
    "        self.vars[var] %= num\n",
    "    \n",
    "    def eql(self, var, num):\n",
    "        self.vars[var] = int(self.vars[var] == num)"
   ]
  },
  {
   "cell_type": "code",
   "execution_count": 3,
   "metadata": {},
   "outputs": [
    {
     "name": "stdout",
     "output_type": "stream",
     "text": [
      "0\n",
      "0\n"
     ]
    }
   ],
   "source": [
    "instructions = aocd.get_data(day=24).splitlines()\n",
    "def run_alu(model_number):\n",
    "    alu = ALU([int(n) for n in str(model_number)])\n",
    "    for instruction in instructions:\n",
    "        alu.exec(instruction)\n",
    "    return alu.vars['z']\n",
    "\n",
    "print(run_alu(89913949293989))\n",
    "print(run_alu(12911816171712))"
   ]
  },
  {
   "cell_type": "code",
   "execution_count": 6,
   "metadata": {},
   "outputs": [
    {
     "name": "stdout",
     "output_type": "stream",
     "text": [
      "0\n",
      "0\n"
     ]
    }
   ],
   "source": [
    "div_z = [ 1,  1,  1,  26,  1,  1,  1,  26, 26,  1,  26, 26,  26, 26]\n",
    "add_x = [11, 10, 13, -10, 11, 11, 12, -11, -7, 13, -13,  0, -11,  0]\n",
    "add_y = [ 1, 10,  2,   5,  6,  0, 16,  12, 15,  7,   6,  5,   6, 15]\n",
    "\n",
    "def calc(num):\n",
    "    z0 = calc(num // 10) if num > 9 else 0\n",
    "    w = num % 10\n",
    "    n = len(str(num)) - 1\n",
    "    \n",
    "    x = 0 if z0 % 26 + add_x[n] == w else 1\n",
    "    y = (w+add_y[n]) * x\n",
    "    z = z0//div_z[n] * (25*x + 1) + y\n",
    "    # print(f'{z0=:>10}, {w=}, {n=:>2}, {x=}, {y=:>3}, {z=:>10}')\n",
    "    return z\n",
    "\n",
    "print(calc(89913949293989))\n",
    "print(calc(12911816171712))"
   ]
  },
  {
   "cell_type": "code",
   "execution_count": 5,
   "metadata": {},
   "outputs": [
    {
     "data": {
      "text/plain": [
       "True"
      ]
     },
     "execution_count": 5,
     "metadata": {},
     "output_type": "execute_result"
    }
   ],
   "source": [
    "def rand_model_number():\n",
    "    n = 0\n",
    "    for _ in range(14):\n",
    "        n *= 10\n",
    "        n += randint(1, 9)\n",
    "    return n\n",
    "\n",
    "test_success = True\n",
    "for _ in range(1000):\n",
    "    model_number = rand_model_number()\n",
    "    test_success &= run_alu(model_number) == calc(model_number)\n",
    "\n",
    "test_success"
   ]
  }
 ],
 "metadata": {
  "interpreter": {
   "hash": "aee8b7b246df8f9039afb4144a1f6fd8d2ca17a180786b69acc140d282b71a49"
  },
  "kernelspec": {
   "display_name": "Python 3.9.9 64-bit",
   "language": "python",
   "name": "python3"
  },
  "language_info": {
   "codemirror_mode": {
    "name": "ipython",
    "version": 3
   },
   "file_extension": ".py",
   "mimetype": "text/x-python",
   "name": "python",
   "nbconvert_exporter": "python",
   "pygments_lexer": "ipython3",
   "version": "3.10.1"
  },
  "orig_nbformat": 4
 },
 "nbformat": 4,
 "nbformat_minor": 2
}
