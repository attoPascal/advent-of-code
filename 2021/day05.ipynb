{
 "cells": [
  {
   "cell_type": "code",
   "execution_count": 6,
   "metadata": {},
   "outputs": [],
   "source": [
    "import aocd\n",
    "import re\n",
    "import numpy as np"
   ]
  },
  {
   "cell_type": "code",
   "execution_count": 7,
   "metadata": {},
   "outputs": [],
   "source": [
    "data = aocd.get_data(day=5).splitlines()\n",
    "points = []\n",
    "\n",
    "r = re.compile(r'(\\d+),(\\d+) -> (\\d+),(\\d+)')\n",
    "for line in data:\n",
    "    m = r.match(line)\n",
    "    p1 = int(m.group(1)), int(m.group(2))\n",
    "    p2 = int(m.group(3)), int(m.group(4))\n",
    "    points.append((p1, p2))"
   ]
  },
  {
   "cell_type": "code",
   "execution_count": 8,
   "metadata": {},
   "outputs": [],
   "source": [
    "def draw_line(grid, x1, y1, x2, y2, ignore_diagonals=False):\n",
    "    if x1 == x2:\n",
    "        y1, y2 = (y2, y1) if y1 > y2 else (y1, y2)\n",
    "        grid[x1, y1:y2+1] += 1\n",
    "    elif y1 == y2:\n",
    "        x1, x2 = (x2, x1) if x1 > x2 else (x1, x2)\n",
    "        grid[x1:x2+1, y1] += 1\n",
    "    elif not ignore_diagonals:\n",
    "        square = np.s_[min(x1, x2):max(x1, x2) + 1, \n",
    "                       min(y1, y2):max(y1, y2) + 1]\n",
    "        di = np.diag_indices_from(grid[square])\n",
    "        if x1 < x2 and y1 < y2 or x1 > x2 and y1 > y2:\n",
    "            grid[square][di] += 1\n",
    "        else:\n",
    "            np.fliplr(grid[square])[di] += 1"
   ]
  },
  {
   "cell_type": "code",
   "execution_count": 9,
   "metadata": {},
   "outputs": [
    {
     "data": {
      "text/plain": [
       "8111"
      ]
     },
     "execution_count": 9,
     "metadata": {},
     "output_type": "execute_result"
    }
   ],
   "source": [
    "# Task 1\n",
    "grid = np.zeros((1000, 1000))\n",
    "for (x1, y1), (x2, y2) in points:\n",
    "    draw_line(grid, x1, y1, x2, y2, ignore_diagonals=True)\n",
    "np.count_nonzero(grid > 1)"
   ]
  },
  {
   "cell_type": "code",
   "execution_count": 10,
   "metadata": {},
   "outputs": [
    {
     "data": {
      "text/plain": [
       "22088"
      ]
     },
     "execution_count": 10,
     "metadata": {},
     "output_type": "execute_result"
    }
   ],
   "source": [
    "# Task 2\n",
    "grid = np.zeros((1000, 1000))\n",
    "for (x1, y1), (x2, y2) in points:\n",
    "    draw_line(grid, x1, y1, x2, y2)\n",
    "np.count_nonzero(grid > 1)"
   ]
  }
 ],
 "metadata": {
  "interpreter": {
   "hash": "aee8b7b246df8f9039afb4144a1f6fd8d2ca17a180786b69acc140d282b71a49"
  },
  "kernelspec": {
   "display_name": "Python 3.9.9 64-bit",
   "language": "python",
   "name": "python3"
  },
  "language_info": {
   "codemirror_mode": {
    "name": "ipython",
    "version": 3
   },
   "file_extension": ".py",
   "mimetype": "text/x-python",
   "name": "python",
   "nbconvert_exporter": "python",
   "pygments_lexer": "ipython3",
   "version": "3.9.9"
  },
  "orig_nbformat": 4
 },
 "nbformat": 4,
 "nbformat_minor": 2
}
