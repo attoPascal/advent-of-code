{
 "cells": [
  {
   "cell_type": "code",
   "execution_count": 1,
   "metadata": {},
   "outputs": [],
   "source": [
    "import aocd\n",
    "import networkx as nx"
   ]
  },
  {
   "cell_type": "code",
   "execution_count": 2,
   "metadata": {},
   "outputs": [],
   "source": [
    "data = aocd.get_data(day=12)\n",
    "edges = [line.split('-') for line in data.splitlines()]"
   ]
  },
  {
   "cell_type": "code",
   "execution_count": 3,
   "metadata": {},
   "outputs": [],
   "source": [
    "G = nx.DiGraph()\n",
    "for u, v in edges:\n",
    "    if v != 'start' and u != 'end':\n",
    "        G.add_edge(u, v)\n",
    "    if u != 'start' and v != 'end':\n",
    "        G.add_edge(v, u)"
   ]
  },
  {
   "cell_type": "code",
   "execution_count": 4,
   "metadata": {},
   "outputs": [
    {
     "name": "stdout",
     "output_type": "stream",
     "text": [
      "4773\n",
      "116985\n"
     ]
    }
   ],
   "source": [
    "def paths(node, visited=None, can_try_twice=False, verbose=False):\n",
    "    visited = visited or []\n",
    "\n",
    "    if node == 'end':\n",
    "        if verbose:\n",
    "            print(visited + [node])\n",
    "        return 1\n",
    "\n",
    "    num_paths = 0\n",
    "    for n in G.neighbors(node):\n",
    "        if n.isupper() or n not in visited:\n",
    "            num_paths += paths(n, visited + [node], can_try_twice=can_try_twice, verbose=verbose)\n",
    "        elif can_try_twice:\n",
    "            num_paths += paths(n, visited + [node], can_try_twice=False, verbose=verbose)\n",
    "    return num_paths\n",
    "\n",
    "print(paths('start'))\n",
    "print(paths('start', can_try_twice=True))"
   ]
  },
  {
   "cell_type": "code",
   "execution_count": 5,
   "metadata": {},
   "outputs": [],
   "source": [
    "def paths(node, visited=None, can_visit_twice=False):\n",
    "    visited = visited or []\n",
    "    \n",
    "    if node == 'end':\n",
    "        yield visited + [node]\n",
    "    \n",
    "    for n in G.neighbors(node):\n",
    "        if n.isupper() or n not in visited:\n",
    "            yield from paths(n, visited + [node], can_visit_twice=can_visit_twice)\n",
    "        elif can_visit_twice:\n",
    "            yield from paths(n, visited + [node], can_visit_twice=False)"
   ]
  },
  {
   "cell_type": "code",
   "execution_count": 6,
   "metadata": {},
   "outputs": [
    {
     "name": "stdout",
     "output_type": "stream",
     "text": [
      "Task 1: 4773\n",
      "Task 2: 116985\n"
     ]
    }
   ],
   "source": [
    "print(\"Task 1:\", sum(1 for _ in paths('start')))\n",
    "print(\"Task 2:\", sum(1 for _ in paths('start', can_visit_twice=True)))"
   ]
  },
  {
   "cell_type": "code",
   "execution_count": 7,
   "metadata": {},
   "outputs": [
    {
     "data": {
      "text/plain": [
       "(['start', 'qc', 'nr', 'end'],\n",
       " ['start',\n",
       "  'YN',\n",
       "  'ln',\n",
       "  'YN',\n",
       "  'ln',\n",
       "  'YN',\n",
       "  'qc',\n",
       "  'YN',\n",
       "  'qq',\n",
       "  'XI',\n",
       "  'nr',\n",
       "  'XI',\n",
       "  'wy',\n",
       "  'XI',\n",
       "  'fl',\n",
       "  'XI',\n",
       "  'end'])"
      ]
     },
     "execution_count": 7,
     "metadata": {},
     "output_type": "execute_result"
    }
   ],
   "source": [
    "all_paths = list(paths('start', can_visit_twice=True))\n",
    "all_paths.sort(key=len)\n",
    "all_paths[0], all_paths[-1]"
   ]
  }
 ],
 "metadata": {
  "interpreter": {
   "hash": "aee8b7b246df8f9039afb4144a1f6fd8d2ca17a180786b69acc140d282b71a49"
  },
  "kernelspec": {
   "display_name": "Python 3.9.9 64-bit",
   "language": "python",
   "name": "python3"
  },
  "language_info": {
   "codemirror_mode": {
    "name": "ipython",
    "version": 3
   },
   "file_extension": ".py",
   "mimetype": "text/x-python",
   "name": "python",
   "nbconvert_exporter": "python",
   "pygments_lexer": "ipython3",
   "version": "3.9.9"
  },
  "orig_nbformat": 4
 },
 "nbformat": 4,
 "nbformat_minor": 2
}
