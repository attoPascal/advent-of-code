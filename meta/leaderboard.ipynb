{
 "metadata": {
  "language_info": {
   "codemirror_mode": {
    "name": "ipython",
    "version": 3
   },
   "file_extension": ".py",
   "mimetype": "text/x-python",
   "name": "python",
   "nbconvert_exporter": "python",
   "pygments_lexer": "ipython3",
   "version": "3.9.0-final"
  },
  "orig_nbformat": 2,
  "kernelspec": {
   "name": "python3",
   "display_name": "Python 3",
   "language": "python"
  }
 },
 "nbformat": 4,
 "nbformat_minor": 2,
 "cells": [
  {
   "cell_type": "code",
   "execution_count": 1,
   "metadata": {},
   "outputs": [],
   "source": [
    "import json\n",
    "import pandas as pd\n",
    "from collections import defaultdict"
   ]
  },
  {
   "cell_type": "code",
   "execution_count": 2,
   "metadata": {},
   "outputs": [],
   "source": [
    "with open('976545.json') as f:\n",
    "    j = json.load(f)"
   ]
  },
  {
   "cell_type": "code",
   "execution_count": 3,
   "metadata": {},
   "outputs": [],
   "source": [
    "time_diffs = defaultdict(lambda: defaultdict(str))\n",
    "\n",
    "for id, member in j['members'].items():\n",
    "    name = member['name'] if member['name'] else id\n",
    "    for day, times in member['completion_day_level'].items():\n",
    "        if '1' in times and '2' in times:\n",
    "            time_diffs[name][int(day)] = int(times['2']['get_star_ts']) - int(times['1']['get_star_ts'])"
   ]
  },
  {
   "cell_type": "code",
   "execution_count": 4,
   "metadata": {},
   "outputs": [],
   "source": [
    "df = pd.DataFrame.from_dict(time_diffs, orient='index')\n",
    "df.sort_index(key=lambda x: x.str.lower(), inplace=True)\n",
    "df.sort_index(axis=1, inplace=True)"
   ]
  },
  {
   "cell_type": "code",
   "execution_count": 5,
   "metadata": {},
   "outputs": [
    {
     "output_type": "execute_result",
     "data": {
      "text/plain": [
       "                         1       2        3        4        5        6   \\\n",
       "1002756               529.0     NaN      NaN      NaN      NaN      NaN   \n",
       "1192974                 NaN    10.0      NaN      NaN      NaN      NaN   \n",
       "982075               1281.0     NaN      NaN      NaN      NaN      NaN   \n",
       "999754                295.0   863.0    565.0   4370.0    585.0   3335.0   \n",
       "attoPascal             91.0   340.0    444.0   3061.0   1159.0   1469.0   \n",
       "baduncle93            131.0  1198.0   4705.0   3335.0    421.0   3716.0   \n",
       "Bernhard Jordan       191.0   373.0   2957.0   2467.0    767.0    917.0   \n",
       "Christoph D.          179.0   268.0   1150.0   3991.0    989.0    657.0   \n",
       "Der_Himbeerkuchen    1290.0  1152.0    340.0   3112.0    953.0   4407.0   \n",
       "devgertschi          4325.0   758.0   2182.0   3132.0    571.0   1447.0   \n",
       "felpower              168.0   383.0    682.0   6627.0      5.0   3247.0   \n",
       "Grarak               1331.0     NaN      NaN      NaN      NaN      NaN   \n",
       "Hablam                204.0   987.0    395.0   3506.0    732.0   1292.0   \n",
       "Katakompe             160.0  2612.0   1823.0   2613.0    909.0   2203.0   \n",
       "marc1729              763.0   297.0    307.0      NaN      NaN      NaN   \n",
       "megamopsy             927.0     NaN      NaN      NaN      NaN      NaN   \n",
       "memoriesadrift       9219.0   482.0    987.0      NaN    380.0   1280.0   \n",
       "michalrzak            143.0   511.0   3909.0   2247.0    729.0    662.0   \n",
       "Nico Schlauf         1286.0   285.0    212.0   2627.0    599.0   2402.0   \n",
       "noxeee              37349.0  1155.0   1841.0  12924.0   8474.0   5112.0   \n",
       "PKlempe               216.0  4080.0   1609.0   5383.0   2087.0   1651.0   \n",
       "rmezameza            1877.0  3033.0  11981.0      NaN  12414.0  40040.0   \n",
       "Rosi-Eliz             461.0   435.0  16990.0     44.0     10.0    726.0   \n",
       "rpsdm                1587.0   222.0    381.0   1837.0   2077.0    811.0   \n",
       "Simon Eckerstorfer    618.0  1214.0   1064.0   7520.0   3968.0   3230.0   \n",
       "thoosequa             118.0  1101.0   2783.0   7838.0   5851.0  19642.0   \n",
       "Triarier              120.0   374.0    218.0   1237.0    479.0    281.0   \n",
       "trimaru               299.0   649.0    908.0   1680.0    632.0   1362.0   \n",
       "zoidberg77            186.0   482.0    167.0      NaN      NaN      NaN   \n",
       "\n",
       "                         7        8       9        10        11       12  \\\n",
       "1002756                 NaN      NaN     NaN      NaN       NaN      NaN   \n",
       "1192974                 NaN      NaN     NaN      NaN       NaN      NaN   \n",
       "982075                  NaN      NaN     NaN      NaN       NaN      NaN   \n",
       "999754              11017.0   3713.0  1238.0      NaN   57518.0  55494.0   \n",
       "attoPascal            426.0   3828.0  1344.0   9062.0    8170.0   2846.0   \n",
       "baduncle93              NaN      NaN     NaN      NaN       NaN      NaN   \n",
       "Bernhard Jordan       451.0   5748.0  1237.0  18372.0    3154.0   1135.0   \n",
       "Christoph D.         1464.0   2181.0   951.0  27676.0   12329.0      NaN   \n",
       "Der_Himbeerkuchen    3813.0   7782.0  2800.0      NaN       NaN      NaN   \n",
       "devgertschi          5655.0   2001.0   917.0   9714.0    2082.0    904.0   \n",
       "felpower             1353.0   2671.0  1390.0    648.0     599.0   1208.0   \n",
       "Grarak                  NaN      NaN     NaN      NaN       NaN      NaN   \n",
       "Hablam               4113.0   5715.0  2341.0  10926.0    1118.0   1281.0   \n",
       "Katakompe            1149.0   1709.0  3232.0   3298.0  137696.0   9306.0   \n",
       "marc1729                NaN      NaN     NaN      NaN       NaN      NaN   \n",
       "megamopsy               NaN      NaN     NaN      NaN       NaN      NaN   \n",
       "memoriesadrift       6293.0   2090.0   494.0   9841.0    3413.0   1929.0   \n",
       "michalrzak           3352.0   2072.0  1005.0   9518.0    2747.0   1228.0   \n",
       "Nico Schlauf            NaN      NaN     NaN      NaN       NaN      NaN   \n",
       "noxeee                  NaN     99.0     NaN      NaN       NaN      NaN   \n",
       "PKlempe                 NaN      NaN     NaN      NaN       NaN      NaN   \n",
       "rmezameza               NaN      NaN     NaN      NaN       NaN      NaN   \n",
       "Rosi-Eliz            9150.0   2667.0  1986.0  19137.0      77.0     43.0   \n",
       "rpsdm                   NaN      NaN     NaN      NaN       NaN      NaN   \n",
       "Simon Eckerstorfer      NaN   5103.0  5170.0   3919.0       NaN   3171.0   \n",
       "thoosequa            3919.0  13153.0  1253.0  12325.0  181117.0   1158.0   \n",
       "Triarier              196.0     25.0     NaN      NaN       NaN      NaN   \n",
       "trimaru              1989.0   2089.0  2001.0   9422.0       NaN      NaN   \n",
       "zoidberg77              NaN      NaN   854.0      NaN       NaN      NaN   \n",
       "\n",
       "                         13       14        15       16      17       18  \\\n",
       "1002756                 NaN      NaN       NaN      NaN     NaN      NaN   \n",
       "1192974                 NaN      NaN       NaN      NaN     NaN      NaN   \n",
       "982075                  NaN      NaN       NaN      NaN     NaN      NaN   \n",
       "999754                  NaN      NaN     159.0      NaN  2049.0   2943.0   \n",
       "attoPascal          26509.0   4912.0    1395.0   5411.0   113.0    979.0   \n",
       "baduncle93              NaN      NaN       NaN      NaN     NaN      NaN   \n",
       "Bernhard Jordan     11411.0  15746.0     225.0  27656.0   527.0    830.0   \n",
       "Christoph D.            NaN      NaN       NaN      NaN     NaN      NaN   \n",
       "Der_Himbeerkuchen       NaN      NaN       NaN      NaN     NaN      NaN   \n",
       "devgertschi          6218.0   1653.0  104471.0   4024.0   850.0   7207.0   \n",
       "felpower             2369.0   2824.0    2067.0   3653.0  1604.0   1569.0   \n",
       "Grarak                  NaN      NaN       NaN      NaN     NaN      NaN   \n",
       "Hablam                  NaN   1791.0   13514.0   7579.0  1320.0  11461.0   \n",
       "Katakompe           11300.0   4879.0     150.0  30658.0   746.0   1073.0   \n",
       "marc1729            37817.0      NaN       NaN      NaN     NaN      NaN   \n",
       "megamopsy               NaN      NaN       NaN      NaN     NaN      NaN   \n",
       "memoriesadrift       7059.0   4802.0     151.0      NaN     NaN      NaN   \n",
       "michalrzak          12700.0   2969.0     400.0   4301.0   481.0    824.0   \n",
       "Nico Schlauf            NaN      NaN       NaN      NaN     NaN      NaN   \n",
       "noxeee                  NaN      NaN       NaN      NaN     NaN      NaN   \n",
       "PKlempe                 NaN      NaN       NaN      NaN     NaN      NaN   \n",
       "rmezameza               NaN      NaN       NaN      NaN     NaN      NaN   \n",
       "Rosi-Eliz            4011.0     67.0      96.0     83.0    41.0      NaN   \n",
       "rpsdm                   NaN      NaN       NaN      NaN     NaN      NaN   \n",
       "Simon Eckerstorfer      NaN      NaN     897.0      NaN     NaN      NaN   \n",
       "thoosequa           12261.0      NaN       NaN      NaN     NaN      NaN   \n",
       "Triarier                NaN      NaN       NaN      NaN     NaN      NaN   \n",
       "trimaru                 NaN      NaN       NaN      NaN     NaN      NaN   \n",
       "zoidberg77              NaN      NaN       NaN      NaN     NaN      NaN   \n",
       "\n",
       "                        19       20  \n",
       "1002756                NaN      NaN  \n",
       "1192974                NaN      NaN  \n",
       "982075                 NaN      NaN  \n",
       "999754                 NaN      NaN  \n",
       "attoPascal          2547.0  12209.0  \n",
       "baduncle93             NaN      NaN  \n",
       "Bernhard Jordan       60.0      NaN  \n",
       "Christoph D.           NaN      NaN  \n",
       "Der_Himbeerkuchen      NaN      NaN  \n",
       "devgertschi         4706.0      NaN  \n",
       "felpower               NaN      NaN  \n",
       "Grarak                 NaN      NaN  \n",
       "Hablam                 NaN      NaN  \n",
       "Katakompe              NaN      NaN  \n",
       "marc1729               NaN      NaN  \n",
       "megamopsy              NaN      NaN  \n",
       "memoriesadrift         NaN      NaN  \n",
       "michalrzak          2760.0      NaN  \n",
       "Nico Schlauf           NaN      NaN  \n",
       "noxeee                 NaN      NaN  \n",
       "PKlempe                NaN      NaN  \n",
       "rmezameza              NaN      NaN  \n",
       "Rosi-Eliz              NaN      NaN  \n",
       "rpsdm                  NaN      NaN  \n",
       "Simon Eckerstorfer     NaN      NaN  \n",
       "thoosequa              NaN      NaN  \n",
       "Triarier               NaN      NaN  \n",
       "trimaru                NaN      NaN  \n",
       "zoidberg77             NaN      NaN  "
      ],
      "text/html": "<div>\n<style scoped>\n    .dataframe tbody tr th:only-of-type {\n        vertical-align: middle;\n    }\n\n    .dataframe tbody tr th {\n        vertical-align: top;\n    }\n\n    .dataframe thead th {\n        text-align: right;\n    }\n</style>\n<table border=\"1\" class=\"dataframe\">\n  <thead>\n    <tr style=\"text-align: right;\">\n      <th></th>\n      <th>1</th>\n      <th>2</th>\n      <th>3</th>\n      <th>4</th>\n      <th>5</th>\n      <th>6</th>\n      <th>7</th>\n      <th>8</th>\n      <th>9</th>\n      <th>10</th>\n      <th>11</th>\n      <th>12</th>\n      <th>13</th>\n      <th>14</th>\n      <th>15</th>\n      <th>16</th>\n      <th>17</th>\n      <th>18</th>\n      <th>19</th>\n      <th>20</th>\n    </tr>\n  </thead>\n  <tbody>\n    <tr>\n      <th>1002756</th>\n      <td>529.0</td>\n      <td>NaN</td>\n      <td>NaN</td>\n      <td>NaN</td>\n      <td>NaN</td>\n      <td>NaN</td>\n      <td>NaN</td>\n      <td>NaN</td>\n      <td>NaN</td>\n      <td>NaN</td>\n      <td>NaN</td>\n      <td>NaN</td>\n      <td>NaN</td>\n      <td>NaN</td>\n      <td>NaN</td>\n      <td>NaN</td>\n      <td>NaN</td>\n      <td>NaN</td>\n      <td>NaN</td>\n      <td>NaN</td>\n    </tr>\n    <tr>\n      <th>1192974</th>\n      <td>NaN</td>\n      <td>10.0</td>\n      <td>NaN</td>\n      <td>NaN</td>\n      <td>NaN</td>\n      <td>NaN</td>\n      <td>NaN</td>\n      <td>NaN</td>\n      <td>NaN</td>\n      <td>NaN</td>\n      <td>NaN</td>\n      <td>NaN</td>\n      <td>NaN</td>\n      <td>NaN</td>\n      <td>NaN</td>\n      <td>NaN</td>\n      <td>NaN</td>\n      <td>NaN</td>\n      <td>NaN</td>\n      <td>NaN</td>\n    </tr>\n    <tr>\n      <th>982075</th>\n      <td>1281.0</td>\n      <td>NaN</td>\n      <td>NaN</td>\n      <td>NaN</td>\n      <td>NaN</td>\n      <td>NaN</td>\n      <td>NaN</td>\n      <td>NaN</td>\n      <td>NaN</td>\n      <td>NaN</td>\n      <td>NaN</td>\n      <td>NaN</td>\n      <td>NaN</td>\n      <td>NaN</td>\n      <td>NaN</td>\n      <td>NaN</td>\n      <td>NaN</td>\n      <td>NaN</td>\n      <td>NaN</td>\n      <td>NaN</td>\n    </tr>\n    <tr>\n      <th>999754</th>\n      <td>295.0</td>\n      <td>863.0</td>\n      <td>565.0</td>\n      <td>4370.0</td>\n      <td>585.0</td>\n      <td>3335.0</td>\n      <td>11017.0</td>\n      <td>3713.0</td>\n      <td>1238.0</td>\n      <td>NaN</td>\n      <td>57518.0</td>\n      <td>55494.0</td>\n      <td>NaN</td>\n      <td>NaN</td>\n      <td>159.0</td>\n      <td>NaN</td>\n      <td>2049.0</td>\n      <td>2943.0</td>\n      <td>NaN</td>\n      <td>NaN</td>\n    </tr>\n    <tr>\n      <th>attoPascal</th>\n      <td>91.0</td>\n      <td>340.0</td>\n      <td>444.0</td>\n      <td>3061.0</td>\n      <td>1159.0</td>\n      <td>1469.0</td>\n      <td>426.0</td>\n      <td>3828.0</td>\n      <td>1344.0</td>\n      <td>9062.0</td>\n      <td>8170.0</td>\n      <td>2846.0</td>\n      <td>26509.0</td>\n      <td>4912.0</td>\n      <td>1395.0</td>\n      <td>5411.0</td>\n      <td>113.0</td>\n      <td>979.0</td>\n      <td>2547.0</td>\n      <td>12209.0</td>\n    </tr>\n    <tr>\n      <th>baduncle93</th>\n      <td>131.0</td>\n      <td>1198.0</td>\n      <td>4705.0</td>\n      <td>3335.0</td>\n      <td>421.0</td>\n      <td>3716.0</td>\n      <td>NaN</td>\n      <td>NaN</td>\n      <td>NaN</td>\n      <td>NaN</td>\n      <td>NaN</td>\n      <td>NaN</td>\n      <td>NaN</td>\n      <td>NaN</td>\n      <td>NaN</td>\n      <td>NaN</td>\n      <td>NaN</td>\n      <td>NaN</td>\n      <td>NaN</td>\n      <td>NaN</td>\n    </tr>\n    <tr>\n      <th>Bernhard Jordan</th>\n      <td>191.0</td>\n      <td>373.0</td>\n      <td>2957.0</td>\n      <td>2467.0</td>\n      <td>767.0</td>\n      <td>917.0</td>\n      <td>451.0</td>\n      <td>5748.0</td>\n      <td>1237.0</td>\n      <td>18372.0</td>\n      <td>3154.0</td>\n      <td>1135.0</td>\n      <td>11411.0</td>\n      <td>15746.0</td>\n      <td>225.0</td>\n      <td>27656.0</td>\n      <td>527.0</td>\n      <td>830.0</td>\n      <td>60.0</td>\n      <td>NaN</td>\n    </tr>\n    <tr>\n      <th>Christoph D.</th>\n      <td>179.0</td>\n      <td>268.0</td>\n      <td>1150.0</td>\n      <td>3991.0</td>\n      <td>989.0</td>\n      <td>657.0</td>\n      <td>1464.0</td>\n      <td>2181.0</td>\n      <td>951.0</td>\n      <td>27676.0</td>\n      <td>12329.0</td>\n      <td>NaN</td>\n      <td>NaN</td>\n      <td>NaN</td>\n      <td>NaN</td>\n      <td>NaN</td>\n      <td>NaN</td>\n      <td>NaN</td>\n      <td>NaN</td>\n      <td>NaN</td>\n    </tr>\n    <tr>\n      <th>Der_Himbeerkuchen</th>\n      <td>1290.0</td>\n      <td>1152.0</td>\n      <td>340.0</td>\n      <td>3112.0</td>\n      <td>953.0</td>\n      <td>4407.0</td>\n      <td>3813.0</td>\n      <td>7782.0</td>\n      <td>2800.0</td>\n      <td>NaN</td>\n      <td>NaN</td>\n      <td>NaN</td>\n      <td>NaN</td>\n      <td>NaN</td>\n      <td>NaN</td>\n      <td>NaN</td>\n      <td>NaN</td>\n      <td>NaN</td>\n      <td>NaN</td>\n      <td>NaN</td>\n    </tr>\n    <tr>\n      <th>devgertschi</th>\n      <td>4325.0</td>\n      <td>758.0</td>\n      <td>2182.0</td>\n      <td>3132.0</td>\n      <td>571.0</td>\n      <td>1447.0</td>\n      <td>5655.0</td>\n      <td>2001.0</td>\n      <td>917.0</td>\n      <td>9714.0</td>\n      <td>2082.0</td>\n      <td>904.0</td>\n      <td>6218.0</td>\n      <td>1653.0</td>\n      <td>104471.0</td>\n      <td>4024.0</td>\n      <td>850.0</td>\n      <td>7207.0</td>\n      <td>4706.0</td>\n      <td>NaN</td>\n    </tr>\n    <tr>\n      <th>felpower</th>\n      <td>168.0</td>\n      <td>383.0</td>\n      <td>682.0</td>\n      <td>6627.0</td>\n      <td>5.0</td>\n      <td>3247.0</td>\n      <td>1353.0</td>\n      <td>2671.0</td>\n      <td>1390.0</td>\n      <td>648.0</td>\n      <td>599.0</td>\n      <td>1208.0</td>\n      <td>2369.0</td>\n      <td>2824.0</td>\n      <td>2067.0</td>\n      <td>3653.0</td>\n      <td>1604.0</td>\n      <td>1569.0</td>\n      <td>NaN</td>\n      <td>NaN</td>\n    </tr>\n    <tr>\n      <th>Grarak</th>\n      <td>1331.0</td>\n      <td>NaN</td>\n      <td>NaN</td>\n      <td>NaN</td>\n      <td>NaN</td>\n      <td>NaN</td>\n      <td>NaN</td>\n      <td>NaN</td>\n      <td>NaN</td>\n      <td>NaN</td>\n      <td>NaN</td>\n      <td>NaN</td>\n      <td>NaN</td>\n      <td>NaN</td>\n      <td>NaN</td>\n      <td>NaN</td>\n      <td>NaN</td>\n      <td>NaN</td>\n      <td>NaN</td>\n      <td>NaN</td>\n    </tr>\n    <tr>\n      <th>Hablam</th>\n      <td>204.0</td>\n      <td>987.0</td>\n      <td>395.0</td>\n      <td>3506.0</td>\n      <td>732.0</td>\n      <td>1292.0</td>\n      <td>4113.0</td>\n      <td>5715.0</td>\n      <td>2341.0</td>\n      <td>10926.0</td>\n      <td>1118.0</td>\n      <td>1281.0</td>\n      <td>NaN</td>\n      <td>1791.0</td>\n      <td>13514.0</td>\n      <td>7579.0</td>\n      <td>1320.0</td>\n      <td>11461.0</td>\n      <td>NaN</td>\n      <td>NaN</td>\n    </tr>\n    <tr>\n      <th>Katakompe</th>\n      <td>160.0</td>\n      <td>2612.0</td>\n      <td>1823.0</td>\n      <td>2613.0</td>\n      <td>909.0</td>\n      <td>2203.0</td>\n      <td>1149.0</td>\n      <td>1709.0</td>\n      <td>3232.0</td>\n      <td>3298.0</td>\n      <td>137696.0</td>\n      <td>9306.0</td>\n      <td>11300.0</td>\n      <td>4879.0</td>\n      <td>150.0</td>\n      <td>30658.0</td>\n      <td>746.0</td>\n      <td>1073.0</td>\n      <td>NaN</td>\n      <td>NaN</td>\n    </tr>\n    <tr>\n      <th>marc1729</th>\n      <td>763.0</td>\n      <td>297.0</td>\n      <td>307.0</td>\n      <td>NaN</td>\n      <td>NaN</td>\n      <td>NaN</td>\n      <td>NaN</td>\n      <td>NaN</td>\n      <td>NaN</td>\n      <td>NaN</td>\n      <td>NaN</td>\n      <td>NaN</td>\n      <td>37817.0</td>\n      <td>NaN</td>\n      <td>NaN</td>\n      <td>NaN</td>\n      <td>NaN</td>\n      <td>NaN</td>\n      <td>NaN</td>\n      <td>NaN</td>\n    </tr>\n    <tr>\n      <th>megamopsy</th>\n      <td>927.0</td>\n      <td>NaN</td>\n      <td>NaN</td>\n      <td>NaN</td>\n      <td>NaN</td>\n      <td>NaN</td>\n      <td>NaN</td>\n      <td>NaN</td>\n      <td>NaN</td>\n      <td>NaN</td>\n      <td>NaN</td>\n      <td>NaN</td>\n      <td>NaN</td>\n      <td>NaN</td>\n      <td>NaN</td>\n      <td>NaN</td>\n      <td>NaN</td>\n      <td>NaN</td>\n      <td>NaN</td>\n      <td>NaN</td>\n    </tr>\n    <tr>\n      <th>memoriesadrift</th>\n      <td>9219.0</td>\n      <td>482.0</td>\n      <td>987.0</td>\n      <td>NaN</td>\n      <td>380.0</td>\n      <td>1280.0</td>\n      <td>6293.0</td>\n      <td>2090.0</td>\n      <td>494.0</td>\n      <td>9841.0</td>\n      <td>3413.0</td>\n      <td>1929.0</td>\n      <td>7059.0</td>\n      <td>4802.0</td>\n      <td>151.0</td>\n      <td>NaN</td>\n      <td>NaN</td>\n      <td>NaN</td>\n      <td>NaN</td>\n      <td>NaN</td>\n    </tr>\n    <tr>\n      <th>michalrzak</th>\n      <td>143.0</td>\n      <td>511.0</td>\n      <td>3909.0</td>\n      <td>2247.0</td>\n      <td>729.0</td>\n      <td>662.0</td>\n      <td>3352.0</td>\n      <td>2072.0</td>\n      <td>1005.0</td>\n      <td>9518.0</td>\n      <td>2747.0</td>\n      <td>1228.0</td>\n      <td>12700.0</td>\n      <td>2969.0</td>\n      <td>400.0</td>\n      <td>4301.0</td>\n      <td>481.0</td>\n      <td>824.0</td>\n      <td>2760.0</td>\n      <td>NaN</td>\n    </tr>\n    <tr>\n      <th>Nico Schlauf</th>\n      <td>1286.0</td>\n      <td>285.0</td>\n      <td>212.0</td>\n      <td>2627.0</td>\n      <td>599.0</td>\n      <td>2402.0</td>\n      <td>NaN</td>\n      <td>NaN</td>\n      <td>NaN</td>\n      <td>NaN</td>\n      <td>NaN</td>\n      <td>NaN</td>\n      <td>NaN</td>\n      <td>NaN</td>\n      <td>NaN</td>\n      <td>NaN</td>\n      <td>NaN</td>\n      <td>NaN</td>\n      <td>NaN</td>\n      <td>NaN</td>\n    </tr>\n    <tr>\n      <th>noxeee</th>\n      <td>37349.0</td>\n      <td>1155.0</td>\n      <td>1841.0</td>\n      <td>12924.0</td>\n      <td>8474.0</td>\n      <td>5112.0</td>\n      <td>NaN</td>\n      <td>99.0</td>\n      <td>NaN</td>\n      <td>NaN</td>\n      <td>NaN</td>\n      <td>NaN</td>\n      <td>NaN</td>\n      <td>NaN</td>\n      <td>NaN</td>\n      <td>NaN</td>\n      <td>NaN</td>\n      <td>NaN</td>\n      <td>NaN</td>\n      <td>NaN</td>\n    </tr>\n    <tr>\n      <th>PKlempe</th>\n      <td>216.0</td>\n      <td>4080.0</td>\n      <td>1609.0</td>\n      <td>5383.0</td>\n      <td>2087.0</td>\n      <td>1651.0</td>\n      <td>NaN</td>\n      <td>NaN</td>\n      <td>NaN</td>\n      <td>NaN</td>\n      <td>NaN</td>\n      <td>NaN</td>\n      <td>NaN</td>\n      <td>NaN</td>\n      <td>NaN</td>\n      <td>NaN</td>\n      <td>NaN</td>\n      <td>NaN</td>\n      <td>NaN</td>\n      <td>NaN</td>\n    </tr>\n    <tr>\n      <th>rmezameza</th>\n      <td>1877.0</td>\n      <td>3033.0</td>\n      <td>11981.0</td>\n      <td>NaN</td>\n      <td>12414.0</td>\n      <td>40040.0</td>\n      <td>NaN</td>\n      <td>NaN</td>\n      <td>NaN</td>\n      <td>NaN</td>\n      <td>NaN</td>\n      <td>NaN</td>\n      <td>NaN</td>\n      <td>NaN</td>\n      <td>NaN</td>\n      <td>NaN</td>\n      <td>NaN</td>\n      <td>NaN</td>\n      <td>NaN</td>\n      <td>NaN</td>\n    </tr>\n    <tr>\n      <th>Rosi-Eliz</th>\n      <td>461.0</td>\n      <td>435.0</td>\n      <td>16990.0</td>\n      <td>44.0</td>\n      <td>10.0</td>\n      <td>726.0</td>\n      <td>9150.0</td>\n      <td>2667.0</td>\n      <td>1986.0</td>\n      <td>19137.0</td>\n      <td>77.0</td>\n      <td>43.0</td>\n      <td>4011.0</td>\n      <td>67.0</td>\n      <td>96.0</td>\n      <td>83.0</td>\n      <td>41.0</td>\n      <td>NaN</td>\n      <td>NaN</td>\n      <td>NaN</td>\n    </tr>\n    <tr>\n      <th>rpsdm</th>\n      <td>1587.0</td>\n      <td>222.0</td>\n      <td>381.0</td>\n      <td>1837.0</td>\n      <td>2077.0</td>\n      <td>811.0</td>\n      <td>NaN</td>\n      <td>NaN</td>\n      <td>NaN</td>\n      <td>NaN</td>\n      <td>NaN</td>\n      <td>NaN</td>\n      <td>NaN</td>\n      <td>NaN</td>\n      <td>NaN</td>\n      <td>NaN</td>\n      <td>NaN</td>\n      <td>NaN</td>\n      <td>NaN</td>\n      <td>NaN</td>\n    </tr>\n    <tr>\n      <th>Simon Eckerstorfer</th>\n      <td>618.0</td>\n      <td>1214.0</td>\n      <td>1064.0</td>\n      <td>7520.0</td>\n      <td>3968.0</td>\n      <td>3230.0</td>\n      <td>NaN</td>\n      <td>5103.0</td>\n      <td>5170.0</td>\n      <td>3919.0</td>\n      <td>NaN</td>\n      <td>3171.0</td>\n      <td>NaN</td>\n      <td>NaN</td>\n      <td>897.0</td>\n      <td>NaN</td>\n      <td>NaN</td>\n      <td>NaN</td>\n      <td>NaN</td>\n      <td>NaN</td>\n    </tr>\n    <tr>\n      <th>thoosequa</th>\n      <td>118.0</td>\n      <td>1101.0</td>\n      <td>2783.0</td>\n      <td>7838.0</td>\n      <td>5851.0</td>\n      <td>19642.0</td>\n      <td>3919.0</td>\n      <td>13153.0</td>\n      <td>1253.0</td>\n      <td>12325.0</td>\n      <td>181117.0</td>\n      <td>1158.0</td>\n      <td>12261.0</td>\n      <td>NaN</td>\n      <td>NaN</td>\n      <td>NaN</td>\n      <td>NaN</td>\n      <td>NaN</td>\n      <td>NaN</td>\n      <td>NaN</td>\n    </tr>\n    <tr>\n      <th>Triarier</th>\n      <td>120.0</td>\n      <td>374.0</td>\n      <td>218.0</td>\n      <td>1237.0</td>\n      <td>479.0</td>\n      <td>281.0</td>\n      <td>196.0</td>\n      <td>25.0</td>\n      <td>NaN</td>\n      <td>NaN</td>\n      <td>NaN</td>\n      <td>NaN</td>\n      <td>NaN</td>\n      <td>NaN</td>\n      <td>NaN</td>\n      <td>NaN</td>\n      <td>NaN</td>\n      <td>NaN</td>\n      <td>NaN</td>\n      <td>NaN</td>\n    </tr>\n    <tr>\n      <th>trimaru</th>\n      <td>299.0</td>\n      <td>649.0</td>\n      <td>908.0</td>\n      <td>1680.0</td>\n      <td>632.0</td>\n      <td>1362.0</td>\n      <td>1989.0</td>\n      <td>2089.0</td>\n      <td>2001.0</td>\n      <td>9422.0</td>\n      <td>NaN</td>\n      <td>NaN</td>\n      <td>NaN</td>\n      <td>NaN</td>\n      <td>NaN</td>\n      <td>NaN</td>\n      <td>NaN</td>\n      <td>NaN</td>\n      <td>NaN</td>\n      <td>NaN</td>\n    </tr>\n    <tr>\n      <th>zoidberg77</th>\n      <td>186.0</td>\n      <td>482.0</td>\n      <td>167.0</td>\n      <td>NaN</td>\n      <td>NaN</td>\n      <td>NaN</td>\n      <td>NaN</td>\n      <td>NaN</td>\n      <td>854.0</td>\n      <td>NaN</td>\n      <td>NaN</td>\n      <td>NaN</td>\n      <td>NaN</td>\n      <td>NaN</td>\n      <td>NaN</td>\n      <td>NaN</td>\n      <td>NaN</td>\n      <td>NaN</td>\n      <td>NaN</td>\n      <td>NaN</td>\n    </tr>\n  </tbody>\n</table>\n</div>"
     },
     "metadata": {},
     "execution_count": 5
    }
   ],
   "source": [
    "df"
   ]
  },
  {
   "cell_type": "code",
   "execution_count": 6,
   "metadata": {
    "tags": []
   },
   "outputs": [],
   "source": [
    "num_members, num_days = df.shape\n",
    "points = df[1].copy()\n",
    "points[:] = 0\n",
    "\n",
    "for day in range(1, num_days+1):\n",
    "    max_points = num_members\n",
    "    for name, time in df[day].sort_values().iteritems():\n",
    "        if not pd.isna(time):\n",
    "            points[name] += max_points\n",
    "            max_points -= 1"
   ]
  },
  {
   "cell_type": "code",
   "execution_count": 7,
   "metadata": {},
   "outputs": [
    {
     "output_type": "execute_result",
     "data": {
      "text/plain": [
       "attoPascal            467.0\n",
       "michalrzak            448.0\n",
       "Bernhard Jordan       431.0\n",
       "felpower              418.0\n",
       "devgertschi           416.0\n",
       "Rosi-Eliz             400.0\n",
       "Katakompe             385.0\n",
       "Hablam                352.0\n",
       "memoriesadrift        303.0\n",
       "999754                269.0\n",
       "Christoph D.          234.0\n",
       "thoosequa             223.0\n",
       "Triarier              216.0\n",
       "trimaru               210.0\n",
       "Simon Eckerstorfer    177.0\n",
       "Der_Himbeerkuchen     142.0\n",
       "Nico Schlauf          123.0\n",
       "rpsdm                 122.0\n",
       "baduncle93             99.0\n",
       "zoidberg77             96.0\n",
       "marc1729               83.0\n",
       "noxeee                 82.0\n",
       "PKlempe                82.0\n",
       "rmezameza              34.0\n",
       "1192974                29.0\n",
       "1002756                14.0\n",
       "megamopsy              11.0\n",
       "982075                 10.0\n",
       "Grarak                  7.0\n",
       "Name: 1, dtype: float64"
      ]
     },
     "metadata": {},
     "execution_count": 7
    }
   ],
   "source": [
    "points.sort_values(ascending=False)"
   ]
  }
 ]
}