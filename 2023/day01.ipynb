{
 "cells": [
  {
   "cell_type": "code",
   "execution_count": 1,
   "metadata": {},
   "outputs": [],
   "source": [
    "import regex as re\n",
    "import aocd\n"
   ]
  },
  {
   "cell_type": "code",
   "execution_count": 2,
   "metadata": {},
   "outputs": [],
   "source": [
    "def parse1(line):\n",
    "    m = re.findall(r'\\d', line)\n",
    "    return int(m[0] + m[-1])\n"
   ]
  },
  {
   "cell_type": "code",
   "execution_count": 3,
   "metadata": {},
   "outputs": [],
   "source": [
    "def digit(string):\n",
    "    match(string):\n",
    "        case 'one': return '1'\n",
    "        case 'two': return '2'\n",
    "        case 'three': return '3'\n",
    "        case 'four': return '4'\n",
    "        case 'five': return '5'\n",
    "        case 'six': return '6'\n",
    "        case 'seven': return '7'\n",
    "        case 'eight': return '8'\n",
    "        case 'nine': return '9'\n",
    "        case _: return string\n",
    "\n",
    "def parse2(line):\n",
    "    pattern = r'\\d|one|two|three|four|five|six|seven|eight|nine'\n",
    "    m = re.findall(pattern, line, overlapped=True)\n",
    "    return int(digit(m[0]) + digit(m[-1]))\n"
   ]
  },
  {
   "cell_type": "code",
   "execution_count": 4,
   "metadata": {},
   "outputs": [
    {
     "name": "stdout",
     "output_type": "stream",
     "text": [
      "Part 1: 53974\n",
      "Part 2: 52840\n"
     ]
    }
   ],
   "source": [
    "lines = aocd.get_data(day=1, year=2023).splitlines()\n",
    "print(\"Part 1:\", sum(parse1(l) for l in lines))\n",
    "print(\"Part 2:\", sum(parse2(l) for l in lines))\n"
   ]
  }
 ],
 "metadata": {
  "kernelspec": {
   "display_name": "Python 3",
   "language": "python",
   "name": "python3"
  },
  "language_info": {
   "codemirror_mode": {
    "name": "ipython",
    "version": 3
   },
   "file_extension": ".py",
   "mimetype": "text/x-python",
   "name": "python",
   "nbconvert_exporter": "python",
   "pygments_lexer": "ipython3",
   "version": "3.11.3"
  }
 },
 "nbformat": 4,
 "nbformat_minor": 2
}
