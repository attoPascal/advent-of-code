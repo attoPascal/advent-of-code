{
 "cells": [
  {
   "cell_type": "code",
   "execution_count": 1,
   "metadata": {},
   "outputs": [],
   "source": [
    "import numpy as np\n",
    "import aocd\n",
    "from collections import defaultdict\n",
    "from rich.progress import track"
   ]
  },
  {
   "cell_type": "code",
   "execution_count": 2,
   "metadata": {},
   "outputs": [],
   "source": [
    "data = \\\n",
    "\"\"\"...........\n",
    ".....###.#.\n",
    ".###.##..#.\n",
    "..#.#...#..\n",
    "....#.#....\n",
    ".##..S####.\n",
    ".##..#...#.\n",
    ".......##..\n",
    ".##.#.####.\n",
    ".##..##.##.\n",
    "...........\"\"\""
   ]
  },
  {
   "cell_type": "code",
   "execution_count": 3,
   "metadata": {},
   "outputs": [],
   "source": [
    "data = aocd.get_data(day=21, year=2023)\n",
    "grid = np.array([list(line) for line in data.splitlines()])\n",
    "max_x, max_y = grid.shape\n",
    "\n",
    "((x0, *_), (y0, *_)) = np.where(grid == 'S')\n",
    "grid[x0, y0] = '.'\n",
    "\n",
    "steps = defaultdict(set)\n",
    "steps[0].add((x0, y0))"
   ]
  },
  {
   "cell_type": "code",
   "execution_count": 4,
   "metadata": {},
   "outputs": [],
   "source": [
    "def neighbors(x, y):\n",
    "    return [(x-1, y), (x+1, y), (x, y-1), (x, y+1)]\n",
    "\n",
    "def get_plot(x, y):\n",
    "    return grid[x % max_x, y % max_y]"
   ]
  },
  {
   "cell_type": "code",
   "execution_count": 5,
   "metadata": {},
   "outputs": [],
   "source": [
    "counts_mod = [1, 0]\n",
    "\n",
    "def step(s):\n",
    "    for x, y in steps[s-1]:\n",
    "        for xn, yn in neighbors(x, y):\n",
    "            if (xn, yn) not in steps[s-2] and get_plot(xn, yn) == '.':\n",
    "                steps[s].add((xn, yn))\n",
    "    \n",
    "    del steps[s-2]\n",
    "    counts_mod[s % 2] += len(steps[s])"
   ]
  },
  {
   "cell_type": "code",
   "execution_count": 6,
   "metadata": {},
   "outputs": [
    {
     "data": {
      "text/plain": [
       "3795"
      ]
     },
     "execution_count": 6,
     "metadata": {},
     "output_type": "execute_result"
    }
   ],
   "source": [
    "part1 = 64\n",
    "for s in range(1, part1+1):\n",
    "    step(s)\n",
    "\n",
    "counts_mod[part1 % 2]"
   ]
  },
  {
   "cell_type": "code",
   "execution_count": 7,
   "metadata": {},
   "outputs": [
    {
     "data": {
      "text/html": [
       "<pre style=\"white-space:pre;overflow-x:auto;line-height:normal;font-family:Menlo,'DejaVu Sans Mono',consolas,'Courier New',monospace\"></pre>\n"
      ],
      "text/plain": [
       "\u001b[?25l"
      ]
     },
     "metadata": {},
     "output_type": "display_data"
    },
    {
     "data": {
      "application/vnd.jupyter.widget-view+json": {
       "model_id": "98252eb62f7b4587b1f80e8d8b7392b0",
       "version_major": 2,
       "version_minor": 0
      },
      "text/plain": [
       "Output()"
      ]
     },
     "metadata": {},
     "output_type": "display_data"
    },
    {
     "data": {
      "text/html": [
       "<pre style=\"white-space:pre;overflow-x:auto;line-height:normal;font-family:Menlo,'DejaVu Sans Mono',consolas,'Courier New',monospace\">\n",
       "</pre>\n"
      ],
      "text/plain": [
       "\n",
       "\u001b[?25h"
      ]
     },
     "metadata": {},
     "output_type": "display_data"
    },
    {
     "ename": "KeyboardInterrupt",
     "evalue": "",
     "output_type": "error",
     "traceback": [
      "\u001b[0;31m---------------------------------------------------------------------------\u001b[0m",
      "\u001b[0;31mKeyboardInterrupt\u001b[0m                         Traceback (most recent call last)",
      "Cell \u001b[0;32mIn[7], line 3\u001b[0m\n\u001b[1;32m      1\u001b[0m part2 \u001b[38;5;241m=\u001b[39m \u001b[38;5;241m26501365\u001b[39m\n\u001b[1;32m      2\u001b[0m \u001b[38;5;28;01mfor\u001b[39;00m s \u001b[38;5;129;01min\u001b[39;00m track(\u001b[38;5;28mrange\u001b[39m(part1\u001b[38;5;241m+\u001b[39m\u001b[38;5;241m1\u001b[39m, part2\u001b[38;5;241m+\u001b[39m\u001b[38;5;241m1\u001b[39m)):\n\u001b[0;32m----> 3\u001b[0m     \u001b[43mstep\u001b[49m\u001b[43m(\u001b[49m\u001b[43ms\u001b[49m\u001b[43m)\u001b[49m\n\u001b[1;32m      5\u001b[0m counts_mod[part2 \u001b[38;5;241m%\u001b[39m \u001b[38;5;241m2\u001b[39m]\n",
      "Cell \u001b[0;32mIn[5], line 7\u001b[0m, in \u001b[0;36mstep\u001b[0;34m(s)\u001b[0m\n\u001b[1;32m      5\u001b[0m     \u001b[38;5;28;01mfor\u001b[39;00m xn, yn \u001b[38;5;129;01min\u001b[39;00m neighbors(x, y):\n\u001b[1;32m      6\u001b[0m         \u001b[38;5;28;01mif\u001b[39;00m (xn, yn) \u001b[38;5;129;01mnot\u001b[39;00m \u001b[38;5;129;01min\u001b[39;00m steps[s\u001b[38;5;241m-\u001b[39m\u001b[38;5;241m2\u001b[39m] \u001b[38;5;129;01mand\u001b[39;00m get_plot(xn, yn) \u001b[38;5;241m==\u001b[39m \u001b[38;5;124m'\u001b[39m\u001b[38;5;124m.\u001b[39m\u001b[38;5;124m'\u001b[39m:\n\u001b[0;32m----> 7\u001b[0m             steps[s]\u001b[38;5;241m.\u001b[39madd((xn, yn))\n\u001b[1;32m      9\u001b[0m \u001b[38;5;28;01mdel\u001b[39;00m steps[s\u001b[38;5;241m-\u001b[39m\u001b[38;5;241m2\u001b[39m]\n\u001b[1;32m     10\u001b[0m counts_mod[s \u001b[38;5;241m%\u001b[39m \u001b[38;5;241m2\u001b[39m] \u001b[38;5;241m+\u001b[39m\u001b[38;5;241m=\u001b[39m \u001b[38;5;28mlen\u001b[39m(steps[s])\n",
      "\u001b[0;31mKeyboardInterrupt\u001b[0m: "
     ]
    }
   ],
   "source": [
    "part2 = 26501365\n",
    "for s in track(range(part1+1, part2+1)):\n",
    "    step(s)\n",
    "\n",
    "counts_mod[part2 % 2]"
   ]
  }
 ],
 "metadata": {
  "kernelspec": {
   "display_name": "Python 3",
   "language": "python",
   "name": "python3"
  },
  "language_info": {
   "codemirror_mode": {
    "name": "ipython",
    "version": 3
   },
   "file_extension": ".py",
   "mimetype": "text/x-python",
   "name": "python",
   "nbconvert_exporter": "python",
   "pygments_lexer": "ipython3",
   "version": "3.11.3"
  }
 },
 "nbformat": 4,
 "nbformat_minor": 2
}
