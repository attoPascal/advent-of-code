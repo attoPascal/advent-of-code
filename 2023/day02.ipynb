{
 "cells": [
  {
   "cell_type": "code",
   "execution_count": 1,
   "metadata": {},
   "outputs": [],
   "source": [
    "import re\n",
    "import aocd\n"
   ]
  },
  {
   "cell_type": "code",
   "execution_count": 2,
   "metadata": {},
   "outputs": [],
   "source": [
    "def parse_draws(draws):\n",
    "    red, green, blue = 0, 0, 0\n",
    "    for draw in re.findall(r'\\d+ \\w+', draws):\n",
    "        match draw.split():\n",
    "            case r, 'red':   red   = max(int(r), red)\n",
    "            case g, 'green': green = max(int(g), green)\n",
    "            case b, 'blue':  blue  = max(int(b), blue)\n",
    "    return red, green, blue\n"
   ]
  },
  {
   "cell_type": "code",
   "execution_count": 3,
   "metadata": {},
   "outputs": [],
   "source": [
    "def parse_game(line):\n",
    "    if m := re.match(r\"Game (?P<game>\\d+): (?P<draws>.+)\", line):\n",
    "        return int(m['game']), parse_draws(m['draws'])\n",
    "    else:\n",
    "        return (0, (0, 0, 0))\n"
   ]
  },
  {
   "cell_type": "code",
   "execution_count": 4,
   "metadata": {},
   "outputs": [],
   "source": [
    "def verify(game, balls):\n",
    "    r, g, b = balls\n",
    "    return game if r <= 12 and g <= 13 and b <= 14 else 0\n"
   ]
  },
  {
   "cell_type": "code",
   "execution_count": 5,
   "metadata": {},
   "outputs": [],
   "source": [
    "def power(_, balls):\n",
    "    return balls[0] * balls[1] * balls[2]\n"
   ]
  },
  {
   "cell_type": "code",
   "execution_count": 6,
   "metadata": {},
   "outputs": [
    {
     "name": "stdout",
     "output_type": "stream",
     "text": [
      "Part 1: 2541\n",
      "Part 2: 66016\n"
     ]
    }
   ],
   "source": [
    "lines = aocd.get_data(day=2, year=2023).splitlines()\n",
    "games = [parse_game(line) for line in lines]\n",
    "print(\"Part 1:\", sum(verify(*game) for game in games))\n",
    "print(\"Part 2:\", sum(power(*game) for game in games))\n"
   ]
  }
 ],
 "metadata": {
  "kernelspec": {
   "display_name": "Python 3",
   "language": "python",
   "name": "python3"
  },
  "language_info": {
   "codemirror_mode": {
    "name": "ipython",
    "version": 3
   },
   "file_extension": ".py",
   "mimetype": "text/x-python",
   "name": "python",
   "nbconvert_exporter": "python",
   "pygments_lexer": "ipython3",
   "version": "3.11.3"
  }
 },
 "nbformat": 4,
 "nbformat_minor": 2
}
