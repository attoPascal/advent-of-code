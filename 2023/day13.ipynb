{
 "cells": [
  {
   "cell_type": "code",
   "execution_count": 1,
   "metadata": {},
   "outputs": [],
   "source": [
    "import numpy as np\n",
    "import aocd"
   ]
  },
  {
   "cell_type": "code",
   "execution_count": 2,
   "metadata": {},
   "outputs": [],
   "source": [
    "patterns = [np.array([[c == '#' for c in line] for line in chunk.splitlines()])\n",
    "            for chunk in aocd.get_data(day=13, year=2023).split('\\n\\n')]"
   ]
  },
  {
   "cell_type": "code",
   "execution_count": 3,
   "metadata": {},
   "outputs": [],
   "source": [
    "def reflection_line(pattern, compare=np.array_equal):\n",
    "    rows, cols = pattern.shape\n",
    "    for line in range(1, rows):\n",
    "        max_rows = min(line, rows-line)\n",
    "        above = np.flipud(pattern[:line])[:max_rows]\n",
    "        below = pattern[line:][:max_rows]\n",
    "        if compare(above, below):\n",
    "            return 100 * line\n",
    "    for line in range(1, cols):\n",
    "        max_cols = min(line, cols-line)\n",
    "        left = np.fliplr(pattern[:, :line])[:, :max_cols]\n",
    "        right = pattern[:, line:][:, :max_cols]\n",
    "        if compare(left, right):\n",
    "            return line\n",
    "    return 0\n",
    "\n",
    "def has_smudge(lhs, rhs):\n",
    "    return np.count_nonzero(np.logical_xor(lhs, rhs)) == 1"
   ]
  },
  {
   "cell_type": "code",
   "execution_count": 4,
   "metadata": {},
   "outputs": [
    {
     "name": "stdout",
     "output_type": "stream",
     "text": [
      "Part 1: 35232\n",
      "Part 2: 37982\n"
     ]
    }
   ],
   "source": [
    "print(\"Part 1:\", sum(reflection_line(pattern) for pattern in patterns))\n",
    "print(\"Part 2:\", sum(reflection_line(pattern, compare=has_smudge) for pattern in patterns))"
   ]
  }
 ],
 "metadata": {
  "kernelspec": {
   "display_name": "Python 3",
   "language": "python",
   "name": "python3"
  },
  "language_info": {
   "codemirror_mode": {
    "name": "ipython",
    "version": 3
   },
   "file_extension": ".py",
   "mimetype": "text/x-python",
   "name": "python",
   "nbconvert_exporter": "python",
   "pygments_lexer": "ipython3",
   "version": "3.11.3"
  }
 },
 "nbformat": 4,
 "nbformat_minor": 2
}
