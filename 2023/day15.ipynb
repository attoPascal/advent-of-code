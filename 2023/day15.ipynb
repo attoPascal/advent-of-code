{
 "cells": [
  {
   "cell_type": "code",
   "execution_count": 1,
   "metadata": {},
   "outputs": [],
   "source": [
    "import re\n",
    "from functools import reduce\n",
    "from aocd import data"
   ]
  },
  {
   "cell_type": "code",
   "execution_count": 2,
   "metadata": {},
   "outputs": [],
   "source": [
    "def ascii_hash(string):\n",
    "    return reduce(lambda value, char: (value + ord(char)) * 17 % 256, string, 0)\n",
    "\n",
    "def operation(step, boxes):\n",
    "    match re.split(r'[-=]', step):\n",
    "        case label, '':   boxes[ascii_hash(label)].pop(label, None)\n",
    "        case label, lens: boxes[ascii_hash(label)][label] = int(lens)\n",
    "\n",
    "def focusing_power(boxes):\n",
    "    return sum(box * slot * lens\n",
    "               for box, b in enumerate(boxes, 1)\n",
    "               for slot, lens in enumerate(b.values(), 1))"
   ]
  },
  {
   "cell_type": "code",
   "execution_count": 3,
   "metadata": {},
   "outputs": [
    {
     "name": "stdout",
     "output_type": "stream",
     "text": [
      "Part 1: 509167\n",
      "Part 2: 259333\n"
     ]
    }
   ],
   "source": [
    "steps = data.strip().split(',')\n",
    "boxes = [dict() for _ in range(256)]\n",
    "for step in steps:\n",
    "    operation(step, boxes)\n",
    "\n",
    "print(\"Part 1:\", sum(ascii_hash(step) for step in steps))\n",
    "print(\"Part 2:\", focusing_power(boxes))"
   ]
  }
 ],
 "metadata": {
  "kernelspec": {
   "display_name": "Python 3",
   "language": "python",
   "name": "python3"
  },
  "language_info": {
   "codemirror_mode": {
    "name": "ipython",
    "version": 3
   },
   "file_extension": ".py",
   "mimetype": "text/x-python",
   "name": "python",
   "nbconvert_exporter": "python",
   "pygments_lexer": "ipython3",
   "version": "3.11.3"
  }
 },
 "nbformat": 4,
 "nbformat_minor": 2
}
