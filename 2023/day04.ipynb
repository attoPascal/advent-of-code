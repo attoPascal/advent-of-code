{
 "cells": [
  {
   "cell_type": "code",
   "execution_count": 1,
   "metadata": {},
   "outputs": [],
   "source": [
    "from aocd import data\n"
   ]
  },
  {
   "cell_type": "code",
   "execution_count": 2,
   "metadata": {},
   "outputs": [],
   "source": [
    "def parse(line):\n",
    "    card, numbers = line.split(': ')\n",
    "    card_id = int(card.split()[1])\n",
    "    winning, having = numbers.split(' | ')\n",
    "    return card_id, set(int(n) for n in winning.split()), set(int(n) for n in having.split())\n"
   ]
  },
  {
   "cell_type": "code",
   "execution_count": 3,
   "metadata": {},
   "outputs": [],
   "source": [
    "def points(winning, having):\n",
    "    num_winning = len(winning & having)\n",
    "    return 2**(num_winning-1) if num_winning else 0\n"
   ]
  },
  {
   "cell_type": "code",
   "execution_count": 4,
   "metadata": {},
   "outputs": [
    {
     "data": {
      "text/plain": [
       "21558"
      ]
     },
     "execution_count": 4,
     "metadata": {},
     "output_type": "execute_result"
    }
   ],
   "source": [
    "cards = { c: (w, h) for c, w, h in [parse(l) for l in data.splitlines()]}\n",
    "sum(points(*card) for card in cards.values())\n"
   ]
  },
  {
   "cell_type": "code",
   "execution_count": 5,
   "metadata": {},
   "outputs": [],
   "source": [
    "def wins(card_id, winning, having):\n",
    "    num_winning = len(winning & having)\n",
    "    return [card_id+1+n for n in range(num_winning)]\n"
   ]
  },
  {
   "cell_type": "code",
   "execution_count": 6,
   "metadata": {},
   "outputs": [],
   "source": [
    "current_cards = list(cards.keys())\n",
    "won_cards = []\n"
   ]
  },
  {
   "cell_type": "code",
   "execution_count": 7,
   "metadata": {},
   "outputs": [
    {
     "data": {
      "text/plain": [
       "10425665"
      ]
     },
     "execution_count": 7,
     "metadata": {},
     "output_type": "execute_result"
    }
   ],
   "source": [
    "processed = 0\n",
    "while True:\n",
    "    for card in current_cards:\n",
    "        won_cards.extend(wins(card, *cards[card]))\n",
    "        processed += 1\n",
    "    if not won_cards:\n",
    "        break\n",
    "    current_cards.clear()\n",
    "    current_cards.extend(won_cards)\n",
    "    won_cards.clear()\n",
    "\n",
    "processed\n"
   ]
  }
 ],
 "metadata": {
  "kernelspec": {
   "display_name": "Python 3",
   "language": "python",
   "name": "python3"
  },
  "language_info": {
   "codemirror_mode": {
    "name": "ipython",
    "version": 3
   },
   "file_extension": ".py",
   "mimetype": "text/x-python",
   "name": "python",
   "nbconvert_exporter": "python",
   "pygments_lexer": "ipython3",
   "version": "3.11.3"
  }
 },
 "nbformat": 4,
 "nbformat_minor": 2
}
