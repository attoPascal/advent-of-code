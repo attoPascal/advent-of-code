{
 "cells": [
  {
   "cell_type": "code",
   "execution_count": 1,
   "metadata": {},
   "outputs": [],
   "source": [
    "from itertools import pairwise\n",
    "import re\n",
    "import aocd"
   ]
  },
  {
   "cell_type": "code",
   "execution_count": 3,
   "metadata": {},
   "outputs": [],
   "source": [
    "def parse1(line):\n",
    "    if m := re.match(r'(\\w) (\\d+) \\(#(\\w+)\\)', line):\n",
    "        return m[1], int(m[2])\n",
    "\n",
    "def parse2(line):\n",
    "    if m := re.match(r'(\\w) (\\d+) \\(#(\\w+)\\)', line):\n",
    "        direction = {'0': 'R', '1': 'D', '2': 'L', '3': 'U'}[m[3][-1]]\n",
    "        distance = int(m[3][:-1], 16)\n",
    "        return direction, distance\n",
    "\n",
    "def dig(current, direction, distance):\n",
    "    return current + {'R': 1, 'D': -1j, 'L': -1, 'U': 1j}[direction] * distance\n",
    "\n",
    "def path(dig_plan):\n",
    "    nodes = []\n",
    "    current = 0\n",
    "    for direction, distance in dig_plan:\n",
    "        current = dig(current, direction, distance)\n",
    "        nodes.append((int(current.imag), int(current.real)))\n",
    "    return nodes\n",
    "\n",
    "def area(nodes):\n",
    "    A = 0\n",
    "    for ((x1, y1), (x2, y2)) in pairwise(nodes + [nodes[0]]):\n",
    "        A += x1 * y2 - y1 * x2\n",
    "    return A // 2\n",
    "\n",
    "def boundary(dig_plan):\n",
    "    corners1 = 0\n",
    "    corners2 = 0\n",
    "    straight = 0\n",
    "    for (dir1, _), (dir2, dist) in pairwise(dig_plan + [dig_plan[0]]):\n",
    "        corner = dir1 + dir2\n",
    "        corners1 += corner in 'ULDRU'\n",
    "        corners2 += corner in 'URDLU'\n",
    "        straight += dist - 1\n",
    "\n",
    "    return int(max(corners1, corners2) * 0.75 + min(corners1, corners2) * 0.25 + straight * 0.5)"
   ]
  },
  {
   "cell_type": "code",
   "execution_count": 4,
   "metadata": {},
   "outputs": [
    {
     "name": "stdout",
     "output_type": "stream",
     "text": [
      "Part 1: 50746\n",
      "Part 2: 70086216556038\n"
     ]
    }
   ],
   "source": [
    "lines = aocd.get_data(day=18, year=2023).splitlines()\n",
    "\n",
    "dig_plan1 = [parse1(line) for line in lines]\n",
    "nodes1 = path(dig_plan1)\n",
    "print(\"Part 1:\", area(nodes1) + boundary(dig_plan1))\n",
    "\n",
    "dig_plan2 = [parse2(line) for line in lines]\n",
    "nodes2 = path(dig_plan2)\n",
    "print(\"Part 2:\", area(nodes2) + boundary(dig_plan2))"
   ]
  }
 ],
 "metadata": {
  "kernelspec": {
   "display_name": "Python 3",
   "language": "python",
   "name": "python3"
  },
  "language_info": {
   "codemirror_mode": {
    "name": "ipython",
    "version": 3
   },
   "file_extension": ".py",
   "mimetype": "text/x-python",
   "name": "python",
   "nbconvert_exporter": "python",
   "pygments_lexer": "ipython3",
   "version": "3.11.3"
  }
 },
 "nbformat": 4,
 "nbformat_minor": 2
}
