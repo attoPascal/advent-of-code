{
 "cells": [
  {
   "cell_type": "code",
   "execution_count": 1,
   "metadata": {},
   "outputs": [],
   "source": [
    "from collections import Counter\n",
    "from aocd import data\n"
   ]
  },
  {
   "cell_type": "code",
   "execution_count": 2,
   "metadata": {},
   "outputs": [],
   "source": [
    "def card_to_hex(card):\n",
    "    match card:\n",
    "        case 'T': return 'a'\n",
    "        case 'J': return 'b'\n",
    "        case 'Q': return 'c'\n",
    "        case 'K': return 'd'\n",
    "        case 'A': return 'e'\n",
    "        case _:   return card\n",
    "\n",
    "def hand_strength(cards, type):\n",
    "    raw_strength = int(''.join(card_to_hex(c) for c in cards), 16)\n",
    "    return raw_strength + {\n",
    "        'five':       0x600000,\n",
    "        'four':       0x500000,\n",
    "        'full_house': 0x400000,\n",
    "        'three':      0x300000,\n",
    "        'two_pair':   0x200000,\n",
    "        'one_pair':   0x100000,\n",
    "        'high_card':  0x000000}[type]\n",
    "\n",
    "def ranking(hand):\n",
    "    cards = hand[0]\n",
    "    match Counter(cards).most_common():\n",
    "        case [(_, 5)]:             return hand_strength(cards, 'five')\n",
    "        case [(_, 4), (_, 1)]:     return hand_strength(cards, 'four')\n",
    "        case [(_, 3), (_, 2)]:     return hand_strength(cards, 'full_house')\n",
    "        case [(_, 3), *_]:         return hand_strength(cards, 'three')\n",
    "        case [(_, 2), (_, 2), *_]: return hand_strength(cards, 'two_pair')\n",
    "        case [(_, 2), *_]:         return hand_strength(cards, 'one_pair')\n",
    "        case _:                    return hand_strength(cards, 'high_card')\n",
    "\n",
    "def winnings(hands, ranking):\n",
    "    hands_ranked = enumerate(sorted(hands, key=ranking), 1)\n",
    "    return sum(rank * bid for (rank, (_, bid)) in hands_ranked)\n"
   ]
  },
  {
   "cell_type": "code",
   "execution_count": 3,
   "metadata": {},
   "outputs": [],
   "source": [
    "def card_to_hex2(card):\n",
    "    return '1' if card == 'J' else card_to_hex(card)\n",
    "\n",
    "def ranking2(hand: tuple[str, int]):\n",
    "    cards = hand[0]\n",
    "    raw_strength = int(''.join(card_to_hex2(c) for c in cards), 16)\n",
    "    no_jokers = cards.replace('J', '')\n",
    "    j = len(no_jokers)\n",
    "    j5, j4, j3, j2 = j, j-1, j-2, j-3\n",
    "    c = [n for _, n in Counter(no_jokers).most_common()]\n",
    "\n",
    "    if c == [] or c[0] == j5:\n",
    "        return 0xf00000 + raw_strength\n",
    "    if c[0] == j4:\n",
    "        return 0xe00000 + raw_strength\n",
    "    if c[0] == j3 and c[1] == 2:\n",
    "        return 0xd00000 + raw_strength\n",
    "    if c[0] == j3:\n",
    "        return 0xc00000 + raw_strength\n",
    "    if c[0] == 2 and c[1] == 2:\n",
    "        return 0xb00000 + raw_strength\n",
    "    if c[0] == j2:\n",
    "        return 0xa00000 + raw_strength\n",
    "    return raw_strength\n",
    "                \n"
   ]
  },
  {
   "cell_type": "code",
   "execution_count": 4,
   "metadata": {},
   "outputs": [
    {
     "name": "stdout",
     "output_type": "stream",
     "text": [
      "Part 1: 251058093\n",
      "Part 2: 249781879\n"
     ]
    }
   ],
   "source": [
    "hands = [(l.split()[0], int(l.split()[1]) )for l in data.splitlines()]\n",
    "\n",
    "print(\"Part 1:\", winnings(hands, ranking))\n",
    "print(\"Part 2:\", winnings(hands, ranking2))\n"
   ]
  }
 ],
 "metadata": {
  "kernelspec": {
   "display_name": "Python 3",
   "language": "python",
   "name": "python3"
  },
  "language_info": {
   "codemirror_mode": {
    "name": "ipython",
    "version": 3
   },
   "file_extension": ".py",
   "mimetype": "text/x-python",
   "name": "python",
   "nbconvert_exporter": "python",
   "pygments_lexer": "ipython3",
   "version": "3.11.3"
  }
 },
 "nbformat": 4,
 "nbformat_minor": 2
}
