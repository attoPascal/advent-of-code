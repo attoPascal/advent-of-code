{
 "cells": [
  {
   "cell_type": "code",
   "execution_count": 1,
   "metadata": {},
   "outputs": [],
   "source": [
    "from itertools import combinations\n",
    "import numpy as np\n",
    "import aocd"
   ]
  },
  {
   "cell_type": "code",
   "execution_count": 2,
   "metadata": {},
   "outputs": [],
   "source": [
    "galaxies = np.array([[c == '#' for c in line] for line in aocd.get_data(day=11, year=2023).splitlines()])\n",
    "empty_rows = set(idx for idx, row in enumerate(galaxies) if not np.any(row))\n",
    "empty_cols = set(idx for idx, col in enumerate(galaxies.T) if not np.any(col))"
   ]
  },
  {
   "cell_type": "code",
   "execution_count": 3,
   "metadata": {},
   "outputs": [],
   "source": [
    "def distance(galaxy0, galaxy1, expansion):\n",
    "    row0, row1 = sorted([galaxy0[0], galaxy1[0]])\n",
    "    col0, col1 = sorted([galaxy0[1], galaxy1[1]])\n",
    "    rows = row1 - row0 + (expansion-1) * len(set(range(row0, row1)) & empty_rows)\n",
    "    cols = col1 - col0 + (expansion-1) * len(set(range(col0, col1)) & empty_cols)\n",
    "    return rows + cols"
   ]
  },
  {
   "cell_type": "code",
   "execution_count": 4,
   "metadata": {},
   "outputs": [
    {
     "name": "stdout",
     "output_type": "stream",
     "text": [
      "Part 1: 9623138\n",
      "Part 2: 726820169514\n"
     ]
    }
   ],
   "source": [
    "pairs = list(combinations(zip(*np.where(galaxies)), 2))\n",
    "print(\"Part 1:\", sum(distance(g0, g1, expansion=2) for g0, g1 in pairs))\n",
    "print(\"Part 2:\", sum(distance(g0, g1, expansion=1000000) for g0, g1 in pairs))"
   ]
  }
 ],
 "metadata": {
  "kernelspec": {
   "display_name": "Python 3",
   "language": "python",
   "name": "python3"
  },
  "language_info": {
   "codemirror_mode": {
    "name": "ipython",
    "version": 3
   },
   "file_extension": ".py",
   "mimetype": "text/x-python",
   "name": "python",
   "nbconvert_exporter": "python",
   "pygments_lexer": "ipython3",
   "version": "3.11.3"
  }
 },
 "nbformat": 4,
 "nbformat_minor": 2
}
