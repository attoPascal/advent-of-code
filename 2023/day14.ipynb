{
 "cells": [
  {
   "cell_type": "code",
   "execution_count": 1,
   "metadata": {},
   "outputs": [],
   "source": [
    "from aocd import data\n",
    "from copy import copy\n",
    "import numpy as np\n",
    "from rich.progress import track\n",
    "import matplotlib.pyplot as plt"
   ]
  },
  {
   "cell_type": "code",
   "execution_count": 2,
   "metadata": {},
   "outputs": [
    {
     "data": {
      "text/plain": [
       "'O....#....\\nO.OO#....#\\n.....##...\\nOO.#O....O\\n.O.....O#.\\nO.#..O.#.#\\n..O..#O..O\\n.......O..\\n#....###..\\n#OO..#....'"
      ]
     },
     "execution_count": 2,
     "metadata": {},
     "output_type": "execute_result"
    }
   ],
   "source": [
    "#data = \\\n",
    "\"\"\"O....#....\n",
    "O.OO#....#\n",
    ".....##...\n",
    "OO.#O....O\n",
    ".O.....O#.\n",
    "O.#..O.#.#\n",
    "..O..#O..O\n",
    ".......O..\n",
    "#....###..\n",
    "#OO..#....\"\"\""
   ]
  },
  {
   "cell_type": "code",
   "execution_count": 3,
   "metadata": {},
   "outputs": [],
   "source": [
    "platform = np.array([list(line) for line in data.splitlines()])\n",
    "cubes = { tile: cube for tile, cube in np.ndenumerate(platform) if cube == '#' }\n",
    "rocks = { tile: rock for tile, rock in np.ndenumerate(platform) if rock == 'O' }"
   ]
  },
  {
   "cell_type": "code",
   "execution_count": 4,
   "metadata": {},
   "outputs": [],
   "source": [
    "def in_bounds(direction):\n",
    "    return 0 <= direction[0] < platform.shape[0] and 0 <= direction[1] < platform.shape[1]\n",
    "\n",
    "def has_cube(direction):\n",
    "    return cubes.get(direction, False)\n",
    "\n",
    "def has_rock(direction):\n",
    "    return rocks.get(direction, False)\n",
    "\n",
    "def can_roll(direction):\n",
    "    return in_bounds(direction) and not has_cube(direction) and not has_rock(direction)\n",
    "\n",
    "def tilt(step):\n",
    "    while True:\n",
    "        previous = copy(rocks)\n",
    "        for (x, y), rock in previous.items():\n",
    "            direction = step(x, y)\n",
    "            if can_roll(direction):\n",
    "                del rocks[x, y]\n",
    "                rocks[direction] = rock\n",
    "        if rocks == previous:\n",
    "            break\n",
    "\n",
    "def tilt_north():  tilt(step=lambda x, y: (x-1, y))\n",
    "def tilt_west():   tilt(step=lambda x, y: (x, y-1))\n",
    "def tilt_souch():  tilt(step=lambda x, y: (x+1, y))\n",
    "def tilt_east():   tilt(step=lambda x, y: (x, y+1))\n",
    "\n",
    "def cycle():\n",
    "    tilt_north()\n",
    "    tilt_west() \n",
    "    tilt_souch()\n",
    "    tilt_east()\n",
    "\n",
    "def load():\n",
    "    rolled = np.zeros_like(platform, dtype=bool)\n",
    "    for (x, y), rock in rocks.items():\n",
    "        rolled[x, y] = True\n",
    "    load = 0\n",
    "    for mul, x in enumerate(range(platform.shape[0]-1, -1, -1), 1):\n",
    "        load += mul * np.count_nonzero(rolled[x, :])\n",
    "    return load"
   ]
  },
  {
   "cell_type": "code",
   "execution_count": 5,
   "metadata": {},
   "outputs": [
    {
     "data": {
      "text/plain": [
       "[<matplotlib.lines.Line2D at 0x1170d2190>]"
      ]
     },
     "execution_count": 5,
     "metadata": {},
     "output_type": "execute_result"
    },
    {
     "data": {
      "image/png": "[encoded data removed]",
      "text/plain": [
       "<Figure size 640x480 with 1 Axes>"
      ]
     },
     "metadata": {},
     "output_type": "display_data"
    }
   ],
   "source": [
    "loads = []\n",
    "for _ in range(200):\n",
    "    cycle()\n",
    "    loads.append(load())\n",
    "\n",
    "plt.plot(loads)"
   ]
  },
  {
   "cell_type": "code",
   "execution_count": 27,
   "metadata": {},
   "outputs": [
    {
     "data": {
      "text/plain": [
       "94876"
      ]
     },
     "execution_count": 27,
     "metadata": {},
     "output_type": "execute_result"
    }
   ],
   "source": [
    "max(loads[75:]) # 95046\n",
    "loads[98]\n",
    "loads[125]\n",
    "loads[152]\n",
    "\n",
    "(1_000_000_000 - 98) % 27\n",
    "loads[108]"
   ]
  },
  {
   "cell_type": "code",
   "execution_count": 6,
   "metadata": {},
   "outputs": [],
   "source": [
    "rolled = np.zeros_like(platform, dtype=bool)\n",
    "for (x, y), rock in rocks.items():\n",
    "    rolled[x, y] = True"
   ]
  },
  {
   "cell_type": "code",
   "execution_count": null,
   "metadata": {},
   "outputs": [],
   "source": []
  },
  {
   "cell_type": "code",
   "execution_count": 7,
   "metadata": {},
   "outputs": [
    {
     "name": "stdout",
     "output_type": "stream",
     "text": [
      "..............OO.......................O...............................O....O.....................OO\n",
      ".............................................OO.........O...........................O........OO....O\n",
      "....................................O.O...OO..............OOOOOO........O.........OOO....OOO.....O..\n",
      "........OO........OO...........O............OOOOOOO.O..................O..O......O.....OO....OOOOO..\n",
      "........OOO.............................OO.............OOOOOOOO..........OO............O..O...OOO...\n",
      "..O..O..............O...................O...O.O...OO...........................OOOOOOOOOOOO.....OOOO\n",
      "....O.....O.............................OO.................OOOOOO...OOOOO.......OO.....OO.O.....OO..\n",
      ".......OOO...................O....O..........OOO.....O........O.O.O....OOO..O........OO....O......O.\n",
      "......O..............O............O..........O.....O...............OOOOOO............OO.............\n",
      "..................OOOO..........O................O............OO...O...........OOO..O.......OOOO....\n",
      "......OOOO..O.............O................................OOOOOOO........O.O...........OO......OOOO\n",
      ".....OO.......OO.......O.......OO......OO..OO................OOOOOOO...O..................OO......O.\n",
      "..OO..............OOOOOOO.............O.....OOOO...O.......O.........OO.....O..................OOOOO\n",
      ".......OO.O.........O....................O..........OO.......OOOO.......OO.......O....OOOO.........O\n",
      ".OOO................OO..............O...........O.......OOO....O......OO............O.........O....O\n",
      "O......OOO.............OOOOOO.....................O...........O...OO....................O.........OO\n",
      ".OO.....O......O....O.....O.......................O.......O......O..............OO...............O..\n",
      ".....OO........OO.......O..............................O.............OOOOOO........OO..............O\n",
      "..........OO.......OO................O..........O.....O.............OO.........OO......O..........OO\n",
      "..............OOO.................OO...........O.............O..........OO...........O.............O\n",
      ".....OOO........OO.................OOO..........................................OOOO......O.......O.\n",
      "..............OOOOOOOO.....OO....................O...............OOOO..........O.........OO........O\n",
      ".OO.O......OOO...............OO....O.......................OOOO............................O........\n",
      "...OOOOO...........OOO......OOO....O....................OO.......................OOOOO.........OOO..\n",
      "O.......O....OOO......OO...............OO.O..............OO..........................OOOOOOOOOOOOO..\n",
      "....OOO....OOO............OOOOO..........O......O....OOOOO.........OOOO........OO..O....OO....O....O\n",
      "...O...OOOO...OOO.O...........OOOOOO..O.......O......OOO...............OOOOOO..........OOO.......OOO\n",
      "...OO...O.......OOOOO..........O.................OOOOOO........OOOOOO........................OOOOO..\n",
      "....OOOO.....O.O..................OOO..O..........OOOO.....OOOOOO..O................O........OOO...O\n",
      "O...OO........OOO.........OO.................O.......OO....OO...OOO............OOOOOO.........OOO...\n",
      ".....OOO...O.....OOO..........O...........OO..........OOO....O.........O...OO..........OOO...O.....O\n",
      ".OO.......OO......O........................OOOOOO................OOOOOOO.O.........OO...OOO.........\n",
      ".O......O.O............O..OO....O.O...................OOO............OOOO........OO....O...........O\n",
      ".OO................OOO..........OOOOOOO.............OO.....O...O..O...O.........OO................OO\n",
      "........OOO...O........OO...O.....................OOO....OOO........OO..............OOOOO...........\n",
      "...................O.........OOOO...O......OOO.....OO...OO.O........O.......OOO.O................OOO\n",
      "..........O..........O....O..................OO.......OO..O........OOOOO.....O..O..............OOOOO\n",
      ".................OOOOO...............O......O...........O......OOOOO.....OOO.........O............OO\n",
      "................OOO.........OOOO...........................O.OO..O....O.......O............OO......O\n",
      ".........O.............OOOO........................OO.........OO..........O...........OOOO.........O\n",
      "....................OOO.....O...O..........................OO...O..............O.......O...........O\n",
      "...........OO......OOO..........O.................O..........OO................OOOOOOOO..OO.........\n",
      ".....O........O.......OOO...........O.............O.................OOO......O.......OO.............\n",
      ".................OOOO..............O...........................OO.................OOOOO.............\n",
      "O..........OOOO.O.......................................OOOOOO....OO........O..OO................OOO\n",
      "......OO..O.................O................O........OOO....O..........OOO........OOO..O..........O\n",
      "....OO..OO.........................O............O.......O...O.....O...........OO.....OO..O........OO\n",
      "....O..O....O.......O..............O......................O..................OOOOOOOOO..O...........\n",
      "....O......................................OOOOO.........OO.OOO....OO..........OO..........OO.......\n",
      "....OOO...................OO............O..........OO..O..OO..............OOO...........OO.......OOO\n",
      ".O.............O.....O.OO...........................OOOOO.......OOOOO.......O..O.................OOO\n",
      ".O..................OO.......OO.......................OOOOOOOO.........O.....O..............OO.O....\n",
      ".....O..............O..OO............OO.....OO...........OO......O.........OO.....................OO\n",
      "............O..O.........OOOO....O..................OOOOOO.........O.......O............OOOO........\n",
      "............OO......O....OOO............O.....................OOOO..........O..........OOOOOOO......\n",
      ".....O.......OO.......OO..........OO.............O................................OOO.......OO.....O\n",
      "........OO..........OOO...OO...........O..O.........................O.O.................OOOOO.....O.\n",
      ".....OOO....O......OO...OOOO............O...............O......OO.....O.......OOO............O....OO\n",
      "...O...........OO..O..............O..............O....O..................OO.O..................O....\n",
      "....OOO..........OOO.....O....................................OO....OO.....................OOOO....O\n",
      "..OOOO..............OO............................OOOOOOO...............OO......O.................OO\n",
      ".OO.....................OOO........O.....O.....OO.....OO.......................OO.....O..........O..\n",
      ".............OO........................OOOOOOOOO.............................OOOOOOOOOO.............\n",
      "........OO....OOO..O......OOOO.............OOO................OOO......OO......OO.................OO\n",
      "O........O..........OOOO.........O..............OOOO........OOO....OO...O.....OO.................OOO\n",
      ".............OO..O.......................OOOOO...............O....O.......O...............OOOO.....O\n",
      ".....O...........O.................O........................O.................OOO..........OOOOOO..O\n",
      "....................O........O..............O.......OO.............................OOOOOOO......OO..\n",
      "....................OOO.......O............OOO......O..................O......O............OOOOOOOOO\n",
      "...OO........OO.............OOO.......OO................O.............O.........OOOOO.O...O...O....O\n",
      "O.......OO..OOO.....O........O....................OOOOOOOOO...............O........OOOOO........OOOO\n",
      ".......O...O...O...O..............O..OO......O.......O.......O...............OOO.OOO......O......O..\n",
      ".....O....OO....................OOOOOOOO....................O..........OO.O...O....OO.........OOOOOO\n",
      ".....OO.........OOOOOOO....OO.........................OOOOO.......O.......OOOOOOO..O...OO.O.OO......\n",
      "...O........OO..............OOOOOO.....O...............OO.............O......OOO..O....O.......OO...\n",
      "........O....OOO.....OOO.....................OOO..................OO..O....OO..................OOOOO\n",
      ".........OO.O..............OOOOOOO...OO..............OOOOO....O........................OOO.......OO.\n",
      ".......O......OOOOOOOOOO.........OO.....O...O.......OO.......O............OO.............O.....OO...\n",
      ".......O..O.......O.O..O........OO...........OOOO...O..........O.........O..........O...............\n",
      "...O...........O..........OOOO.........OO............OOOOOO...O..................OO.........O......O\n",
      "...............O..OO................O..O...O.......O....OOO..........OO............O..O.............\n",
      "..........O.......................OOOOOOOO.....O..............OO.......OOO.....O....O..............O\n",
      "...O...O...............O...OOOO.......OO............OOOOOO.........O..O.....OOO..........O..........\n",
      ".......OO................O.........OOO....OO........O..............O.O....OOO...............OOOOOOOO\n",
      ".....................OOOOO.............................OOOOOOOOOOOO....OOO...OO..................OO.\n",
      ".OOOO.......O.........OO..O..........OOOO........OO......OO.....OO.....O.O..O.....OO...........OO...\n",
      "OOO..................O..O......O.................OOOOOOOO...OO...O.....O.....OOOO...................\n",
      ".OOO.........................OOOOO.....OO..........OO....OO.O.....OOO...O..OO.........OOOOOOOO......\n",
      "OO....................O.....OO.........OOOOOO.......O..OO.....O..........OOO...OOOO...O....O........\n",
      ".O.....................OOOOO........OO............OOOOOO....O.........OOOO..O.....OOO.........OOOOO.\n",
      "OO.O........O......O............OO......OOO......O..O....OOO......O..O.......O.............OOO..OO..\n",
      ".O....O........................OO....OO..........O...............OOOOOOOOOO...................OOO...\n",
      "..O......O................OO...O.......OOO.............OOOOOO..........OOOOOOOOO.............O......\n",
      "O.......................OOOOO.....OO...............OO.OO......OOOOOOO.....OOO..OO.........O........O\n",
      "....OOO.......................................OOOOOOOOOOO..........OOOOOO...OO.....O................\n",
      "..................OOO.....O.....OOO............OOO......O...OOOO...O.....O.........O................\n",
      "....O............OOO........O..............OOOO.........OOOOOO....O....OOOO.....O..................O\n",
      "....OO..................OOOO..................OOOOOOOOOOOOOOOOOOOOOO.........OOOOOO......O........OO\n",
      "....OOO........OO....OO.......O.OOOO.........OOOOOOOOOOOOO..OOO....OOOO.....OOOOO........O......OOOO\n",
      "..O.O.O........OOOOOO.....OOOOOOOO..O.O...OOOOOOOOOOOO..O...O....OOOOO..OOOOOO.....OOO.......OOOOO.O\n"
     ]
    }
   ],
   "source": [
    "for row in rolled:\n",
    "    print(''.join('O' if rock else '.' for rock in row))"
   ]
  },
  {
   "cell_type": "code",
   "execution_count": null,
   "metadata": {},
   "outputs": [],
   "source": []
  }
 ],
 "metadata": {
  "kernelspec": {
   "display_name": "Python 3",
   "language": "python",
   "name": "python3"
  },
  "language_info": {
   "codemirror_mode": {
    "name": "ipython",
    "version": 3
   },
   "file_extension": ".py",
   "mimetype": "text/x-python",
   "name": "python",
   "nbconvert_exporter": "python",
   "pygments_lexer": "ipython3",
   "version": "3.11.3"
  }
 },
 "nbformat": 4,
 "nbformat_minor": 2
}
