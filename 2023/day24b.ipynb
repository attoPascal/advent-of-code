{
 "cells": [
  {
   "cell_type": "code",
   "execution_count": 1,
   "metadata": {},
   "outputs": [],
   "source": [
    "import re\n",
    "from itertools import combinations, combinations_with_replacement\n",
    "from aocd import data\n",
    "from sympy import Point, Ray, Polygon\n",
    "from sympy.geometry.util import intersection"
   ]
  },
  {
   "cell_type": "code",
   "execution_count": 2,
   "metadata": {},
   "outputs": [
    {
     "data": {
      "text/plain": [
       "'19, 13, 30 @ -2,  1, -2\\n18, 19, 22 @ -1, -1, -2\\n20, 25, 34 @ -2, -2, -4\\n12, 31, 28 @ -1, -2, -1\\n20, 19, 15 @  1, -5, -3'"
      ]
     },
     "execution_count": 2,
     "metadata": {},
     "output_type": "execute_result"
    }
   ],
   "source": [
    "# data = \\\n",
    "\"\"\"19, 13, 30 @ -2,  1, -2\n",
    "18, 19, 22 @ -1, -1, -2\n",
    "20, 25, 34 @ -2, -2, -4\n",
    "12, 31, 28 @ -1, -2, -1\n",
    "20, 19, 15 @  1, -5, -3\"\"\""
   ]
  },
  {
   "cell_type": "code",
   "execution_count": 3,
   "metadata": {},
   "outputs": [],
   "source": [
    "def parse3D(line):\n",
    "    px, py, pz, vx, vy, vz = map(int, re.findall(r'-?\\d+', line))\n",
    "    return Ray(Point(px, py, pz), Point(px+vx, py+vy, pz+vz))"
   ]
  },
  {
   "cell_type": "code",
   "execution_count": 4,
   "metadata": {},
   "outputs": [],
   "source": [
    "rays2D = [parse2D(line) for line in data.splitlines()]\n",
    "# intersections = [p[0] for p in (a.intersection(b) for a, b in combinations(rays2D, 2)) if p]\n",
    "intersections: list[Point] = intersection(*rays2D, pairwise=True)"
   ]
  },
  {
   "cell_type": "code",
   "execution_count": 5,
   "metadata": {},
   "outputs": [
    {
     "data": {
      "text/plain": [
       "9379"
      ]
     },
     "execution_count": 5,
     "metadata": {},
     "output_type": "execute_result"
    }
   ],
   "source": [
    "# bounds = (7, 27)\n",
    "bounds = (200000000000000, 400000000000000)\n",
    "test_points = [Point(x, y) for x, y in combinations_with_replacement(bounds, 2)]\n",
    "test_area = Polygon(*test_points)\n",
    "\n",
    "sum(test_area.encloses(p) for p in intersections)"
   ]
  },
  {
   "cell_type": "code",
   "execution_count": 11,
   "metadata": {},
   "outputs": [
    {
     "data": {
      "text/plain": [
       "26611"
      ]
     },
     "execution_count": 11,
     "metadata": {},
     "output_type": "execute_result"
    }
   ],
   "source": [
    "def contains(p):\n",
    "    return 200000000000000 <= float(p.x) <= 400000000000000 and 200000000000000 <= float(p.y) <= 400000000000000\n",
    "\n",
    "sum(contains(p) for p in intersections)"
   ]
  },
  {
   "cell_type": "code",
   "execution_count": null,
   "metadata": {},
   "outputs": [],
   "source": []
  }
 ],
 "metadata": {
  "kernelspec": {
   "display_name": "Python 3",
   "language": "python",
   "name": "python3"
  },
  "language_info": {
   "codemirror_mode": {
    "name": "ipython",
    "version": 3
   },
   "file_extension": ".py",
   "mimetype": "text/x-python",
   "name": "python",
   "nbconvert_exporter": "python",
   "pygments_lexer": "ipython3",
   "version": "3.11.3"
  }
 },
 "nbformat": 4,
 "nbformat_minor": 2
}
