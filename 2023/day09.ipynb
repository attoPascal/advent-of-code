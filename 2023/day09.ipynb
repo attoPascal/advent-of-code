{
 "cells": [
  {
   "cell_type": "code",
   "execution_count": 7,
   "metadata": {},
   "outputs": [],
   "source": [
    "import numpy as np\n",
    "from aocd import data"
   ]
  },
  {
   "cell_type": "code",
   "execution_count": 8,
   "metadata": {},
   "outputs": [],
   "source": [
    "def extrapolate(values):\n",
    "    if not np.any(values):\n",
    "        return 0\n",
    "    return values[-1] + extrapolate(np.diff(values))"
   ]
  },
  {
   "cell_type": "code",
   "execution_count": 9,
   "metadata": {},
   "outputs": [
    {
     "name": "stdout",
     "output_type": "stream",
     "text": [
      "Part 1: 1993300041\n",
      "Part 2: 1038\n"
     ]
    }
   ],
   "source": [
    "readings = [np.fromstring(line, dtype=int, sep=' ') for line in data.splitlines()]\n",
    "\n",
    "print(\"Part 1:\", sum(extrapolate(values) for values in readings))\n",
    "print(\"Part 2:\", sum(extrapolate(np.flip(values)) for values in readings))"
   ]
  },
  {
   "cell_type": "code",
   "execution_count": 15,
   "metadata": {},
   "outputs": [
    {
     "name": "stdout",
     "output_type": "stream",
     "text": [
      "[-4207]\n"
     ]
    }
   ],
   "source": [
    "data = \"\"\"14 23 30 32 26 9 -22 -70 -138 -229 -346 -492 -670 -883 -1134 -1426 -1762 -2145 -2578 -3064 -3606\"\"\"\n",
    "readings = [np.fromstring(line, dtype=int, sep=' ') for line in data.splitlines()]\n",
    "\n",
    "print([extrapolate(values) for values in readings])"
   ]
  },
  {
   "cell_type": "code",
   "execution_count": null,
   "metadata": {},
   "outputs": [],
   "source": []
  }
 ],
 "metadata": {
  "kernelspec": {
   "display_name": "Python 3",
   "language": "python",
   "name": "python3"
  },
  "language_info": {
   "codemirror_mode": {
    "name": "ipython",
    "version": 3
   },
   "file_extension": ".py",
   "mimetype": "text/x-python",
   "name": "python",
   "nbconvert_exporter": "python",
   "pygments_lexer": "ipython3",
   "version": "3.11.3"
  }
 },
 "nbformat": 4,
 "nbformat_minor": 2
}
