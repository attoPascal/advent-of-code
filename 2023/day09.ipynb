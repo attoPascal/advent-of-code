{
 "cells": [
  {
   "cell_type": "code",
   "execution_count": 1,
   "metadata": {},
   "outputs": [],
   "source": [
    "import aocd\n",
    "import numpy as np"
   ]
  },
  {
   "cell_type": "code",
   "execution_count": 2,
   "metadata": {},
   "outputs": [],
   "source": [
    "def extrapolate(values):\n",
    "    if not np.any(values):\n",
    "        return 0\n",
    "    return values[-1] + extrapolate(np.diff(values))"
   ]
  },
  {
   "cell_type": "code",
   "execution_count": 3,
   "metadata": {},
   "outputs": [
    {
     "name": "stdout",
     "output_type": "stream",
     "text": [
      "Part 1: 1993300041\n",
      "Part 2: 1038\n"
     ]
    }
   ],
   "source": [
    "lines = aocd.get_data(year=2023, day=9).splitlines()\n",
    "readings = [np.fromstring(line, dtype=int, sep=' ') for line in lines]\n",
    "\n",
    "print(\"Part 1:\", sum(extrapolate(values) for values in readings))\n",
    "print(\"Part 2:\", sum(extrapolate(np.flip(values)) for values in readings))"
   ]
  }
 ],
 "metadata": {
  "kernelspec": {
   "display_name": "Python 3",
   "language": "python",
   "name": "python3"
  },
  "language_info": {
   "codemirror_mode": {
    "name": "ipython",
    "version": 3
   },
   "file_extension": ".py",
   "mimetype": "text/x-python",
   "name": "python",
   "nbconvert_exporter": "python",
   "pygments_lexer": "ipython3",
   "version": "3.11.3"
  }
 },
 "nbformat": 4,
 "nbformat_minor": 2
}
