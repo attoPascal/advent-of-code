{
 "cells": [
  {
   "cell_type": "code",
   "execution_count": 1,
   "metadata": {},
   "outputs": [],
   "source": [
    "import re\n",
    "from math import prod\n",
    "from aocd import data\n"
   ]
  },
  {
   "cell_type": "code",
   "execution_count": 2,
   "metadata": {},
   "outputs": [],
   "source": [
    "def distance(race_time, button_time):\n",
    "    return (race_time - button_time) * button_time\n",
    "\n",
    "def record_beating(time, record_distance):\n",
    "    distances = (distance(time, button_time) for button_time in range(time+1))\n",
    "    return sum(d > record_distance for d in distances)\n"
   ]
  },
  {
   "cell_type": "code",
   "execution_count": 3,
   "metadata": {},
   "outputs": [
    {
     "name": "stdout",
     "output_type": "stream",
     "text": [
      "Part 1: 5133600\n",
      "Part 2: 40651271\n"
     ]
    }
   ],
   "source": [
    "times, dists = [[int(n) for n in re.findall(r'\\d+', line)] for line in data.splitlines()]\n",
    "print(\"Part 1:\", prod(record_beating(t, s) for t, s in zip(times, dists)))\n",
    "\n",
    "time, dist = [int(re.sub(r'\\D', '', line)) for line in data.splitlines()]\n",
    "print(\"Part 2:\", record_beating(time, dist))\n"
   ]
  },
  {
   "cell_type": "code",
   "execution_count": 4,
   "metadata": {},
   "outputs": [
    {
     "name": "stdout",
     "output_type": "stream",
     "text": [
      "Part 1: 5133600\n",
      "Part 2: 40651271\n"
     ]
    }
   ],
   "source": [
    "def record_beating(time, record_distance):\n",
    "    for t in range(time):\n",
    "        if distance(time, t) > record_distance:\n",
    "            return time - (2*t) + 1\n",
    "    return 0\n",
    "\n",
    "print(\"Part 1:\", prod(record_beating(t, s) for t, s in zip(times, dists)))\n",
    "print(\"Part 2:\", record_beating(time, dist))\n"
   ]
  }
 ],
 "metadata": {
  "kernelspec": {
   "display_name": "Python 3",
   "language": "python",
   "name": "python3"
  },
  "language_info": {
   "codemirror_mode": {
    "name": "ipython",
    "version": 3
   },
   "file_extension": ".py",
   "mimetype": "text/x-python",
   "name": "python",
   "nbconvert_exporter": "python",
   "pygments_lexer": "ipython3",
   "version": "3.11.3"
  }
 },
 "nbformat": 4,
 "nbformat_minor": 2
}
