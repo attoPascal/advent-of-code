{
 "cells": [
  {
   "cell_type": "code",
   "execution_count": 1,
   "metadata": {},
   "outputs": [],
   "source": [
    "import aocd\n",
    "from functools import cache"
   ]
  },
  {
   "cell_type": "code",
   "execution_count": 2,
   "metadata": {},
   "outputs": [],
   "source": [
    "def parse(line):\n",
    "    springs, groups = line.split()\n",
    "    damaged = tuple(int(n) for n in groups.split(','))\n",
    "    return springs, damaged\n",
    "\n",
    "def grouped(springs):\n",
    "    return tuple(len(group) for group in springs.split('.') if group)\n",
    "\n",
    "@cache\n",
    "def arrangements(springs: str, damaged: tuple[int, ...]) -> int:\n",
    "    if '?' not in springs:\n",
    "        return grouped(springs) == damaged\n",
    "    \n",
    "    left, right = springs.split('?', maxsplit=1)\n",
    "    left_damaged = grouped(left) if left.endswith('.') else grouped(left)[:-1]\n",
    "    if left_damaged != damaged[:len(left_damaged)]:\n",
    "        return 0\n",
    "    \n",
    "    if left.endswith('.'):\n",
    "        left = \"\"\n",
    "        damaged = damaged[len(left_damaged):]\n",
    "\n",
    "    return arrangements(left + '#' + right, damaged) + arrangements(left + '.' + right, damaged)"
   ]
  },
  {
   "cell_type": "code",
   "execution_count": 3,
   "metadata": {},
   "outputs": [
    {
     "name": "stdout",
     "output_type": "stream",
     "text": [
      "Part 1: 6827\n",
      "Part 2: 1537505634471\n"
     ]
    }
   ],
   "source": [
    "conditions = [parse(line) for line in aocd.get_data(day=12, year=2023).splitlines()]\n",
    "print(\"Part 1:\", sum(arrangements(springs, damaged) for springs, damaged in conditions))\n",
    "print(\"Part 2:\", sum(arrangements(f\"{s}?{s}?{s}?{s}?{s}\", damaged * 5) for s, damaged in conditions))"
   ]
  }
 ],
 "metadata": {
  "kernelspec": {
   "display_name": "Python 3",
   "language": "python",
   "name": "python3"
  },
  "language_info": {
   "codemirror_mode": {
    "name": "ipython",
    "version": 3
   },
   "file_extension": ".py",
   "mimetype": "text/x-python",
   "name": "python",
   "nbconvert_exporter": "python",
   "pygments_lexer": "ipython3",
   "version": "3.11.3"
  }
 },
 "nbformat": 4,
 "nbformat_minor": 2
}
