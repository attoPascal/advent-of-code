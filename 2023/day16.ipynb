{
 "cells": [
  {
   "cell_type": "code",
   "execution_count": 1,
   "metadata": {},
   "outputs": [],
   "source": [
    "import numpy as np\n",
    "from dataclasses import dataclass\n",
    "from aocd import data\n",
    "from functools import reduce"
   ]
  },
  {
   "cell_type": "code",
   "execution_count": 2,
   "metadata": {},
   "outputs": [],
   "source": [
    "N =  0 - 1j\n",
    "E =  1 + 0j\n",
    "S =  0 + 1j\n",
    "W = -1 + 0j"
   ]
  },
  {
   "cell_type": "code",
   "execution_count": 4,
   "metadata": {},
   "outputs": [],
   "source": [
    "grid = np.array([list(line) for line in data.splitlines()])\n",
    "max_x, max_y = grid.shape\n",
    "visited = set()"
   ]
  },
  {
   "cell_type": "code",
   "execution_count": 5,
   "metadata": {},
   "outputs": [],
   "source": [
    "def out_of_bounds(position: complex):\n",
    "    x, y = position.imag, position.real\n",
    "    return x < 0 or y < 0 or x >= max_x or y >= max_y\n",
    "\n",
    "@dataclass\n",
    "class Beam:\n",
    "    position:  complex\n",
    "    direction: complex\n",
    "\n",
    "    @property\n",
    "    def index(self):\n",
    "        return (int(self.position.imag), int(self.position.real))\n",
    "\n",
    "    def travel(self) -> 'list[Beam]':\n",
    "        if out_of_bounds(self.position):\n",
    "            return []\n",
    "        visited.add((self.position, self.direction))\n",
    "        match grid[self.index]:\n",
    "            case '.':\n",
    "                return [Beam(position=self.position + self.direction, direction=self.direction)]\n",
    "            case '/':\n",
    "                direction = {N: E, E: N, S: W, W: S}[self.direction]\n",
    "                return [Beam(position=self.position + direction, direction=direction)]\n",
    "            case '\\\\':\n",
    "                direction = {N: W, E: S, S: E, W: N}[self.direction]\n",
    "                return [Beam(position=self.position + direction, direction=direction)]\n",
    "            case '|':\n",
    "                if self.direction in [N, S]:\n",
    "                    return [Beam(position=self.position + self.direction, direction=self.direction)]\n",
    "                return [Beam(position=self.position + N, direction=N),\n",
    "                        Beam(position=self.position + S, direction=S)]\n",
    "            case '-':\n",
    "                if self.direction in [E, W]:\n",
    "                    return [Beam(position=self.position + self.direction, direction=self.direction)]\n",
    "                return [Beam(position=self.position + E, direction=E),\n",
    "                        Beam(position=self.position + W, direction=W)]\n",
    "        return []\n"
   ]
  },
  {
   "cell_type": "code",
   "execution_count": 6,
   "metadata": {},
   "outputs": [],
   "source": [
    "def energized(position, direction):\n",
    "    start = Beam(position=position, direction=direction)\n",
    "    beams = [start]\n",
    "    visited.clear()\n",
    "\n",
    "    while True:\n",
    "        num_visited = len(visited)\n",
    "        _beams = sum([beam.travel() for beam in beams], [])\n",
    "        beams = [beam for beam in _beams if (beam.position, beam.direction) not in visited]\n",
    "        if len(visited) == num_visited:\n",
    "            break\n",
    "\n",
    "    return len(set(pos for pos, _ in visited))"
   ]
  },
  {
   "cell_type": "code",
   "execution_count": 7,
   "metadata": {},
   "outputs": [
    {
     "data": {
      "text/plain": [
       "7498"
      ]
     },
     "execution_count": 7,
     "metadata": {},
     "output_type": "execute_result"
    }
   ],
   "source": [
    "energized(0, E)\n"
   ]
  },
  {
   "cell_type": "code",
   "execution_count": 8,
   "metadata": {},
   "outputs": [
    {
     "data": {
      "text/plain": [
       "7846"
      ]
     },
     "execution_count": 8,
     "metadata": {},
     "output_type": "execute_result"
    }
   ],
   "source": [
    "max_energized = 0\n",
    "for x in range(max_x):\n",
    "    max_energized = max(max_energized, energized(x*1j, E))\n",
    "    max_energized = max(max_energized, energized(x*1j + max_y-1, W))\n",
    "for y in range(max_y):\n",
    "    max_energized = max(max_energized, energized(y, S))\n",
    "    max_energized = max(max_energized, energized(y + (max_y-1)*1j, N))\n",
    "\n",
    "max_energized"
   ]
  }
 ],
 "metadata": {
  "kernelspec": {
   "display_name": "Python 3",
   "language": "python",
   "name": "python3"
  },
  "language_info": {
   "codemirror_mode": {
    "name": "ipython",
    "version": 3
   },
   "file_extension": ".py",
   "mimetype": "text/x-python",
   "name": "python",
   "nbconvert_exporter": "python",
   "pygments_lexer": "ipython3",
   "version": "3.11.3"
  }
 },
 "nbformat": 4,
 "nbformat_minor": 2
}
