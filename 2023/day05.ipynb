{
 "cells": [
  {
   "cell_type": "code",
   "execution_count": 1,
   "metadata": {},
   "outputs": [],
   "source": [
    "import re\n",
    "from aocd import data\n",
    "from dataclasses import dataclass\n",
    "from itertools import count\n",
    "from more_itertools import batched\n"
   ]
  },
  {
   "cell_type": "code",
   "execution_count": 2,
   "metadata": {},
   "outputs": [],
   "source": [
    "@dataclass\n",
    "class Range:\n",
    "    dest_start: int\n",
    "    source_start: int\n",
    "    range_length: int\n",
    "\n",
    "    def __getitem__(self, source):\n",
    "        if source in range(self.source_start, self.source_start + self.range_length):\n",
    "            offset = source - self.source_start\n",
    "            return self.dest_start + offset\n",
    "        return None\n",
    "    \n",
    "    def source(self, dest):\n",
    "        if dest in range(self.dest_start, self.dest_start + self.range_length):\n",
    "            offset = dest - self.dest_start\n",
    "            return self.source_start + offset\n",
    "        return None\n",
    "\n",
    "@dataclass\n",
    "class Map:\n",
    "    ranges: list[Range]\n",
    "\n",
    "    def __getitem__(self, source):\n",
    "        for r in self.ranges:\n",
    "            if dest := r[source]:\n",
    "                return dest\n",
    "        return source\n",
    "    \n",
    "    def source(self, dest):\n",
    "        for r in self.ranges:\n",
    "            if source := r.source(dest):\n",
    "                return source\n",
    "            if r.dest_start > dest:\n",
    "                break\n",
    "        return dest\n"
   ]
  },
  {
   "cell_type": "code",
   "execution_count": 4,
   "metadata": {},
   "outputs": [],
   "source": [
    "def parse_line(l):\n",
    "    return [int(n) for n in re.findall(r'\\d+', l)]\n",
    "\n",
    "def parse_map(m):\n",
    "    ranges = [Range(*parse_line(l)) for l in m.splitlines()[1:]]\n",
    "    return Map(sorted(ranges, key=lambda r: r.dest_start))\n"
   ]
  },
  {
   "cell_type": "code",
   "execution_count": 5,
   "metadata": {},
   "outputs": [],
   "source": [
    "almanac     = data.split('\\n\\n')\n",
    "seeds       = parse_line(almanac[0])\n",
    "soil        = parse_map(almanac[1])\n",
    "fertilizer  = parse_map(almanac[2])\n",
    "water       = parse_map(almanac[3])\n",
    "light       = parse_map(almanac[4])\n",
    "temperature = parse_map(almanac[5])\n",
    "humidity    = parse_map(almanac[6])\n",
    "location    = parse_map(almanac[7])\n",
    "\n",
    "def location_number(seed):\n",
    "    return location[humidity[temperature[light[water[fertilizer[soil[seed]]]]]]]\n"
   ]
  },
  {
   "cell_type": "code",
   "execution_count": 6,
   "metadata": {},
   "outputs": [
    {
     "data": {
      "text/plain": [
       "600279879"
      ]
     },
     "execution_count": 6,
     "metadata": {},
     "output_type": "execute_result"
    }
   ],
   "source": [
    "min(location_number(seed) for seed in seeds)\n"
   ]
  },
  {
   "cell_type": "code",
   "execution_count": 7,
   "metadata": {},
   "outputs": [],
   "source": [
    "def seed_number(loc):\n",
    "    return soil.source(fertilizer.source(water.source(light.source(temperature.source(humidity.source(location.source(loc)))))))\n",
    "\n",
    "# for loc in count():\n",
    "#    if seed_number(loc) in seeds:\n",
    "#        print(loc)\n",
    "#        break\n"
   ]
  },
  {
   "cell_type": "code",
   "execution_count": 8,
   "metadata": {},
   "outputs": [
    {
     "data": {
      "text/plain": [
       "20191102"
      ]
     },
     "execution_count": 8,
     "metadata": {},
     "output_type": "execute_result"
    }
   ],
   "source": [
    "seed_ranges = sorted([range(start, start+length) for start, length in batched(seeds, 2)], key=lambda r:r.start)\n",
    "def min_seed():\n",
    "    for loc in count():\n",
    "        seed = seed_number(loc)\n",
    "        for r in seed_ranges:\n",
    "            if seed in r:\n",
    "               return loc\n",
    "            if r.stop > seed:\n",
    "                break\n",
    "min_seed()\n"
   ]
  }
 ],
 "metadata": {
  "kernelspec": {
   "display_name": "Python 3",
   "language": "python",
   "name": "python3"
  },
  "language_info": {
   "codemirror_mode": {
    "name": "ipython",
    "version": 3
   },
   "file_extension": ".py",
   "mimetype": "text/x-python",
   "name": "python",
   "nbconvert_exporter": "python",
   "pygments_lexer": "ipython3",
   "version": "3.11.3"
  }
 },
 "nbformat": 4,
 "nbformat_minor": 2
}
