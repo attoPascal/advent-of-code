{
 "cells": [
  {
   "cell_type": "code",
   "execution_count": 1,
   "metadata": {},
   "outputs": [],
   "source": [
    "import re\n",
    "from math import lcm\n",
    "from itertools import cycle\n",
    "from aocd import data\n"
   ]
  },
  {
   "cell_type": "code",
   "execution_count": 2,
   "metadata": {},
   "outputs": [],
   "source": [
    "instructions, lines = data.split('\\n\\n')\n",
    "network = {}\n",
    "\n",
    "for line in lines.splitlines():\n",
    "    current, left, right = re.findall(r'\\w{3}', line)\n",
    "    network[current] = (left, right)\n",
    "\n",
    "def escape_from(node):\n",
    "    for step, direction in enumerate(cycle(instructions)):\n",
    "        if node.endswith('Z'):\n",
    "            return step\n",
    "        node = network[node][direction == 'R']\n"
   ]
  },
  {
   "cell_type": "code",
   "execution_count": 3,
   "metadata": {},
   "outputs": [
    {
     "name": "stdout",
     "output_type": "stream",
     "text": [
      "Part 1: 18727\n",
      "Part 2: 18024643846273\n"
     ]
    }
   ],
   "source": [
    "starting_nodes = [node for node in network if node.endswith('A')]\n",
    "escape_steps = {}\n",
    "\n",
    "for node in starting_nodes:\n",
    "    escape_steps[node] = escape_from(node)\n",
    "\n",
    "print(\"Part 1:\", escape_steps['AAA'])\n",
    "print(\"Part 2:\", lcm(*escape_steps.values()))\n"
   ]
  }
 ],
 "metadata": {
  "kernelspec": {
   "display_name": "Python 3",
   "language": "python",
   "name": "python3"
  },
  "language_info": {
   "codemirror_mode": {
    "name": "ipython",
    "version": 3
   },
   "file_extension": ".py",
   "mimetype": "text/x-python",
   "name": "python",
   "nbconvert_exporter": "python",
   "pygments_lexer": "ipython3",
   "version": "3.11.3"
  }
 },
 "nbformat": 4,
 "nbformat_minor": 2
}
