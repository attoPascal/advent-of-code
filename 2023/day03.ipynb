{
 "cells": [
  {
   "cell_type": "code",
   "execution_count": 1,
   "metadata": {},
   "outputs": [],
   "source": [
    "import re\n",
    "from dataclasses import dataclass\n",
    "from aocd import data\n"
   ]
  },
  {
   "cell_type": "code",
   "execution_count": 2,
   "metadata": {},
   "outputs": [],
   "source": [
    "@dataclass\n",
    "class Number:\n",
    "    value: int\n",
    "    line: int\n",
    "    span: tuple[int, int]\n",
    "\n",
    "@dataclass\n",
    "class Symbol:\n",
    "    value: str\n",
    "    line: int\n",
    "    index: int\n"
   ]
  },
  {
   "cell_type": "code",
   "execution_count": 3,
   "metadata": {},
   "outputs": [],
   "source": [
    "numbers = []\n",
    "symbols = []\n",
    "for l, line in enumerate(data.splitlines()):\n",
    "    for m in re.finditer(r'\\d+', line):\n",
    "        numbers.append(Number(value=int(m[0]), line=l, span=m.span()))\n",
    "    for m in re.finditer(r'[^\\d.]', line):\n",
    "        symbols.append(Symbol(value=m[0], line=l, index=m.start()))\n"
   ]
  },
  {
   "cell_type": "code",
   "execution_count": 4,
   "metadata": {},
   "outputs": [],
   "source": [
    "def is_adjacent(number, symbol):\n",
    "    return symbol.line in range(number.line-1, number.line+2) and \\\n",
    "        symbol.index in range(number.span[0]-1, number.span[1]+1)\n",
    "\n",
    "def is_part_number(number):\n",
    "    return any(is_adjacent(number, symbol) for symbol in symbols)\n",
    "\n",
    "def gear_ratio(symbol):\n",
    "    adjacent = [num for num in numbers if is_adjacent(num, symbol)]\n",
    "    return adjacent[0].value * adjacent[1].value if len(adjacent) == 2 else 0\n"
   ]
  },
  {
   "cell_type": "code",
   "execution_count": 5,
   "metadata": {},
   "outputs": [
    {
     "name": "stdout",
     "output_type": "stream",
     "text": [
      "Part 1: 527446\n",
      "Part 2: 73201705\n"
     ]
    }
   ],
   "source": [
    "print(\"Part 1:\", sum(n.value for n in numbers if is_part_number(n)))\n",
    "print(\"Part 2:\", sum(gear_ratio(s) for s in symbols if s.value == '*'))\n"
   ]
  }
 ],
 "metadata": {
  "kernelspec": {
   "display_name": "Python 3",
   "language": "python",
   "name": "python3"
  },
  "language_info": {
   "codemirror_mode": {
    "name": "ipython",
    "version": 3
   },
   "file_extension": ".py",
   "mimetype": "text/x-python",
   "name": "python",
   "nbconvert_exporter": "python",
   "pygments_lexer": "ipython3",
   "version": "3.11.3"
  }
 },
 "nbformat": 4,
 "nbformat_minor": 2
}
