{
 "cells": [
  {
   "cell_type": "code",
   "execution_count": 1,
   "metadata": {},
   "outputs": [],
   "source": [
    "import re\n",
    "import aocd\n",
    "from dataclasses import dataclass\n",
    "from typing import Self\n",
    "import networkx as nx"
   ]
  },
  {
   "cell_type": "code",
   "execution_count": 2,
   "metadata": {},
   "outputs": [],
   "source": [
    "@dataclass\n",
    "class Part:\n",
    "    x: int\n",
    "    m: int\n",
    "    a: int\n",
    "    s: int\n",
    "    \n",
    "    @classmethod\n",
    "    def parse(cls, string) -> Self:\n",
    "        x, m, a, s = re.findall(r'\\d+', string)\n",
    "        return cls(int(x), int(m), int(a), int(s))\n",
    "\n",
    "@dataclass\n",
    "class Rule:\n",
    "    condition: str | None\n",
    "    workflow: str\n",
    "\n",
    "    def check(self, x: int, m: int, a: int, s: int) -> bool:\n",
    "        if not self.condition:\n",
    "            return True\n",
    "        return eval(self.condition)\n",
    "\n",
    "    @classmethod\n",
    "    def parse(cls, string) -> Self:\n",
    "        match string.split(':'):\n",
    "            case condition, workflow:\n",
    "                return cls(condition, workflow)\n",
    "            case [workflow]:\n",
    "                return cls(None, workflow)\n",
    "        raise Exception(\"could not parse rule\")\n",
    "        \n",
    "\n",
    "@dataclass\n",
    "class Workflow:\n",
    "    name: str\n",
    "    rules: list[Rule]\n",
    "\n",
    "    def consider(self, part: Part, workflows: dict[str, Self]) -> str:\n",
    "        for rule in self.rules:\n",
    "            if rule.check(part.x, part.m, part.a, part.s):\n",
    "                if rule.workflow in workflows.keys():\n",
    "                    return workflows[rule.workflow].consider(part, workflows)\n",
    "                return rule.workflow\n",
    "        raise Exception(\"no workflow\")\n",
    "\n",
    "    @classmethod\n",
    "    def parse(cls, string) -> Self:\n",
    "        if m := re.match(r'(\\w+){(.+)}', string):\n",
    "            name = m[1]\n",
    "            rules = [Rule.parse(s) for s in m[2].split(',')]\n",
    "            return cls(name, rules)\n",
    "        raise Exception(\"could not parse workflow\")\n"
   ]
  },
  {
   "cell_type": "code",
   "execution_count": 3,
   "metadata": {},
   "outputs": [],
   "source": [
    "data = aocd.get_data(day=19, year=2023)\n",
    "workflow_lines, part_lines = [chunk.splitlines() for chunk in data.split('\\n\\n')]\n",
    "parts = [Part.parse(line) for line in part_lines]\n",
    "workflows = {w.name: w for w in (Workflow.parse(line) for line in workflow_lines)}"
   ]
  },
  {
   "cell_type": "code",
   "execution_count": 4,
   "metadata": {},
   "outputs": [
    {
     "name": "stdout",
     "output_type": "stream",
     "text": [
      "Part 1: 376008\n"
     ]
    }
   ],
   "source": [
    "s = 0\n",
    "for part in parts:\n",
    "    if workflows['in'].consider(part, workflows) == 'A':\n",
    "        s += part.x + part.m + part.a + part.s\n",
    "\n",
    "print(\"Part 1:\", s)"
   ]
  },
  {
   "cell_type": "code",
   "execution_count": 5,
   "metadata": {},
   "outputs": [],
   "source": [
    "G = nx.DiGraph()\n",
    "for workflow in workflows.values():\n",
    "    for num, rule in enumerate(workflow.rules):\n",
    "        rule_name = f\"{workflow.name}{\"'\" * num}\"\n",
    "        if rule.condition:\n",
    "            G.add_edge(rule_name, rule.workflow, condition=rule.condition)\n",
    "            G.add_edge(rule_name, rule_name+\"'\", condition=\"not \"+rule.condition)\n",
    "        else:\n",
    "            G.add_edge(rule_name, rule.workflow, condition='')"
   ]
  },
  {
   "cell_type": "code",
   "execution_count": 6,
   "metadata": {},
   "outputs": [
    {
     "name": "stdout",
     "output_type": "stream",
     "text": [
      "Part 2: 124078207789312\n"
     ]
    }
   ],
   "source": [
    "num_combinations = 0\n",
    "\n",
    "for path in nx.all_simple_edge_paths(G, 'in', 'A'):\n",
    "    x_s = list(range(1, 4001))\n",
    "    m_s = list(range(1, 4001))\n",
    "    a_s = list(range(1, 4001))\n",
    "    s_s = list(range(1, 4001))\n",
    "\n",
    "    for edge in path:\n",
    "        condition = G.edges[edge]['condition']\n",
    "        x_s = [x for x in x_s if eval(condition)] if 'x' in condition else x_s\n",
    "        m_s = [m for m in m_s if eval(condition)] if 'm' in condition else m_s\n",
    "        a_s = [a for a in a_s if eval(condition)] if 'a' in condition else a_s\n",
    "        s_s = [s for s in s_s if eval(condition)] if 's' in condition else s_s\n",
    "    \n",
    "    num_combinations += len(x_s) * len(m_s) * len(a_s) * len(s_s)\n",
    "\n",
    "print(\"Part 2:\", num_combinations)"
   ]
  }
 ],
 "metadata": {
  "kernelspec": {
   "display_name": ".venv",
   "language": "python",
   "name": "python3"
  },
  "language_info": {
   "codemirror_mode": {
    "name": "ipython",
    "version": 3
   },
   "file_extension": ".py",
   "mimetype": "text/x-python",
   "name": "python",
   "nbconvert_exporter": "python",
   "pygments_lexer": "ipython3",
   "version": "3.12.8"
  }
 },
 "nbformat": 4,
 "nbformat_minor": 2
}
