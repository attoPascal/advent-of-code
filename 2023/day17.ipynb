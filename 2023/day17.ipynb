{
 "cells": [
  {
   "cell_type": "code",
   "execution_count": 1,
   "metadata": {},
   "outputs": [],
   "source": [
    "import aocd\n",
    "import networkx as nx\n",
    "import numpy as np"
   ]
  },
  {
   "cell_type": "code",
   "execution_count": 2,
   "metadata": {},
   "outputs": [],
   "source": [
    "grid = np.array([[int(c) for c in line] for line in aocd.get_data(day=17, year=2023).splitlines()])\n",
    "max_x, max_y = grid.shape"
   ]
  },
  {
   "cell_type": "code",
   "execution_count": 3,
   "metadata": {},
   "outputs": [],
   "source": [
    "def add_vertical_edge(G, node, offset):\n",
    "    xu, y = node\n",
    "    xv = xu + offset\n",
    "    if not 0 <= xv < max_x:\n",
    "        return\n",
    "    weight = 0\n",
    "    sign = np.sign(offset)\n",
    "    for x in range(xu+sign, xv+sign, sign):\n",
    "        weight += grid[x, y]\n",
    "    G.add_edge(('h', xu, y), ('v', xv, y), weight=weight)\n",
    "\n",
    "def add_horizontal_edge(G, node, offset):\n",
    "    x, yu = node\n",
    "    yv = yu + offset\n",
    "    if not 0 <= yv < max_y:\n",
    "        return\n",
    "    weight = 0\n",
    "    sign = np.sign(offset)\n",
    "    for y in range(yu+sign, yv+sign, sign):\n",
    "        weight += grid[x, y]\n",
    "    G.add_edge(('v', x, yu), ('h', x, yv), weight=weight)\n",
    "\n",
    "def add_edges(G, node, min_step, max_step):\n",
    "    for offset in range(min_step, max_step+1):\n",
    "        add_vertical_edge(G, node, offset)\n",
    "        add_horizontal_edge(G, node, offset)\n",
    "    for offset in range(-min_step, -max_step-1, -1):\n",
    "        add_vertical_edge(G, node, offset)\n",
    "        add_horizontal_edge(G, node, offset)\n",
    "\n",
    "def shortest_path(G):\n",
    "    G.add_edge('start', ('v', 0, 0), weight=0)\n",
    "    G.add_edge('start', ('h', 0, 0), weight=0)\n",
    "    G.add_edge(('v', max_x-1, max_y-1), 'goal', weight=0)\n",
    "    G.add_edge(('h', max_x-1, max_y-1), 'goal', weight=0)\n",
    "    return nx.dijkstra_path_length(G, 'start', 'goal')"
   ]
  },
  {
   "cell_type": "code",
   "execution_count": 4,
   "metadata": {},
   "outputs": [],
   "source": [
    "G1 = nx.DiGraph()\n",
    "G2 = nx.DiGraph()\n",
    "for node, _ in np.ndenumerate(grid):\n",
    "    add_edges(G1, node, min_step=1, max_step=3)\n",
    "    add_edges(G2, node, min_step=4, max_step=10)"
   ]
  },
  {
   "cell_type": "code",
   "execution_count": 5,
   "metadata": {},
   "outputs": [
    {
     "name": "stdout",
     "output_type": "stream",
     "text": [
      "Part 1: 771\n",
      "Part 2: 930\n"
     ]
    }
   ],
   "source": [
    "print(\"Part 1:\", shortest_path(G1))\n",
    "print(\"Part 2:\", shortest_path(G2))"
   ]
  }
 ],
 "metadata": {
  "kernelspec": {
   "display_name": "Python 3",
   "language": "python",
   "name": "python3"
  },
  "language_info": {
   "codemirror_mode": {
    "name": "ipython",
    "version": 3
   },
   "file_extension": ".py",
   "mimetype": "text/x-python",
   "name": "python",
   "nbconvert_exporter": "python",
   "pygments_lexer": "ipython3",
   "version": "3.11.3"
  }
 },
 "nbformat": 4,
 "nbformat_minor": 2
}
