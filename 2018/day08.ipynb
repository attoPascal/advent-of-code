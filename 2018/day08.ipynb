{
 "cells": [
  {
   "cell_type": "code",
   "execution_count": 1,
   "metadata": {},
   "outputs": [],
   "source": [
    "import aocd\n",
    "from collections import namedtuple"
   ]
  },
  {
   "cell_type": "code",
   "execution_count": 2,
   "metadata": {},
   "outputs": [],
   "source": [
    "data = aocd.get_data(day=8, year=2018)\n",
    "numbers = [int(n) for n in data.split()][::-1]"
   ]
  },
  {
   "cell_type": "code",
   "execution_count": 3,
   "metadata": {},
   "outputs": [],
   "source": [
    "Node = namedtuple('Node', ['children', 'meta'])\n",
    "\n",
    "def parse(numbers):\n",
    "    num_children = numbers.pop()\n",
    "    num_meta = numbers.pop()\n",
    "    \n",
    "    children = []\n",
    "    for _ in range(num_children):\n",
    "        children.append(parse(numbers))\n",
    "    \n",
    "    meta = []\n",
    "    for _ in range(num_meta):\n",
    "        meta.append(numbers.pop())\n",
    "    \n",
    "    return Node(children, meta)"
   ]
  },
  {
   "cell_type": "code",
   "execution_count": 4,
   "metadata": {},
   "outputs": [],
   "source": [
    "def sum_meta(node):\n",
    "    return sum(node.meta) + sum(sum_meta(c) for c in node.children)\n",
    "\n",
    "def value(node):\n",
    "    if not node.children:\n",
    "        return sum(node.meta)\n",
    "    else:\n",
    "        return sum(value(node.children[m-1]) for m in node.meta if 0 < m <= len(node.children))"
   ]
  },
  {
   "cell_type": "code",
   "execution_count": 5,
   "metadata": {},
   "outputs": [
    {
     "name": "stdout",
     "output_type": "stream",
     "text": [
      "42472\n",
      "21810\n"
     ]
    }
   ],
   "source": [
    "tree = parse(numbers.copy())\n",
    "print(sum_meta(tree))\n",
    "print(value(tree))"
   ]
  }
 ],
 "metadata": {
  "interpreter": {
   "hash": "aee8b7b246df8f9039afb4144a1f6fd8d2ca17a180786b69acc140d282b71a49"
  },
  "kernelspec": {
   "display_name": "Python 3.9.9 64-bit",
   "language": "python",
   "name": "python3"
  },
  "language_info": {
   "codemirror_mode": {
    "name": "ipython",
    "version": 3
   },
   "file_extension": ".py",
   "mimetype": "text/x-python",
   "name": "python",
   "nbconvert_exporter": "python",
   "pygments_lexer": "ipython3",
   "version": "3.9.9"
  },
  "orig_nbformat": 4
 },
 "nbformat": 4,
 "nbformat_minor": 2
}
