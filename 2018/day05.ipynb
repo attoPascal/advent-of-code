{
 "cells": [
  {
   "cell_type": "code",
   "execution_count": 1,
   "metadata": {},
   "outputs": [],
   "source": [
    "import aocd"
   ]
  },
  {
   "cell_type": "code",
   "execution_count": 9,
   "metadata": {},
   "outputs": [
    {
     "data": {
      "text/plain": [
       "11194"
      ]
     },
     "execution_count": 9,
     "metadata": {},
     "output_type": "execute_result"
    }
   ],
   "source": [
    "polymer = aocd.get_data(day=5, year=2018)\n",
    "\n",
    "def react(polymer):\n",
    "    new_polymer = polymer\n",
    "    for letter in 'abcdefghijklmnopqrstuvwxyz':\n",
    "        new_polymer = new_polymer.replace(letter + letter.upper(), '')\n",
    "        new_polymer = new_polymer.replace(letter.upper() + letter, '')\n",
    "    if new_polymer != polymer:\n",
    "        new_polymer = react(new_polymer)\n",
    "    return new_polymer\n",
    "\n",
    "len(react(polymer))"
   ]
  },
  {
   "cell_type": "code",
   "execution_count": 10,
   "metadata": {},
   "outputs": [
    {
     "name": "stdout",
     "output_type": "stream",
     "text": [
      "a 10758\n",
      "b 10782\n",
      "c 4178\n",
      "d 10744\n",
      "e 10752\n",
      "f 10664\n",
      "g 10770\n",
      "h 10770\n",
      "i 10658\n",
      "j 10698\n",
      "k 10736\n",
      "l 10766\n",
      "m 10728\n",
      "n 10740\n",
      "o 10754\n",
      "p 10738\n",
      "q 10766\n",
      "r 10734\n",
      "s 10764\n",
      "t 10688\n",
      "u 10774\n",
      "v 10736\n",
      "w 10774\n",
      "x 10756\n",
      "y 10774\n",
      "z 10806\n"
     ]
    }
   ],
   "source": [
    "for letter in 'abcdefghijklmnopqrstuvwxyz':\n",
    "    improved_polymer = polymer.replace(letter, '').replace(letter.upper(), '')\n",
    "    print(letter, len(react(improved_polymer)))\n"
   ]
  },
  {
   "cell_type": "code",
   "execution_count": null,
   "metadata": {},
   "outputs": [],
   "source": []
  }
 ],
 "metadata": {
  "interpreter": {
   "hash": "aee8b7b246df8f9039afb4144a1f6fd8d2ca17a180786b69acc140d282b71a49"
  },
  "kernelspec": {
   "display_name": "Python 3.9.9 64-bit",
   "language": "python",
   "name": "python3"
  },
  "language_info": {
   "codemirror_mode": {
    "name": "ipython",
    "version": 3
   },
   "file_extension": ".py",
   "mimetype": "text/x-python",
   "name": "python",
   "nbconvert_exporter": "python",
   "pygments_lexer": "ipython3",
   "version": "3.9.9"
  },
  "orig_nbformat": 4
 },
 "nbformat": 4,
 "nbformat_minor": 2
}
