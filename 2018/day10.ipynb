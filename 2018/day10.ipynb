{
 "cells": [
  {
   "cell_type": "code",
   "execution_count": 1,
   "metadata": {},
   "outputs": [],
   "source": [
    "import aocd\n",
    "import re\n",
    "import numpy as np\n",
    "import matplotlib.pyplot as plt\n",
    "from itertools import count"
   ]
  },
  {
   "cell_type": "code",
   "execution_count": 2,
   "metadata": {},
   "outputs": [],
   "source": [
    "data = aocd.get_data(day=10, year=2018)\n",
    "lines = data.splitlines()"
   ]
  },
  {
   "cell_type": "code",
   "execution_count": 3,
   "metadata": {},
   "outputs": [],
   "source": [
    "class Point:\n",
    "    def __init__(self, position_x, position_y, velocity_x, velocity_y):\n",
    "        self.position = position_x + position_y * 1j\n",
    "        self.velocity = velocity_x + velocity_y * 1j\n",
    "    \n",
    "    def move(self):\n",
    "        self.position += self.velocity\n",
    "    \n",
    "    @property\n",
    "    def next_position(self):\n",
    "        return self.position + self.velocity"
   ]
  },
  {
   "cell_type": "code",
   "execution_count": 4,
   "metadata": {},
   "outputs": [],
   "source": [
    "r = re.compile(r'position=< ?(-?\\d+),  ?(-?\\d+)> velocity=< ?(-?\\d+),  ?(-?\\d+)>')\n",
    "def parse(line):\n",
    "    m = r.match(line)\n",
    "    return Point(int(m[1]), int(m[2]), int(m[3]), int(m[4]))\n",
    "\n",
    "points = [parse(line) for line in lines]"
   ]
  },
  {
   "cell_type": "code",
   "execution_count": 5,
   "metadata": {},
   "outputs": [
    {
     "name": "stdout",
     "output_type": "stream",
     "text": [
      "10304\n"
     ]
    }
   ],
   "source": [
    "def extent(positions):\n",
    "    min_x = min(pos.real for pos in positions)\n",
    "    max_x = max(pos.real for pos in positions)\n",
    "    min_y = min(pos.imag for pos in positions)\n",
    "    max_y = max(pos.imag for pos in positions)\n",
    "    return (max_x-min_x) * (max_y-min_y)\n",
    "\n",
    "current_extent = extent([p.position for p in points])\n",
    "\n",
    "for sec in count():\n",
    "    next_extent = extent([p.next_position for p in points])\n",
    "    if next_extent > current_extent:\n",
    "        print(sec)\n",
    "        break\n",
    "    else:\n",
    "        [p.move() for p in points]\n",
    "        current_extent = next_extent"
   ]
  },
  {
   "cell_type": "code",
   "execution_count": 6,
   "metadata": {},
   "outputs": [
    {
     "data": {
      "image/png": "[encoded data removed]",
      "text/plain": [
       "<Figure size 432x288 with 1 Axes>"
      ]
     },
     "metadata": {
      "needs_background": "light"
     },
     "output_type": "display_data"
    }
   ],
   "source": [
    "def draw(points):\n",
    "    min_x = int(min(p.position.real for p in points))\n",
    "    max_x = int(max(p.position.real for p in points))\n",
    "    min_y = int(min(p.position.imag for p in points))\n",
    "    max_y = int(max(p.position.imag for p in points))\n",
    "\n",
    "    w, h = max_x-min_x+1, max_y-min_y+1\n",
    "    grid = np.zeros((w, h), dtype=bool)\n",
    "    for p in points:\n",
    "        x, y = int(p.position.real), int(p.position.imag)\n",
    "        grid[x-min_x, y-min_x] = True\n",
    "    \n",
    "    plt.imshow(grid.T)\n",
    "\n",
    "draw(points)\n",
    "    "
   ]
  },
  {
   "cell_type": "code",
   "execution_count": null,
   "metadata": {},
   "outputs": [],
   "source": []
  }
 ],
 "metadata": {
  "interpreter": {
   "hash": "aee8b7b246df8f9039afb4144a1f6fd8d2ca17a180786b69acc140d282b71a49"
  },
  "kernelspec": {
   "display_name": "Python 3.9.9 64-bit",
   "language": "python",
   "name": "python3"
  },
  "language_info": {
   "codemirror_mode": {
    "name": "ipython",
    "version": 3
   },
   "file_extension": ".py",
   "mimetype": "text/x-python",
   "name": "python",
   "nbconvert_exporter": "python",
   "pygments_lexer": "ipython3",
   "version": "3.9.9"
  },
  "orig_nbformat": 4
 },
 "nbformat": 4,
 "nbformat_minor": 2
}
