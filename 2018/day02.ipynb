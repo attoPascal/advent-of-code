{
 "cells": [
  {
   "cell_type": "code",
   "execution_count": 1,
   "metadata": {},
   "outputs": [],
   "source": [
    "from aocd import get_data"
   ]
  },
  {
   "cell_type": "code",
   "execution_count": 3,
   "metadata": {},
   "outputs": [
    {
     "data": {
      "text/plain": [
       "6944"
      ]
     },
     "execution_count": 3,
     "metadata": {},
     "output_type": "execute_result"
    }
   ],
   "source": [
    "ids = get_data(day=2, year=2018).splitlines()\n",
    "twos = 0\n",
    "threes = 0\n",
    "\n",
    "for id in ids:\n",
    "    for letter in 'abcdefghijklmnopqrstuvwxyz':\n",
    "        if id.count(letter) == 2:\n",
    "            twos += 1\n",
    "            break\n",
    "    for letter in 'abcdefghijklmnopqrstuvwxyz':\n",
    "        if id.count(letter) == 3:\n",
    "            threes += 1\n",
    "            break\n",
    "\n",
    "twos * threes"
   ]
  },
  {
   "cell_type": "code",
   "execution_count": 7,
   "metadata": {},
   "outputs": [
    {
     "name": "stdout",
     "output_type": "stream",
     "text": [
      "srijafjzloguvlnvtqmphenbkd srijafjzloguvlnctqmphenbkd\n",
      "srijafjzloguvlnctqmphenbkd srijafjzloguvlnvtqmphenbkd\n"
     ]
    }
   ],
   "source": [
    "def compare(id1, id2):\n",
    "    errors = 0\n",
    "    for index, letter1 in enumerate(id1):\n",
    "        if letter1 != id2[index]:\n",
    "            errors += 1\n",
    "        if errors > 1:\n",
    "            return False\n",
    "    if errors == 0:\n",
    "        return False\n",
    "    return True\n",
    "\n",
    "for id1 in ids:\n",
    "    for id2 in ids:\n",
    "        if compare(id1, id2):\n",
    "            print(id1, id2)"
   ]
  },
  {
   "cell_type": "code",
   "execution_count": null,
   "metadata": {},
   "outputs": [],
   "source": [
    "srijafjzloguvlntqmphenbkd\n",
    "srijafjzloguvlnctqmphenbkd\n"
   ]
  }
 ],
 "metadata": {
  "interpreter": {
   "hash": "aee8b7b246df8f9039afb4144a1f6fd8d2ca17a180786b69acc140d282b71a49"
  },
  "kernelspec": {
   "display_name": "Python 3.9.9 64-bit",
   "language": "python",
   "name": "python3"
  },
  "language_info": {
   "codemirror_mode": {
    "name": "ipython",
    "version": 3
   },
   "file_extension": ".py",
   "mimetype": "text/x-python",
   "name": "python",
   "nbconvert_exporter": "python",
   "pygments_lexer": "ipython3",
   "version": "3.9.9"
  },
  "orig_nbformat": 4
 },
 "nbformat": 4,
 "nbformat_minor": 2
}
