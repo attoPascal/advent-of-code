{
 "cells": [
  {
   "cell_type": "code",
   "execution_count": 1,
   "metadata": {},
   "outputs": [],
   "source": [
    "import aocd\n",
    "import re\n",
    "from collections import namedtuple, defaultdict"
   ]
  },
  {
   "cell_type": "code",
   "execution_count": 2,
   "metadata": {},
   "outputs": [],
   "source": [
    "data = aocd.get_data(day=3, year=2018)"
   ]
  },
  {
   "cell_type": "code",
   "execution_count": 3,
   "metadata": {},
   "outputs": [],
   "source": [
    "Claim = namedtuple('Claim', ['id', 'position', 'dimensions'])\n",
    "\n",
    "r = re.compile(r'#(\\d+) @ (\\d+),(\\d+): (\\d+)x(\\d+)')\n",
    "def parse(line):\n",
    "    m = r.match(line)\n",
    "    return Claim(id=int(m[1]), position=(int(m[2]), int(m[3])), dimensions=(int(m[4]), int(m[5])))\n",
    "\n",
    "claims = [parse(line) for line in data.splitlines()]"
   ]
  },
  {
   "cell_type": "code",
   "execution_count": 4,
   "metadata": {},
   "outputs": [],
   "source": [
    "def area(claim):\n",
    "    for x in range(claim.dimensions[0]):\n",
    "        for y in range(claim.dimensions[1]):\n",
    "            yield claim.position[0] + x, claim.position[1] + y\n",
    "\n",
    "fabric = defaultdict(list)\n",
    "for claim in claims:\n",
    "    for x, y in area(claim):\n",
    "        fabric[x+y*1j] += [claim.id]"
   ]
  },
  {
   "cell_type": "code",
   "execution_count": 5,
   "metadata": {},
   "outputs": [
    {
     "data": {
      "text/plain": [
       "110891"
      ]
     },
     "execution_count": 5,
     "metadata": {},
     "output_type": "execute_result"
    }
   ],
   "source": [
    "sum(1 for inch in fabric.values() if len(inch) > 1)"
   ]
  },
  {
   "cell_type": "code",
   "execution_count": 6,
   "metadata": {},
   "outputs": [
    {
     "name": "stdout",
     "output_type": "stream",
     "text": [
      "297\n"
     ]
    }
   ],
   "source": [
    "for claim in claims:\n",
    "    for inch in fabric.values():\n",
    "        if claim.id in inch and len(inch) > 1:\n",
    "            break\n",
    "    else:\n",
    "        print(claim.id)\n",
    "        break"
   ]
  }
 ],
 "metadata": {
  "interpreter": {
   "hash": "aee8b7b246df8f9039afb4144a1f6fd8d2ca17a180786b69acc140d282b71a49"
  },
  "kernelspec": {
   "display_name": "Python 3.9.9 64-bit",
   "language": "python",
   "name": "python3"
  },
  "language_info": {
   "codemirror_mode": {
    "name": "ipython",
    "version": 3
   },
   "file_extension": ".py",
   "mimetype": "text/x-python",
   "name": "python",
   "nbconvert_exporter": "python",
   "pygments_lexer": "ipython3",
   "version": "3.9.9"
  },
  "orig_nbformat": 4
 },
 "nbformat": 4,
 "nbformat_minor": 2
}
